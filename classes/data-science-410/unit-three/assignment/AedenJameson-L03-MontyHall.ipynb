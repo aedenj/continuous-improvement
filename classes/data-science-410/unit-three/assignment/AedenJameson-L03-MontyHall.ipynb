{
 "cells": [
  {
   "cell_type": "markdown",
   "metadata": {},
   "source": [
    "# Lesson 3 Assignment - Monty Hall Simulation\n",
    "## Author - Aeden Jameson"
   ]
  },
  {
   "cell_type": "markdown",
   "metadata": {},
   "source": [
    "### Instructions\n",
    "Simulate the conditional probabilities of the distributions for winning a car vs. a goat for the Monty Hall Problem that includes the following:\n",
    "1. the cases for switching or not switching\n",
    "2. histograms and summary statistics (at least mean and variance) of the results for winning the car or a goat for both strategies: switching or not switching\n",
    "3. comparison of the cases to determine the best strategy\n",
    "4. recommended strategy\n",
    "\n"
   ]
  },
  {
   "cell_type": "markdown",
   "metadata": {},
   "source": [
    "#### Note: \n",
    "Please clearly outline the results and your recommendation with markdown text. Be sure your discussion includes narrative for your figures and tables so it is clear to the reader the importance of each bit of evidence."
   ]
  },
  {
   "cell_type": "markdown",
   "metadata": {},
   "source": [
    "### Monty Hall - Contestant Doesn't Switch"
   ]
  },
  {
   "cell_type": "code",
   "execution_count": 1,
   "metadata": {},
   "outputs": [
    {
     "data": {
      "image/png": "[encoded data removed]",
      "text/plain": [
       "<Figure size 432x288 with 1 Axes>"
      ]
     },
     "metadata": {
      "needs_background": "light"
     },
     "output_type": "display_data"
    }
   ],
   "source": [
    "import numpy as np\n",
    "from matplotlib import pyplot\n",
    "\n",
    "\n",
    "def simulate_no_switch(n):\n",
    "    return np.random.binomial(1, 1/3, n)\n",
    "    \n",
    "noswitch_outcomes = simulate_no_switch(1000)\n",
    "pyplot.title(\"1000 Plays - No Switching\")\n",
    "pyplot.xticks((0,1), ('goat', 'prize'))\n",
    "pyplot.hist(noswitch_outcomes);\n",
    "pyplot.show()"
   ]
  },
  {
   "cell_type": "markdown",
   "metadata": {},
   "source": [
    "#### Mean & Variance "
   ]
  },
  {
   "cell_type": "code",
   "execution_count": 2,
   "metadata": {},
   "outputs": [
    {
     "name": "stdout",
     "output_type": "stream",
     "text": [
      "p = 0.333    Sample mean = 0.330\n"
     ]
    }
   ],
   "source": [
    "noswitch_mean = noswitch_outcomes.sum() / noswitch_outcomes.size\n",
    "print('p = %.3f    Sample mean = %.3f' % (1/3, noswitch_mean))"
   ]
  },
  {
   "cell_type": "code",
   "execution_count": 3,
   "metadata": {},
   "outputs": [
    {
     "name": "stdout",
     "output_type": "stream",
     "text": [
      "theoretical variance = 0.222   Sample variance = 0.221\n"
     ]
    }
   ],
   "source": [
    "print('theoretical variance = %.3f   Sample variance = %.3f' % ((1/3) * (1 - (1/3)), noswitch_mean * (1 - noswitch_mean)))"
   ]
  },
  {
   "cell_type": "markdown",
   "metadata": {},
   "source": [
    "### Monty Hall - Contestant Switches"
   ]
  },
  {
   "cell_type": "code",
   "execution_count": 4,
   "metadata": {},
   "outputs": [],
   "source": [
    "\n",
    "def simulate_switch():\n",
    "    [[choice, winner]] = np.random.randint(low=1,high=4,size=(1,2))\n",
    "    if choice == winner:\n",
    "        return 0\n",
    "    else:\n",
    "        return 1\n",
    "\n",
    "switch_outcomes = np.asarray([simulate_switch() for _ in range(1000)])"
   ]
  },
  {
   "cell_type": "code",
   "execution_count": 5,
   "metadata": {},
   "outputs": [
    {
     "data": {
      "image/png": "[encoded data removed]",
      "text/plain": [
       "<Figure size 432x288 with 1 Axes>"
      ]
     },
     "metadata": {
      "needs_background": "light"
     },
     "output_type": "display_data"
    }
   ],
   "source": [
    "pyplot.title(\"1000 Plays - Switching\")\n",
    "pyplot.xticks((0,1), ('goat', 'prize'))\n",
    "pyplot.hist(switch_outcomes);\n",
    "pyplot.show()"
   ]
  },
  {
   "cell_type": "markdown",
   "metadata": {},
   "source": [
    "#### Mean & Variance "
   ]
  },
  {
   "cell_type": "code",
   "execution_count": 6,
   "metadata": {},
   "outputs": [
    {
     "name": "stdout",
     "output_type": "stream",
     "text": [
      "p = 0.667    Sample mean = 0.665\n"
     ]
    }
   ],
   "source": [
    "switch_mean = switch_outcomes.sum() / switch_outcomes.size\n",
    "print('p = %.3f    Sample mean = %.3f' % (2/3, switch_mean))"
   ]
  },
  {
   "cell_type": "code",
   "execution_count": 7,
   "metadata": {},
   "outputs": [
    {
     "name": "stdout",
     "output_type": "stream",
     "text": [
      "theoretical variance = 0.222   Sample variance = 0.223\n"
     ]
    }
   ],
   "source": [
    "print('theoretical variance = %.3f   Sample variance = %.3f' % ((2/3) * (1 - (2/3)), switch_mean * (1 - switch_mean)))"
   ]
  },
  {
   "cell_type": "markdown",
   "metadata": {},
   "source": [
    "## Remarks and Conclusion"
   ]
  },
  {
   "cell_type": "markdown",
   "metadata": {},
   "source": [
    "The reasoning behind switching is that the unconditional probablitity of getting a goat is 2/3 and winning a prize is 1/3, which is shown in the first simulation. Given that if one chooses a goat and always switches then one will always wins. That is demonstrated in the second simulation. Therefore one should always switch."
   ]
  },
  {
   "cell_type": "code",
   "execution_count": null,
   "metadata": {},
   "outputs": [],
   "source": []
  }
 ],
 "metadata": {
  "kernelspec": {
   "display_name": "Python 3",
   "language": "python",
   "name": "python3"
  },
  "language_info": {
   "codemirror_mode": {
    "name": "ipython",
    "version": 3
   },
   "file_extension": ".py",
   "mimetype": "text/x-python",
   "name": "python",
   "nbconvert_exporter": "python",
   "pygments_lexer": "ipython3",
   "version": "3.7.6"
  }
 },
 "nbformat": 4,
 "nbformat_minor": 4
}
