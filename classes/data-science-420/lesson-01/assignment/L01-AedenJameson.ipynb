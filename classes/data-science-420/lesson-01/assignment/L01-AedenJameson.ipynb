{
 "cells": [
  {
   "cell_type": "markdown",
   "metadata": {},
   "source": [
    "# Lesson 01 \n",
    "# Aeden Jameson"
   ]
  },
  {
   "cell_type": "markdown",
   "metadata": {},
   "source": [
    "## Best Practices for Assignments & Milestones\n",
    "\n",
    "- <b>Break the assignment into sections - one section per numbered requirement.</b> Each assignment has numbered requirements/instructions e.g. \"1. Read the CIFAR-10 dataset\". Each requirement should have at least one markdown cell and at least one code cell. Feel free to combine sections or make other sensible changes if that makes sense for your code and is still clear. The intent is to give you a useful structure and to make sure you get full credit for your work.\n",
    "\n",
    "- <b>Break the milestone into sections - one section for each item in the rubric.</b> Each milestone has rubric items e.g. \"5. Handle class imbalance problem\". Each rubric item should have at least one markdown cell and at least one code cell. Feel free to combine sections or make other sensible changes if that makes sense for your code and is still clear. The intent is to give you a useful structure and to make sure you get full credit for your work.\n",
    "\n",
    "- <b>Include comments, with block comments preferred over in-line comments.</b> A good habit is to start each code cell with comments.\n",
    "\n",
    "The above put into a useful pattern:\n",
    "\n",
    "<b>Markdown cell:</b> Requirement #1: Read the CIFAR-10 dataset<br>\n",
    "<b>Code cell:</b>: Comments followed by code<br>\n",
    "<b>Markdown cell:</b> Requirement #2: Explore the data<br>\n",
    "<b>Code cell:</b>: Comments followed by code<br>\n",
    "<b>Markdown cell:</b> Requirement #3: Preprocess the data and prepare for classification<br>\n",
    "<b>Code cell:</b>: Comments followed by code<br>\n",
    "\n",
    "For more information:\n",
    "- A good notebook example: [DataFrame Basics](https://github.com/Tanu-N-Prabhu/Python/blob/master/Pandas/Pandas_DataFrame.ipynb) \n",
    "- More example notebooks: [A gallery of interesting Jupyter Notebooks](https://github.com/jupyter/jupyter/wiki/A-gallery-of-interesting-Jupyter-Notebooks#pandas-for-data-analysis)\n",
    "- [PEP 8 on commenting](https://www.python.org/dev/peps/pep-0008/)\n",
    "- [PEP 257 - docstrings](https://www.python.org/dev/peps/pep-0257/)\n",
    "\n",
    "Occasionally an assignment or milestone will ask you to do something other than write Python code e.g. ask you turn in a .docx file. In which case, please use logical structuring, but the specific notes above may not apply."
   ]
  },
  {
   "cell_type": "markdown",
   "metadata": {},
   "source": [
    "## Business Understanding Summary"
   ]
  },
  {
   "cell_type": "markdown",
   "metadata": {},
   "source": [
    "The ABC Corporation wants to optimize their diaper manufacturing process by detecting any problems that might lead to a bad quality product. ABC Corp. has four major goals for their production process,\n",
    "\n",
    "1. Maximize absorbtion and moisture retention \n",
    "1. Produce a comfortable diaper\n",
    "1. Minimize cost\n",
    "1. Maximize satisfied customers\n",
    "\n",
    "Currently ABC Corp achieves the above through a set of industry best practices. They use the fiber to particle ratio of about 75:25 to 90:10 the the best performance and cost. They perform regular\n",
    "Demand Wettability tests for diaper absorbency and regulary collect customer feedback on their experiences. The current manufacturing process goes through approximately six stages.\n",
    "\n",
    "1. The pad is formed on a movable conveyer belt.\n",
    "1. This roller removes a portion of the fiber at the top of the pad to make it a uniform thickness.\n",
    "1. Sheets of nonwoven fabric are formed from plastic resin using the meltblown process as described above. \n",
    "1. Stretched elastic bands are attached to the backing sheet with adhesive. \n",
    "1. Three separate components, the absorbent pad, the top sheet, and the backing sheet. \n",
    "1. The long roll is then cut into individual diapers, folded, and packaged for shipping."
   ]
  },
  {
   "cell_type": "markdown",
   "metadata": {},
   "source": [
    "### Needed Data"
   ]
  },
  {
   "cell_type": "markdown",
   "metadata": {},
   "source": [
    "| field                  | description                                                                                                                                  |\n",
    "|------------------------|----------------------------------------------------------------------------------------------------------------------------------------------|\n",
    "| monthly sales          | The amount of total sales for the week                                                                                                      |\n",
    "| units sold per month   | The number of units sold per week                                                                                                           |\n",
    "| monthly cost           | Cost to manufacture the diapers that month\n",
    "| absorbance under load  | AUL is defined as the amount of 0.9% saline solution absorbed by the polymers while being subjected to pressure equivalent to 21,000 dynes | \n",
    "| melting points         | The melting points of the nonwoven fabrics used to form the diaper's shell. |\n",
    "|fiber to particle ratio | polymer/fiber ratio in the absorbent pad | \n",
    "| time per diaper.       | How long does it take to manufacture one diaper|\n",
    "| customer satisfaction survey | Overall customer satisfaction scores from the month|"
   ]
  },
  {
   "cell_type": "markdown",
   "metadata": {},
   "source": [
    "# Goal: Detect any problems that might lead to a bad quality product early on in the process. "
   ]
  }
 ],
 "metadata": {
  "kernelspec": {
   "display_name": "Python 3",
   "language": "python",
   "name": "python3"
  },
  "language_info": {
   "codemirror_mode": {
    "name": "ipython",
    "version": 3
   },
   "file_extension": ".py",
   "mimetype": "text/x-python",
   "name": "python",
   "nbconvert_exporter": "python",
   "pygments_lexer": "ipython3",
   "version": "3.7.6"
  }
 },
 "nbformat": 4,
 "nbformat_minor": 4
}
