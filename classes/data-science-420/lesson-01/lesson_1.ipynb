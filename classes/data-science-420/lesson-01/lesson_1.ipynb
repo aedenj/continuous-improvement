{
 "cells": [
  {
   "cell_type": "markdown",
   "metadata": {},
   "source": [
    "# Jupyter notebooks\n",
    "\n",
    "## Markdown cells\n",
    "\n",
    "This is a Markdown cell. Double-click on it and you can see it in its raw format and begin editing it. Once you're done editing, you can render it again by pressing `CTRL+Enter`. You have some limited formatting functionality with Markdown, such as making words **bold** and *italic*, or adding [hyperlinks](https://www.washington.edu/).\n",
    "\n",
    "You can also add images:\n",
    "\n",
    "![some label](https://bioe.uw.edu/wp-content/uploads/2014/01/block-w-header-blog.png)\n",
    "\n",
    "If the image you're adding is local, then just point to it's path relative to the notebook, such as `./images/my_image.jpg`. Absolute paths work too, but relative paths are better.\n",
    "\n",
    "### lists\n",
    "\n",
    "You can also create nested bulleted lists:\n",
    "\n",
    "- fruits\n",
    "  - persimmon\n",
    "  - guanabana\n",
    "- veggies\n",
    "  - onions\n",
    "  - garlic\n",
    "\n",
    "or numbered lists\n",
    "\n",
    "1. study\n",
    "1. drink coffee\n",
    "1. repeat\n",
    "\n",
    "Notice how you can number every item with 1. When it renders it will automatically increment."
   ]
  },
  {
   "cell_type": "markdown",
   "metadata": {},
   "source": [
    "## code cells\n",
    "\n",
    "There's a lot more you can do with Markdown, but we have the basics covered. Now let's look at code cells. Run the cell below using `CTRL+Enter` and see how the Python code runs and any output it creates shows up right under it. So there is a Python session serving this current Notebook."
   ]
  },
  {
   "cell_type": "code",
   "execution_count": 7,
   "metadata": {},
   "outputs": [
    {
     "name": "stdout",
     "output_type": "stream",
     "text": [
      "**this is a Python string**\n"
     ]
    }
   ],
   "source": [
    "str = \"**this is a Python string**\"\n",
    "print(str)"
   ]
  },
  {
   "cell_type": "markdown",
   "metadata": {},
   "source": [
    "This is why it's important to keep in mind that\n",
    "\n",
    "1. When you're done with a notebook, don't just close the browser tab. Instead, go to **File > Close and Halt** so that in addition to closing the notebook it terminates the underlying Python session. Otherwise you'll have many Python sessions open for no reason (you can later kill them from the task bar too).\n",
    "1. Code cells have some visual clues that can help you. Next to a new code cell you see `In [ ]`, showing the cell hasn't run yet. Once you run it you get `In [n]` where `n` starts at 1 for the first cell you run and keep incrementing by 1 every time you run a code cell.\n",
    "1. **The order in which you run code cells is important**, and accidentally re-running a code cell can mess things up in some cases. Here's an example:"
   ]
  },
  {
   "cell_type": "code",
   "execution_count": null,
   "metadata": {},
   "outputs": [],
   "source": [
    "a = 1"
   ]
  },
  {
   "cell_type": "code",
   "execution_count": null,
   "metadata": {},
   "outputs": [],
   "source": [
    "a += 1"
   ]
  },
  {
   "cell_type": "markdown",
   "metadata": {},
   "source": [
    "What happens if you run the above cell a few times? Create a new code cell below (go to **Insert > Insert Cell Below**) and print the value of `a` to check it."
   ]
  },
  {
   "cell_type": "markdown",
   "metadata": {},
   "source": [
    "So how could we have avoided that problem, so that `a` always evaluates to 2? The answer, merge the two code cells above into one (select the cell with `a += 1` and go to **Edit > Merge Cell Above**).\n",
    "\n",
    "How can we avoid such mistakes?\n",
    "\n",
    "- Try to avoid running cells in random orders. If you want to test your code up to a certain point, then go to **Cell > Run All Above**.\n",
    "- Avoid having cells whose states depend on other cells, like we saw with the above example.\n",
    "- Avoid having too many variables in the same notebook with the same names.\n",
    "- Before submitting your assignments, make sure you re-run the notebook from scratch to make sure everything worked. Just go to **Kernel > Restart and Run All**."
   ]
  },
  {
   "cell_type": "markdown",
   "metadata": {},
   "source": [
    "## cell shortcuts\n",
    "\n",
    "There are many useful keyboard shortcuts that can make it easier to work with notebooks. To see all of them just click on the little keyboard icon in the menu bar. Here are some of the most important ones:\n",
    "\n",
    "- `CTRL+Enter`: Run current cell, but stay in with current cell after running.\n",
    "- `SHIFT+Enter`: Run current cell and jump to the next cell. You can use this to run through the whole notebook one cell at a time.\n",
    "- If you select a cell and press `a` and `b`, it will create a new cell above and below the current cell, respectively. This only works if you have selected the cell but are not in edit mode (if you see your cursor flashing in the current cell, that means you're in edit mode). To leave edit mode, either press `Escape` or click on somewhere in the margin to the left or right side of the cell.\n",
    "- `CTRL+SHIFT+-`: When you're in edit mode inside a cell, this command will split the cell in two based on where you have the cursor.\n",
    "- `d+d`: Pressing `d` twice will delete the cell you've selected."
   ]
  },
  {
   "cell_type": "markdown",
   "metadata": {},
   "source": [
    "## cell magics\n",
    "\n",
    "Cell [magics](https://ipython.readthedocs.io/en/stable/interactive/magics.html) are little commands **at the top of a cell, starting with % or %%**. They serve as shortcuts for doing some common tasks. They can save you a lot of time! Here's some common ones:"
   ]
  },
  {
   "cell_type": "markdown",
   "metadata": {},
   "source": [
    "- `%magic` lists all Jupyter magics."
   ]
  },
  {
   "cell_type": "code",
   "execution_count": null,
   "metadata": {},
   "outputs": [],
   "source": [
    "%magic"
   ]
  },
  {
   "cell_type": "markdown",
   "metadata": {},
   "source": [
    "- If you want to create a raw text file (Python script in this example, but works with any text file), you can use `%%writefile` followed by the name of the file, followed by its content starting in line 2."
   ]
  },
  {
   "cell_type": "code",
   "execution_count": 8,
   "metadata": {},
   "outputs": [
    {
     "name": "stdout",
     "output_type": "stream",
     "text": [
      "Writing script.py\n"
     ]
    }
   ],
   "source": [
    "%%writefile script.py\n",
    "a = 'hello world'\n",
    "print(a)"
   ]
  },
  {
   "cell_type": "markdown",
   "metadata": {},
   "source": [
    "- If you want to run a Python script you can use `%run`. This will run it using a **new** Python session. You can also run it with the Python session hosted by the notebook if you use the `-i` flag."
   ]
  },
  {
   "cell_type": "code",
   "execution_count": 9,
   "metadata": {},
   "outputs": [
    {
     "name": "stdout",
     "output_type": "stream",
     "text": [
      "hello world\n"
     ]
    }
   ],
   "source": [
    "%run script.py"
   ]
  },
  {
   "cell_type": "markdown",
   "metadata": {},
   "source": [
    "- `%time` can give you the run-time of a cell."
   ]
  },
  {
   "cell_type": "markdown",
   "metadata": {},
   "source": [
    "## Python shortcuts\n",
    "\n",
    "One last notable that will help you in the course is the use of the `Tab` key to auto-complete something. This doesn't always work, but when it does it's neat. Say you just imported `pandas` and want to read a CSV file. "
   ]
  },
  {
   "cell_type": "code",
   "execution_count": 10,
   "metadata": {},
   "outputs": [],
   "source": [
    "import pandas as pd"
   ]
  },
  {
   "cell_type": "markdown",
   "metadata": {},
   "source": [
    "You know it's probably `pd.read` but you don't remember the exact function name. Type `pd.re` and then press `Tab` and you should see a drop-down list of available functions."
   ]
  },
  {
   "cell_type": "code",
   "execution_count": 11,
   "metadata": {},
   "outputs": [
    {
     "ename": "TypeError",
     "evalue": "parser_f() missing 1 required positional argument: 'filepath_or_buffer'",
     "output_type": "error",
     "traceback": [
      "\u001b[0;31m---------------------------------------------------------------------------\u001b[0m",
      "\u001b[0;31mTypeError\u001b[0m                                 Traceback (most recent call last)",
      "\u001b[0;32m<ipython-input-11-2e425d9f1eb5>\u001b[0m in \u001b[0;36m<module>\u001b[0;34m\u001b[0m\n\u001b[0;32m----> 1\u001b[0;31m \u001b[0mpd\u001b[0m\u001b[0;34m.\u001b[0m\u001b[0mread_csv\u001b[0m\u001b[0;34m(\u001b[0m\u001b[0;34m)\u001b[0m\u001b[0;34m\u001b[0m\u001b[0;34m\u001b[0m\u001b[0m\n\u001b[0m",
      "\u001b[0;31mTypeError\u001b[0m: parser_f() missing 1 required positional argument: 'filepath_or_buffer'"
     ]
    }
   ],
   "source": [
    "pd.re"
   ]
  },
  {
   "cell_type": "markdown",
   "metadata": {},
   "source": [
    "Once you found the right function, now you might be wondering what the name of the arguments are. Then type `pd.read_csv()` and with **your cursor in between the two parentheses** now press `SHIFT+Tab+Tab`. A little documentation page should pop."
   ]
  },
  {
   "cell_type": "markdown",
   "metadata": {},
   "source": [
    "pd.read_csv()"
   ]
  },
  {
   "cell_type": "markdown",
   "metadata": {},
   "source": [
    "Take some time to familiarize yourself with the Jupyter menu:\n",
    "\n",
    "- Learn how to copy, cut or paste cells.\n",
    "- Learn how to move cells up and down.\n",
    "- Learn how to change a cell from a code cell to a Markdown cell and back."
   ]
  }
 ],
 "metadata": {
  "kernelspec": {
   "display_name": "Python 3",
   "language": "python",
   "name": "python3"
  },
  "language_info": {
   "codemirror_mode": {
    "name": "ipython",
    "version": 3
   },
   "file_extension": ".py",
   "mimetype": "text/x-python",
   "name": "python",
   "nbconvert_exporter": "python",
   "pygments_lexer": "ipython3",
   "version": "3.7.6"
  }
 },
 "nbformat": 4,
 "nbformat_minor": 4
}
