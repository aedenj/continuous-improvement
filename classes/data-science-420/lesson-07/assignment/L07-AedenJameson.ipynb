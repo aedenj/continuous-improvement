{
 "cells": [
  {
   "cell_type": "markdown",
   "metadata": {},
   "source": [
    "# Lesson 07 \n",
    "# Aeden Jameson"
   ]
  },
  {
   "cell_type": "markdown",
   "metadata": {},
   "source": [
    "## Best Practices for Assignments & Milestones\n",
    "\n",
    "- <b>Break the assignment into sections - one section per numbered requirement.</b> Each assignment has numbered requirements/instructions e.g. \"1. Read the CIFAR-10 dataset\". Each requirement should have at least one markdown cell and at least one code cell. Feel free to combine sections or make other sensible changes if that makes sense for your code and is still clear. The intent is to give you a useful structure and to make sure you get full credit for your work.\n",
    "\n",
    "- <b>Break the milestone into sections - one section for each item in the rubric.</b> Each milestone has rubric items e.g. \"5. Handle class imbalance problem\". Each rubric item should have at least one markdown cell and at least one code cell. Feel free to combine sections or make other sensible changes if that makes sense for your code and is still clear. The intent is to give you a useful structure and to make sure you get full credit for your work.\n",
    "\n",
    "- <b>Include comments, with block comments preferred over in-line comments.</b> A good habit is to start each code cell with comments.\n",
    "\n",
    "The above put into a useful pattern:\n",
    "\n",
    "<b>Markdown cell:</b> Requirement #1: Read the CIFAR-10 dataset<br>\n",
    "<b>Code cell:</b>: Comments followed by code<br>\n",
    "<b>Markdown cell:</b> Requirement #2: Explore the data<br>\n",
    "<b>Code cell:</b>: Comments followed by code<br>\n",
    "<b>Markdown cell:</b> Requirement #3: Preprocess the data and prepare for classification<br>\n",
    "<b>Code cell:</b>: Comments followed by code<br>\n",
    "\n",
    "For more information:\n",
    "- A good notebook example: [DataFrame Basics](https://github.com/Tanu-N-Prabhu/Python/blob/master/Pandas/Pandas_DataFrame.ipynb) \n",
    "- More example notebooks: [A gallery of interesting Jupyter Notebooks](https://github.com/jupyter/jupyter/wiki/A-gallery-of-interesting-Jupyter-Notebooks#pandas-for-data-analysis)\n",
    "- [PEP 8 on commenting](https://www.python.org/dev/peps/pep-0008/)\n",
    "- [PEP 257 - docstrings](https://www.python.org/dev/peps/pep-0257/)\n",
    "\n",
    "Occasionally an assignment or milestone will ask you to do something other than write Python code e.g. ask you turn in a .docx file. In which case, please use logical structuring, but the specific notes above may not apply."
   ]
  },
  {
   "cell_type": "code",
   "execution_count": 3,
   "metadata": {},
   "outputs": [],
   "source": [
    "import numpy as np\n",
    "import pandas as pd\n",
    "import matplotlib.pyplot as plt\n",
    "%matplotlib inline\n",
    "\n",
    "import seaborn as sns\n",
    "from pandas.plotting import scatter_matrix\n",
    "import scipy.stats as ss\n",
    "\n",
    "plt.rc('font', size=14) \n",
    "sns.set(style=\"ticks\", color_codes=True)"
   ]
  },
  {
   "cell_type": "markdown",
   "metadata": {},
   "source": [
    "## Step 0: Read & Explore the Dataset"
   ]
  },
  {
   "cell_type": "code",
   "execution_count": 4,
   "metadata": {},
   "outputs": [
    {
     "name": "stdout",
     "output_type": "stream",
     "text": [
      "Prepared...\n"
     ]
    }
   ],
   "source": [
    "def prepare(fileName = \"https://library.startlearninglabs.uw.edu/DATASCI420/2019/Datasets/Abalone.csv\"):\n",
    "    data = pd.read_csv(fileName)\n",
    "    \n",
    "    data['Sex'] = data['Sex'].astype('category')\n",
    "\n",
    "    return data\n",
    "\n",
    "abalones = prepare()\n",
    "print('Prepared...')"
   ]
  },
  {
   "cell_type": "code",
   "execution_count": 5,
   "metadata": {},
   "outputs": [
    {
     "data": {
      "text/html": [
       "<div>\n",
       "<style scoped>\n",
       "    .dataframe tbody tr th:only-of-type {\n",
       "        vertical-align: middle;\n",
       "    }\n",
       "\n",
       "    .dataframe tbody tr th {\n",
       "        vertical-align: top;\n",
       "    }\n",
       "\n",
       "    .dataframe thead th {\n",
       "        text-align: right;\n",
       "    }\n",
       "</style>\n",
       "<table border=\"1\" class=\"dataframe\">\n",
       "  <thead>\n",
       "    <tr style=\"text-align: right;\">\n",
       "      <th></th>\n",
       "      <th>Sex</th>\n",
       "      <th>Length</th>\n",
       "      <th>Diameter</th>\n",
       "      <th>Height</th>\n",
       "      <th>Whole Weight</th>\n",
       "      <th>Shucked Weight</th>\n",
       "      <th>Viscera Weight</th>\n",
       "      <th>Shell Weight</th>\n",
       "      <th>Rings</th>\n",
       "    </tr>\n",
       "  </thead>\n",
       "  <tbody>\n",
       "    <tr>\n",
       "      <th>0</th>\n",
       "      <td>M</td>\n",
       "      <td>0.455</td>\n",
       "      <td>0.365</td>\n",
       "      <td>0.095</td>\n",
       "      <td>0.5140</td>\n",
       "      <td>0.2245</td>\n",
       "      <td>0.1010</td>\n",
       "      <td>0.150</td>\n",
       "      <td>15</td>\n",
       "    </tr>\n",
       "    <tr>\n",
       "      <th>1</th>\n",
       "      <td>M</td>\n",
       "      <td>0.350</td>\n",
       "      <td>0.265</td>\n",
       "      <td>0.090</td>\n",
       "      <td>0.2255</td>\n",
       "      <td>0.0995</td>\n",
       "      <td>0.0485</td>\n",
       "      <td>0.070</td>\n",
       "      <td>7</td>\n",
       "    </tr>\n",
       "    <tr>\n",
       "      <th>2</th>\n",
       "      <td>F</td>\n",
       "      <td>0.530</td>\n",
       "      <td>0.420</td>\n",
       "      <td>0.135</td>\n",
       "      <td>0.6770</td>\n",
       "      <td>0.2565</td>\n",
       "      <td>0.1415</td>\n",
       "      <td>0.210</td>\n",
       "      <td>9</td>\n",
       "    </tr>\n",
       "    <tr>\n",
       "      <th>3</th>\n",
       "      <td>M</td>\n",
       "      <td>0.440</td>\n",
       "      <td>0.365</td>\n",
       "      <td>0.125</td>\n",
       "      <td>0.5160</td>\n",
       "      <td>0.2155</td>\n",
       "      <td>0.1140</td>\n",
       "      <td>0.155</td>\n",
       "      <td>10</td>\n",
       "    </tr>\n",
       "    <tr>\n",
       "      <th>4</th>\n",
       "      <td>I</td>\n",
       "      <td>0.330</td>\n",
       "      <td>0.255</td>\n",
       "      <td>0.080</td>\n",
       "      <td>0.2050</td>\n",
       "      <td>0.0895</td>\n",
       "      <td>0.0395</td>\n",
       "      <td>0.055</td>\n",
       "      <td>7</td>\n",
       "    </tr>\n",
       "  </tbody>\n",
       "</table>\n",
       "</div>"
      ],
      "text/plain": [
       "  Sex  Length  Diameter  Height  Whole Weight  Shucked Weight  Viscera Weight  \\\n",
       "0   M   0.455     0.365   0.095        0.5140          0.2245          0.1010   \n",
       "1   M   0.350     0.265   0.090        0.2255          0.0995          0.0485   \n",
       "2   F   0.530     0.420   0.135        0.6770          0.2565          0.1415   \n",
       "3   M   0.440     0.365   0.125        0.5160          0.2155          0.1140   \n",
       "4   I   0.330     0.255   0.080        0.2050          0.0895          0.0395   \n",
       "\n",
       "   Shell Weight  Rings  \n",
       "0         0.150     15  \n",
       "1         0.070      7  \n",
       "2         0.210      9  \n",
       "3         0.155     10  \n",
       "4         0.055      7  "
      ]
     },
     "execution_count": 5,
     "metadata": {},
     "output_type": "execute_result"
    }
   ],
   "source": [
    "abalones.head()"
   ]
  },
  {
   "cell_type": "code",
   "execution_count": 6,
   "metadata": {},
   "outputs": [
    {
     "name": "stdout",
     "output_type": "stream",
     "text": [
      "<class 'pandas.core.frame.DataFrame'>\n",
      "RangeIndex: 4177 entries, 0 to 4176\n",
      "Data columns (total 9 columns):\n",
      " #   Column          Non-Null Count  Dtype   \n",
      "---  ------          --------------  -----   \n",
      " 0   Sex             4177 non-null   category\n",
      " 1   Length          4177 non-null   float64 \n",
      " 2   Diameter        4177 non-null   float64 \n",
      " 3   Height          4177 non-null   float64 \n",
      " 4   Whole Weight    4177 non-null   float64 \n",
      " 5   Shucked Weight  4177 non-null   float64 \n",
      " 6   Viscera Weight  4177 non-null   float64 \n",
      " 7   Shell Weight    4177 non-null   float64 \n",
      " 8   Rings           4177 non-null   int64   \n",
      "dtypes: category(1), float64(7), int64(1)\n",
      "memory usage: 265.4 KB\n"
     ]
    }
   ],
   "source": [
    "abalones.info()"
   ]
  },
  {
   "cell_type": "code",
   "execution_count": 7,
   "metadata": {},
   "outputs": [
    {
     "data": {
      "text/plain": [
       "Sex               False\n",
       "Length            False\n",
       "Diameter          False\n",
       "Height            False\n",
       "Whole Weight      False\n",
       "Shucked Weight    False\n",
       "Viscera Weight    False\n",
       "Shell Weight      False\n",
       "Rings             False\n",
       "dtype: bool"
      ]
     },
     "execution_count": 7,
     "metadata": {},
     "output_type": "execute_result"
    }
   ],
   "source": [
    "abalones.isnull().any(axis = 0)"
   ]
  },
  {
   "cell_type": "markdown",
   "metadata": {},
   "source": [
    "## Step 1: Convert Rings to Binary Classifier (0,1) and Build an SVC"
   ]
  },
  {
   "cell_type": "markdown",
   "metadata": {},
   "source": [
    "### Conversion"
   ]
  },
  {
   "cell_type": "code",
   "execution_count": 8,
   "metadata": {},
   "outputs": [
    {
     "data": {
      "text/html": [
       "<div>\n",
       "<style scoped>\n",
       "    .dataframe tbody tr th:only-of-type {\n",
       "        vertical-align: middle;\n",
       "    }\n",
       "\n",
       "    .dataframe tbody tr th {\n",
       "        vertical-align: top;\n",
       "    }\n",
       "\n",
       "    .dataframe thead th {\n",
       "        text-align: right;\n",
       "    }\n",
       "</style>\n",
       "<table border=\"1\" class=\"dataframe\">\n",
       "  <thead>\n",
       "    <tr style=\"text-align: right;\">\n",
       "      <th></th>\n",
       "      <th>Sex</th>\n",
       "      <th>Length</th>\n",
       "      <th>Diameter</th>\n",
       "      <th>Height</th>\n",
       "      <th>Whole Weight</th>\n",
       "      <th>Shucked Weight</th>\n",
       "      <th>Viscera Weight</th>\n",
       "      <th>Shell Weight</th>\n",
       "      <th>Rings</th>\n",
       "      <th>Class</th>\n",
       "    </tr>\n",
       "  </thead>\n",
       "  <tbody>\n",
       "    <tr>\n",
       "      <th>0</th>\n",
       "      <td>M</td>\n",
       "      <td>0.455</td>\n",
       "      <td>0.365</td>\n",
       "      <td>0.095</td>\n",
       "      <td>0.5140</td>\n",
       "      <td>0.2245</td>\n",
       "      <td>0.1010</td>\n",
       "      <td>0.150</td>\n",
       "      <td>15</td>\n",
       "      <td>1</td>\n",
       "    </tr>\n",
       "    <tr>\n",
       "      <th>1</th>\n",
       "      <td>M</td>\n",
       "      <td>0.350</td>\n",
       "      <td>0.265</td>\n",
       "      <td>0.090</td>\n",
       "      <td>0.2255</td>\n",
       "      <td>0.0995</td>\n",
       "      <td>0.0485</td>\n",
       "      <td>0.070</td>\n",
       "      <td>7</td>\n",
       "      <td>0</td>\n",
       "    </tr>\n",
       "    <tr>\n",
       "      <th>2</th>\n",
       "      <td>F</td>\n",
       "      <td>0.530</td>\n",
       "      <td>0.420</td>\n",
       "      <td>0.135</td>\n",
       "      <td>0.6770</td>\n",
       "      <td>0.2565</td>\n",
       "      <td>0.1415</td>\n",
       "      <td>0.210</td>\n",
       "      <td>9</td>\n",
       "      <td>0</td>\n",
       "    </tr>\n",
       "    <tr>\n",
       "      <th>3</th>\n",
       "      <td>M</td>\n",
       "      <td>0.440</td>\n",
       "      <td>0.365</td>\n",
       "      <td>0.125</td>\n",
       "      <td>0.5160</td>\n",
       "      <td>0.2155</td>\n",
       "      <td>0.1140</td>\n",
       "      <td>0.155</td>\n",
       "      <td>10</td>\n",
       "      <td>0</td>\n",
       "    </tr>\n",
       "    <tr>\n",
       "      <th>4</th>\n",
       "      <td>I</td>\n",
       "      <td>0.330</td>\n",
       "      <td>0.255</td>\n",
       "      <td>0.080</td>\n",
       "      <td>0.2050</td>\n",
       "      <td>0.0895</td>\n",
       "      <td>0.0395</td>\n",
       "      <td>0.055</td>\n",
       "      <td>7</td>\n",
       "      <td>0</td>\n",
       "    </tr>\n",
       "  </tbody>\n",
       "</table>\n",
       "</div>"
      ],
      "text/plain": [
       "  Sex  Length  Diameter  Height  Whole Weight  Shucked Weight  Viscera Weight  \\\n",
       "0   M   0.455     0.365   0.095        0.5140          0.2245          0.1010   \n",
       "1   M   0.350     0.265   0.090        0.2255          0.0995          0.0485   \n",
       "2   F   0.530     0.420   0.135        0.6770          0.2565          0.1415   \n",
       "3   M   0.440     0.365   0.125        0.5160          0.2155          0.1140   \n",
       "4   I   0.330     0.255   0.080        0.2050          0.0895          0.0395   \n",
       "\n",
       "   Shell Weight  Rings Class  \n",
       "0         0.150     15     1  \n",
       "1         0.070      7     0  \n",
       "2         0.210      9     0  \n",
       "3         0.155     10     0  \n",
       "4         0.055      7     0  "
      ]
     },
     "execution_count": 8,
     "metadata": {},
     "output_type": "execute_result"
    }
   ],
   "source": [
    "abalones['Class'] = pd.cut(abalones['Rings'], bins=[0, 11, float(\"inf\")], labels=[0,1]) \n",
    "abalones.head()"
   ]
  },
  {
   "cell_type": "code",
   "execution_count": 9,
   "metadata": {},
   "outputs": [
    {
     "data": {
      "text/plain": [
       "0    3217\n",
       "1     960\n",
       "Name: Class, dtype: int64"
      ]
     },
     "execution_count": 9,
     "metadata": {},
     "output_type": "execute_result"
    }
   ],
   "source": [
    "abalones['Class'].value_counts()"
   ]
  },
  {
   "cell_type": "markdown",
   "metadata": {},
   "source": [
    "### Build an SVC"
   ]
  },
  {
   "cell_type": "code",
   "execution_count": 10,
   "metadata": {},
   "outputs": [
    {
     "name": "stdout",
     "output_type": "stream",
     "text": [
      "Requirement already satisfied: category_encoders in /opt/conda/lib/python3.7/site-packages (2.2.2)\n",
      "Requirement already satisfied: pandas>=0.21.1 in /opt/conda/lib/python3.7/site-packages (from category_encoders) (1.0.2)\n",
      "Requirement already satisfied: scipy>=1.0.0 in /opt/conda/lib/python3.7/site-packages (from category_encoders) (1.4.1)\n",
      "Requirement already satisfied: patsy>=0.5.1 in /opt/conda/lib/python3.7/site-packages (from category_encoders) (0.5.1)\n",
      "Requirement already satisfied: scikit-learn>=0.20.0 in /opt/conda/lib/python3.7/site-packages (from category_encoders) (0.22.2.post1)\n",
      "Requirement already satisfied: numpy>=1.14.0 in /opt/conda/lib/python3.7/site-packages (from category_encoders) (1.18.1)\n",
      "Requirement already satisfied: statsmodels>=0.9.0 in /opt/conda/lib/python3.7/site-packages (from category_encoders) (0.11.1)\n",
      "Requirement already satisfied: python-dateutil>=2.6.1 in /opt/conda/lib/python3.7/site-packages (from pandas>=0.21.1->category_encoders) (2.8.1)\n",
      "Requirement already satisfied: pytz>=2017.2 in /opt/conda/lib/python3.7/site-packages (from pandas>=0.21.1->category_encoders) (2019.3)\n",
      "Requirement already satisfied: six in /opt/conda/lib/python3.7/site-packages (from patsy>=0.5.1->category_encoders) (1.14.0)\n",
      "Requirement already satisfied: joblib>=0.11 in /opt/conda/lib/python3.7/site-packages (from scikit-learn>=0.20.0->category_encoders) (0.14.1)\n"
     ]
    }
   ],
   "source": [
    "!pip install category_encoders"
   ]
  },
  {
   "cell_type": "code",
   "execution_count": 11,
   "metadata": {},
   "outputs": [
    {
     "data": {
      "text/html": [
       "<div>\n",
       "<style scoped>\n",
       "    .dataframe tbody tr th:only-of-type {\n",
       "        vertical-align: middle;\n",
       "    }\n",
       "\n",
       "    .dataframe tbody tr th {\n",
       "        vertical-align: top;\n",
       "    }\n",
       "\n",
       "    .dataframe thead th {\n",
       "        text-align: right;\n",
       "    }\n",
       "</style>\n",
       "<table border=\"1\" class=\"dataframe\">\n",
       "  <thead>\n",
       "    <tr style=\"text-align: right;\">\n",
       "      <th></th>\n",
       "      <th>Sex_I</th>\n",
       "      <th>Sex_F</th>\n",
       "      <th>Sex_M</th>\n",
       "      <th>Length</th>\n",
       "      <th>Diameter</th>\n",
       "      <th>Height</th>\n",
       "      <th>Whole Weight</th>\n",
       "      <th>Shucked Weight</th>\n",
       "      <th>Viscera Weight</th>\n",
       "      <th>Shell Weight</th>\n",
       "    </tr>\n",
       "  </thead>\n",
       "  <tbody>\n",
       "    <tr>\n",
       "      <th>0</th>\n",
       "      <td>1</td>\n",
       "      <td>0</td>\n",
       "      <td>0</td>\n",
       "      <td>0.550</td>\n",
       "      <td>0.445</td>\n",
       "      <td>0.125</td>\n",
       "      <td>0.6720</td>\n",
       "      <td>0.2880</td>\n",
       "      <td>0.1365</td>\n",
       "      <td>0.210</td>\n",
       "    </tr>\n",
       "    <tr>\n",
       "      <th>1</th>\n",
       "      <td>1</td>\n",
       "      <td>0</td>\n",
       "      <td>0</td>\n",
       "      <td>0.475</td>\n",
       "      <td>0.355</td>\n",
       "      <td>0.100</td>\n",
       "      <td>0.5035</td>\n",
       "      <td>0.2535</td>\n",
       "      <td>0.0910</td>\n",
       "      <td>0.140</td>\n",
       "    </tr>\n",
       "    <tr>\n",
       "      <th>2</th>\n",
       "      <td>0</td>\n",
       "      <td>1</td>\n",
       "      <td>0</td>\n",
       "      <td>0.305</td>\n",
       "      <td>0.225</td>\n",
       "      <td>0.070</td>\n",
       "      <td>0.1485</td>\n",
       "      <td>0.0585</td>\n",
       "      <td>0.0335</td>\n",
       "      <td>0.045</td>\n",
       "    </tr>\n",
       "    <tr>\n",
       "      <th>3</th>\n",
       "      <td>1</td>\n",
       "      <td>0</td>\n",
       "      <td>0</td>\n",
       "      <td>0.275</td>\n",
       "      <td>0.200</td>\n",
       "      <td>0.065</td>\n",
       "      <td>0.1165</td>\n",
       "      <td>0.0565</td>\n",
       "      <td>0.0130</td>\n",
       "      <td>0.035</td>\n",
       "    </tr>\n",
       "    <tr>\n",
       "      <th>4</th>\n",
       "      <td>0</td>\n",
       "      <td>0</td>\n",
       "      <td>1</td>\n",
       "      <td>0.495</td>\n",
       "      <td>0.380</td>\n",
       "      <td>0.135</td>\n",
       "      <td>0.6295</td>\n",
       "      <td>0.2630</td>\n",
       "      <td>0.1425</td>\n",
       "      <td>0.215</td>\n",
       "    </tr>\n",
       "  </tbody>\n",
       "</table>\n",
       "</div>"
      ],
      "text/plain": [
       "   Sex_I  Sex_F  Sex_M  Length  Diameter  Height  Whole Weight  \\\n",
       "0      1      0      0   0.550     0.445   0.125        0.6720   \n",
       "1      1      0      0   0.475     0.355   0.100        0.5035   \n",
       "2      0      1      0   0.305     0.225   0.070        0.1485   \n",
       "3      1      0      0   0.275     0.200   0.065        0.1165   \n",
       "4      0      0      1   0.495     0.380   0.135        0.6295   \n",
       "\n",
       "   Shucked Weight  Viscera Weight  Shell Weight  \n",
       "0          0.2880          0.1365         0.210  \n",
       "1          0.2535          0.0910         0.140  \n",
       "2          0.0585          0.0335         0.045  \n",
       "3          0.0565          0.0130         0.035  \n",
       "4          0.2630          0.1425         0.215  "
      ]
     },
     "execution_count": 11,
     "metadata": {},
     "output_type": "execute_result"
    }
   ],
   "source": [
    "from sklearn.model_selection import train_test_split\n",
    "import category_encoders as ce\n",
    "from sklearn.svm import SVC\n",
    "\n",
    "\n",
    "X_train, X_test, y_train, y_test = train_test_split(abalones.drop(columns = [\"Rings\", \"Class\"]), abalones[\"Class\"], \n",
    "                                                    test_size = 0.20, random_state = 42)\n",
    "X_train = X_train.reset_index(drop = True)\n",
    "X_test = X_test.reset_index(drop = True)\n",
    "\n",
    "onehoter =  ce.OneHotEncoder(return_df = True, \n",
    "                             cols = [\"Sex\"], \n",
    "                             drop_invariant = True,\n",
    "                             use_cat_names = True, \n",
    "                             handle_missing = 'value', \n",
    "                             handle_unknown = 'value')\n",
    "\n",
    "X_train_featurized = onehoter.fit_transform(X_train)\n",
    "X_test_featurized = onehoter.fit_transform(X_test)\n",
    "\n",
    "X_train_featurized.head()"
   ]
  },
  {
   "cell_type": "code",
   "execution_count": 12,
   "metadata": {},
   "outputs": [
    {
     "data": {
      "text/plain": [
       "SVC(C=1.0, break_ties=False, cache_size=4096, class_weight=None, coef0=0.0,\n",
       "    decision_function_shape='ovr', degree=3, gamma='scale', kernel='rbf',\n",
       "    max_iter=-1, probability=True, random_state=None, shrinking=True, tol=0.001,\n",
       "    verbose=False)"
      ]
     },
     "execution_count": 12,
     "metadata": {},
     "output_type": "execute_result"
    }
   ],
   "source": [
    "svmc = SVC(probability=True, gamma = 'scale', cache_size = 4096) # cache size can improve performance\n",
    "svmc.fit(X_train_featurized, y_train)"
   ]
  },
  {
   "cell_type": "markdown",
   "metadata": {},
   "source": [
    "### Accuracy of Our SVC"
   ]
  },
  {
   "cell_type": "code",
   "execution_count": 13,
   "metadata": {},
   "outputs": [
    {
     "name": "stdout",
     "output_type": "stream",
     "text": [
      "Accuracy is : 80.98086124401914%\n"
     ]
    }
   ],
   "source": [
    "from sklearn.metrics import accuracy_score\n",
    "\n",
    "y_hat_test = svmc.predict(X_test_featurized)\n",
    "\n",
    "\n",
    "print(\"Accuracy is : {}%\".format(accuracy_score(y_test, y_hat_test)*100))"
   ]
  },
  {
   "cell_type": "markdown",
   "metadata": {},
   "source": [
    "## Step 3: Hyper Parameter Search"
   ]
  },
  {
   "cell_type": "markdown",
   "metadata": {},
   "source": [
    "**NOTE:** I ran GridViewSearch with the following hyperparameter space \n",
    "```\n",
    "hyper_parameter_space = {'kernel': ['poly','linear','rbf','sigmoid'], \n",
    "                         'degree': [2, 5],\n",
    "                         'C': [3, 10], \n",
    "                         'gamma': [1, 10]}\n",
    "```\n",
    "\n",
    "for about eight hours on an i9 with 8 cores and 64GB of RAM and it still didn't finish. The gamma value seems to be what eats a lot of time. Unfortunately I don't have the time to play with it to that extent."
   ]
  },
  {
   "cell_type": "code",
   "execution_count": 29,
   "metadata": {},
   "outputs": [
    {
     "name": "stdout",
     "output_type": "stream",
     "text": [
      "Fitting 5 folds for each of 32 candidates, totalling 160 fits\n"
     ]
    },
    {
     "name": "stderr",
     "output_type": "stream",
     "text": [
      "[Parallel(n_jobs=-1)]: Using backend LokyBackend with 4 concurrent workers.\n",
      "[Parallel(n_jobs=-1)]: Done   5 tasks      | elapsed:    0.9s\n",
      "[Parallel(n_jobs=-1)]: Done  10 tasks      | elapsed:    1.0s\n",
      "[Parallel(n_jobs=-1)]: Done  17 tasks      | elapsed:    1.4s\n",
      "[Parallel(n_jobs=-1)]: Done  24 tasks      | elapsed:    1.7s\n",
      "[Parallel(n_jobs=-1)]: Done  33 tasks      | elapsed:    2.1s\n",
      "[Parallel(n_jobs=-1)]: Done  42 tasks      | elapsed:    2.6s\n",
      "[Parallel(n_jobs=-1)]: Done  53 tasks      | elapsed:    2.9s\n",
      "[Parallel(n_jobs=-1)]: Done  64 tasks      | elapsed:    3.6s\n",
      "[Parallel(n_jobs=-1)]: Done  77 tasks      | elapsed:    4.2s\n",
      "[Parallel(n_jobs=-1)]: Done  90 tasks      | elapsed:    4.6s\n",
      "[Parallel(n_jobs=-1)]: Done 105 tasks      | elapsed:    6.8s\n",
      "[Parallel(n_jobs=-1)]: Done 120 tasks      | elapsed:    7.8s\n",
      "[Parallel(n_jobs=-1)]: Done 137 tasks      | elapsed:    8.8s\n",
      "[Parallel(n_jobs=-1)]: Done 160 out of 160 | elapsed:   41.7s finished\n"
     ]
    },
    {
     "data": {
      "text/plain": [
       "GridSearchCV(cv=5, error_score=nan,\n",
       "             estimator=SVC(C=1.0, break_ties=False, cache_size=4096,\n",
       "                           class_weight=None, coef0=0.0,\n",
       "                           decision_function_shape='ovr', degree=3,\n",
       "                           gamma='scale', kernel='rbf', max_iter=-1,\n",
       "                           probability=False, random_state=None, shrinking=True,\n",
       "                           tol=0.001, verbose=False),\n",
       "             iid='deprecated', n_jobs=-1,\n",
       "             param_grid={'C': [0.1, 1, 10, 100], 'degree': [2, 5],\n",
       "                         'kernel': ['poly', 'linear', 'rbf', 'sigmoid']},\n",
       "             pre_dispatch='2*n_jobs', refit=True, return_train_score=True,\n",
       "             scoring=None, verbose=10)"
      ]
     },
     "execution_count": 29,
     "metadata": {},
     "output_type": "execute_result"
    }
   ],
   "source": [
    "from sklearn.model_selection import GridSearchCV\n",
    "    \n",
    "hyper_parameter_space = {'kernel': ['poly','linear','rbf','sigmoid'], \n",
    "                         'degree': [2, 5],\n",
    "                         'C':[0.1, 1, 10, 100],\n",
    "                        }\n",
    "\n",
    "svc = SVC(gamma='scale', probability = False, cache_size = 4096)\n",
    "clf = GridSearchCV(svc, \n",
    "                   hyper_parameter_space, \n",
    "                   cv = 5, \n",
    "                   refit = True, \n",
    "                   return_train_score = True, \n",
    "                   n_jobs=-1, \n",
    "                   verbose=10)\n",
    "\n",
    "clf.fit(X_train_featurized, y_train)"
   ]
  },
  {
   "cell_type": "code",
   "execution_count": 30,
   "metadata": {},
   "outputs": [
    {
     "name": "stdout",
     "output_type": "stream",
     "text": [
      "Best Params: {'C': 100, 'degree': 2, 'kernel': 'rbf'}\n"
     ]
    }
   ],
   "source": [
    "print(f'Best Params: {clf.best_params_}')"
   ]
  },
  {
   "cell_type": "code",
   "execution_count": 31,
   "metadata": {},
   "outputs": [
    {
     "name": "stdout",
     "output_type": "stream",
     "text": [
      "Best Params: SVC(C=100, break_ties=False, cache_size=4096, class_weight=None, coef0=0.0,\n",
      "    decision_function_shape='ovr', degree=2, gamma='scale', kernel='rbf',\n",
      "    max_iter=-1, probability=False, random_state=None, shrinking=True,\n",
      "    tol=0.001, verbose=False)\n"
     ]
    }
   ],
   "source": [
    "print(f'Best Params: {clf.best_estimator_}')"
   ]
  },
  {
   "cell_type": "markdown",
   "metadata": {},
   "source": [
    "## Step 4: Show recall, precision and f-measure for the best mod"
   ]
  },
  {
   "cell_type": "code",
   "execution_count": 32,
   "metadata": {},
   "outputs": [
    {
     "name": "stdout",
     "output_type": "stream",
     "text": [
      "                 precision    recall  f1-score   support\n",
      "\n",
      "Younger than 11       0.87      0.92      0.90       653\n",
      "    11 or Older       0.66      0.52      0.58       183\n",
      "\n",
      "       accuracy                           0.83       836\n",
      "      macro avg       0.76      0.72      0.74       836\n",
      "   weighted avg       0.83      0.83      0.83       836\n",
      "\n"
     ]
    }
   ],
   "source": [
    "from sklearn.metrics import classification_report\n",
    "labels = ['Younger than 11','11 or Older']\n",
    "\n",
    "y_hat_test = clf.predict(X_test_featurized)\n",
    "print(classification_report(y_test, y_hat_test, target_names=labels))"
   ]
  },
  {
   "cell_type": "markdown",
   "metadata": {},
   "source": [
    "Looks like the SVC classifier with the hyper parameters `{'C': 100, 'degree': 2, 'kernel': 'rbf'}` performed better than our initial random guess in step two."
   ]
  },
  {
   "cell_type": "markdown",
   "metadata": {},
   "source": [
    "## Step 5: Using the original data, with rings as a continuous variable, create an SVR model"
   ]
  },
  {
   "cell_type": "code",
   "execution_count": 41,
   "metadata": {},
   "outputs": [],
   "source": [
    "Xsvr_train, Xsvr_test, ysvr_train, ysvr_test = train_test_split(abalones.drop(columns = [\"Rings\", \"Class\"]), abalones[\"Rings\"], \n",
    "                                                    test_size = 0.20, random_state = 42)\n",
    "Xsvr_train = Xsvr_train.reset_index(drop = True)\n",
    "Xsvr_test = Xsvr_test.reset_index(drop = True)\n",
    "\n",
    "onehoter =  ce.OneHotEncoder(return_df = True, \n",
    "                             cols = [\"Sex\"], \n",
    "                             drop_invariant = True,\n",
    "                             use_cat_names = True, \n",
    "                             handle_missing = 'value', \n",
    "                             handle_unknown = 'value')\n",
    "\n",
    "Xsvr_train_featurized = onehoter.fit_transform(Xsvr_train)\n",
    "Xsvr_test_featurized = onehoter.fit_transform(Xsvr_test)"
   ]
  },
  {
   "cell_type": "code",
   "execution_count": 44,
   "metadata": {},
   "outputs": [
    {
     "name": "stdout",
     "output_type": "stream",
     "text": [
      "Fitting 5 folds for each of 800 candidates, totalling 4000 fits\n"
     ]
    },
    {
     "name": "stderr",
     "output_type": "stream",
     "text": [
      "[Parallel(n_jobs=-1)]: Using backend LokyBackend with 4 concurrent workers.\n",
      "[Parallel(n_jobs=-1)]: Done   5 tasks      | elapsed:    1.0s\n",
      "[Parallel(n_jobs=-1)]: Done  10 tasks      | elapsed:    1.2s\n",
      "[Parallel(n_jobs=-1)]: Done  17 tasks      | elapsed:    1.6s\n",
      "[Parallel(n_jobs=-1)]: Done  24 tasks      | elapsed:    1.9s\n",
      "[Parallel(n_jobs=-1)]: Done  33 tasks      | elapsed:    2.4s\n",
      "[Parallel(n_jobs=-1)]: Done  42 tasks      | elapsed:    2.9s\n",
      "[Parallel(n_jobs=-1)]: Done  53 tasks      | elapsed:    3.5s\n",
      "[Parallel(n_jobs=-1)]: Done  64 tasks      | elapsed:    4.0s\n",
      "[Parallel(n_jobs=-1)]: Done  77 tasks      | elapsed:    4.8s\n",
      "[Parallel(n_jobs=-1)]: Done  90 tasks      | elapsed:    5.4s\n",
      "[Parallel(n_jobs=-1)]: Done 105 tasks      | elapsed:    6.3s\n",
      "[Parallel(n_jobs=-1)]: Done 120 tasks      | elapsed:    7.1s\n",
      "[Parallel(n_jobs=-1)]: Done 137 tasks      | elapsed:    8.3s\n",
      "[Parallel(n_jobs=-1)]: Done 154 tasks      | elapsed:    9.4s\n",
      "[Parallel(n_jobs=-1)]: Done 173 tasks      | elapsed:   11.3s\n",
      "[Parallel(n_jobs=-1)]: Done 192 tasks      | elapsed:   13.2s\n",
      "[Parallel(n_jobs=-1)]: Done 213 tasks      | elapsed:   14.7s\n",
      "[Parallel(n_jobs=-1)]: Done 234 tasks      | elapsed:   15.8s\n",
      "[Parallel(n_jobs=-1)]: Done 257 tasks      | elapsed:   17.0s\n",
      "[Parallel(n_jobs=-1)]: Done 280 tasks      | elapsed:   18.2s\n",
      "[Parallel(n_jobs=-1)]: Done 305 tasks      | elapsed:   19.6s\n",
      "[Parallel(n_jobs=-1)]: Done 330 tasks      | elapsed:   21.2s\n",
      "[Parallel(n_jobs=-1)]: Done 357 tasks      | elapsed:   23.2s\n",
      "[Parallel(n_jobs=-1)]: Done 384 tasks      | elapsed:   25.8s\n",
      "[Parallel(n_jobs=-1)]: Done 413 tasks      | elapsed:   28.1s\n",
      "[Parallel(n_jobs=-1)]: Done 442 tasks      | elapsed:   29.6s\n",
      "[Parallel(n_jobs=-1)]: Done 473 tasks      | elapsed:   31.3s\n",
      "[Parallel(n_jobs=-1)]: Done 504 tasks      | elapsed:   33.0s\n",
      "[Parallel(n_jobs=-1)]: Done 537 tasks      | elapsed:   35.3s\n",
      "[Parallel(n_jobs=-1)]: Done 570 tasks      | elapsed:   38.5s\n",
      "[Parallel(n_jobs=-1)]: Done 605 tasks      | elapsed:   41.9s\n",
      "[Parallel(n_jobs=-1)]: Done 640 tasks      | elapsed:   43.8s\n",
      "[Parallel(n_jobs=-1)]: Done 677 tasks      | elapsed:   45.8s\n",
      "[Parallel(n_jobs=-1)]: Done 714 tasks      | elapsed:   47.9s\n",
      "[Parallel(n_jobs=-1)]: Done 753 tasks      | elapsed:   50.8s\n",
      "[Parallel(n_jobs=-1)]: Done 792 tasks      | elapsed:   54.9s\n",
      "[Parallel(n_jobs=-1)]: Done 833 tasks      | elapsed:   57.6s\n",
      "[Parallel(n_jobs=-1)]: Done 874 tasks      | elapsed:   59.9s\n",
      "[Parallel(n_jobs=-1)]: Done 917 tasks      | elapsed:  1.0min\n",
      "[Parallel(n_jobs=-1)]: Done 960 tasks      | elapsed:  1.1min\n",
      "[Parallel(n_jobs=-1)]: Done 1005 tasks      | elapsed:  1.2min\n",
      "[Parallel(n_jobs=-1)]: Done 1050 tasks      | elapsed:  1.2min\n",
      "[Parallel(n_jobs=-1)]: Done 1097 tasks      | elapsed:  1.3min\n",
      "[Parallel(n_jobs=-1)]: Done 1144 tasks      | elapsed:  1.3min\n",
      "[Parallel(n_jobs=-1)]: Done 1193 tasks      | elapsed:  1.4min\n",
      "[Parallel(n_jobs=-1)]: Done 1242 tasks      | elapsed:  1.5min\n",
      "[Parallel(n_jobs=-1)]: Done 1293 tasks      | elapsed:  1.5min\n",
      "[Parallel(n_jobs=-1)]: Done 1344 tasks      | elapsed:  1.6min\n",
      "[Parallel(n_jobs=-1)]: Done 1397 tasks      | elapsed:  1.7min\n",
      "[Parallel(n_jobs=-1)]: Done 1450 tasks      | elapsed:  1.7min\n",
      "[Parallel(n_jobs=-1)]: Done 1505 tasks      | elapsed:  1.8min\n",
      "[Parallel(n_jobs=-1)]: Done 1560 tasks      | elapsed:  1.9min\n",
      "[Parallel(n_jobs=-1)]: Done 1617 tasks      | elapsed:  2.0min\n",
      "[Parallel(n_jobs=-1)]: Done 1674 tasks      | elapsed:  2.0min\n",
      "[Parallel(n_jobs=-1)]: Done 1733 tasks      | elapsed:  2.1min\n",
      "[Parallel(n_jobs=-1)]: Done 1792 tasks      | elapsed:  2.2min\n",
      "[Parallel(n_jobs=-1)]: Done 1853 tasks      | elapsed:  2.3min\n",
      "[Parallel(n_jobs=-1)]: Done 1914 tasks      | elapsed:  2.3min\n",
      "[Parallel(n_jobs=-1)]: Done 1977 tasks      | elapsed:  2.5min\n",
      "[Parallel(n_jobs=-1)]: Done 2040 tasks      | elapsed:  2.5min\n",
      "[Parallel(n_jobs=-1)]: Done 2105 tasks      | elapsed:  2.6min\n",
      "[Parallel(n_jobs=-1)]: Done 2170 tasks      | elapsed:  2.7min\n",
      "[Parallel(n_jobs=-1)]: Done 2237 tasks      | elapsed:  2.8min\n",
      "[Parallel(n_jobs=-1)]: Done 2304 tasks      | elapsed:  2.9min\n",
      "[Parallel(n_jobs=-1)]: Done 2373 tasks      | elapsed:  3.0min\n",
      "[Parallel(n_jobs=-1)]: Done 2442 tasks      | elapsed:  3.1min\n",
      "[Parallel(n_jobs=-1)]: Done 2513 tasks      | elapsed:  3.2min\n",
      "[Parallel(n_jobs=-1)]: Done 2584 tasks      | elapsed:  3.3min\n",
      "[Parallel(n_jobs=-1)]: Done 2657 tasks      | elapsed:  3.4min\n",
      "[Parallel(n_jobs=-1)]: Done 2730 tasks      | elapsed:  3.5min\n",
      "[Parallel(n_jobs=-1)]: Done 2805 tasks      | elapsed:  3.7min\n",
      "[Parallel(n_jobs=-1)]: Done 2880 tasks      | elapsed:  3.7min\n",
      "[Parallel(n_jobs=-1)]: Done 2957 tasks      | elapsed:  3.9min\n",
      "[Parallel(n_jobs=-1)]: Done 3034 tasks      | elapsed:  4.0min\n",
      "[Parallel(n_jobs=-1)]: Done 3113 tasks      | elapsed:  4.1min\n",
      "[Parallel(n_jobs=-1)]: Done 3192 tasks      | elapsed:  4.2min\n",
      "[Parallel(n_jobs=-1)]: Done 3273 tasks      | elapsed:  4.3min\n",
      "[Parallel(n_jobs=-1)]: Done 3354 tasks      | elapsed:  4.4min\n",
      "[Parallel(n_jobs=-1)]: Done 3437 tasks      | elapsed:  4.6min\n",
      "[Parallel(n_jobs=-1)]: Done 3520 tasks      | elapsed:  4.7min\n",
      "[Parallel(n_jobs=-1)]: Done 3605 tasks      | elapsed:  4.9min\n",
      "[Parallel(n_jobs=-1)]: Done 3690 tasks      | elapsed:  5.0min\n",
      "[Parallel(n_jobs=-1)]: Done 3777 tasks      | elapsed:  5.2min\n",
      "[Parallel(n_jobs=-1)]: Done 3864 tasks      | elapsed:  5.3min\n",
      "[Parallel(n_jobs=-1)]: Done 3953 tasks      | elapsed:  5.5min\n",
      "[Parallel(n_jobs=-1)]: Done 4000 out of 4000 | elapsed:  5.6min finished\n"
     ]
    }
   ],
   "source": [
    "from sklearn.svm import SVR\n",
    "\n",
    "hyper_parameter_space = {'kernel': ['rbf','sigmoid'], \n",
    "                         'degree': [2, 5],\n",
    "                         #'C':[0.1, 1, 10, 100],\n",
    "                         'C': np.logspace(np.log10(0.01), np.log10(100), num=10),\n",
    "                         'gamma':np.logspace(np.log10(0.001), np.log10(2), num=20)\n",
    "                        }\n",
    "\n",
    "svr = SVR(cache_size = 4096)\n",
    "svr_clf = GridSearchCV(svr, \n",
    "                   hyper_parameter_space, \n",
    "                   cv = 5, \n",
    "                   refit = True, \n",
    "                   return_train_score = True, \n",
    "                   n_jobs=-1, \n",
    "                   verbose=10)\n",
    "\n",
    "svr_clf.fit(X_train_featurized, y_train)\n",
    "svr_predictions = svr_clf.predict(Xsvr_test_featurized)"
   ]
  },
  {
   "cell_type": "markdown",
   "metadata": {},
   "source": [
    "## Step 6: Report on the predicted variance and the mean squared error"
   ]
  },
  {
   "cell_type": "code",
   "execution_count": 45,
   "metadata": {},
   "outputs": [],
   "source": [
    "from sklearn.metrics import mean_squared_error\n",
    "from sklearn.metrics import explained_variance_score"
   ]
  },
  {
   "cell_type": "markdown",
   "metadata": {},
   "source": [
    "### SVC"
   ]
  },
  {
   "cell_type": "code",
   "execution_count": 46,
   "metadata": {},
   "outputs": [
    {
     "name": "stdout",
     "output_type": "stream",
     "text": [
      "Mean Squared Error is : 0.16507177033492823%\n",
      "Explain Variance is : 0.046653110067866765%\n"
     ]
    }
   ],
   "source": [
    "print(\"Mean Squared Error is : {}%\".format(mean_squared_error(y_test, y_hat_test)))\n",
    "print(\"Explain Variance is : {}%\".format(explained_variance_score(y_test, y_hat_test)))"
   ]
  },
  {
   "cell_type": "markdown",
   "metadata": {},
   "source": [
    "### SVR"
   ]
  },
  {
   "cell_type": "code",
   "execution_count": 47,
   "metadata": {},
   "outputs": [
    {
     "name": "stdout",
     "output_type": "stream",
     "text": [
      "Mean Squared Error is : 103.69919681669526%\n",
      "Explain Variance is : 0.07858155082099783%\n"
     ]
    }
   ],
   "source": [
    "print(\"Mean Squared Error is : {}%\".format(mean_squared_error(ysvr_test, svr_predictions)))\n",
    "print(\"Explain Variance is : {}%\".format(explained_variance_score(ysvr_test, svr_predictions)))"
   ]
  }
 ],
 "metadata": {
  "kernelspec": {
   "display_name": "Python 3",
   "language": "python",
   "name": "python3"
  },
  "language_info": {
   "codemirror_mode": {
    "name": "ipython",
    "version": 3
   },
   "file_extension": ".py",
   "mimetype": "text/x-python",
   "name": "python",
   "nbconvert_exporter": "python",
   "pygments_lexer": "ipython3",
   "version": "3.7.6"
  }
 },
 "nbformat": 4,
 "nbformat_minor": 4
}
