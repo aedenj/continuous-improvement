{
 "cells": [
  {
   "cell_type": "markdown",
   "metadata": {},
   "source": [
    "# Convolutional and recurrent neural networks\n",
    "\n",
    "In the last lecture we introduced deep learning, talked about the need to go deep, and trained a deep neural network using `sklearn` and then using `tensorflow`. The networks that we trained then were examples of **dense** or **fully connected** networks, meaning that every feature in the previous layer is connected to every feature in the current layer. Because of this property, dense neworks are very likely to overfit and have a lot of parameters. Too many parameters means that we run into computational limits as we try to go deeper. \n",
    "\n",
    "In this lecture, we want to expand on the idea of deep learning by proposing some modifications to dense networks. The first modification will introduce the idea of **convolutional neuron networks** which learn features in such a way that we take **locality** into account. The next modification will introduce **recurrent neural networks** which learn features when we have sequential data (i.e. data where order matters). Both ideas rely on **shared parameters** to greatly reduce the number of parameters in a neural networks, allowing us to **go deeper**."
   ]
  },
  {
   "cell_type": "markdown",
   "metadata": {},
   "source": [
    "## MNIST and convolutional networks\n",
    "\n",
    "Let's begin by loading the MNIST data again."
   ]
  },
  {
   "cell_type": "code",
   "execution_count": 1,
   "metadata": {},
   "outputs": [
    {
     "name": "stdout",
     "output_type": "stream",
     "text": [
      "Requirement already satisfied: tensorflow in /opt/conda/lib/python3.7/site-packages (2.2.0)\n",
      "Requirement already satisfied: protobuf>=3.8.0 in /opt/conda/lib/python3.7/site-packages (from tensorflow) (3.11.4)\n",
      "Requirement already satisfied: astunparse==1.6.3 in /opt/conda/lib/python3.7/site-packages (from tensorflow) (1.6.3)\n",
      "Requirement already satisfied: six>=1.12.0 in /opt/conda/lib/python3.7/site-packages (from tensorflow) (1.14.0)\n",
      "Requirement already satisfied: tensorboard<2.3.0,>=2.2.0 in /opt/conda/lib/python3.7/site-packages (from tensorflow) (2.2.2)\n",
      "Requirement already satisfied: tensorflow-estimator<2.3.0,>=2.2.0 in /opt/conda/lib/python3.7/site-packages (from tensorflow) (2.2.0)\n",
      "Requirement already satisfied: gast==0.3.3 in /opt/conda/lib/python3.7/site-packages (from tensorflow) (0.3.3)\n",
      "Requirement already satisfied: absl-py>=0.7.0 in /opt/conda/lib/python3.7/site-packages (from tensorflow) (0.9.0)\n",
      "Requirement already satisfied: h5py<2.11.0,>=2.10.0 in /opt/conda/lib/python3.7/site-packages (from tensorflow) (2.10.0)\n",
      "Requirement already satisfied: wheel>=0.26; python_version >= \"3\" in /opt/conda/lib/python3.7/site-packages (from tensorflow) (0.34.2)\n",
      "Requirement already satisfied: termcolor>=1.1.0 in /opt/conda/lib/python3.7/site-packages (from tensorflow) (1.1.0)\n",
      "Requirement already satisfied: numpy<2.0,>=1.16.0 in /opt/conda/lib/python3.7/site-packages (from tensorflow) (1.18.1)\n",
      "Requirement already satisfied: wrapt>=1.11.1 in /opt/conda/lib/python3.7/site-packages (from tensorflow) (1.12.1)\n",
      "Requirement already satisfied: google-pasta>=0.1.8 in /opt/conda/lib/python3.7/site-packages (from tensorflow) (0.2.0)\n",
      "Requirement already satisfied: opt-einsum>=2.3.2 in /opt/conda/lib/python3.7/site-packages (from tensorflow) (3.2.1)\n",
      "Requirement already satisfied: grpcio>=1.8.6 in /opt/conda/lib/python3.7/site-packages (from tensorflow) (1.29.0)\n",
      "Requirement already satisfied: scipy==1.4.1; python_version >= \"3\" in /opt/conda/lib/python3.7/site-packages (from tensorflow) (1.4.1)\n",
      "Requirement already satisfied: keras-preprocessing>=1.1.0 in /opt/conda/lib/python3.7/site-packages (from tensorflow) (1.1.2)\n",
      "Requirement already satisfied: setuptools in /opt/conda/lib/python3.7/site-packages (from protobuf>=3.8.0->tensorflow) (46.0.0.post20200311)\n",
      "Requirement already satisfied: werkzeug>=0.11.15 in /opt/conda/lib/python3.7/site-packages (from tensorboard<2.3.0,>=2.2.0->tensorflow) (1.0.1)\n",
      "Requirement already satisfied: requests<3,>=2.21.0 in /opt/conda/lib/python3.7/site-packages (from tensorboard<2.3.0,>=2.2.0->tensorflow) (2.23.0)\n",
      "Requirement already satisfied: markdown>=2.6.8 in /opt/conda/lib/python3.7/site-packages (from tensorboard<2.3.0,>=2.2.0->tensorflow) (3.2.2)\n",
      "Requirement already satisfied: google-auth-oauthlib<0.5,>=0.4.1 in /opt/conda/lib/python3.7/site-packages (from tensorboard<2.3.0,>=2.2.0->tensorflow) (0.4.1)\n",
      "Requirement already satisfied: google-auth<2,>=1.6.3 in /opt/conda/lib/python3.7/site-packages (from tensorboard<2.3.0,>=2.2.0->tensorflow) (1.17.2)\n",
      "Requirement already satisfied: tensorboard-plugin-wit>=1.6.0 in /opt/conda/lib/python3.7/site-packages (from tensorboard<2.3.0,>=2.2.0->tensorflow) (1.6.0.post3)\n",
      "Requirement already satisfied: urllib3!=1.25.0,!=1.25.1,<1.26,>=1.21.1 in /opt/conda/lib/python3.7/site-packages (from requests<3,>=2.21.0->tensorboard<2.3.0,>=2.2.0->tensorflow) (1.25.7)\n",
      "Requirement already satisfied: chardet<4,>=3.0.2 in /opt/conda/lib/python3.7/site-packages (from requests<3,>=2.21.0->tensorboard<2.3.0,>=2.2.0->tensorflow) (3.0.4)\n",
      "Requirement already satisfied: certifi>=2017.4.17 in /opt/conda/lib/python3.7/site-packages (from requests<3,>=2.21.0->tensorboard<2.3.0,>=2.2.0->tensorflow) (2019.11.28)\n",
      "Requirement already satisfied: idna<3,>=2.5 in /opt/conda/lib/python3.7/site-packages (from requests<3,>=2.21.0->tensorboard<2.3.0,>=2.2.0->tensorflow) (2.9)\n",
      "Requirement already satisfied: importlib-metadata; python_version < \"3.8\" in /opt/conda/lib/python3.7/site-packages (from markdown>=2.6.8->tensorboard<2.3.0,>=2.2.0->tensorflow) (1.5.0)\n",
      "Requirement already satisfied: requests-oauthlib>=0.7.0 in /opt/conda/lib/python3.7/site-packages (from google-auth-oauthlib<0.5,>=0.4.1->tensorboard<2.3.0,>=2.2.0->tensorflow) (1.3.0)\n",
      "Requirement already satisfied: pyasn1-modules>=0.2.1 in /opt/conda/lib/python3.7/site-packages (from google-auth<2,>=1.6.3->tensorboard<2.3.0,>=2.2.0->tensorflow) (0.2.8)\n",
      "Requirement already satisfied: rsa<5,>=3.1.4; python_version >= \"3\" in /opt/conda/lib/python3.7/site-packages (from google-auth<2,>=1.6.3->tensorboard<2.3.0,>=2.2.0->tensorflow) (4.6)\n",
      "Requirement already satisfied: cachetools<5.0,>=2.0.0 in /opt/conda/lib/python3.7/site-packages (from google-auth<2,>=1.6.3->tensorboard<2.3.0,>=2.2.0->tensorflow) (4.1.0)\n",
      "Requirement already satisfied: zipp>=0.5 in /opt/conda/lib/python3.7/site-packages (from importlib-metadata; python_version < \"3.8\"->markdown>=2.6.8->tensorboard<2.3.0,>=2.2.0->tensorflow) (3.1.0)\n",
      "Requirement already satisfied: oauthlib>=3.0.0 in /opt/conda/lib/python3.7/site-packages (from requests-oauthlib>=0.7.0->google-auth-oauthlib<0.5,>=0.4.1->tensorboard<2.3.0,>=2.2.0->tensorflow) (3.0.1)\n",
      "Requirement already satisfied: pyasn1<0.5.0,>=0.4.6 in /opt/conda/lib/python3.7/site-packages (from pyasn1-modules>=0.2.1->google-auth<2,>=1.6.3->tensorboard<2.3.0,>=2.2.0->tensorflow) (0.4.8)\n"
     ]
    }
   ],
   "source": [
    "!pip install tensorflow"
   ]
  },
  {
   "cell_type": "code",
   "execution_count": 2,
   "metadata": {},
   "outputs": [
    {
     "name": "stdout",
     "output_type": "stream",
     "text": [
      "Downloading data from https://storage.googleapis.com/tensorflow/tf-keras-datasets/mnist.npz\n",
      "11493376/11490434 [==============================] - 1s 0us/step\n"
     ]
    }
   ],
   "source": [
    "import numpy as np\n",
    "import tensorflow as tf\n",
    "from tensorflow import keras\n",
    "\n",
    "from tensorflow.keras.datasets import mnist\n",
    "(X_train, y_train), (X_test, y_test) = mnist.load_data()"
   ]
  },
  {
   "cell_type": "code",
   "execution_count": 3,
   "metadata": {},
   "outputs": [],
   "source": [
    "# from tensorflow.keras.utils import to_categorical\n",
    "# y_train_onehot = to_categorical(y_train, num_classes = 10)\n",
    "# y_test_onehot = keras.utils.to_categorical(y_test, num_classes = 10)"
   ]
  },
  {
   "cell_type": "markdown",
   "metadata": {},
   "source": [
    "The following helper function will later be used to plot the training and validation data accuracy and loss for the models we train."
   ]
  },
  {
   "cell_type": "code",
   "execution_count": 4,
   "metadata": {},
   "outputs": [],
   "source": [
    "import os\n",
    "import matplotlib.pyplot as plt\n",
    "\n",
    "def plot_train_test_performance(model):\n",
    "\n",
    "    fig = plt.figure(figsize = [10, 10])\n",
    "    plt.subplot(2,1,1)\n",
    "    plt.plot(model.history.history['accuracy'])\n",
    "    plt.plot(model.history.history['val_accuracy'])\n",
    "    plt.title('model accuracy')\n",
    "    plt.ylabel('accuracy')\n",
    "    plt.xlabel('epoch')\n",
    "    plt.legend(['train', 'validation'], loc = 'lower right')\n",
    "\n",
    "    plt.subplot(2,1,2)\n",
    "    plt.plot(model.history.history['loss'])\n",
    "    plt.plot(model.history.history['val_loss'])\n",
    "    plt.title('model loss')\n",
    "    plt.ylabel('loss')\n",
    "    plt.xlabel('epoch')\n",
    "    plt.legend(['train', 'validation'], loc = 'upper right')\n",
    "    plt.tight_layout()\n",
    "    \n"
   ]
  },
  {
   "cell_type": "markdown",
   "metadata": {},
   "source": [
    "The 2D convolutional neural networks we work with here expect the input data to be images. However, images are usually not 2D objects but 3D objects: the first two dimensions encode the size of the image, and the third dimension is for the **channel**. For example, a colored image oncoded as **RGB** (red, green, blue) has three channels. A greyscale image like the ones in the MNIST dataset have only one channel, but we still need the data to be 3D. Of course, the dataset itself then needs another dimension for the training example. This means our data has the following dimensionality:\n",
    "\n",
    "$$\\text{training examples} \\times \\text{row pixels} \\times \\text{column pixels} \\times \\text{channel}$$\n",
    "\n",
    "We need to make sure that our data abides by the dimensionality above, and we use `reshape` for that. We also normalize the data as we did in the previous lecture by dividing the pixel values by 255 so the pixel values are between 0 and 1."
   ]
  },
  {
   "cell_type": "code",
   "execution_count": 5,
   "metadata": {},
   "outputs": [
    {
     "name": "stdout",
     "output_type": "stream",
     "text": [
      "x_train shape (before): (60000, 28, 28)\n",
      "x_test shape (before): (10000, 28, 28)\n",
      "x_train shape (after): (60000, 28, 28, 1)\n",
      "x_test shape (after): (10000, 28, 28, 1)\n"
     ]
    }
   ],
   "source": [
    "print('x_train shape (before):', X_train.shape)\n",
    "print('x_test shape (before):', X_test.shape)\n",
    "\n",
    "X_train = X_train.reshape(-1, 28, 28, 1)\n",
    "X_test = X_test.reshape(-1, 28, 28, 1)\n",
    "\n",
    "print('x_train shape (after):', X_train.shape)\n",
    "print('x_test shape (after):', X_test.shape)\n",
    "\n",
    "X_train = X_train.astype('float32')\n",
    "X_test = X_test.astype('float32')\n",
    "X_train /= 255\n",
    "X_test /= 255"
   ]
  },
  {
   "cell_type": "markdown",
   "metadata": {},
   "source": [
    "As usual, before training a new model, let's first train a baseline model so we can compare performances. As our baseline, we choose a neural network with only a single hidden layer with 128 neurons in it."
   ]
  },
  {
   "cell_type": "code",
   "execution_count": 6,
   "metadata": {},
   "outputs": [],
   "source": [
    "model_baseline = keras.models.Sequential([\n",
    "    tf.keras.layers.Flatten(input_shape = (28, 28, 1)),\n",
    "    tf.keras.layers.Dense(128,activation = 'relu'),\n",
    "    tf.keras.layers.Dense(64,activation = 'relu'),\n",
    "    tf.keras.layers.Dense(10, activation = 'softmax')\n",
    "])"
   ]
  },
  {
   "cell_type": "markdown",
   "metadata": {},
   "source": [
    "We now compile our model. To speed up the training, we use the Adam optimizer, which is more efficient than vanilla SGD."
   ]
  },
  {
   "cell_type": "code",
   "execution_count": 7,
   "metadata": {},
   "outputs": [],
   "source": [
    "model_baseline.compile(\n",
    "    loss = 'sparse_categorical_crossentropy',\n",
    "    optimizer = tf.keras.optimizers.Adam(0.01),\n",
    "    metrics = ['accuracy'],\n",
    ")"
   ]
  },
  {
   "cell_type": "markdown",
   "metadata": {},
   "source": [
    "We now train our model, specifying a mini-batch size of 128 and a total of 20 epochs."
   ]
  },
  {
   "cell_type": "code",
   "execution_count": 8,
   "metadata": {},
   "outputs": [
    {
     "name": "stdout",
     "output_type": "stream",
     "text": [
      "Epoch 1/20\n",
      "469/469 [==============================] - 1s 3ms/step - loss: 0.2349 - accuracy: 0.9282 - val_loss: 0.1409 - val_accuracy: 0.9574\n",
      "Epoch 2/20\n",
      "469/469 [==============================] - 1s 3ms/step - loss: 0.1209 - accuracy: 0.9640 - val_loss: 0.1106 - val_accuracy: 0.9681\n",
      "Epoch 3/20\n",
      "469/469 [==============================] - 1s 3ms/step - loss: 0.0982 - accuracy: 0.9708 - val_loss: 0.1053 - val_accuracy: 0.9702\n",
      "Epoch 4/20\n",
      "469/469 [==============================] - 1s 3ms/step - loss: 0.0861 - accuracy: 0.9745 - val_loss: 0.1272 - val_accuracy: 0.9633\n",
      "Epoch 5/20\n",
      "469/469 [==============================] - 1s 3ms/step - loss: 0.0787 - accuracy: 0.9760 - val_loss: 0.1265 - val_accuracy: 0.9666\n",
      "Epoch 6/20\n",
      "469/469 [==============================] - 1s 3ms/step - loss: 0.0723 - accuracy: 0.9788 - val_loss: 0.1510 - val_accuracy: 0.9606\n",
      "Epoch 7/20\n",
      "469/469 [==============================] - 1s 3ms/step - loss: 0.0705 - accuracy: 0.9788 - val_loss: 0.1380 - val_accuracy: 0.9642\n",
      "Epoch 8/20\n",
      "469/469 [==============================] - 1s 3ms/step - loss: 0.0692 - accuracy: 0.9805 - val_loss: 0.1250 - val_accuracy: 0.9688\n",
      "Epoch 9/20\n",
      "469/469 [==============================] - 2s 3ms/step - loss: 0.0600 - accuracy: 0.9830 - val_loss: 0.1355 - val_accuracy: 0.9702\n",
      "Epoch 10/20\n",
      "469/469 [==============================] - 1s 3ms/step - loss: 0.0642 - accuracy: 0.9819 - val_loss: 0.1383 - val_accuracy: 0.9671\n",
      "Epoch 11/20\n",
      "469/469 [==============================] - 1s 3ms/step - loss: 0.0541 - accuracy: 0.9846 - val_loss: 0.1298 - val_accuracy: 0.9714\n",
      "Epoch 12/20\n",
      "469/469 [==============================] - 1s 3ms/step - loss: 0.0600 - accuracy: 0.9831 - val_loss: 0.1484 - val_accuracy: 0.9702\n",
      "Epoch 13/20\n",
      "469/469 [==============================] - 1s 2ms/step - loss: 0.0568 - accuracy: 0.9843 - val_loss: 0.1523 - val_accuracy: 0.9684\n",
      "Epoch 14/20\n",
      "469/469 [==============================] - 1s 3ms/step - loss: 0.0484 - accuracy: 0.9866 - val_loss: 0.1790 - val_accuracy: 0.9669\n",
      "Epoch 15/20\n",
      "469/469 [==============================] - 1s 3ms/step - loss: 0.0479 - accuracy: 0.9871 - val_loss: 0.1528 - val_accuracy: 0.9724\n",
      "Epoch 16/20\n",
      "469/469 [==============================] - 1s 2ms/step - loss: 0.0552 - accuracy: 0.9858 - val_loss: 0.1745 - val_accuracy: 0.9676\n",
      "Epoch 17/20\n",
      "469/469 [==============================] - 1s 2ms/step - loss: 0.0563 - accuracy: 0.9857 - val_loss: 0.1532 - val_accuracy: 0.9727\n",
      "Epoch 18/20\n",
      "469/469 [==============================] - 1s 3ms/step - loss: 0.0450 - accuracy: 0.9886 - val_loss: 0.1543 - val_accuracy: 0.9736\n",
      "Epoch 19/20\n",
      "469/469 [==============================] - 1s 2ms/step - loss: 0.0373 - accuracy: 0.9899 - val_loss: 0.1778 - val_accuracy: 0.9755\n",
      "Epoch 20/20\n",
      "469/469 [==============================] - 1s 2ms/step - loss: 0.0441 - accuracy: 0.9885 - val_loss: 0.1689 - val_accuracy: 0.9738\n"
     ]
    },
    {
     "data": {
      "text/plain": [
       "<tensorflow.python.keras.callbacks.History at 0x7fecb5d6a750>"
      ]
     },
     "execution_count": 8,
     "metadata": {},
     "output_type": "execute_result"
    }
   ],
   "source": [
    "model_baseline.fit(\n",
    "    X_train, \n",
    "    y_train, \n",
    "    batch_size = 128,\n",
    "    epochs = 20,\n",
    "    verbose = 1,\n",
    "    validation_data = (X_test, y_test)\n",
    ")"
   ]
  },
  {
   "cell_type": "markdown",
   "metadata": {},
   "source": [
    "And we now plot accuracy and loss for the training and validation data, epoch by epoch."
   ]
  },
  {
   "cell_type": "code",
   "execution_count": 21,
   "metadata": {},
   "outputs": [
    {
     "data": {
      "image/png": "[encoded data removed]",
      "text/plain": [
       "<Figure size 720x720 with 2 Axes>"
      ]
     },
     "metadata": {
      "needs_background": "light"
     },
     "output_type": "display_data"
    }
   ],
   "source": [
    "plot_train_test_performance(model_baseline)"
   ]
  },
  {
   "cell_type": "markdown",
   "metadata": {},
   "source": [
    "Time to train a convolutional neural network. Foretunately, there's very little we need to change in the code: The only changes show up in the architecture of the model, where we now use `Conv2D` and `MaxPool2D` layers initially. Note that the flat layers don't disappear. Instead they get pushed to the end of the network."
   ]
  },
  {
   "cell_type": "code",
   "execution_count": 31,
   "metadata": {},
   "outputs": [
    {
     "name": "stdout",
     "output_type": "stream",
     "text": [
      "Epoch 1/20\n",
      "469/469 [==============================] - 21s 45ms/step - loss: 0.1405 - accuracy: 0.9566 - val_loss: 0.0675 - val_accuracy: 0.9778\n",
      "Epoch 2/20\n",
      "469/469 [==============================] - 22s 47ms/step - loss: 0.0519 - accuracy: 0.9840 - val_loss: 0.0546 - val_accuracy: 0.9833\n",
      "Epoch 3/20\n",
      "469/469 [==============================] - 21s 45ms/step - loss: 0.0350 - accuracy: 0.9891 - val_loss: 0.0785 - val_accuracy: 0.9812\n",
      "Epoch 4/20\n",
      "469/469 [==============================] - 21s 45ms/step - loss: 0.0274 - accuracy: 0.9908 - val_loss: 0.0962 - val_accuracy: 0.9751\n",
      "Epoch 5/20\n",
      "469/469 [==============================] - 20s 43ms/step - loss: 0.0256 - accuracy: 0.9918 - val_loss: 0.0717 - val_accuracy: 0.9828\n",
      "Epoch 6/20\n",
      "469/469 [==============================] - 21s 44ms/step - loss: 0.0262 - accuracy: 0.9919 - val_loss: 0.0864 - val_accuracy: 0.9793\n",
      "Epoch 7/20\n",
      "469/469 [==============================] - 20s 43ms/step - loss: 0.0151 - accuracy: 0.9950 - val_loss: 0.0924 - val_accuracy: 0.9829\n",
      "Epoch 8/20\n",
      "469/469 [==============================] - 21s 44ms/step - loss: 0.0201 - accuracy: 0.9938 - val_loss: 0.0900 - val_accuracy: 0.9812\n",
      "Epoch 9/20\n",
      "469/469 [==============================] - 21s 44ms/step - loss: 0.0208 - accuracy: 0.9941 - val_loss: 0.1005 - val_accuracy: 0.9813\n",
      "Epoch 10/20\n",
      "469/469 [==============================] - 21s 44ms/step - loss: 0.0130 - accuracy: 0.9961 - val_loss: 0.1170 - val_accuracy: 0.9799\n",
      "Epoch 11/20\n",
      "469/469 [==============================] - 20s 43ms/step - loss: 0.0170 - accuracy: 0.9950 - val_loss: 0.1340 - val_accuracy: 0.9794\n",
      "Epoch 12/20\n",
      "469/469 [==============================] - 21s 46ms/step - loss: 0.0209 - accuracy: 0.9944 - val_loss: 0.1208 - val_accuracy: 0.9835\n",
      "Epoch 13/20\n",
      "469/469 [==============================] - 21s 44ms/step - loss: 0.0131 - accuracy: 0.9965 - val_loss: 0.1062 - val_accuracy: 0.9846\n",
      "Epoch 14/20\n",
      "469/469 [==============================] - 21s 45ms/step - loss: 0.0122 - accuracy: 0.9968 - val_loss: 0.1113 - val_accuracy: 0.9831\n",
      "Epoch 15/20\n",
      "469/469 [==============================] - 20s 43ms/step - loss: 0.0236 - accuracy: 0.9950 - val_loss: 0.1184 - val_accuracy: 0.9834\n",
      "Epoch 16/20\n",
      "469/469 [==============================] - 21s 45ms/step - loss: 0.0134 - accuracy: 0.9968 - val_loss: 0.1487 - val_accuracy: 0.9815\n",
      "Epoch 17/20\n",
      "469/469 [==============================] - 22s 47ms/step - loss: 0.0144 - accuracy: 0.9967 - val_loss: 0.1742 - val_accuracy: 0.9820\n",
      "Epoch 18/20\n",
      "469/469 [==============================] - 21s 45ms/step - loss: 0.0152 - accuracy: 0.9968 - val_loss: 0.2128 - val_accuracy: 0.9814\n",
      "Epoch 19/20\n",
      "469/469 [==============================] - 21s 45ms/step - loss: 0.0136 - accuracy: 0.9971 - val_loss: 0.2341 - val_accuracy: 0.9800\n",
      "Epoch 20/20\n",
      "469/469 [==============================] - 19s 40ms/step - loss: 0.0169 - accuracy: 0.9969 - val_loss: 0.2447 - val_accuracy: 0.9794\n"
     ]
    },
    {
     "data": {
      "text/plain": [
       "<tensorflow.python.keras.callbacks.History at 0x7f06ac270310>"
      ]
     },
     "execution_count": 31,
     "metadata": {},
     "output_type": "execute_result"
    }
   ],
   "source": [
    "model_cnn = tf.keras.models.Sequential([\n",
    "  tf.keras.layers.Conv2D(32, (3, 3), padding = 'same', activation = 'relu', input_shape = (28, 28, 1)),\n",
    "  tf.keras.layers.MaxPool2D((2, 2)),\n",
    "  # tf.keras.layers.Conv2D(64, (3, 3), padding = 'same', activation = 'relu'),\n",
    "  # tf.keras.layers.MaxPool2D((2, 2)),\n",
    "  tf.keras.layers.Flatten(),\n",
    "  tf.keras.layers.Dense(64, activation = 'relu'),\n",
    "  tf.keras.layers.Dense(10, activation = 'softmax')\n",
    "])\n",
    "\n",
    "model_cnn.compile(\n",
    "    loss = 'sparse_categorical_crossentropy',\n",
    "    optimizer = tf.keras.optimizers.Adam(0.01),\n",
    "    metrics = ['accuracy'],\n",
    ")\n",
    "\n",
    "model_cnn.fit(\n",
    "    X_train, \n",
    "    y_train, \n",
    "    batch_size = 128,\n",
    "    epochs = 20,\n",
    "    verbose = 1,\n",
    "    validation_data = (X_test, y_test)\n",
    ")"
   ]
  },
  {
   "cell_type": "code",
   "execution_count": null,
   "metadata": {},
   "outputs": [],
   "source": [
    "plot_train_test_performance(model_cnn)"
   ]
  },
  {
   "cell_type": "markdown",
   "metadata": {},
   "source": [
    "### Exercise\n",
    "\n",
    "- Train the model for another two epochs by copying and pasting the **training portion** of the code above in the cell below. What is the starting accuracy at epoch 1? What does this tell you about the model?"
   ]
  },
  {
   "cell_type": "code",
   "execution_count": 32,
   "metadata": {},
   "outputs": [
    {
     "name": "stdout",
     "output_type": "stream",
     "text": [
      "Epoch 1/22\n",
      "469/469 [==============================] - 21s 46ms/step - loss: 0.0185 - accuracy: 0.9968 - val_loss: 0.1887 - val_accuracy: 0.9816\n",
      "Epoch 2/22\n",
      "469/469 [==============================] - 20s 44ms/step - loss: 0.0083 - accuracy: 0.9984 - val_loss: 0.2151 - val_accuracy: 0.9817\n",
      "Epoch 3/22\n",
      "469/469 [==============================] - 21s 46ms/step - loss: 0.0090 - accuracy: 0.9981 - val_loss: 0.2541 - val_accuracy: 0.9811\n",
      "Epoch 4/22\n",
      "469/469 [==============================] - 22s 46ms/step - loss: 0.0189 - accuracy: 0.9970 - val_loss: 0.2067 - val_accuracy: 0.9818\n",
      "Epoch 5/22\n",
      "469/469 [==============================] - 20s 42ms/step - loss: 0.0195 - accuracy: 0.9965 - val_loss: 0.2779 - val_accuracy: 0.9809\n",
      "Epoch 6/22\n",
      "469/469 [==============================] - 20s 42ms/step - loss: 0.0193 - accuracy: 0.9969 - val_loss: 0.2196 - val_accuracy: 0.9835\n",
      "Epoch 7/22\n",
      "469/469 [==============================] - 21s 44ms/step - loss: 0.0087 - accuracy: 0.9985 - val_loss: 0.2328 - val_accuracy: 0.9837\n",
      "Epoch 8/22\n",
      "469/469 [==============================] - 21s 44ms/step - loss: 0.0156 - accuracy: 0.9976 - val_loss: 0.2588 - val_accuracy: 0.9844\n",
      "Epoch 9/22\n",
      "469/469 [==============================] - 21s 44ms/step - loss: 0.0152 - accuracy: 0.9977 - val_loss: 0.3022 - val_accuracy: 0.9837\n",
      "Epoch 10/22\n",
      "469/469 [==============================] - 21s 45ms/step - loss: 0.0117 - accuracy: 0.9983 - val_loss: 0.2707 - val_accuracy: 0.9832\n",
      "Epoch 11/22\n",
      "469/469 [==============================] - 21s 45ms/step - loss: 0.0163 - accuracy: 0.9978 - val_loss: 0.3392 - val_accuracy: 0.9827\n",
      "Epoch 12/22\n",
      "469/469 [==============================] - 22s 46ms/step - loss: 0.0173 - accuracy: 0.9977 - val_loss: 0.2507 - val_accuracy: 0.9851\n",
      "Epoch 13/22\n",
      "469/469 [==============================] - 21s 44ms/step - loss: 0.0144 - accuracy: 0.9978 - val_loss: 0.3431 - val_accuracy: 0.9829\n",
      "Epoch 14/22\n",
      "469/469 [==============================] - 21s 45ms/step - loss: 0.0198 - accuracy: 0.9976 - val_loss: 0.3572 - val_accuracy: 0.9841\n",
      "Epoch 15/22\n",
      "469/469 [==============================] - 21s 44ms/step - loss: 0.0149 - accuracy: 0.9980 - val_loss: 0.3875 - val_accuracy: 0.9832\n",
      "Epoch 16/22\n",
      "469/469 [==============================] - 23s 48ms/step - loss: 0.0149 - accuracy: 0.9983 - val_loss: 0.3627 - val_accuracy: 0.9831\n",
      "Epoch 17/22\n",
      "469/469 [==============================] - 21s 44ms/step - loss: 0.0149 - accuracy: 0.9984 - val_loss: 0.3874 - val_accuracy: 0.9831\n",
      "Epoch 18/22\n",
      "469/469 [==============================] - 20s 43ms/step - loss: 0.0137 - accuracy: 0.9983 - val_loss: 0.3445 - val_accuracy: 0.9827\n",
      "Epoch 19/22\n",
      "469/469 [==============================] - 24s 52ms/step - loss: 0.0099 - accuracy: 0.9987 - val_loss: 0.3080 - val_accuracy: 0.9851\n",
      "Epoch 20/22\n",
      "469/469 [==============================] - 32s 68ms/step - loss: 0.0141 - accuracy: 0.9985 - val_loss: 0.3515 - val_accuracy: 0.9839\n",
      "Epoch 21/22\n",
      "469/469 [==============================] - 31s 66ms/step - loss: 0.0164 - accuracy: 0.9982 - val_loss: 0.3925 - val_accuracy: 0.9840\n",
      "Epoch 22/22\n",
      "469/469 [==============================] - 30s 65ms/step - loss: 0.0189 - accuracy: 0.9982 - val_loss: 0.4388 - val_accuracy: 0.9837\n"
     ]
    },
    {
     "data": {
      "text/plain": [
       "<tensorflow.python.keras.callbacks.History at 0x7f0690779e10>"
      ]
     },
     "execution_count": 32,
     "metadata": {},
     "output_type": "execute_result"
    }
   ],
   "source": [
    "model_cnn.fit(\n",
    "    X_train, \n",
    "    y_train, \n",
    "    batch_size = 128,\n",
    "    epochs = 22,\n",
    "    verbose = 1,\n",
    "    validation_data = (X_test, y_test)\n",
    ")"
   ]
  },
  {
   "cell_type": "markdown",
   "metadata": {},
   "source": [
    "When you create a model with `keras`, assuming your model is called `model`, you can use `model.summary()` to print some useful information about the model. You can print the model summary prior to training, in order to have an idea of the complexity of the model.\n",
    "\n",
    "- Print the model summary for both the dense neural network and the CNN we trained above. How many parameters do each have?"
   ]
  },
  {
   "cell_type": "code",
   "execution_count": 35,
   "metadata": {},
   "outputs": [
    {
     "name": "stdout",
     "output_type": "stream",
     "text": [
      "Model: \"sequential_4\"\n",
      "_________________________________________________________________\n",
      "Layer (type)                 Output Shape              Param #   \n",
      "=================================================================\n",
      "flatten_4 (Flatten)          (None, 784)               0         \n",
      "_________________________________________________________________\n",
      "dense_9 (Dense)              (None, 128)               100480    \n",
      "_________________________________________________________________\n",
      "dense_10 (Dense)             (None, 64)                8256      \n",
      "_________________________________________________________________\n",
      "dense_11 (Dense)             (None, 10)                650       \n",
      "=================================================================\n",
      "Total params: 109,386\n",
      "Trainable params: 109,386\n",
      "Non-trainable params: 0\n",
      "_________________________________________________________________\n"
     ]
    }
   ],
   "source": [
    "model_baseline.summary()"
   ]
  },
  {
   "cell_type": "code",
   "execution_count": 36,
   "metadata": {},
   "outputs": [
    {
     "name": "stdout",
     "output_type": "stream",
     "text": [
      "Model: \"sequential_5\"\n",
      "_________________________________________________________________\n",
      "Layer (type)                 Output Shape              Param #   \n",
      "=================================================================\n",
      "conv2d_3 (Conv2D)            (None, 28, 28, 32)        320       \n",
      "_________________________________________________________________\n",
      "max_pooling2d_3 (MaxPooling2 (None, 14, 14, 32)        0         \n",
      "_________________________________________________________________\n",
      "flatten_5 (Flatten)          (None, 6272)              0         \n",
      "_________________________________________________________________\n",
      "dense_12 (Dense)             (None, 64)                401472    \n",
      "_________________________________________________________________\n",
      "dense_13 (Dense)             (None, 10)                650       \n",
      "=================================================================\n",
      "Total params: 402,442\n",
      "Trainable params: 402,442\n",
      "Non-trainable params: 0\n",
      "_________________________________________________________________\n"
     ]
    }
   ],
   "source": [
    "model_cnn.summary()"
   ]
  },
  {
   "cell_type": "markdown",
   "metadata": {},
   "source": [
    "### End of exercise"
   ]
  },
  {
   "cell_type": "markdown",
   "metadata": {},
   "source": [
    "If we wanted to save the trained model we can use the `save_weights` method. This is useful in case we (1) need to later train the model further, (2) fine-tune the model to a more specific task (called transfer learning), or (3) load the model in a scoring environment to get predictions."
   ]
  },
  {
   "cell_type": "code",
   "execution_count": 38,
   "metadata": {},
   "outputs": [
    {
     "name": "stdout",
     "output_type": "stream",
     "text": [
      "Saved model to disk\n"
     ]
    }
   ],
   "source": [
    "model_cnn.save_weights(\"model_digit.h5\")\n",
    "print(\"Saved model to disk\")"
   ]
  },
  {
   "cell_type": "markdown",
   "metadata": {},
   "source": [
    "# IMBD and recurrent networks"
   ]
  },
  {
   "cell_type": "markdown",
   "metadata": {},
   "source": [
    "We now shift focus to recurrent neural networks. Recurrent networks become sort of demystified once we realize that they are just a regular neural network unrolled. Using `keras` we don't have to manually do the unrolling: the details are handled under the hood.\n",
    "\n",
    "For the next example, we use the IMDB dataset which consists of 25000 **movie reviews** for training and 25000 for testing. The label is the user's **sentiment** about the movie: positive or negative. We use recurrent neural networks to train a binary classifier to do sentiment analysis."
   ]
  },
  {
   "cell_type": "code",
   "execution_count": 39,
   "metadata": {},
   "outputs": [],
   "source": [
    "imbd = tf.keras.datasets.imdb"
   ]
  },
  {
   "cell_type": "markdown",
   "metadata": {},
   "source": [
    "After loading the data, we will split it into trining and testing. Note that we can decide the size of the corpus to use. This can be handy when we need to try our code and want to keep computations under control. By specifying for example to use a corpus with 10,000 words, we limit the reviews to use the most common 10,000 words. As we will later see, any word in the review that doesn't make the cut is replaced by a generic `<UNK>` marker."
   ]
  },
  {
   "cell_type": "code",
   "execution_count": 40,
   "metadata": {},
   "outputs": [
    {
     "name": "stdout",
     "output_type": "stream",
     "text": [
      "Downloading data from https://storage.googleapis.com/tensorflow/tf-keras-datasets/imdb.npz\n",
      "17465344/17464789 [==============================] - 1s 0us/step\n"
     ]
    }
   ],
   "source": [
    "num_of_words = 10000\n",
    "(x_train, y_train), (x_test, y_test) = imbd.load_data(num_words = num_of_words)"
   ]
  },
  {
   "cell_type": "markdown",
   "metadata": {},
   "source": [
    "We now check the first row of the data to see what it looks like."
   ]
  },
  {
   "cell_type": "code",
   "execution_count": 41,
   "metadata": {},
   "outputs": [
    {
     "name": "stdout",
     "output_type": "stream",
     "text": [
      "[1, 14, 22, 16, 43, 530, 973, 1622, 1385, 65, 458, 4468, 66, 3941, 4, 173, 36, 256, 5, 25, 100, 43, 838, 112, 50, 670, 2, 9, 35, 480, 284, 5, 150, 4, 172, 112, 167, 2, 336, 385, 39, 4, 172, 4536, 1111, 17, 546, 38, 13, 447, 4, 192, 50, 16, 6, 147, 2025, 19, 14, 22, 4, 1920, 4613, 469, 4, 22, 71, 87, 12, 16, 43, 530, 38, 76, 15, 13, 1247, 4, 22, 17, 515, 17, 12, 16, 626, 18, 2, 5, 62, 386, 12, 8, 316, 8, 106, 5, 4, 2223, 5244, 16, 480, 66, 3785, 33, 4, 130, 12, 16, 38, 619, 5, 25, 124, 51, 36, 135, 48, 25, 1415, 33, 6, 22, 12, 215, 28, 77, 52, 5, 14, 407, 16, 82, 2, 8, 4, 107, 117, 5952, 15, 256, 4, 2, 7, 3766, 5, 723, 36, 71, 43, 530, 476, 26, 400, 317, 46, 7, 4, 2, 1029, 13, 104, 88, 4, 381, 15, 297, 98, 32, 2071, 56, 26, 141, 6, 194, 7486, 18, 4, 226, 22, 21, 134, 476, 26, 480, 5, 144, 30, 5535, 18, 51, 36, 28, 224, 92, 25, 104, 4, 226, 65, 16, 38, 1334, 88, 12, 16, 283, 5, 16, 4472, 113, 103, 32, 15, 16, 5345, 19, 178, 32]\n",
      "1\n"
     ]
    }
   ],
   "source": [
    "print(x_train[0])\n",
    "print(y_train[0])"
   ]
  },
  {
   "cell_type": "markdown",
   "metadata": {},
   "source": [
    "That doesn't look much like a movie review, does it? The reason is that the data that keras is presenting us with has already been **pre-processed**, meaning that instead of looking at the raw movie review, each review has been turned into a numeric representation. One kind of representation we are already familiar with is one-hot-encoding. We can apply one-hot-encoding to this data too, and it would look like this:\n",
    "\n",
    "- get a list of all the unique words across **all** the reviews (we call this a **corpus**) and create dummy columns for each word\n",
    "- for each review let the word dummy column be 1 if the word is present in the review and 0 otherwise\n",
    "\n",
    "The problem with the above approach is that we end up with lots of dummy columns (one per word) and for any given review the majority of the encodings would be zero. One-hot encoding can still be a good idea, but we need to find a way to representing in a **sparse** format instead.\n",
    "\n",
    "One approach is to sort the corpus by most frequent to least frequent. We then index the words using this order, starting with index 1, so that the index 1 would encodes most frequent word in the corpus, 2 would be the second most frequent word, etc. We can download the **word to index dictionary** used by the IMBD data set to see this."
   ]
  },
  {
   "cell_type": "code",
   "execution_count": 42,
   "metadata": {},
   "outputs": [
    {
     "name": "stdout",
     "output_type": "stream",
     "text": [
      "Downloading data from https://storage.googleapis.com/tensorflow/tf-keras-datasets/imdb_word_index.json\n",
      "1646592/1641221 [==============================] - 0s 0us/step\n",
      "There are 88,584 in the corpus and indexing starts at 1.\n"
     ]
    }
   ],
   "source": [
    "word_to_index = tf.keras.datasets.imdb.get_word_index()\n",
    "print(\"There are {:,} in the corpus and indexing starts at {}.\".format(\n",
    "    len(word_to_index.keys()), min(word_to_index.values())))"
   ]
  },
  {
   "cell_type": "markdown",
   "metadata": {},
   "source": [
    "Let's print the word and index for the first 10 words. Note that `word_index` is a dictionary, so it is not necessarily sorted in the order of frequency."
   ]
  },
  {
   "cell_type": "code",
   "execution_count": 43,
   "metadata": {},
   "outputs": [
    {
     "name": "stdout",
     "output_type": "stream",
     "text": [
      "For word \"fawn\" \t the index is 34701.\n",
      "For word \"tsukino\" \t the index is 52006.\n",
      "For word \"nunnery\" \t the index is 52007.\n",
      "For word \"sonja\" \t the index is 16816.\n",
      "For word \"vani\" \t the index is 63951.\n",
      "For word \"woods\" \t the index is 1408.\n",
      "For word \"spiders\" \t the index is 16115.\n",
      "For word \"hanging\" \t the index is 2345.\n",
      "For word \"woody\" \t the index is 2289.\n",
      "For word \"trawling\" \t the index is 52008.\n"
     ]
    }
   ],
   "source": [
    "first_10_keys = list(word_to_index.keys())[:10]\n",
    "\n",
    "for k in first_10_keys:\n",
    "    print(f\"For word \\\"{k}\\\" \\t the index is {word_to_index[k]}.\")"
   ]
  },
  {
   "cell_type": "markdown",
   "metadata": {},
   "source": [
    "We now take this word to index and add a few more \"words\" to it. These are not really words, but markers that are used by the algorithm:\n",
    "\n",
    "By convention index 0 though 3 are reserved for the some special markers shown below. What these markers are will become clear later. We make room for these markers in the word to index dictionary by pushing the current indexes out."
   ]
  },
  {
   "cell_type": "code",
   "execution_count": 44,
   "metadata": {},
   "outputs": [],
   "source": [
    "word_to_index = {k:(v + 3) for k, v in word_to_index.items()}\n",
    "word_to_index[\"<PAD>\"] = 0\n",
    "word_to_index[\"<START>\"] = 1\n",
    "word_to_index[\"<UNK>\"] = 2\n",
    "word_to_index[\"<UNUSED>\"] = 3"
   ]
  },
  {
   "cell_type": "markdown",
   "metadata": {},
   "source": [
    "Let's now create a **reverse dictionary**, that is one where we switch keys and values."
   ]
  },
  {
   "cell_type": "code",
   "execution_count": 45,
   "metadata": {},
   "outputs": [],
   "source": [
    "index_to_word = {value: key for key, value in word_to_index.items()}"
   ]
  },
  {
   "cell_type": "code",
   "execution_count": 46,
   "metadata": {},
   "outputs": [
    {
     "name": "stdout",
     "output_type": "stream",
     "text": [
      "For index 0 the word is \"<PAD>\".\n",
      "For index 1 the word is \"<START>\".\n",
      "For index 2 the word is \"<UNK>\".\n",
      "For index 3 the word is \"<UNUSED>\".\n",
      "For index 4 the word is \"the\".\n",
      "For index 5 the word is \"and\".\n",
      "For index 6 the word is \"a\".\n",
      "For index 7 the word is \"of\".\n",
      "For index 8 the word is \"to\".\n",
      "For index 9 the word is \"is\".\n"
     ]
    }
   ],
   "source": [
    "for i in range(10):\n",
    "    print(f\"For index {i} the word is \\\"{index_to_word[i]}\\\".\")"
   ]
  },
  {
   "cell_type": "markdown",
   "metadata": {},
   "source": [
    "### Exercise\n",
    "\n",
    "Let's look at the first review in the data:"
   ]
  },
  {
   "cell_type": "code",
   "execution_count": 47,
   "metadata": {},
   "outputs": [
    {
     "name": "stdout",
     "output_type": "stream",
     "text": [
      "[1, 14, 22, 16, 43, 530, 973, 1622, 1385, 65, 458, 4468, 66, 3941, 4, 173, 36, 256, 5, 25, 100, 43, 838, 112, 50, 670, 2, 9, 35, 480, 284, 5, 150, 4, 172, 112, 167, 2, 336, 385, 39, 4, 172, 4536, 1111, 17, 546, 38, 13, 447, 4, 192, 50, 16, 6, 147, 2025, 19, 14, 22, 4, 1920, 4613, 469, 4, 22, 71, 87, 12, 16, 43, 530, 38, 76, 15, 13, 1247, 4, 22, 17, 515, 17, 12, 16, 626, 18, 2, 5, 62, 386, 12, 8, 316, 8, 106, 5, 4, 2223, 5244, 16, 480, 66, 3785, 33, 4, 130, 12, 16, 38, 619, 5, 25, 124, 51, 36, 135, 48, 25, 1415, 33, 6, 22, 12, 215, 28, 77, 52, 5, 14, 407, 16, 82, 2, 8, 4, 107, 117, 5952, 15, 256, 4, 2, 7, 3766, 5, 723, 36, 71, 43, 530, 476, 26, 400, 317, 46, 7, 4, 2, 1029, 13, 104, 88, 4, 381, 15, 297, 98, 32, 2071, 56, 26, 141, 6, 194, 7486, 18, 4, 226, 22, 21, 134, 476, 26, 480, 5, 144, 30, 5535, 18, 51, 36, 28, 224, 92, 25, 104, 4, 226, 65, 16, 38, 1334, 88, 12, 16, 283, 5, 16, 4472, 113, 103, 32, 15, 16, 5345, 19, 178, 32]\n"
     ]
    }
   ],
   "source": [
    "print(x_train[0])"
   ]
  },
  {
   "cell_type": "markdown",
   "metadata": {},
   "source": [
    "- Write a function named `decode_review` that takes as input a review like the above one and uses `index_to_word` to return the actual review as a string. "
   ]
  },
  {
   "cell_type": "code",
   "execution_count": 53,
   "metadata": {},
   "outputs": [],
   "source": [
    "def decode_review(indexes):\n",
    "    return ' '.join([index_to_word[i] for i in indexes])\n"
   ]
  },
  {
   "cell_type": "markdown",
   "metadata": {},
   "source": [
    "- We now decode the first review in the data using your function:"
   ]
  },
  {
   "cell_type": "code",
   "execution_count": 56,
   "metadata": {
    "scrolled": true
   },
   "outputs": [
    {
     "name": "stdout",
     "output_type": "stream",
     "text": [
      "<START> this film was just brilliant casting location scenery story direction everyone's really suited the part they played and you could just imagine being there robert <UNK> is an amazing actor and now the same being director <UNK> father came from the same scottish island as myself so i loved the fact there was a real connection with this film the witty remarks throughout the film were great it was just brilliant so much that i bought the film as soon as it was released for <UNK> and would recommend it to everyone to watch and the fly fishing was amazing really cried at the end it was so sad and you know what they say if you cry at a film it must have been good and this definitely was also <UNK> to the two little boy's that played the <UNK> of norman and paul they were just brilliant children are often left out of the <UNK> list i think because the stars that play them all grown up are such a big profile for the whole film but these children are amazing and should be praised for what they have done don't you think the whole story was so lovely because it was true and was someone's life after all that was shared with us all\n"
     ]
    }
   ],
   "source": [
    "print(decode_review(x_train[0]))"
   ]
  },
  {
   "cell_type": "markdown",
   "metadata": {},
   "source": [
    "- What do you think the presence of `<UNK>` in the review means?\n",
    "\n",
    "### End of exercise"
   ]
  },
  {
   "cell_type": "markdown",
   "metadata": {},
   "source": [
    "We saw how we need to force all images in a convolutional network to have a same size by choosing a size and then padding smaller images around the edges until they have the same size. We need to do the same with our reviews: we need to pick a maximum number of words a review can have, and (1) trim longer reviews and (2) pad shorter reviews. Foretunately, `keras` already has a function for doing that."
   ]
  },
  {
   "cell_type": "code",
   "execution_count": 57,
   "metadata": {},
   "outputs": [],
   "source": [
    "from tensorflow.keras.preprocessing.sequence import pad_sequences\n",
    "max_review_length = 300\n",
    "x_train_padded = pad_sequences(x_train, maxlen = max_review_length)\n",
    "x_test_padded = pad_sequences(x_test, maxlen = max_review_length)"
   ]
  },
  {
   "cell_type": "markdown",
   "metadata": {},
   "source": [
    "Let's see what the first review looks like once it's padded."
   ]
  },
  {
   "cell_type": "code",
   "execution_count": 58,
   "metadata": {},
   "outputs": [
    {
     "data": {
      "text/plain": [
       "array([   0,    0,    0,    0,    0,    0,    0,    0,    0,    0,    0,\n",
       "          0,    0,    0,    0,    0,    0,    0,    0,    0,    0,    0,\n",
       "          0,    0,    0,    0,    0,    0,    0,    0,    0,    0,    0,\n",
       "          0,    0,    0,    0,    0,    0,    0,    0,    0,    0,    0,\n",
       "          0,    0,    0,    0,    0,    0,    0,    0,    0,    0,    0,\n",
       "          0,    0,    0,    0,    0,    0,    0,    0,    0,    0,    0,\n",
       "          0,    0,    0,    0,    0,    0,    0,    0,    0,    0,    0,\n",
       "          0,    0,    0,    0,    0,    1,   14,   22,   16,   43,  530,\n",
       "        973, 1622, 1385,   65,  458, 4468,   66, 3941,    4,  173,   36,\n",
       "        256,    5,   25,  100,   43,  838,  112,   50,  670,    2,    9,\n",
       "         35,  480,  284,    5,  150,    4,  172,  112,  167,    2,  336,\n",
       "        385,   39,    4,  172, 4536, 1111,   17,  546,   38,   13,  447,\n",
       "          4,  192,   50,   16,    6,  147, 2025,   19,   14,   22,    4,\n",
       "       1920, 4613,  469,    4,   22,   71,   87,   12,   16,   43,  530,\n",
       "         38,   76,   15,   13, 1247,    4,   22,   17,  515,   17,   12,\n",
       "         16,  626,   18,    2,    5,   62,  386,   12,    8,  316,    8,\n",
       "        106,    5,    4, 2223, 5244,   16,  480,   66, 3785,   33,    4,\n",
       "        130,   12,   16,   38,  619,    5,   25,  124,   51,   36,  135,\n",
       "         48,   25, 1415,   33,    6,   22,   12,  215,   28,   77,   52,\n",
       "          5,   14,  407,   16,   82,    2,    8,    4,  107,  117, 5952,\n",
       "         15,  256,    4,    2,    7, 3766,    5,  723,   36,   71,   43,\n",
       "        530,  476,   26,  400,  317,   46,    7,    4,    2, 1029,   13,\n",
       "        104,   88,    4,  381,   15,  297,   98,   32, 2071,   56,   26,\n",
       "        141,    6,  194, 7486,   18,    4,  226,   22,   21,  134,  476,\n",
       "         26,  480,    5,  144,   30, 5535,   18,   51,   36,   28,  224,\n",
       "         92,   25,  104,    4,  226,   65,   16,   38, 1334,   88,   12,\n",
       "         16,  283,    5,   16, 4472,  113,  103,   32,   15,   16, 5345,\n",
       "         19,  178,   32], dtype=int32)"
      ]
     },
     "execution_count": 58,
     "metadata": {},
     "output_type": "execute_result"
    }
   ],
   "source": [
    "x_train_padded[0]"
   ]
  },
  {
   "cell_type": "markdown",
   "metadata": {},
   "source": [
    "We can now train our model. Instead of the vanilla recurrent neural network, we use a fancier kind called an LSTM. An LSTM is a recurrent network that is better at retaining long-term information, which is very important when dealing with language data. A vanilla RNN on the other hand tends to put much more emphasis on recent words."
   ]
  },
  {
   "cell_type": "code",
   "execution_count": 59,
   "metadata": {
    "scrolled": true
   },
   "outputs": [
    {
     "name": "stdout",
     "output_type": "stream",
     "text": [
      "Model: \"sequential_6\"\n",
      "_________________________________________________________________\n",
      "Layer (type)                 Output Shape              Param #   \n",
      "=================================================================\n",
      "embedding (Embedding)        (None, 300, 250)          2500000   \n",
      "_________________________________________________________________\n",
      "lstm (LSTM)                  (None, 32)                36224     \n",
      "_________________________________________________________________\n",
      "dense_14 (Dense)             (None, 1)                 33        \n",
      "=================================================================\n",
      "Total params: 2,536,257\n",
      "Trainable params: 2,536,257\n",
      "Non-trainable params: 0\n",
      "_________________________________________________________________\n",
      "None\n"
     ]
    }
   ],
   "source": [
    "embedding_vecor_length = 250\n",
    "\n",
    "model = keras.models.Sequential()\n",
    "model.add(keras.layers.Embedding(num_of_words, embedding_vecor_length, input_length = max_review_length))\n",
    "# model.add(keras.layers.LSTM(32, return_sequences = True))\n",
    "model.add(keras.layers.LSTM(32))\n",
    "model.add(keras.layers.Dense(1, activation = 'sigmoid'))\n",
    "model.compile(loss = 'binary_crossentropy', optimizer = 'adam', metrics = ['accuracy'])\n",
    "print(model.summary())"
   ]
  },
  {
   "cell_type": "markdown",
   "metadata": {},
   "source": [
    "Let's now train our model. This is a model lots of parameters and can take a while to train."
   ]
  },
  {
   "cell_type": "code",
   "execution_count": 60,
   "metadata": {},
   "outputs": [
    {
     "name": "stdout",
     "output_type": "stream",
     "text": [
      "Epoch 1/2\n",
      "196/196 [==============================] - 146s 746ms/step - loss: 0.4244 - accuracy: 0.8006 - val_loss: 0.3209 - val_accuracy: 0.8650\n",
      "Epoch 2/2\n",
      "196/196 [==============================] - 153s 783ms/step - loss: 0.2344 - accuracy: 0.9094 - val_loss: 0.3000 - val_accuracy: 0.8802\n"
     ]
    },
    {
     "data": {
      "text/plain": [
       "<tensorflow.python.keras.callbacks.History at 0x7f06ac04d790>"
      ]
     },
     "execution_count": 60,
     "metadata": {},
     "output_type": "execute_result"
    }
   ],
   "source": [
    "model.fit(x_train_padded, y_train, validation_data = (x_test_padded, y_test), epochs = 2, batch_size = 128)"
   ]
  },
  {
   "cell_type": "markdown",
   "metadata": {},
   "source": [
    "Now that we have trained our model, lets look at the testing accuracy."
   ]
  },
  {
   "cell_type": "code",
   "execution_count": 61,
   "metadata": {},
   "outputs": [
    {
     "name": "stdout",
     "output_type": "stream",
     "text": [
      "782/782 [==============================] - 54s 69ms/step - loss: 0.3000 - accuracy: 0.8802\n",
      "Accuracy: 88.02%\n"
     ]
    }
   ],
   "source": [
    "# Evaluate model\n",
    "scores = model.evaluate(x_test_padded, y_test)\n",
    "print(\"Accuracy: {:.2f}%\".format(scores[1]*100))"
   ]
  },
  {
   "cell_type": "markdown",
   "metadata": {},
   "source": [
    "### Exercise\n",
    "\n",
    "- What does the model predict for the first review in the test data? HINT: you may need to use `reshape`."
   ]
  },
  {
   "cell_type": "code",
   "execution_count": 63,
   "metadata": {},
   "outputs": [
    {
     "name": "stdout",
     "output_type": "stream",
     "text": [
      "[   0    0    0    0    0    0    0    0    0    0    0    0    0    0\n",
      "    0    0    0    0    0    0    0    0    0    0    0    0    0    0\n",
      "    0    0    0    0    0    0    0    0    0    0    0    0    0    0\n",
      "    0    0    0    0    0    0    0    0    0    0    0    0    0    0\n",
      "    0    0    0    0    0    0    0    0    0    0    0    0    0    0\n",
      "    0    0    0    0    0    0    0    0    0    0    0    0    0    0\n",
      "    0    0    0    0    0    0    0    0    0    0    0    0    0    0\n",
      "    0    0    0    0    0    0    0    0    0    0    0    0    0    0\n",
      "    0    0    0    0    0    0    0    0    0    0    0    0    0    0\n",
      "    0    0    0    0    0    0    0    0    0    0    0    0    0    0\n",
      "    0    0    0    0    0    0    0    0    0    0    0    0    0    0\n",
      "    0    0    0    0    0    0    0    0    0    0    0    0    0    0\n",
      "    0    0    0    0    0    0    0    0    0    0    0    0    0    0\n",
      "    0    0    0    0    0    0    0    0    0    0    0    0    0    0\n",
      "    0    0    0    0    0    0    0    0    0    0    0    0    0    0\n",
      "    0    0    0    0    0    0    0    0    0    0    0    0    0    0\n",
      "    0    0    0    0    0    0    0    0    1  591  202   14   31    6\n",
      "  717   10   10    2    2    5    4  360    7    4  177 5760  394  354\n",
      "    4  123    9 1035 1035 1035   10   10   13   92  124   89  488 7944\n",
      "  100   28 1668   14   31   23   27 7479   29  220  468    8  124   14\n",
      "  286  170    8  157   46    5   27  239   16  179    2   38   32   25\n",
      " 7944  451  202   14    6  717]\n"
     ]
    }
   ],
   "source": [
    "print(x_test_padded[0])"
   ]
  },
  {
   "cell_type": "code",
   "execution_count": null,
   "metadata": {},
   "outputs": [
    {
     "name": "stdout",
     "output_type": "stream",
     "text": [
      "WARNING:tensorflow:Model was constructed with shape (None, 300) for input Tensor(\"embedding_input:0\", shape=(None, 300), dtype=float32), but it was called on an input with incompatible shape (None, 7500000).\n"
     ]
    }
   ],
   "source": [
    "pred = model.predict(x_test_padded.reshape(1, -1))\n",
    "print('Done Predicting...')"
   ]
  },
  {
   "cell_type": "markdown",
   "metadata": {},
   "source": [
    "- Read the first review in the test data using the function you wrote earlier to decode reviews. Does the prediction seem good?"
   ]
  },
  {
   "cell_type": "code",
   "execution_count": null,
   "metadata": {},
   "outputs": [],
   "source": [
    "print(pred)"
   ]
  },
  {
   "cell_type": "markdown",
   "metadata": {},
   "source": [
    "- Print 5 examples in the test data where the prediction is correctly classified, and 5 examples where the prediction does not match the label, i.e. where the model mis-classified. Read the reviews and see if the mis-classified reviews seem less clear-cut than the correctly classified reviews. To help you with this, we show you in the following cell how you can test whether the first review in the test data was correctly classified or not."
   ]
  },
  {
   "cell_type": "code",
   "execution_count": null,
   "metadata": {},
   "outputs": [],
   "source": [
    "pred = model.predict(x_test_padded[0].reshape(1, -1))[0][0]\n",
    "obsv = y_test[0]\n",
    "if ((pred > 0.5) & (obsv > 0.5)) | ((pred < 0.5) & (obsv < 0.5)):\n",
    "    print(\"Correctly classfied.\")\n",
    "else:\n",
    "    print(\"Incorrectly classified.\")"
   ]
  },
  {
   "cell_type": "markdown",
   "metadata": {},
   "source": [
    "### End of exercise"
   ]
  },
  {
   "cell_type": "markdown",
   "metadata": {},
   "source": [
    "One of the impressive things about neural networks is how changes in their architectures can suddenly open them up to solving a new set of problems. Convolutional neural networks and recurrent neural networks are just two examples. In many ways the journey is only beginning."
   ]
  }
 ],
 "metadata": {
  "kernelspec": {
   "display_name": "Python 3",
   "language": "python",
   "name": "python3"
  },
  "language_info": {
   "codemirror_mode": {
    "name": "ipython",
    "version": 3
   },
   "file_extension": ".py",
   "mimetype": "text/x-python",
   "name": "python",
   "nbconvert_exporter": "python",
   "pygments_lexer": "ipython3",
   "version": "3.7.6"
  }
 },
 "nbformat": 4,
 "nbformat_minor": 4
}
