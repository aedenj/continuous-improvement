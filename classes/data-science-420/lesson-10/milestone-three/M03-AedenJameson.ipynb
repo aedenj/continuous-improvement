{
 "cells": [
  {
   "cell_type": "markdown",
   "metadata": {},
   "source": [
    "# Milestone 03\n",
    "# Aeden Jameson"
   ]
  },
  {
   "cell_type": "markdown",
   "metadata": {},
   "source": [
    "## Best Practices for Assignments & Milestones\n",
    "\n",
    "- <b>Break the assignment into sections - one section per numbered requirement.</b> Each assignment has numbered requirements/instructions e.g. \"1. Read the CIFAR-10 dataset\". Each requirement should have at least one markdown cell and at least one code cell. Feel free to combine sections or make other sensible changes if that makes sense for your code and is still clear. The intent is to give you a useful structure and to make sure you get full credit for your work.\n",
    "\n",
    "- <b>Break the milestone into sections - one section for each item in the rubric.</b> Each milestone has rubric items e.g. \"5. Handle class imbalance problem\". Each rubric item should have at least one markdown cell and at least one code cell. Feel free to combine sections or make other sensible changes if that makes sense for your code and is still clear. The intent is to give you a useful structure and to make sure you get full credit for your work.\n",
    "\n",
    "- <b>Include comments, with block comments preferred over in-line comments.</b> A good habit is to start each code cell with comments.\n",
    "\n",
    "The above put into a useful pattern:\n",
    "\n",
    "<b>Markdown cell:</b> Requirement #1: Read the CIFAR-10 dataset<br>\n",
    "<b>Code cell:</b>: Comments followed by code<br>\n",
    "<b>Markdown cell:</b> Requirement #2: Explore the data<br>\n",
    "<b>Code cell:</b>: Comments followed by code<br>\n",
    "<b>Markdown cell:</b> Requirement #3: Preprocess the data and prepare for classification<br>\n",
    "<b>Code cell:</b>: Comments followed by code<br>\n",
    "\n",
    "For more information:\n",
    "- A good notebook example: [DataFrame Basics](https://github.com/Tanu-N-Prabhu/Python/blob/master/Pandas/Pandas_DataFrame.ipynb) \n",
    "- More example notebooks: [A gallery of interesting Jupyter Notebooks](https://github.com/jupyter/jupyter/wiki/A-gallery-of-interesting-Jupyter-Notebooks#pandas-for-data-analysis)\n",
    "- [PEP 8 on commenting](https://www.python.org/dev/peps/pep-0008/)\n",
    "- [PEP 257 - docstrings](https://www.python.org/dev/peps/pep-0257/)\n",
    "\n",
    "Occasionally an assignment or milestone will ask you to do something other than write Python code e.g. ask you turn in a .docx file. In which case, please use logical structuring, but the specific notes above may not apply."
   ]
  },
  {
   "cell_type": "markdown",
   "metadata": {},
   "source": [
    "# Milestone 03 "
   ]
  },
  {
   "cell_type": "markdown",
   "metadata": {},
   "source": [
    "## Problem"
   ]
  },
  {
   "cell_type": "markdown",
   "metadata": {},
   "source": [
    "Identify the most important features in the diaper manufacturing process that result in the production of the desired quality of diaper."
   ]
  },
  {
   "cell_type": "markdown",
   "metadata": {},
   "source": [
    "## Step 0: Read & Prepare"
   ]
  },
  {
   "cell_type": "code",
   "execution_count": 1,
   "metadata": {},
   "outputs": [
    {
     "name": "stdout",
     "output_type": "stream",
     "text": [
      "Requirement already satisfied: tensorflow in /opt/conda/lib/python3.7/site-packages (2.2.0)\n",
      "Requirement already satisfied: h5py<2.11.0,>=2.10.0 in /opt/conda/lib/python3.7/site-packages (from tensorflow) (2.10.0)\n",
      "Requirement already satisfied: absl-py>=0.7.0 in /opt/conda/lib/python3.7/site-packages (from tensorflow) (0.9.0)\n",
      "Requirement already satisfied: tensorboard<2.3.0,>=2.2.0 in /opt/conda/lib/python3.7/site-packages (from tensorflow) (2.2.2)\n",
      "Requirement already satisfied: scipy==1.4.1; python_version >= \"3\" in /opt/conda/lib/python3.7/site-packages (from tensorflow) (1.4.1)\n",
      "Requirement already satisfied: keras-preprocessing>=1.1.0 in /opt/conda/lib/python3.7/site-packages (from tensorflow) (1.1.2)\n",
      "Requirement already satisfied: opt-einsum>=2.3.2 in /opt/conda/lib/python3.7/site-packages (from tensorflow) (3.2.1)\n",
      "Requirement already satisfied: six>=1.12.0 in /opt/conda/lib/python3.7/site-packages (from tensorflow) (1.14.0)\n",
      "Requirement already satisfied: wheel>=0.26; python_version >= \"3\" in /opt/conda/lib/python3.7/site-packages (from tensorflow) (0.34.2)\n",
      "Requirement already satisfied: astunparse==1.6.3 in /opt/conda/lib/python3.7/site-packages (from tensorflow) (1.6.3)\n",
      "Requirement already satisfied: termcolor>=1.1.0 in /opt/conda/lib/python3.7/site-packages (from tensorflow) (1.1.0)\n",
      "Requirement already satisfied: numpy<2.0,>=1.16.0 in /opt/conda/lib/python3.7/site-packages (from tensorflow) (1.18.1)\n",
      "Requirement already satisfied: tensorflow-estimator<2.3.0,>=2.2.0 in /opt/conda/lib/python3.7/site-packages (from tensorflow) (2.2.0)\n",
      "Requirement already satisfied: gast==0.3.3 in /opt/conda/lib/python3.7/site-packages (from tensorflow) (0.3.3)\n",
      "Requirement already satisfied: wrapt>=1.11.1 in /opt/conda/lib/python3.7/site-packages (from tensorflow) (1.12.1)\n",
      "Requirement already satisfied: grpcio>=1.8.6 in /opt/conda/lib/python3.7/site-packages (from tensorflow) (1.29.0)\n",
      "Requirement already satisfied: google-pasta>=0.1.8 in /opt/conda/lib/python3.7/site-packages (from tensorflow) (0.2.0)\n",
      "Requirement already satisfied: protobuf>=3.8.0 in /opt/conda/lib/python3.7/site-packages (from tensorflow) (3.11.4)\n",
      "Requirement already satisfied: setuptools>=41.0.0 in /opt/conda/lib/python3.7/site-packages (from tensorboard<2.3.0,>=2.2.0->tensorflow) (46.0.0.post20200311)\n",
      "Requirement already satisfied: google-auth-oauthlib<0.5,>=0.4.1 in /opt/conda/lib/python3.7/site-packages (from tensorboard<2.3.0,>=2.2.0->tensorflow) (0.4.1)\n",
      "Requirement already satisfied: requests<3,>=2.21.0 in /opt/conda/lib/python3.7/site-packages (from tensorboard<2.3.0,>=2.2.0->tensorflow) (2.23.0)\n",
      "Requirement already satisfied: markdown>=2.6.8 in /opt/conda/lib/python3.7/site-packages (from tensorboard<2.3.0,>=2.2.0->tensorflow) (3.2.2)\n",
      "Requirement already satisfied: tensorboard-plugin-wit>=1.6.0 in /opt/conda/lib/python3.7/site-packages (from tensorboard<2.3.0,>=2.2.0->tensorflow) (1.6.0.post3)\n",
      "Requirement already satisfied: google-auth<2,>=1.6.3 in /opt/conda/lib/python3.7/site-packages (from tensorboard<2.3.0,>=2.2.0->tensorflow) (1.18.0)\n",
      "Requirement already satisfied: werkzeug>=0.11.15 in /opt/conda/lib/python3.7/site-packages (from tensorboard<2.3.0,>=2.2.0->tensorflow) (1.0.1)\n",
      "Requirement already satisfied: requests-oauthlib>=0.7.0 in /opt/conda/lib/python3.7/site-packages (from google-auth-oauthlib<0.5,>=0.4.1->tensorboard<2.3.0,>=2.2.0->tensorflow) (1.3.0)\n",
      "Requirement already satisfied: certifi>=2017.4.17 in /opt/conda/lib/python3.7/site-packages (from requests<3,>=2.21.0->tensorboard<2.3.0,>=2.2.0->tensorflow) (2019.11.28)\n",
      "Requirement already satisfied: urllib3!=1.25.0,!=1.25.1,<1.26,>=1.21.1 in /opt/conda/lib/python3.7/site-packages (from requests<3,>=2.21.0->tensorboard<2.3.0,>=2.2.0->tensorflow) (1.25.7)\n",
      "Requirement already satisfied: idna<3,>=2.5 in /opt/conda/lib/python3.7/site-packages (from requests<3,>=2.21.0->tensorboard<2.3.0,>=2.2.0->tensorflow) (2.9)\n",
      "Requirement already satisfied: chardet<4,>=3.0.2 in /opt/conda/lib/python3.7/site-packages (from requests<3,>=2.21.0->tensorboard<2.3.0,>=2.2.0->tensorflow) (3.0.4)\n",
      "Requirement already satisfied: importlib-metadata; python_version < \"3.8\" in /opt/conda/lib/python3.7/site-packages (from markdown>=2.6.8->tensorboard<2.3.0,>=2.2.0->tensorflow) (1.5.0)\n",
      "Requirement already satisfied: cachetools<5.0,>=2.0.0 in /opt/conda/lib/python3.7/site-packages (from google-auth<2,>=1.6.3->tensorboard<2.3.0,>=2.2.0->tensorflow) (4.1.0)\n",
      "Requirement already satisfied: pyasn1-modules>=0.2.1 in /opt/conda/lib/python3.7/site-packages (from google-auth<2,>=1.6.3->tensorboard<2.3.0,>=2.2.0->tensorflow) (0.2.8)\n",
      "Requirement already satisfied: rsa<5,>=3.1.4; python_version >= \"3\" in /opt/conda/lib/python3.7/site-packages (from google-auth<2,>=1.6.3->tensorboard<2.3.0,>=2.2.0->tensorflow) (4.6)\n",
      "Requirement already satisfied: oauthlib>=3.0.0 in /opt/conda/lib/python3.7/site-packages (from requests-oauthlib>=0.7.0->google-auth-oauthlib<0.5,>=0.4.1->tensorboard<2.3.0,>=2.2.0->tensorflow) (3.0.1)\n",
      "Requirement already satisfied: zipp>=0.5 in /opt/conda/lib/python3.7/site-packages (from importlib-metadata; python_version < \"3.8\"->markdown>=2.6.8->tensorboard<2.3.0,>=2.2.0->tensorflow) (3.1.0)\n",
      "Requirement already satisfied: pyasn1<0.5.0,>=0.4.6 in /opt/conda/lib/python3.7/site-packages (from pyasn1-modules>=0.2.1->google-auth<2,>=1.6.3->tensorboard<2.3.0,>=2.2.0->tensorflow) (0.4.8)\n"
     ]
    }
   ],
   "source": [
    "!pip install tensorflow"
   ]
  },
  {
   "cell_type": "code",
   "execution_count": 2,
   "metadata": {},
   "outputs": [
    {
     "name": "stdout",
     "output_type": "stream",
     "text": [
      "Requirement already satisfied: imblearn in /opt/conda/lib/python3.7/site-packages (0.0)\n",
      "Requirement already satisfied: imbalanced-learn in /opt/conda/lib/python3.7/site-packages (from imblearn) (0.7.0)\n",
      "Requirement already satisfied: joblib>=0.11 in /opt/conda/lib/python3.7/site-packages (from imbalanced-learn->imblearn) (0.14.1)\n",
      "Requirement already satisfied: scikit-learn>=0.23 in /opt/conda/lib/python3.7/site-packages (from imbalanced-learn->imblearn) (0.23.1)\n",
      "Requirement already satisfied: numpy>=1.13.3 in /opt/conda/lib/python3.7/site-packages (from imbalanced-learn->imblearn) (1.18.1)\n",
      "Requirement already satisfied: scipy>=0.19.1 in /opt/conda/lib/python3.7/site-packages (from imbalanced-learn->imblearn) (1.4.1)\n",
      "Requirement already satisfied: threadpoolctl>=2.0.0 in /opt/conda/lib/python3.7/site-packages (from scikit-learn>=0.23->imbalanced-learn->imblearn) (2.1.0)\n"
     ]
    }
   ],
   "source": [
    "!pip install imblearn"
   ]
  },
  {
   "cell_type": "code",
   "execution_count": 110,
   "metadata": {},
   "outputs": [],
   "source": [
    "import numpy as np\n",
    "import pandas as pd\n",
    "import matplotlib.pyplot as plt\n",
    "%matplotlib inline\n",
    "\n",
    "import tensorflow as tf\n",
    "from tensorflow import keras\n",
    "import seaborn as sns\n",
    "\n",
    "from sklearn.metrics import accuracy_score\n",
    "from sklearn.metrics import classification_report\n",
    "from sklearn.metrics import plot_confusion_matrix\n",
    "from sklearn.neural_network import MLPClassifier"
   ]
  },
  {
   "cell_type": "code",
   "execution_count": 4,
   "metadata": {},
   "outputs": [
    {
     "name": "stdout",
     "output_type": "stream",
     "text": [
      "Read & Merged ...\n"
     ]
    }
   ],
   "source": [
    "import requests\n",
    "import re\n",
    "\n",
    "def prepare(dataFilename = \"https://archive.ics.uci.edu/ml/machine-learning-databases/secom/secom.data\", labelsFilename=\"https://archive.ics.uci.edu/ml/machine-learning-databases/secom/secom_labels.data\"):\n",
    "    names = [\"f\" + str(x) for x in range(1, 591)]\n",
    "    \n",
    "    data = pd.read_csv(dataFilename, names=names, delimiter=' ', header=None)    \n",
    "    labels = pd.read_csv(labelsFilename, delimiter=' ', header=None, names = [\"class\",\"date\"], parse_dates = [\"date\"])\n",
    "    \n",
    "    merged = pd.merge(data, labels,left_index=True,right_index=True)\n",
    "    \n",
    "    return merged\n",
    "\n",
    "secom_raw = prepare()\n",
    "print('Read & Merged ...')"
   ]
  },
  {
   "cell_type": "markdown",
   "metadata": {},
   "source": [
    "### Drop Date Column"
   ]
  },
  {
   "cell_type": "markdown",
   "metadata": {},
   "source": [
    "The date column isn't relevant to our analysis"
   ]
  },
  {
   "cell_type": "code",
   "execution_count": 5,
   "metadata": {},
   "outputs": [],
   "source": [
    "secom_raw.drop(columns=['date'], axis=1, inplace = True)"
   ]
  },
  {
   "cell_type": "markdown",
   "metadata": {},
   "source": [
    "### Drop Columns w/ > 40% Missing Data"
   ]
  },
  {
   "cell_type": "code",
   "execution_count": 6,
   "metadata": {},
   "outputs": [],
   "source": [
    "cols_with_missing = secom_raw.columns[(secom_raw.isnull().sum() /  secom_raw.shape[0]) > .4]\n",
    "secom_raw.drop(columns=cols_with_missing, axis=1, inplace = True)"
   ]
  },
  {
   "cell_type": "markdown",
   "metadata": {},
   "source": [
    "### Drop Columns w/ One Value"
   ]
  },
  {
   "cell_type": "code",
   "execution_count": 7,
   "metadata": {},
   "outputs": [],
   "source": [
    "const_cols = [] # data.columns[data.value_counts().count() == 1]\n",
    "nFeatures = secom_raw.columns.size - 1\n",
    "for c in secom_raw.columns:\n",
    "    if secom_raw[c].value_counts().count() <= 1:\n",
    "        const_cols.append(c)\n",
    "\n",
    "secom_raw.drop(columns=const_cols, axis=1, inplace = True)   "
   ]
  },
  {
   "cell_type": "markdown",
   "metadata": {},
   "source": [
    "### Impute Numeric Columns w/ Mean"
   ]
  },
  {
   "cell_type": "code",
   "execution_count": 8,
   "metadata": {},
   "outputs": [],
   "source": [
    "secom = secom_raw.fillna(secom_raw.mean())"
   ]
  },
  {
   "cell_type": "markdown",
   "metadata": {},
   "source": [
    "### Handle Class Imbalance "
   ]
  },
  {
   "cell_type": "markdown",
   "metadata": {},
   "source": [
    "#### Is There a Problem?"
   ]
  },
  {
   "cell_type": "code",
   "execution_count": 9,
   "metadata": {},
   "outputs": [
    {
     "data": {
      "text/plain": [
       "-1    1463\n",
       " 1     104\n",
       "Name: class, dtype: int64"
      ]
     },
     "execution_count": 9,
     "metadata": {},
     "output_type": "execute_result"
    }
   ],
   "source": [
    "secom['class'].value_counts()"
   ]
  },
  {
   "cell_type": "markdown",
   "metadata": {},
   "source": [
    "We can see from the counts above that there are far more passes than failures and so have a class imbalance problem."
   ]
  },
  {
   "cell_type": "markdown",
   "metadata": {},
   "source": [
    "#### SMOTE The Training Data"
   ]
  },
  {
   "cell_type": "code",
   "execution_count": 10,
   "metadata": {},
   "outputs": [
    {
     "name": "stdout",
     "output_type": "stream",
     "text": [
      "Done Smoting...\n"
     ]
    }
   ],
   "source": [
    "from sklearn.model_selection import train_test_split\n",
    "from imblearn.over_sampling import SMOTE \n",
    "\n",
    "X_train, X_test, y_train, y_test = train_test_split(secom.drop(columns = 'class'), \n",
    "                                                    secom['class'], \n",
    "                                                    test_size = 0.20, \n",
    "                                                    random_state = 42)\n",
    "\n",
    "sm = SMOTE(random_state = 42)\n",
    "X_res_train, y_res_train = sm.fit_sample(X_train, y_train)\n",
    "print('Done Smoting...')"
   ]
  },
  {
   "cell_type": "markdown",
   "metadata": {},
   "source": [
    "#### Re-Balanced Data"
   ]
  },
  {
   "cell_type": "code",
   "execution_count": 11,
   "metadata": {},
   "outputs": [
    {
     "data": {
      "text/plain": [
       " 1    1173\n",
       "-1    1173\n",
       "Name: class, dtype: int64"
      ]
     },
     "execution_count": 11,
     "metadata": {},
     "output_type": "execute_result"
    }
   ],
   "source": [
    "pd.merge(X_res_train,y_res_train,left_index=True,right_index=True)['class'].value_counts()"
   ]
  },
  {
   "cell_type": "markdown",
   "metadata": {},
   "source": [
    "#### Feature Selection"
   ]
  },
  {
   "cell_type": "code",
   "execution_count": 69,
   "metadata": {},
   "outputs": [],
   "source": [
    "from sklearn.preprocessing import StandardScaler\n",
    "sc = StandardScaler()\n",
    "X_res_train = sc.fit_transform(X_res_train)"
   ]
  },
  {
   "cell_type": "code",
   "execution_count": 70,
   "metadata": {},
   "outputs": [
    {
     "name": "stdout",
     "output_type": "stream",
     "text": [
      "Done Selecting...\n"
     ]
    }
   ],
   "source": [
    "from sklearn import linear_model\n",
    "from sklearn.feature_selection import SelectFromModel\n",
    "\n",
    "alpha = 0.1 # increasing alpha can shrink more variable coefficients down to 0\n",
    "clf = linear_model.Lasso(alpha = alpha, max_iter=10000)\n",
    "clf.fit(X_res_train, y_res_train);\n",
    "model = SelectFromModel(clf, prefit=True)\n",
    "X_lasso_train = model.transform(X_res_train)\n",
    "X_lasso_test = model.transform(X_test)\n",
    "print('Done Selecting...')"
   ]
  },
  {
   "cell_type": "code",
   "execution_count": 71,
   "metadata": {},
   "outputs": [
    {
     "data": {
      "text/plain": [
       "(2346, 23)"
      ]
     },
     "execution_count": 71,
     "metadata": {},
     "output_type": "execute_result"
    }
   ],
   "source": [
    "X_lasso_train.shape"
   ]
  },
  {
   "cell_type": "code",
   "execution_count": 72,
   "metadata": {},
   "outputs": [
    {
     "data": {
      "text/plain": [
       "(314, 23)"
      ]
     },
     "execution_count": 72,
     "metadata": {},
     "output_type": "execute_result"
    }
   ],
   "source": [
    "X_lasso_test.shape"
   ]
  },
  {
   "cell_type": "markdown",
   "metadata": {},
   "source": [
    "## Step 1: Simple Neural Network - No Hidden Layers"
   ]
  },
  {
   "cell_type": "markdown",
   "metadata": {},
   "source": [
    "#### Use Selected Features Via Lasso"
   ]
  },
  {
   "cell_type": "code",
   "execution_count": 102,
   "metadata": {},
   "outputs": [
    {
     "name": "stdout",
     "output_type": "stream",
     "text": [
      "Done predicting....\n"
     ]
    }
   ],
   "source": [
    "mlp_clf = MLPClassifier(max_iter=5000, random_state=1).fit(X_lasso_train, y_res_train)\n",
    "mlp_y_hat_train = mlp_clf.predict(X_lasso_train)\n",
    "mlp_y_hat_test = mlp_clf.predict(X_lasso_test)\n",
    "print('Done predicting....')"
   ]
  },
  {
   "cell_type": "code",
   "execution_count": 103,
   "metadata": {},
   "outputs": [
    {
     "name": "stdout",
     "output_type": "stream",
     "text": [
      "Training data accuracy is 100%\n",
      "Test data accuracy is 92%\n"
     ]
    }
   ],
   "source": [
    "mlp_acc_train = accuracy_score(y_res_train, mlp_y_hat_train) # change code here\n",
    "mlp_acc_test = accuracy_score(y_test, mlp_y_hat_test) # change code here\n",
    "\n",
    "print(\"Training data accuracy is {:2.0f}%\".format(mlp_acc_train * 100))\n",
    "print(\"Test data accuracy is {:2.0f}%\".format(mlp_acc_test * 100))"
   ]
  },
  {
   "cell_type": "code",
   "execution_count": 104,
   "metadata": {},
   "outputs": [
    {
     "name": "stdout",
     "output_type": "stream",
     "text": [
      "Simple Neural Network\n",
      "              precision    recall  f1-score   support\n",
      "\n",
      "        Pass       0.92      1.00      0.96       290\n",
      "        Fail       0.00      0.00      0.00        24\n",
      "\n",
      "    accuracy                           0.92       314\n",
      "   macro avg       0.46      0.50      0.48       314\n",
      "weighted avg       0.85      0.92      0.89       314\n",
      "\n"
     ]
    },
    {
     "name": "stderr",
     "output_type": "stream",
     "text": [
      "/opt/conda/lib/python3.7/site-packages/sklearn/metrics/_classification.py:1221: UndefinedMetricWarning: Precision and F-score are ill-defined and being set to 0.0 in labels with no predicted samples. Use `zero_division` parameter to control this behavior.\n",
      "  _warn_prf(average, modifier, msg_start, len(result))\n"
     ]
    }
   ],
   "source": [
    "labels = ['Pass', 'Fail']\n",
    "\n",
    "print('Simple Neural Network')\n",
    "print(classification_report(y_test, mlp_y_hat_test, target_names = labels))"
   ]
  },
  {
   "cell_type": "code",
   "execution_count": 105,
   "metadata": {},
   "outputs": [
    {
     "data": {
      "image/png": "[encoded data removed]",
      "text/plain": [
       "<Figure size 1440x576 with 2 Axes>"
      ]
     },
     "metadata": {
      "needs_background": "light"
     },
     "output_type": "display_data"
    }
   ],
   "source": [
    "fig, axs = plt.subplots(1, 1, squeeze=True, figsize=(20, 8))\n",
    "conf_plot = plot_confusion_matrix(mlp_clf, X_lasso_test, y_test, display_labels=labels, cmap=plt.cm.Blues, ax=axs);\n",
    "conf_plot.ax_.set_title(\"Confusion Matrix for Simple Neural Network\");"
   ]
  },
  {
   "cell_type": "markdown",
   "metadata": {},
   "source": [
    "#### Use Model Without Feature Selection"
   ]
  },
  {
   "cell_type": "code",
   "execution_count": 106,
   "metadata": {},
   "outputs": [
    {
     "name": "stdout",
     "output_type": "stream",
     "text": [
      "Done predicting....\n"
     ]
    }
   ],
   "source": [
    "from sklearn.neural_network import MLPClassifier\n",
    "\n",
    "X_as_is_train = sc.fit_transform(X_train)\n",
    "X_as_is_test = sc.fit_transform(X_test)\n",
    "\n",
    "mlp_clf_2 = MLPClassifier(max_iter=5000, random_state=1).fit(X_as_is_train, y_train)\n",
    "mlp_y_hat_train_2 = mlp_clf_2.predict(X_as_is_train)\n",
    "mlp_y_hat_test_2 = mlp_clf_2.predict(X_as_is_test)\n",
    "print('Done predicting....')"
   ]
  },
  {
   "cell_type": "code",
   "execution_count": 107,
   "metadata": {},
   "outputs": [
    {
     "name": "stdout",
     "output_type": "stream",
     "text": [
      "Training data accuracy is 100%\n",
      "Test data accuracy is 90%\n"
     ]
    }
   ],
   "source": [
    "mlp_acc_train_2 = accuracy_score(y_train, mlp_y_hat_train_2) # change code here\n",
    "mlp_acc_test_2 = accuracy_score(y_test, mlp_y_hat_test_2) # change code here\n",
    "\n",
    "print(\"Training data accuracy is {:2.0f}%\".format(mlp_acc_train_2 * 100))\n",
    "print(\"Test data accuracy is {:2.0f}%\".format(mlp_acc_test_2 * 100))"
   ]
  },
  {
   "cell_type": "code",
   "execution_count": 108,
   "metadata": {},
   "outputs": [
    {
     "name": "stdout",
     "output_type": "stream",
     "text": [
      "Simple Neural Network\n",
      "              precision    recall  f1-score   support\n",
      "\n",
      "        Pass       0.92      0.97      0.95       290\n",
      "        Fail       0.00      0.00      0.00        24\n",
      "\n",
      "    accuracy                           0.90       314\n",
      "   macro avg       0.46      0.49      0.47       314\n",
      "weighted avg       0.85      0.90      0.87       314\n",
      "\n"
     ]
    }
   ],
   "source": [
    "labels = ['Pass', 'Fail']\n",
    "\n",
    "print('Simple Neural Network')\n",
    "print(classification_report(y_test, mlp_y_hat_test_2, target_names = labels))"
   ]
  },
  {
   "cell_type": "code",
   "execution_count": 109,
   "metadata": {},
   "outputs": [
    {
     "data": {
      "image/png": "[encoded data removed]",
      "text/plain": [
       "<Figure size 1440x576 with 2 Axes>"
      ]
     },
     "metadata": {
      "needs_background": "light"
     },
     "output_type": "display_data"
    }
   ],
   "source": [
    "fig, axs = plt.subplots(1, 1, squeeze=True, figsize=(20, 8))\n",
    "conf_plot = plot_confusion_matrix(mlp_clf_2, X_as_is_test, y_test, display_labels=labels, cmap=plt.cm.Blues, ax=axs);\n",
    "conf_plot.ax_.set_title(\"Confusion Matrix for Simple Neural Network\");"
   ]
  },
  {
   "cell_type": "markdown",
   "metadata": {},
   "source": [
    "## Step 2: DNN Model - Use Hidden Layers"
   ]
  },
  {
   "cell_type": "markdown",
   "metadata": {},
   "source": [
    "#### Using Selected Features Via Lasso"
   ]
  },
  {
   "cell_type": "code",
   "execution_count": 136,
   "metadata": {},
   "outputs": [
    {
     "name": "stdout",
     "output_type": "stream",
     "text": [
      "Done predicting....\n"
     ]
    }
   ],
   "source": [
    "mlp_clf_h = MLPClassifier(max_iter=5000, hidden_layer_sizes=(5), random_state=1).fit(X_lasso_train, y_res_train)\n",
    "mlp_h_y_hat_train = mlp_clf_h.predict(X_lasso_train)\n",
    "mlp_h_y_hat_test = mlp_clf_h.predict(X_lasso_test)\n",
    "print('Done predicting....')"
   ]
  },
  {
   "cell_type": "code",
   "execution_count": 137,
   "metadata": {},
   "outputs": [
    {
     "name": "stdout",
     "output_type": "stream",
     "text": [
      "Training data accuracy is 96%\n",
      "Test data accuracy is 92%\n"
     ]
    }
   ],
   "source": [
    "mlp_h_acc_train = accuracy_score(y_res_train, mlp_h_y_hat_train) # change code here\n",
    "mlp_h_acc_test = accuracy_score(y_test, mlp_h_y_hat_test) # change code here\n",
    "\n",
    "print(\"Training data accuracy is {:2.0f}%\".format(mlp_h_acc_train * 100))\n",
    "print(\"Test data accuracy is {:2.0f}%\".format(mlp_h_acc_test * 100))"
   ]
  },
  {
   "cell_type": "code",
   "execution_count": 138,
   "metadata": {},
   "outputs": [
    {
     "name": "stdout",
     "output_type": "stream",
     "text": [
      "Simple Neural Network\n",
      "              precision    recall  f1-score   support\n",
      "\n",
      "        Pass       0.93      1.00      0.96       290\n",
      "        Fail       0.50      0.04      0.08        24\n",
      "\n",
      "    accuracy                           0.92       314\n",
      "   macro avg       0.71      0.52      0.52       314\n",
      "weighted avg       0.89      0.92      0.89       314\n",
      "\n"
     ]
    }
   ],
   "source": [
    "labels = ['Pass', 'Fail']\n",
    "\n",
    "print('Simple Neural Network')\n",
    "print(classification_report(y_test, mlp_h_y_hat_test, target_names = labels))"
   ]
  },
  {
   "cell_type": "code",
   "execution_count": 139,
   "metadata": {},
   "outputs": [
    {
     "data": {
      "image/png": "[encoded data removed]",
      "text/plain": [
       "<Figure size 1440x576 with 2 Axes>"
      ]
     },
     "metadata": {
      "needs_background": "light"
     },
     "output_type": "display_data"
    }
   ],
   "source": [
    "fig, axs = plt.subplots(1, 1, squeeze=True, figsize=(20, 8))\n",
    "conf_plot = plot_confusion_matrix(mlp_clf_h, X_lasso_test, y_test, display_labels=labels, cmap=plt.cm.Blues, ax=axs);\n",
    "conf_plot.ax_.set_title(\"Confusion Matrix for Simple Neural Network\");"
   ]
  },
  {
   "cell_type": "markdown",
   "metadata": {},
   "source": [
    "#### Use Model Without Feature Selection"
   ]
  },
  {
   "cell_type": "code",
   "execution_count": 142,
   "metadata": {},
   "outputs": [
    {
     "name": "stdout",
     "output_type": "stream",
     "text": [
      "Done predicting....\n"
     ]
    }
   ],
   "source": [
    "X_as_is_train = sc.fit_transform(X_train)\n",
    "X_as_is_test = sc.fit_transform(X_test)\n",
    "\n",
    "mlp_clf_h_2 = MLPClassifier(max_iter=5000, hidden_layer_sizes=(5), random_state=1).fit(X_as_is_train, y_train)\n",
    "mlp_h_y_hat_train_2 = mlp_clf_h_2.predict(X_as_is_train)\n",
    "mlp_h_y_hat_test_2 = mlp_clf_h_2.predict(X_as_is_test)\n",
    "print('Done predicting....')"
   ]
  },
  {
   "cell_type": "code",
   "execution_count": 143,
   "metadata": {},
   "outputs": [
    {
     "name": "stdout",
     "output_type": "stream",
     "text": [
      "Training data accuracy is 100%\n",
      "Test data accuracy is 92%\n"
     ]
    }
   ],
   "source": [
    "mlp_h_acc_train_2 = accuracy_score(y_train, mlp_h_y_hat_train_2) # change code here\n",
    "mlp_h_acc_test_2 = accuracy_score(y_test, mlp_h_y_hat_test_2) # change code here\n",
    "\n",
    "print(\"Training data accuracy is {:2.0f}%\".format(mlp_h_acc_train_2 * 100))\n",
    "print(\"Test data accuracy is {:2.0f}%\".format(mlp_h_acc_test_2 * 100))"
   ]
  },
  {
   "cell_type": "code",
   "execution_count": 144,
   "metadata": {},
   "outputs": [
    {
     "name": "stdout",
     "output_type": "stream",
     "text": [
      "Simple Neural Network\n",
      "              precision    recall  f1-score   support\n",
      "\n",
      "        Pass       0.93      0.98      0.96       290\n",
      "        Fail       0.40      0.17      0.24        24\n",
      "\n",
      "    accuracy                           0.92       314\n",
      "   macro avg       0.67      0.57      0.60       314\n",
      "weighted avg       0.89      0.92      0.90       314\n",
      "\n"
     ]
    }
   ],
   "source": [
    "labels = ['Pass', 'Fail']\n",
    "\n",
    "print('Simple Neural Network')\n",
    "print(classification_report(y_test, mlp_h_y_hat_test_2, target_names = labels))"
   ]
  },
  {
   "cell_type": "code",
   "execution_count": 145,
   "metadata": {},
   "outputs": [
    {
     "data": {
      "image/png": "[encoded data removed]",
      "text/plain": [
       "<Figure size 1440x576 with 2 Axes>"
      ]
     },
     "metadata": {
      "needs_background": "light"
     },
     "output_type": "display_data"
    }
   ],
   "source": [
    "fig, axs = plt.subplots(1, 1, squeeze=True, figsize=(20, 8))\n",
    "conf_plot = plot_confusion_matrix(mlp_clf_h_2, X_as_is_test, y_test, display_labels=labels, cmap=plt.cm.Blues, ax=axs);\n",
    "conf_plot.ax_.set_title(\"Confusion Matrix for Simple Neural Network\");"
   ]
  },
  {
   "cell_type": "markdown",
   "metadata": {},
   "source": [
    "## Step 3: RNN Model"
   ]
  },
  {
   "cell_type": "markdown",
   "metadata": {},
   "source": [
    "### DIDN\"T FIGURE THIS OUT IN TIME"
   ]
  },
  {
   "cell_type": "code",
   "execution_count": 155,
   "metadata": {},
   "outputs": [
    {
     "name": "stdout",
     "output_type": "stream",
     "text": [
      "Epoch 1/20\n",
      "74/74 [==============================] - 1s 10ms/step - loss: 15.2492 - accuracy: 0.5000\n",
      "Epoch 2/20\n",
      "74/74 [==============================] - 1s 10ms/step - loss: 15.2492 - accuracy: 0.5000\n",
      "Epoch 3/20\n",
      "74/74 [==============================] - 1s 9ms/step - loss: 15.2492 - accuracy: 0.5000\n",
      "Epoch 4/20\n",
      "74/74 [==============================] - 1s 9ms/step - loss: 15.2492 - accuracy: 0.5000\n",
      "Epoch 5/20\n",
      "74/74 [==============================] - 1s 10ms/step - loss: 15.2492 - accuracy: 0.5000\n",
      "Epoch 6/20\n",
      "74/74 [==============================] - 1s 10ms/step - loss: 15.2492 - accuracy: 0.5000\n",
      "Epoch 7/20\n",
      "74/74 [==============================] - 1s 10ms/step - loss: 15.2492 - accuracy: 0.5000\n",
      "Epoch 8/20\n",
      "74/74 [==============================] - 1s 10ms/step - loss: 15.2492 - accuracy: 0.5000\n",
      "Epoch 9/20\n",
      "74/74 [==============================] - 1s 10ms/step - loss: 15.2492 - accuracy: 0.5000\n",
      "Epoch 10/20\n",
      "74/74 [==============================] - 1s 10ms/step - loss: 15.2492 - accuracy: 0.5000\n",
      "Epoch 11/20\n",
      "74/74 [==============================] - 1s 14ms/step - loss: 15.2492 - accuracy: 0.5000\n",
      "Epoch 12/20\n",
      "74/74 [==============================] - 1s 10ms/step - loss: 15.2492 - accuracy: 0.5000\n",
      "Epoch 13/20\n",
      "74/74 [==============================] - 1s 10ms/step - loss: 15.2492 - accuracy: 0.5000\n",
      "Epoch 14/20\n",
      "74/74 [==============================] - 1s 9ms/step - loss: 15.2492 - accuracy: 0.5000\n",
      "Epoch 15/20\n",
      "74/74 [==============================] - 1s 10ms/step - loss: 15.2492 - accuracy: 0.5000\n",
      "Epoch 16/20\n",
      "74/74 [==============================] - 1s 10ms/step - loss: 15.2492 - accuracy: 0.5000\n",
      "Epoch 17/20\n",
      "74/74 [==============================] - 1s 14ms/step - loss: 15.2492 - accuracy: 0.5000\n",
      "Epoch 18/20\n",
      "74/74 [==============================] - 1s 10ms/step - loss: 15.2492 - accuracy: 0.5000\n",
      "Epoch 19/20\n",
      "74/74 [==============================] - 1s 10ms/step - loss: 15.2492 - accuracy: 0.5000\n",
      "Epoch 20/20\n",
      "74/74 [==============================] - 1s 10ms/step - loss: 15.2492 - accuracy: 0.5000\n"
     ]
    },
    {
     "data": {
      "text/plain": [
       "<tensorflow.python.keras.callbacks.History at 0x7fcb27db5910>"
      ]
     },
     "execution_count": 155,
     "metadata": {},
     "output_type": "execute_result"
    }
   ],
   "source": [
    "\n",
    "X_lasso_train_reshape = np.reshape(X_lasso_train, (X_lasso_train.shape[0], X_lasso_train.shape[1], 1))\n",
    "\n",
    "model = keras.models.Sequential()\n",
    "model.add(keras.layers.LSTM(32,return_sequences=True))\n",
    "model.add(keras.layers.Dense(1, activation = 'softmax'))\n",
    "model.compile(loss = 'binary_crossentropy', optimizer = 'adam', metrics = ['accuracy'])\n",
    "model.fit(X_lasso_train_reshape, y_res_train, epochs = 20, batch_size = 32)"
   ]
  },
  {
   "cell_type": "markdown",
   "metadata": {},
   "source": [
    "## Step 4: Summarize Findings"
   ]
  },
  {
   "cell_type": "markdown",
   "metadata": {},
   "source": [
    "In an effort to help SECOM manufacturing identify the most critical factors to predicting diapers that meet their quality standandards I've put together several models to assist. Initial findings did seem processing. Both the SVC and Random Forest models have accuracy scores around **92%**. However, they are only accurate for the Passes and not the Failures, which is problematic for our case. SECOM really wants to understand its defects which our most accurate models won't help them do. The team helping SECOM will need more time to investigate the issues with the findings. "
   ]
  },
  {
   "cell_type": "code",
   "execution_count": null,
   "metadata": {},
   "outputs": [],
   "source": []
  }
 ],
 "metadata": {
  "kernelspec": {
   "display_name": "Python 3",
   "language": "python",
   "name": "python3"
  },
  "language_info": {
   "codemirror_mode": {
    "name": "ipython",
    "version": 3
   },
   "file_extension": ".py",
   "mimetype": "text/x-python",
   "name": "python",
   "nbconvert_exporter": "python",
   "pygments_lexer": "ipython3",
   "version": "3.9.4"
  }
 },
 "nbformat": 4,
 "nbformat_minor": 4
}
