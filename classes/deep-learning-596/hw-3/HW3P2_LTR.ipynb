{
 "cells": [
  {
   "cell_type": "markdown",
   "metadata": {
    "id": "qHZTpff7FaoX"
   },
   "source": [
    "# **Homework 3** Problem 2"
   ]
  },
  {
   "cell_type": "markdown",
   "metadata": {
    "id": "p6ut6w0vFjzJ"
   },
   "source": [
    "## Prepare CIFAR-50 Dataset\n",
    "\n",
    "Download dataset to your Google Drive from https://drive.google.com/drive/folders/1WGUKBP5Eta9DAltK1WtvRbX43iwP08DU?usp=sharing (please use your UW account to get access).\n",
    "\n",
    "Unzip the files."
   ]
  },
  {
   "cell_type": "code",
   "execution_count": null,
   "metadata": {
    "id": "mNgOYd8-E8w5"
   },
   "outputs": [],
   "source": [
    "!unzip <PATH_TO_ZIP_FILE> -d <PATH_TO_DISTINATION_PATH>"
   ]
  },
  {
   "cell_type": "markdown",
   "metadata": {
    "id": "tcqbKid7HGWS"
   },
   "source": [
    "Load and print label files to know the format of the provided labels.\n",
    "- `cifar50_train.json`\n",
    "- `cifar50_imbalance_0.02_train.json`"
   ]
  },
  {
   "cell_type": "code",
   "execution_count": null,
   "metadata": {
    "id": "bPhfQtvGHmes"
   },
   "outputs": [],
   "source": [
    "# TODO: load json files and print."
   ]
  },
  {
   "cell_type": "markdown",
   "metadata": {
    "id": "ZljJaEcJGsA_"
   },
   "source": [
    "Show some images with labels (class names) from dataset."
   ]
  },
  {
   "cell_type": "code",
   "execution_count": null,
   "metadata": {
    "id": "ouwOe97XHli1"
   },
   "outputs": [],
   "source": [
    "# TODO: visualize some data with labels."
   ]
  },
  {
   "cell_type": "markdown",
   "metadata": {
    "id": "ej_TdcW2Hw8f"
   },
   "source": [
    "## Train CNNs.\n",
    "\n",
    "#### Use the CNN in HW2 to train the model on the balanced CIFAR50 dataset.\n",
    "\n",
    "Train the CNN on the balanced CIFAR50 training set. Evaluate and report the classification accuracies on the testing set. \n",
    "\n",
    "Note: You can use any network configurations you implemented in HW2."
   ]
  },
  {
   "cell_type": "code",
   "execution_count": null,
   "metadata": {
    "id": "l6Gr1kjOLKr2"
   },
   "outputs": [],
   "source": []
  },
  {
   "cell_type": "markdown",
   "metadata": {
    "id": "lywhjSClLLE8"
   },
   "source": [
    "#### Use the same CNN in HW2 to train the model on the imbalanced CIFAR50 dataset.\n",
    "\n",
    "Train the CNN on the imbalanced CIFAR50 training set. Evaluate and report the classification accuracies on the testing set. \n"
   ]
  },
  {
   "cell_type": "code",
   "execution_count": null,
   "metadata": {
    "id": "0MCkaoJDLb5y"
   },
   "outputs": [],
   "source": []
  },
  {
   "cell_type": "markdown",
   "metadata": {
    "id": "JW-pLNGJL7sD"
   },
   "source": [
    "## Implement Tricks for LTR\n",
    "\n",
    "Before starting this question, please read the paper for this homework: Bag of tricks for long-tailed visual recognition with deep convolutional neural networks.\n",
    "\n",
    "According to this paper, select at least **three** tricks to implement on the imbalanced CIFAR50 training. "
   ]
  },
  {
   "cell_type": "code",
   "execution_count": null,
   "metadata": {
    "id": "II7p6_aPNNDt"
   },
   "outputs": [],
   "source": [
    "# TODO: trick 1 implementation"
   ]
  },
  {
   "cell_type": "code",
   "execution_count": null,
   "metadata": {
    "id": "7ZLU7T6TNX3L"
   },
   "outputs": [],
   "source": [
    "# TODO: trick 2 implementation"
   ]
  },
  {
   "cell_type": "code",
   "execution_count": null,
   "metadata": {
    "id": "1dl59wc3O8UH"
   },
   "outputs": [],
   "source": [
    "# TODO: trick 3 implementation"
   ]
  },
  {
   "cell_type": "markdown",
   "metadata": {
    "id": "fLoXyZw_OFrz"
   },
   "source": [
    "Evaluate and report the classification performance on CIFAR50 testing set."
   ]
  },
  {
   "cell_type": "code",
   "execution_count": null,
   "metadata": {
    "id": "CYwcMlENPHgr"
   },
   "outputs": [],
   "source": []
  }
 ],
 "metadata": {
  "colab": {
   "authorship_tag": "ABX9TyMg1tMr8qObBAdqvQQpH3Qz",
   "collapsed_sections": [],
   "name": "HW3_P2_LTR.ipynb",
   "provenance": []
  },
  "kernelspec": {
   "display_name": "Python 3 (ipykernel)",
   "language": "python",
   "name": "python3"
  },
  "language_info": {
   "codemirror_mode": {
    "name": "ipython",
    "version": 3
   },
   "file_extension": ".py",
   "mimetype": "text/x-python",
   "name": "python",
   "nbconvert_exporter": "python",
   "pygments_lexer": "ipython3",
   "version": "3.9.6"
  }
 },
 "nbformat": 4,
 "nbformat_minor": 4
}
