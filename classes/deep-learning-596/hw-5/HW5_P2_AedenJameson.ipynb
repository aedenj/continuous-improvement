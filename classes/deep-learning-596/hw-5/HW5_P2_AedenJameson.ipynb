{
  "nbformat": 4,
  "nbformat_minor": 0,
  "metadata": {
    "colab": {
      "name": "HW5_P2_LSTM.ipynb",
      "provenance": [],
      "collapsed_sections": [],
      "machine_shape": "hm"
    },
    "kernelspec": {
      "name": "python3",
      "display_name": "Python 3"
    },
    "language_info": {
      "name": "python"
    },
    "accelerator": "GPU"
  },
  "cells": [
    {
      "cell_type": "markdown",
      "metadata": {
        "id": "HVvk99fLDAVr"
      },
      "source": [
        "# **Homework 5** Problem 2"
      ]
    },
    {
      "cell_type": "markdown",
      "metadata": {
        "id": "CaoHx15XkNSu"
      },
      "source": [
        "## (a) Prepare Dataset"
      ]
    },
    {
      "cell_type": "code",
      "metadata": {
        "id": "vNjkgZOWZWfs",
        "colab": {
          "base_uri": "https://localhost:8080/"
        },
        "outputId": "979903be-2242-4111-e4d5-cfc6ef22d1de"
      },
      "source": [
        "from google.colab import drive\n",
        "drive.mount('/content/gdrive')"
      ],
      "execution_count": 1,
      "outputs": [
        {
          "output_type": "stream",
          "name": "stdout",
          "text": [
            "Mounted at /content/gdrive\n"
          ]
        }
      ]
    },
    {
      "cell_type": "code",
      "source": [
        "%mkdir dataset/"
      ],
      "metadata": {
        "id": "XoV-w4mmfML2"
      },
      "execution_count": 2,
      "outputs": []
    },
    {
      "cell_type": "code",
      "source": [
        "!unzip /content/gdrive/MyDrive/Colab\\ Notebooks/ee-596/hw-5/gtzan.zip -d dataset/"
      ],
      "metadata": {
        "colab": {
          "base_uri": "https://localhost:8080/"
        },
        "id": "2F0clzx2hWgG",
        "outputId": "936d0bf6-82c4-4412-efd3-c9d454b2f71b"
      },
      "execution_count": 3,
      "outputs": [
        {
          "output_type": "stream",
          "name": "stdout",
          "text": [
            "Archive:  /content/gdrive/MyDrive/Colab Notebooks/ee-596/hw-5/gtzan.zip\n",
            "   creating: dataset/gtzan/_test/\n",
            "  inflating: dataset/gtzan/_test/classical.00000.au  \n",
            "  inflating: dataset/gtzan/_test/classical.00001.au  \n",
            "  inflating: dataset/gtzan/_test/classical.00002.au  \n",
            "  inflating: dataset/gtzan/_test/classical.00003.au  \n",
            "  inflating: dataset/gtzan/_test/classical.00004.au  \n",
            "  inflating: dataset/gtzan/_test/classical.00005.au  \n",
            "  inflating: dataset/gtzan/_test/classical.00006.au  \n",
            "  inflating: dataset/gtzan/_test/classical.00007.au  \n",
            "  inflating: dataset/gtzan/_test/classical.00008.au  \n",
            "  inflating: dataset/gtzan/_test/classical.00009.au  \n",
            "  inflating: dataset/gtzan/_test/hiphop.00000.au  \n",
            "  inflating: dataset/gtzan/_test/hiphop.00001.au  \n",
            "  inflating: dataset/gtzan/_test/hiphop.00002.au  \n",
            "  inflating: dataset/gtzan/_test/hiphop.00003.au  \n",
            "  inflating: dataset/gtzan/_test/hiphop.00004.au  \n",
            "  inflating: dataset/gtzan/_test/hiphop.00005.au  \n",
            "  inflating: dataset/gtzan/_test/hiphop.00006.au  \n",
            "  inflating: dataset/gtzan/_test/hiphop.00007.au  \n",
            "  inflating: dataset/gtzan/_test/hiphop.00008.au  \n",
            "  inflating: dataset/gtzan/_test/hiphop.00009.au  \n",
            "  inflating: dataset/gtzan/_test/jazz.00000.au  \n",
            "  inflating: dataset/gtzan/_test/jazz.00001.au  \n",
            "  inflating: dataset/gtzan/_test/jazz.00002.au  \n",
            "  inflating: dataset/gtzan/_test/jazz.00003.au  \n",
            "  inflating: dataset/gtzan/_test/jazz.00004.au  \n",
            "  inflating: dataset/gtzan/_test/jazz.00005.au  \n",
            "  inflating: dataset/gtzan/_test/jazz.00006.au  \n",
            "  inflating: dataset/gtzan/_test/jazz.00007.au  \n",
            "  inflating: dataset/gtzan/_test/jazz.00008.au  \n",
            "  inflating: dataset/gtzan/_test/jazz.00009.au  \n",
            "  inflating: dataset/gtzan/_test/metal.00000.au  \n",
            "  inflating: dataset/gtzan/_test/metal.00001.au  \n",
            "  inflating: dataset/gtzan/_test/metal.00002.au  \n",
            "  inflating: dataset/gtzan/_test/metal.00003.au  \n",
            "  inflating: dataset/gtzan/_test/metal.00004.au  \n",
            "  inflating: dataset/gtzan/_test/metal.00005.au  \n",
            "  inflating: dataset/gtzan/_test/metal.00006.au  \n",
            "  inflating: dataset/gtzan/_test/metal.00007.au  \n",
            "  inflating: dataset/gtzan/_test/metal.00008.au  \n",
            "  inflating: dataset/gtzan/_test/metal.00009.au  \n",
            "  inflating: dataset/gtzan/_test/pop.00000.au  \n",
            "  inflating: dataset/gtzan/_test/pop.00001.au  \n",
            "  inflating: dataset/gtzan/_test/pop.00002.au  \n",
            "  inflating: dataset/gtzan/_test/pop.00003.au  \n",
            "  inflating: dataset/gtzan/_test/pop.00004.au  \n",
            "  inflating: dataset/gtzan/_test/pop.00005.au  \n",
            "  inflating: dataset/gtzan/_test/pop.00006.au  \n",
            "  inflating: dataset/gtzan/_test/pop.00007.au  \n",
            "  inflating: dataset/gtzan/_test/pop.00008.au  \n",
            "  inflating: dataset/gtzan/_test/pop.00009.au  \n",
            "  inflating: dataset/gtzan/_test/reggae.00000.au  \n",
            "  inflating: dataset/gtzan/_test/reggae.00001.au  \n",
            "  inflating: dataset/gtzan/_test/reggae.00002.au  \n",
            "  inflating: dataset/gtzan/_test/reggae.00003.au  \n",
            "  inflating: dataset/gtzan/_test/reggae.00004.au  \n",
            "  inflating: dataset/gtzan/_test/reggae.00005.au  \n",
            "  inflating: dataset/gtzan/_test/reggae.00006.au  \n",
            "  inflating: dataset/gtzan/_test/reggae.00007.au  \n",
            "  inflating: dataset/gtzan/_test/reggae.00008.au  \n",
            "  inflating: dataset/gtzan/_test/reggae.00009.au  \n",
            "   creating: dataset/gtzan/_train/\n",
            "  inflating: dataset/gtzan/_train/classical.00030.au  \n",
            "  inflating: dataset/gtzan/_train/classical.00031.au  \n",
            "  inflating: dataset/gtzan/_train/classical.00032.au  \n",
            "  inflating: dataset/gtzan/_train/classical.00033.au  \n",
            "  inflating: dataset/gtzan/_train/classical.00034.au  \n",
            "  inflating: dataset/gtzan/_train/classical.00035.au  \n",
            "  inflating: dataset/gtzan/_train/classical.00036.au  \n",
            "  inflating: dataset/gtzan/_train/classical.00037.au  \n",
            "  inflating: dataset/gtzan/_train/classical.00038.au  \n",
            "  inflating: dataset/gtzan/_train/classical.00039.au  \n",
            "  inflating: dataset/gtzan/_train/classical.00040.au  \n",
            "  inflating: dataset/gtzan/_train/classical.00041.au  \n",
            "  inflating: dataset/gtzan/_train/classical.00042.au  \n",
            "  inflating: dataset/gtzan/_train/classical.00043.au  \n",
            "  inflating: dataset/gtzan/_train/classical.00044.au  \n",
            "  inflating: dataset/gtzan/_train/classical.00045.au  \n",
            "  inflating: dataset/gtzan/_train/classical.00046.au  \n",
            "  inflating: dataset/gtzan/_train/classical.00047.au  \n",
            "  inflating: dataset/gtzan/_train/classical.00048.au  \n",
            "  inflating: dataset/gtzan/_train/classical.00049.au  \n",
            "  inflating: dataset/gtzan/_train/classical.00050.au  \n",
            "  inflating: dataset/gtzan/_train/classical.00051.au  \n",
            "  inflating: dataset/gtzan/_train/classical.00052.au  \n",
            "  inflating: dataset/gtzan/_train/classical.00053.au  \n",
            "  inflating: dataset/gtzan/_train/classical.00054.au  \n",
            "  inflating: dataset/gtzan/_train/classical.00055.au  \n",
            "  inflating: dataset/gtzan/_train/classical.00056.au  \n",
            "  inflating: dataset/gtzan/_train/classical.00057.au  \n",
            "  inflating: dataset/gtzan/_train/classical.00058.au  \n",
            "  inflating: dataset/gtzan/_train/classical.00059.au  \n",
            "  inflating: dataset/gtzan/_train/classical.00060.au  \n",
            "  inflating: dataset/gtzan/_train/classical.00061.au  \n",
            "  inflating: dataset/gtzan/_train/classical.00062.au  \n",
            "  inflating: dataset/gtzan/_train/classical.00063.au  \n",
            "  inflating: dataset/gtzan/_train/classical.00064.au  \n",
            "  inflating: dataset/gtzan/_train/classical.00065.au  \n",
            "  inflating: dataset/gtzan/_train/classical.00066.au  \n",
            "  inflating: dataset/gtzan/_train/classical.00067.au  \n",
            "  inflating: dataset/gtzan/_train/classical.00068.au  \n",
            "  inflating: dataset/gtzan/_train/classical.00069.au  \n",
            "  inflating: dataset/gtzan/_train/classical.00070.au  \n",
            "  inflating: dataset/gtzan/_train/classical.00071.au  \n",
            "  inflating: dataset/gtzan/_train/classical.00072.au  \n",
            "  inflating: dataset/gtzan/_train/classical.00073.au  \n",
            "  inflating: dataset/gtzan/_train/classical.00074.au  \n",
            "  inflating: dataset/gtzan/_train/classical.00075.au  \n",
            "  inflating: dataset/gtzan/_train/classical.00076.au  \n",
            "  inflating: dataset/gtzan/_train/classical.00077.au  \n",
            "  inflating: dataset/gtzan/_train/classical.00078.au  \n",
            "  inflating: dataset/gtzan/_train/classical.00079.au  \n",
            "  inflating: dataset/gtzan/_train/classical.00080.au  \n",
            "  inflating: dataset/gtzan/_train/classical.00081.au  \n",
            "  inflating: dataset/gtzan/_train/classical.00082.au  \n",
            "  inflating: dataset/gtzan/_train/classical.00083.au  \n",
            "  inflating: dataset/gtzan/_train/classical.00084.au  \n",
            "  inflating: dataset/gtzan/_train/classical.00085.au  \n",
            "  inflating: dataset/gtzan/_train/classical.00086.au  \n",
            "  inflating: dataset/gtzan/_train/classical.00087.au  \n",
            "  inflating: dataset/gtzan/_train/classical.00088.au  \n",
            "  inflating: dataset/gtzan/_train/classical.00089.au  \n",
            "  inflating: dataset/gtzan/_train/classical.00090.au  \n",
            "  inflating: dataset/gtzan/_train/classical.00091.au  \n",
            "  inflating: dataset/gtzan/_train/classical.00092.au  \n",
            "  inflating: dataset/gtzan/_train/classical.00093.au  \n",
            "  inflating: dataset/gtzan/_train/classical.00094.au  \n",
            "  inflating: dataset/gtzan/_train/classical.00095.au  \n",
            "  inflating: dataset/gtzan/_train/classical.00096.au  \n",
            "  inflating: dataset/gtzan/_train/classical.00097.au  \n",
            "  inflating: dataset/gtzan/_train/classical.00098.au  \n",
            "  inflating: dataset/gtzan/_train/classical.00099.au  \n",
            "  inflating: dataset/gtzan/_train/hiphop.00030.au  \n",
            "  inflating: dataset/gtzan/_train/hiphop.00031.au  \n",
            "  inflating: dataset/gtzan/_train/hiphop.00032.au  \n",
            "  inflating: dataset/gtzan/_train/hiphop.00033.au  \n",
            "  inflating: dataset/gtzan/_train/hiphop.00034.au  \n",
            "  inflating: dataset/gtzan/_train/hiphop.00035.au  \n",
            "  inflating: dataset/gtzan/_train/hiphop.00036.au  \n",
            "  inflating: dataset/gtzan/_train/hiphop.00037.au  \n",
            "  inflating: dataset/gtzan/_train/hiphop.00038.au  \n",
            "  inflating: dataset/gtzan/_train/hiphop.00039.au  \n",
            "  inflating: dataset/gtzan/_train/hiphop.00040.au  \n",
            "  inflating: dataset/gtzan/_train/hiphop.00041.au  \n",
            "  inflating: dataset/gtzan/_train/hiphop.00042.au  \n",
            "  inflating: dataset/gtzan/_train/hiphop.00043.au  \n",
            "  inflating: dataset/gtzan/_train/hiphop.00044.au  \n",
            "  inflating: dataset/gtzan/_train/hiphop.00045.au  \n",
            "  inflating: dataset/gtzan/_train/hiphop.00046.au  \n",
            "  inflating: dataset/gtzan/_train/hiphop.00047.au  \n",
            "  inflating: dataset/gtzan/_train/hiphop.00048.au  \n",
            "  inflating: dataset/gtzan/_train/hiphop.00049.au  \n",
            "  inflating: dataset/gtzan/_train/hiphop.00050.au  \n",
            "  inflating: dataset/gtzan/_train/hiphop.00051.au  \n",
            "  inflating: dataset/gtzan/_train/hiphop.00052.au  \n",
            "  inflating: dataset/gtzan/_train/hiphop.00053.au  \n",
            "  inflating: dataset/gtzan/_train/hiphop.00054.au  \n",
            "  inflating: dataset/gtzan/_train/hiphop.00055.au  \n",
            "  inflating: dataset/gtzan/_train/hiphop.00056.au  \n",
            "  inflating: dataset/gtzan/_train/hiphop.00057.au  \n",
            "  inflating: dataset/gtzan/_train/hiphop.00058.au  \n",
            "  inflating: dataset/gtzan/_train/hiphop.00059.au  \n",
            "  inflating: dataset/gtzan/_train/hiphop.00060.au  \n",
            "  inflating: dataset/gtzan/_train/hiphop.00061.au  \n",
            "  inflating: dataset/gtzan/_train/hiphop.00062.au  \n",
            "  inflating: dataset/gtzan/_train/hiphop.00063.au  \n",
            "  inflating: dataset/gtzan/_train/hiphop.00064.au  \n",
            "  inflating: dataset/gtzan/_train/hiphop.00065.au  \n",
            "  inflating: dataset/gtzan/_train/hiphop.00066.au  \n",
            "  inflating: dataset/gtzan/_train/hiphop.00067.au  \n",
            "  inflating: dataset/gtzan/_train/hiphop.00068.au  \n",
            "  inflating: dataset/gtzan/_train/hiphop.00069.au  \n",
            "  inflating: dataset/gtzan/_train/hiphop.00070.au  \n",
            "  inflating: dataset/gtzan/_train/hiphop.00071.au  \n",
            "  inflating: dataset/gtzan/_train/hiphop.00072.au  \n",
            "  inflating: dataset/gtzan/_train/hiphop.00073.au  \n",
            "  inflating: dataset/gtzan/_train/hiphop.00074.au  \n",
            "  inflating: dataset/gtzan/_train/hiphop.00075.au  \n",
            "  inflating: dataset/gtzan/_train/hiphop.00076.au  \n",
            "  inflating: dataset/gtzan/_train/hiphop.00077.au  \n",
            "  inflating: dataset/gtzan/_train/hiphop.00078.au  \n",
            "  inflating: dataset/gtzan/_train/hiphop.00079.au  \n",
            "  inflating: dataset/gtzan/_train/hiphop.00080.au  \n",
            "  inflating: dataset/gtzan/_train/hiphop.00081.au  \n",
            "  inflating: dataset/gtzan/_train/hiphop.00082.au  \n",
            "  inflating: dataset/gtzan/_train/hiphop.00083.au  \n",
            "  inflating: dataset/gtzan/_train/hiphop.00084.au  \n",
            "  inflating: dataset/gtzan/_train/hiphop.00085.au  \n",
            "  inflating: dataset/gtzan/_train/hiphop.00086.au  \n",
            "  inflating: dataset/gtzan/_train/hiphop.00087.au  \n",
            "  inflating: dataset/gtzan/_train/hiphop.00088.au  \n",
            "  inflating: dataset/gtzan/_train/hiphop.00089.au  \n",
            "  inflating: dataset/gtzan/_train/hiphop.00090.au  \n",
            "  inflating: dataset/gtzan/_train/hiphop.00091.au  \n",
            "  inflating: dataset/gtzan/_train/hiphop.00092.au  \n",
            "  inflating: dataset/gtzan/_train/hiphop.00093.au  \n",
            "  inflating: dataset/gtzan/_train/hiphop.00094.au  \n",
            "  inflating: dataset/gtzan/_train/hiphop.00095.au  \n",
            "  inflating: dataset/gtzan/_train/hiphop.00096.au  \n",
            "  inflating: dataset/gtzan/_train/hiphop.00097.au  \n",
            "  inflating: dataset/gtzan/_train/hiphop.00098.au  \n",
            "  inflating: dataset/gtzan/_train/hiphop.00099.au  \n",
            "  inflating: dataset/gtzan/_train/jazz.00030.au  \n",
            "  inflating: dataset/gtzan/_train/jazz.00031.au  \n",
            "  inflating: dataset/gtzan/_train/jazz.00032.au  \n",
            "  inflating: dataset/gtzan/_train/jazz.00033.au  \n",
            "  inflating: dataset/gtzan/_train/jazz.00034.au  \n",
            "  inflating: dataset/gtzan/_train/jazz.00035.au  \n",
            "  inflating: dataset/gtzan/_train/jazz.00036.au  \n",
            "  inflating: dataset/gtzan/_train/jazz.00037.au  \n",
            "  inflating: dataset/gtzan/_train/jazz.00038.au  \n",
            "  inflating: dataset/gtzan/_train/jazz.00039.au  \n",
            "  inflating: dataset/gtzan/_train/jazz.00040.au  \n",
            "  inflating: dataset/gtzan/_train/jazz.00041.au  \n",
            "  inflating: dataset/gtzan/_train/jazz.00042.au  \n",
            "  inflating: dataset/gtzan/_train/jazz.00043.au  \n",
            "  inflating: dataset/gtzan/_train/jazz.00044.au  \n",
            "  inflating: dataset/gtzan/_train/jazz.00045.au  \n",
            "  inflating: dataset/gtzan/_train/jazz.00046.au  \n",
            "  inflating: dataset/gtzan/_train/jazz.00047.au  \n",
            "  inflating: dataset/gtzan/_train/jazz.00048.au  \n",
            "  inflating: dataset/gtzan/_train/jazz.00049.au  \n",
            "  inflating: dataset/gtzan/_train/jazz.00050.au  \n",
            "  inflating: dataset/gtzan/_train/jazz.00051.au  \n",
            "  inflating: dataset/gtzan/_train/jazz.00052.au  \n",
            "  inflating: dataset/gtzan/_train/jazz.00053.au  \n",
            "  inflating: dataset/gtzan/_train/jazz.00054.au  \n",
            "  inflating: dataset/gtzan/_train/jazz.00055.au  \n",
            "  inflating: dataset/gtzan/_train/jazz.00056.au  \n",
            "  inflating: dataset/gtzan/_train/jazz.00057.au  \n",
            "  inflating: dataset/gtzan/_train/jazz.00058.au  \n",
            "  inflating: dataset/gtzan/_train/jazz.00059.au  \n",
            "  inflating: dataset/gtzan/_train/jazz.00060.au  \n",
            "  inflating: dataset/gtzan/_train/jazz.00061.au  \n",
            "  inflating: dataset/gtzan/_train/jazz.00062.au  \n",
            "  inflating: dataset/gtzan/_train/jazz.00063.au  \n",
            "  inflating: dataset/gtzan/_train/jazz.00064.au  \n",
            "  inflating: dataset/gtzan/_train/jazz.00065.au  \n",
            "  inflating: dataset/gtzan/_train/jazz.00066.au  \n",
            "  inflating: dataset/gtzan/_train/jazz.00067.au  \n",
            "  inflating: dataset/gtzan/_train/jazz.00068.au  \n",
            "  inflating: dataset/gtzan/_train/jazz.00069.au  \n",
            "  inflating: dataset/gtzan/_train/jazz.00070.au  \n",
            "  inflating: dataset/gtzan/_train/jazz.00071.au  \n",
            "  inflating: dataset/gtzan/_train/jazz.00072.au  \n",
            "  inflating: dataset/gtzan/_train/jazz.00073.au  \n",
            "  inflating: dataset/gtzan/_train/jazz.00074.au  \n",
            "  inflating: dataset/gtzan/_train/jazz.00075.au  \n",
            "  inflating: dataset/gtzan/_train/jazz.00076.au  \n",
            "  inflating: dataset/gtzan/_train/jazz.00077.au  \n",
            "  inflating: dataset/gtzan/_train/jazz.00078.au  \n",
            "  inflating: dataset/gtzan/_train/jazz.00079.au  \n",
            "  inflating: dataset/gtzan/_train/jazz.00080.au  \n",
            "  inflating: dataset/gtzan/_train/jazz.00081.au  \n",
            "  inflating: dataset/gtzan/_train/jazz.00082.au  \n",
            "  inflating: dataset/gtzan/_train/jazz.00083.au  \n",
            "  inflating: dataset/gtzan/_train/jazz.00084.au  \n",
            "  inflating: dataset/gtzan/_train/jazz.00085.au  \n",
            "  inflating: dataset/gtzan/_train/jazz.00086.au  \n",
            "  inflating: dataset/gtzan/_train/jazz.00087.au  \n",
            "  inflating: dataset/gtzan/_train/jazz.00088.au  \n",
            "  inflating: dataset/gtzan/_train/jazz.00089.au  \n",
            "  inflating: dataset/gtzan/_train/jazz.00090.au  \n",
            "  inflating: dataset/gtzan/_train/jazz.00091.au  \n",
            "  inflating: dataset/gtzan/_train/jazz.00092.au  \n",
            "  inflating: dataset/gtzan/_train/jazz.00093.au  \n",
            "  inflating: dataset/gtzan/_train/jazz.00094.au  \n",
            "  inflating: dataset/gtzan/_train/jazz.00095.au  \n",
            "  inflating: dataset/gtzan/_train/jazz.00096.au  \n",
            "  inflating: dataset/gtzan/_train/jazz.00097.au  \n",
            "  inflating: dataset/gtzan/_train/jazz.00098.au  \n",
            "  inflating: dataset/gtzan/_train/jazz.00099.au  \n",
            "  inflating: dataset/gtzan/_train/metal.00030.au  \n",
            "  inflating: dataset/gtzan/_train/metal.00031.au  \n",
            "  inflating: dataset/gtzan/_train/metal.00032.au  \n",
            "  inflating: dataset/gtzan/_train/metal.00033.au  \n",
            "  inflating: dataset/gtzan/_train/metal.00034.au  \n",
            "  inflating: dataset/gtzan/_train/metal.00035.au  \n",
            "  inflating: dataset/gtzan/_train/metal.00036.au  \n",
            "  inflating: dataset/gtzan/_train/metal.00037.au  \n",
            "  inflating: dataset/gtzan/_train/metal.00038.au  \n",
            "  inflating: dataset/gtzan/_train/metal.00039.au  \n",
            "  inflating: dataset/gtzan/_train/metal.00040.au  \n",
            "  inflating: dataset/gtzan/_train/metal.00041.au  \n",
            "  inflating: dataset/gtzan/_train/metal.00042.au  \n",
            "  inflating: dataset/gtzan/_train/metal.00043.au  \n",
            "  inflating: dataset/gtzan/_train/metal.00044.au  \n",
            "  inflating: dataset/gtzan/_train/metal.00045.au  \n",
            "  inflating: dataset/gtzan/_train/metal.00046.au  \n",
            "  inflating: dataset/gtzan/_train/metal.00047.au  \n",
            "  inflating: dataset/gtzan/_train/metal.00048.au  \n",
            "  inflating: dataset/gtzan/_train/metal.00049.au  \n",
            "  inflating: dataset/gtzan/_train/metal.00050.au  \n",
            "  inflating: dataset/gtzan/_train/metal.00051.au  \n",
            "  inflating: dataset/gtzan/_train/metal.00052.au  \n",
            "  inflating: dataset/gtzan/_train/metal.00053.au  \n",
            "  inflating: dataset/gtzan/_train/metal.00054.au  \n",
            "  inflating: dataset/gtzan/_train/metal.00055.au  \n",
            "  inflating: dataset/gtzan/_train/metal.00056.au  \n",
            "  inflating: dataset/gtzan/_train/metal.00057.au  \n",
            "  inflating: dataset/gtzan/_train/metal.00058.au  \n",
            "  inflating: dataset/gtzan/_train/metal.00059.au  \n",
            "  inflating: dataset/gtzan/_train/metal.00060.au  \n",
            "  inflating: dataset/gtzan/_train/metal.00061.au  \n",
            "  inflating: dataset/gtzan/_train/metal.00062.au  \n",
            "  inflating: dataset/gtzan/_train/metal.00063.au  \n",
            "  inflating: dataset/gtzan/_train/metal.00064.au  \n",
            "  inflating: dataset/gtzan/_train/metal.00065.au  \n",
            "  inflating: dataset/gtzan/_train/metal.00066.au  \n",
            "  inflating: dataset/gtzan/_train/metal.00067.au  \n",
            "  inflating: dataset/gtzan/_train/metal.00068.au  \n",
            "  inflating: dataset/gtzan/_train/metal.00069.au  \n",
            "  inflating: dataset/gtzan/_train/metal.00070.au  \n",
            "  inflating: dataset/gtzan/_train/metal.00071.au  \n",
            "  inflating: dataset/gtzan/_train/metal.00072.au  \n",
            "  inflating: dataset/gtzan/_train/metal.00073.au  \n",
            "  inflating: dataset/gtzan/_train/metal.00074.au  \n",
            "  inflating: dataset/gtzan/_train/metal.00075.au  \n",
            "  inflating: dataset/gtzan/_train/metal.00076.au  \n",
            "  inflating: dataset/gtzan/_train/metal.00077.au  \n",
            "  inflating: dataset/gtzan/_train/metal.00078.au  \n",
            "  inflating: dataset/gtzan/_train/metal.00079.au  \n",
            "  inflating: dataset/gtzan/_train/metal.00080.au  \n",
            "  inflating: dataset/gtzan/_train/metal.00081.au  \n",
            "  inflating: dataset/gtzan/_train/metal.00082.au  \n",
            "  inflating: dataset/gtzan/_train/metal.00083.au  \n",
            "  inflating: dataset/gtzan/_train/metal.00084.au  \n",
            "  inflating: dataset/gtzan/_train/metal.00085.au  \n",
            "  inflating: dataset/gtzan/_train/metal.00086.au  \n",
            "  inflating: dataset/gtzan/_train/metal.00087.au  \n",
            "  inflating: dataset/gtzan/_train/metal.00088.au  \n",
            "  inflating: dataset/gtzan/_train/metal.00089.au  \n",
            "  inflating: dataset/gtzan/_train/metal.00090.au  \n",
            "  inflating: dataset/gtzan/_train/metal.00091.au  \n",
            "  inflating: dataset/gtzan/_train/metal.00092.au  \n",
            "  inflating: dataset/gtzan/_train/metal.00093.au  \n",
            "  inflating: dataset/gtzan/_train/metal.00094.au  \n",
            "  inflating: dataset/gtzan/_train/metal.00095.au  \n",
            "  inflating: dataset/gtzan/_train/metal.00096.au  \n",
            "  inflating: dataset/gtzan/_train/metal.00097.au  \n",
            "  inflating: dataset/gtzan/_train/metal.00098.au  \n",
            "  inflating: dataset/gtzan/_train/metal.00099.au  \n",
            "  inflating: dataset/gtzan/_train/pop.00030.au  \n",
            "  inflating: dataset/gtzan/_train/pop.00031.au  \n",
            "  inflating: dataset/gtzan/_train/pop.00032.au  \n",
            "  inflating: dataset/gtzan/_train/pop.00033.au  \n",
            "  inflating: dataset/gtzan/_train/pop.00034.au  \n",
            "  inflating: dataset/gtzan/_train/pop.00035.au  \n",
            "  inflating: dataset/gtzan/_train/pop.00036.au  \n",
            "  inflating: dataset/gtzan/_train/pop.00037.au  \n",
            "  inflating: dataset/gtzan/_train/pop.00038.au  \n",
            "  inflating: dataset/gtzan/_train/pop.00039.au  \n",
            "  inflating: dataset/gtzan/_train/pop.00040.au  \n",
            "  inflating: dataset/gtzan/_train/pop.00041.au  \n",
            "  inflating: dataset/gtzan/_train/pop.00042.au  \n",
            "  inflating: dataset/gtzan/_train/pop.00043.au  \n",
            "  inflating: dataset/gtzan/_train/pop.00044.au  \n",
            "  inflating: dataset/gtzan/_train/pop.00045.au  \n",
            "  inflating: dataset/gtzan/_train/pop.00046.au  \n",
            "  inflating: dataset/gtzan/_train/pop.00047.au  \n",
            "  inflating: dataset/gtzan/_train/pop.00048.au  \n",
            "  inflating: dataset/gtzan/_train/pop.00049.au  \n",
            "  inflating: dataset/gtzan/_train/pop.00050.au  \n",
            "  inflating: dataset/gtzan/_train/pop.00051.au  \n",
            "  inflating: dataset/gtzan/_train/pop.00052.au  \n",
            "  inflating: dataset/gtzan/_train/pop.00053.au  \n",
            "  inflating: dataset/gtzan/_train/pop.00054.au  \n",
            "  inflating: dataset/gtzan/_train/pop.00055.au  \n",
            "  inflating: dataset/gtzan/_train/pop.00056.au  \n",
            "  inflating: dataset/gtzan/_train/pop.00057.au  \n",
            "  inflating: dataset/gtzan/_train/pop.00058.au  \n",
            "  inflating: dataset/gtzan/_train/pop.00059.au  \n",
            "  inflating: dataset/gtzan/_train/pop.00060.au  \n",
            "  inflating: dataset/gtzan/_train/pop.00061.au  \n",
            "  inflating: dataset/gtzan/_train/pop.00062.au  \n",
            "  inflating: dataset/gtzan/_train/pop.00063.au  \n",
            "  inflating: dataset/gtzan/_train/pop.00064.au  \n",
            "  inflating: dataset/gtzan/_train/pop.00065.au  \n",
            "  inflating: dataset/gtzan/_train/pop.00066.au  \n",
            "  inflating: dataset/gtzan/_train/pop.00067.au  \n",
            "  inflating: dataset/gtzan/_train/pop.00068.au  \n",
            "  inflating: dataset/gtzan/_train/pop.00069.au  \n",
            "  inflating: dataset/gtzan/_train/pop.00070.au  \n",
            "  inflating: dataset/gtzan/_train/pop.00071.au  \n",
            "  inflating: dataset/gtzan/_train/pop.00072.au  \n",
            "  inflating: dataset/gtzan/_train/pop.00073.au  \n",
            "  inflating: dataset/gtzan/_train/pop.00074.au  \n",
            "  inflating: dataset/gtzan/_train/pop.00075.au  \n",
            "  inflating: dataset/gtzan/_train/pop.00076.au  \n",
            "  inflating: dataset/gtzan/_train/pop.00077.au  \n",
            "  inflating: dataset/gtzan/_train/pop.00078.au  \n",
            "  inflating: dataset/gtzan/_train/pop.00079.au  \n",
            "  inflating: dataset/gtzan/_train/pop.00080.au  \n",
            "  inflating: dataset/gtzan/_train/pop.00081.au  \n",
            "  inflating: dataset/gtzan/_train/pop.00082.au  \n",
            "  inflating: dataset/gtzan/_train/pop.00083.au  \n",
            "  inflating: dataset/gtzan/_train/pop.00084.au  \n",
            "  inflating: dataset/gtzan/_train/pop.00085.au  \n",
            "  inflating: dataset/gtzan/_train/pop.00086.au  \n",
            "  inflating: dataset/gtzan/_train/pop.00087.au  \n",
            "  inflating: dataset/gtzan/_train/pop.00088.au  \n",
            "  inflating: dataset/gtzan/_train/pop.00089.au  \n",
            "  inflating: dataset/gtzan/_train/pop.00090.au  \n",
            "  inflating: dataset/gtzan/_train/pop.00091.au  \n",
            "  inflating: dataset/gtzan/_train/pop.00092.au  \n",
            "  inflating: dataset/gtzan/_train/pop.00093.au  \n",
            "  inflating: dataset/gtzan/_train/pop.00094.au  \n",
            "  inflating: dataset/gtzan/_train/pop.00095.au  \n",
            "  inflating: dataset/gtzan/_train/pop.00096.au  \n",
            "  inflating: dataset/gtzan/_train/pop.00097.au  \n",
            "  inflating: dataset/gtzan/_train/pop.00098.au  \n",
            "  inflating: dataset/gtzan/_train/pop.00099.au  \n",
            "  inflating: dataset/gtzan/_train/reggae.00030.au  \n",
            "  inflating: dataset/gtzan/_train/reggae.00031.au  \n",
            "  inflating: dataset/gtzan/_train/reggae.00032.au  \n",
            "  inflating: dataset/gtzan/_train/reggae.00033.au  \n",
            "  inflating: dataset/gtzan/_train/reggae.00034.au  \n",
            "  inflating: dataset/gtzan/_train/reggae.00035.au  \n",
            "  inflating: dataset/gtzan/_train/reggae.00036.au  \n",
            "  inflating: dataset/gtzan/_train/reggae.00037.au  \n",
            "  inflating: dataset/gtzan/_train/reggae.00038.au  \n",
            "  inflating: dataset/gtzan/_train/reggae.00039.au  \n",
            "  inflating: dataset/gtzan/_train/reggae.00040.au  \n",
            "  inflating: dataset/gtzan/_train/reggae.00041.au  \n",
            "  inflating: dataset/gtzan/_train/reggae.00042.au  \n",
            "  inflating: dataset/gtzan/_train/reggae.00043.au  \n",
            "  inflating: dataset/gtzan/_train/reggae.00044.au  \n",
            "  inflating: dataset/gtzan/_train/reggae.00045.au  \n",
            "  inflating: dataset/gtzan/_train/reggae.00046.au  \n",
            "  inflating: dataset/gtzan/_train/reggae.00047.au  \n",
            "  inflating: dataset/gtzan/_train/reggae.00048.au  \n",
            "  inflating: dataset/gtzan/_train/reggae.00049.au  \n",
            "  inflating: dataset/gtzan/_train/reggae.00050.au  \n",
            "  inflating: dataset/gtzan/_train/reggae.00051.au  \n",
            "  inflating: dataset/gtzan/_train/reggae.00052.au  \n",
            "  inflating: dataset/gtzan/_train/reggae.00053.au  \n",
            "  inflating: dataset/gtzan/_train/reggae.00054.au  \n",
            "  inflating: dataset/gtzan/_train/reggae.00055.au  \n",
            "  inflating: dataset/gtzan/_train/reggae.00056.au  \n",
            "  inflating: dataset/gtzan/_train/reggae.00057.au  \n",
            "  inflating: dataset/gtzan/_train/reggae.00058.au  \n",
            "  inflating: dataset/gtzan/_train/reggae.00059.au  \n",
            "  inflating: dataset/gtzan/_train/reggae.00060.au  \n",
            "  inflating: dataset/gtzan/_train/reggae.00061.au  \n",
            "  inflating: dataset/gtzan/_train/reggae.00062.au  \n",
            "  inflating: dataset/gtzan/_train/reggae.00063.au  \n",
            "  inflating: dataset/gtzan/_train/reggae.00064.au  \n",
            "  inflating: dataset/gtzan/_train/reggae.00065.au  \n",
            "  inflating: dataset/gtzan/_train/reggae.00066.au  \n",
            "  inflating: dataset/gtzan/_train/reggae.00067.au  \n",
            "  inflating: dataset/gtzan/_train/reggae.00068.au  \n",
            "  inflating: dataset/gtzan/_train/reggae.00069.au  \n",
            "  inflating: dataset/gtzan/_train/reggae.00070.au  \n",
            "  inflating: dataset/gtzan/_train/reggae.00071.au  \n",
            "  inflating: dataset/gtzan/_train/reggae.00072.au  \n",
            "  inflating: dataset/gtzan/_train/reggae.00073.au  \n",
            "  inflating: dataset/gtzan/_train/reggae.00074.au  \n",
            "  inflating: dataset/gtzan/_train/reggae.00075.au  \n",
            "  inflating: dataset/gtzan/_train/reggae.00076.au  \n",
            "  inflating: dataset/gtzan/_train/reggae.00077.au  \n",
            "  inflating: dataset/gtzan/_train/reggae.00078.au  \n",
            "  inflating: dataset/gtzan/_train/reggae.00079.au  \n",
            "  inflating: dataset/gtzan/_train/reggae.00080.au  \n",
            "  inflating: dataset/gtzan/_train/reggae.00081.au  \n",
            "  inflating: dataset/gtzan/_train/reggae.00082.au  \n",
            "  inflating: dataset/gtzan/_train/reggae.00083.au  \n",
            "  inflating: dataset/gtzan/_train/reggae.00084.au  \n",
            "  inflating: dataset/gtzan/_train/reggae.00085.au  \n",
            "  inflating: dataset/gtzan/_train/reggae.00086.au  \n",
            "  inflating: dataset/gtzan/_train/reggae.00087.au  \n",
            "  inflating: dataset/gtzan/_train/reggae.00088.au  \n",
            "  inflating: dataset/gtzan/_train/reggae.00089.au  \n",
            "  inflating: dataset/gtzan/_train/reggae.00090.au  \n",
            "  inflating: dataset/gtzan/_train/reggae.00091.au  \n",
            "  inflating: dataset/gtzan/_train/reggae.00092.au  \n",
            "  inflating: dataset/gtzan/_train/reggae.00093.au  \n",
            "  inflating: dataset/gtzan/_train/reggae.00094.au  \n",
            "  inflating: dataset/gtzan/_train/reggae.00095.au  \n",
            "  inflating: dataset/gtzan/_train/reggae.00096.au  \n",
            "  inflating: dataset/gtzan/_train/reggae.00097.au  \n",
            "  inflating: dataset/gtzan/_train/reggae.00098.au  \n",
            "  inflating: dataset/gtzan/_train/reggae.00099.au  \n",
            "   creating: dataset/gtzan/_validation/\n",
            "  inflating: dataset/gtzan/_validation/classical.00010.au  \n",
            "  inflating: dataset/gtzan/_validation/classical.00011.au  \n",
            "  inflating: dataset/gtzan/_validation/classical.00012.au  \n",
            "  inflating: dataset/gtzan/_validation/classical.00013.au  \n",
            "  inflating: dataset/gtzan/_validation/classical.00014.au  \n",
            "  inflating: dataset/gtzan/_validation/classical.00015.au  \n",
            "  inflating: dataset/gtzan/_validation/classical.00016.au  \n",
            "  inflating: dataset/gtzan/_validation/classical.00017.au  \n",
            "  inflating: dataset/gtzan/_validation/classical.00018.au  \n",
            "  inflating: dataset/gtzan/_validation/classical.00019.au  \n",
            "  inflating: dataset/gtzan/_validation/classical.00020.au  \n",
            "  inflating: dataset/gtzan/_validation/classical.00021.au  \n",
            "  inflating: dataset/gtzan/_validation/classical.00022.au  \n",
            "  inflating: dataset/gtzan/_validation/classical.00023.au  \n",
            "  inflating: dataset/gtzan/_validation/classical.00024.au  \n",
            "  inflating: dataset/gtzan/_validation/classical.00025.au  \n",
            "  inflating: dataset/gtzan/_validation/classical.00026.au  \n",
            "  inflating: dataset/gtzan/_validation/classical.00027.au  \n",
            "  inflating: dataset/gtzan/_validation/classical.00028.au  \n",
            "  inflating: dataset/gtzan/_validation/classical.00029.au  \n",
            "  inflating: dataset/gtzan/_validation/hiphop.00010.au  \n",
            "  inflating: dataset/gtzan/_validation/hiphop.00011.au  \n",
            "  inflating: dataset/gtzan/_validation/hiphop.00012.au  \n",
            "  inflating: dataset/gtzan/_validation/hiphop.00013.au  \n",
            "  inflating: dataset/gtzan/_validation/hiphop.00014.au  \n",
            "  inflating: dataset/gtzan/_validation/hiphop.00015.au  \n",
            "  inflating: dataset/gtzan/_validation/hiphop.00016.au  \n",
            "  inflating: dataset/gtzan/_validation/hiphop.00017.au  \n",
            "  inflating: dataset/gtzan/_validation/hiphop.00018.au  \n",
            "  inflating: dataset/gtzan/_validation/hiphop.00019.au  \n",
            "  inflating: dataset/gtzan/_validation/hiphop.00020.au  \n",
            "  inflating: dataset/gtzan/_validation/hiphop.00021.au  \n",
            "  inflating: dataset/gtzan/_validation/hiphop.00022.au  \n",
            "  inflating: dataset/gtzan/_validation/hiphop.00023.au  \n",
            "  inflating: dataset/gtzan/_validation/hiphop.00024.au  \n",
            "  inflating: dataset/gtzan/_validation/hiphop.00025.au  \n",
            "  inflating: dataset/gtzan/_validation/hiphop.00026.au  \n",
            "  inflating: dataset/gtzan/_validation/hiphop.00027.au  \n",
            "  inflating: dataset/gtzan/_validation/hiphop.00028.au  \n",
            "  inflating: dataset/gtzan/_validation/hiphop.00029.au  \n",
            "  inflating: dataset/gtzan/_validation/jazz.00010.au  \n",
            "  inflating: dataset/gtzan/_validation/jazz.00011.au  \n",
            "  inflating: dataset/gtzan/_validation/jazz.00012.au  \n",
            "  inflating: dataset/gtzan/_validation/jazz.00013.au  \n",
            "  inflating: dataset/gtzan/_validation/jazz.00014.au  \n",
            "  inflating: dataset/gtzan/_validation/jazz.00015.au  \n",
            "  inflating: dataset/gtzan/_validation/jazz.00016.au  \n",
            "  inflating: dataset/gtzan/_validation/jazz.00017.au  \n",
            "  inflating: dataset/gtzan/_validation/jazz.00018.au  \n",
            "  inflating: dataset/gtzan/_validation/jazz.00019.au  \n",
            "  inflating: dataset/gtzan/_validation/jazz.00020.au  \n",
            "  inflating: dataset/gtzan/_validation/jazz.00021.au  \n",
            "  inflating: dataset/gtzan/_validation/jazz.00022.au  \n",
            "  inflating: dataset/gtzan/_validation/jazz.00023.au  \n",
            "  inflating: dataset/gtzan/_validation/jazz.00024.au  \n",
            "  inflating: dataset/gtzan/_validation/jazz.00025.au  \n",
            "  inflating: dataset/gtzan/_validation/jazz.00026.au  \n",
            "  inflating: dataset/gtzan/_validation/jazz.00027.au  \n",
            "  inflating: dataset/gtzan/_validation/jazz.00028.au  \n",
            "  inflating: dataset/gtzan/_validation/jazz.00029.au  \n",
            "  inflating: dataset/gtzan/_validation/metal.00010.au  \n",
            "  inflating: dataset/gtzan/_validation/metal.00011.au  \n",
            "  inflating: dataset/gtzan/_validation/metal.00012.au  \n",
            "  inflating: dataset/gtzan/_validation/metal.00013.au  \n",
            "  inflating: dataset/gtzan/_validation/metal.00014.au  \n",
            "  inflating: dataset/gtzan/_validation/metal.00015.au  \n",
            "  inflating: dataset/gtzan/_validation/metal.00016.au  \n",
            "  inflating: dataset/gtzan/_validation/metal.00017.au  \n",
            "  inflating: dataset/gtzan/_validation/metal.00018.au  \n",
            "  inflating: dataset/gtzan/_validation/metal.00019.au  \n",
            "  inflating: dataset/gtzan/_validation/metal.00020.au  \n",
            "  inflating: dataset/gtzan/_validation/metal.00021.au  \n",
            "  inflating: dataset/gtzan/_validation/metal.00022.au  \n",
            "  inflating: dataset/gtzan/_validation/metal.00023.au  \n",
            "  inflating: dataset/gtzan/_validation/metal.00024.au  \n",
            "  inflating: dataset/gtzan/_validation/metal.00025.au  \n",
            "  inflating: dataset/gtzan/_validation/metal.00026.au  \n",
            "  inflating: dataset/gtzan/_validation/metal.00027.au  \n",
            "  inflating: dataset/gtzan/_validation/metal.00028.au  \n",
            "  inflating: dataset/gtzan/_validation/metal.00029.au  \n",
            "  inflating: dataset/gtzan/_validation/pop.00010.au  \n",
            "  inflating: dataset/gtzan/_validation/pop.00011.au  \n",
            "  inflating: dataset/gtzan/_validation/pop.00012.au  \n",
            "  inflating: dataset/gtzan/_validation/pop.00013.au  \n",
            "  inflating: dataset/gtzan/_validation/pop.00014.au  \n",
            "  inflating: dataset/gtzan/_validation/pop.00015.au  \n",
            "  inflating: dataset/gtzan/_validation/pop.00016.au  \n",
            "  inflating: dataset/gtzan/_validation/pop.00017.au  \n",
            "  inflating: dataset/gtzan/_validation/pop.00018.au  \n",
            "  inflating: dataset/gtzan/_validation/pop.00019.au  \n",
            "  inflating: dataset/gtzan/_validation/pop.00020.au  \n",
            "  inflating: dataset/gtzan/_validation/pop.00021.au  \n",
            "  inflating: dataset/gtzan/_validation/pop.00022.au  \n",
            "  inflating: dataset/gtzan/_validation/pop.00023.au  \n",
            "  inflating: dataset/gtzan/_validation/pop.00024.au  \n",
            "  inflating: dataset/gtzan/_validation/pop.00025.au  \n",
            "  inflating: dataset/gtzan/_validation/pop.00026.au  \n",
            "  inflating: dataset/gtzan/_validation/pop.00027.au  \n",
            "  inflating: dataset/gtzan/_validation/pop.00028.au  \n",
            "  inflating: dataset/gtzan/_validation/pop.00029.au  \n",
            "  inflating: dataset/gtzan/_validation/reggae.00010.au  \n",
            "  inflating: dataset/gtzan/_validation/reggae.00011.au  \n",
            "  inflating: dataset/gtzan/_validation/reggae.00012.au  \n",
            "  inflating: dataset/gtzan/_validation/reggae.00013.au  \n",
            "  inflating: dataset/gtzan/_validation/reggae.00014.au  \n",
            "  inflating: dataset/gtzan/_validation/reggae.00015.au  \n",
            "  inflating: dataset/gtzan/_validation/reggae.00016.au  \n",
            "  inflating: dataset/gtzan/_validation/reggae.00017.au  \n",
            "  inflating: dataset/gtzan/_validation/reggae.00018.au  \n",
            "  inflating: dataset/gtzan/_validation/reggae.00019.au  \n",
            "  inflating: dataset/gtzan/_validation/reggae.00020.au  \n",
            "  inflating: dataset/gtzan/_validation/reggae.00021.au  \n",
            "  inflating: dataset/gtzan/_validation/reggae.00022.au  \n",
            "  inflating: dataset/gtzan/_validation/reggae.00023.au  \n",
            "  inflating: dataset/gtzan/_validation/reggae.00024.au  \n",
            "  inflating: dataset/gtzan/_validation/reggae.00025.au  \n",
            "  inflating: dataset/gtzan/_validation/reggae.00026.au  \n",
            "  inflating: dataset/gtzan/_validation/reggae.00027.au  \n",
            "  inflating: dataset/gtzan/_validation/reggae.00028.au  \n",
            "  inflating: dataset/gtzan/_validation/reggae.00029.au  \n"
          ]
        }
      ]
    },
    {
      "cell_type": "markdown",
      "metadata": {
        "id": "s133ZOafHUa0"
      },
      "source": [
        "## (b) Audio Feature Extraction"
      ]
    },
    {
      "cell_type": "code",
      "metadata": {
        "id": "LicYt7kJHTrg",
        "colab": {
          "base_uri": "https://localhost:8080/"
        },
        "outputId": "15146669-7f60-4100-c428-126d0f2ee4cd"
      },
      "source": [
        "%cd /content\n",
        "data_root = \"dataset/gtzan\"  # change to the path where you store the downloaded zip file"
      ],
      "execution_count": 4,
      "outputs": [
        {
          "output_type": "stream",
          "name": "stdout",
          "text": [
            "/content\n"
          ]
        }
      ]
    },
    {
      "cell_type": "code",
      "metadata": {
        "id": "UcjZsUieaPCt"
      },
      "source": [
        "import os\n",
        "import re\n",
        "import math\n",
        "import numpy as np\n",
        "import librosa"
      ],
      "execution_count": 5,
      "outputs": []
    },
    {
      "cell_type": "code",
      "metadata": {
        "id": "mgxpbOIyHXkq"
      },
      "source": [
        "class GenreFeatureData:\n",
        "    \"Music audio features for genre classification\"\n",
        "    hop_length = None\n",
        "    genre_list = [\n",
        "        \"classical\",\n",
        "        \"country\",\n",
        "        \"disco\",\n",
        "        \"hiphop\",\n",
        "        \"jazz\",\n",
        "        \"metal\",\n",
        "        \"pop\",\n",
        "        \"reggae\",\n",
        "    ]\n",
        "\n",
        "    dir_trainfolder = os.path.join(data_root, \"_train\")\n",
        "    dir_devfolder = os.path.join(data_root, \"_validation\")\n",
        "    dir_testfolder = os.path.join(data_root, \"_test\")\n",
        "    dir_all_files = data_root\n",
        "\n",
        "    train_X_preprocessed_data = os.path.join(data_root, \"data_train_input.npy\")\n",
        "    train_Y_preprocessed_data = os.path.join(data_root, \"data_train_target.npy\")\n",
        "    dev_X_preprocessed_data = os.path.join(data_root, \"data_validation_input.npy\")\n",
        "    dev_Y_preprocessed_data = os.path.join(data_root, \"data_validation_target.npy\")\n",
        "    test_X_preprocessed_data = os.path.join(data_root, \"data_test_input.npy\")\n",
        "    test_Y_preprocessed_data = os.path.join(data_root, \"data_test_target.npy\")\n",
        "\n",
        "    train_X = train_Y = None\n",
        "    dev_X = dev_Y = None\n",
        "    test_X = test_Y = None\n",
        "\n",
        "    def __init__(self):\n",
        "        self.hop_length = 512\n",
        "\n",
        "        self.timeseries_length_list = []\n",
        "        self.trainfiles_list = self.path_to_audiofiles(self.dir_trainfolder)\n",
        "        self.devfiles_list = self.path_to_audiofiles(self.dir_devfolder)\n",
        "        self.testfiles_list = self.path_to_audiofiles(self.dir_testfolder)\n",
        "\n",
        "        self.all_files_list = []\n",
        "        self.all_files_list.extend(self.trainfiles_list)\n",
        "        self.all_files_list.extend(self.devfiles_list)\n",
        "        self.all_files_list.extend(self.testfiles_list)\n",
        "\n",
        "        self.timeseries_length = (\n",
        "            128\n",
        "        )   # sequence length == 128, default fftsize == 2048 & hop == 512 @ SR of 22050\n",
        "\n",
        "    def load_preprocess_data(self):\n",
        "        # Training set\n",
        "        self.train_X, self.train_Y = self.extract_audio_features(self.trainfiles_list)\n",
        "        with open(self.train_X_preprocessed_data, \"wb\") as f:\n",
        "            np.save(f, self.train_X)\n",
        "        with open(self.train_Y_preprocessed_data, \"wb\") as f:\n",
        "            self.train_Y = self.one_hot(self.train_Y)\n",
        "            np.save(f, self.train_Y)\n",
        "\n",
        "        # Validation set\n",
        "        self.dev_X, self.dev_Y = self.extract_audio_features(self.devfiles_list)\n",
        "        with open(self.dev_X_preprocessed_data, \"wb\") as f:\n",
        "            np.save(f, self.dev_X)\n",
        "        with open(self.dev_Y_preprocessed_data, \"wb\") as f:\n",
        "            self.dev_Y = self.one_hot(self.dev_Y)\n",
        "            np.save(f, self.dev_Y)\n",
        "\n",
        "        # Test set\n",
        "        self.test_X, self.test_Y = self.extract_audio_features(self.testfiles_list)\n",
        "        with open(self.test_X_preprocessed_data, \"wb\") as f:\n",
        "            np.save(f, self.test_X)\n",
        "        with open(self.test_Y_preprocessed_data, \"wb\") as f:\n",
        "            self.test_Y = self.one_hot(self.test_Y)\n",
        "            np.save(f, self.test_Y)\n",
        "\n",
        "    def extract_audio_features(self, list_of_audiofiles):\n",
        "        feat_dim = 33 # TODO: define your feature dimension\n",
        "        data = np.zeros(\n",
        "            (len(list_of_audiofiles), self.timeseries_length, feat_dim), \n",
        "            dtype=np.float64\n",
        "        )\n",
        "        target = []\n",
        "\n",
        "        for i, file in enumerate(list_of_audiofiles):\n",
        "            y, sr = librosa.load(file)\n",
        "            mfcc = librosa.feature.mfcc(\n",
        "                y=y, sr=sr, hop_length=self.hop_length, n_mfcc=13\n",
        "            )\n",
        "            spectral_center = librosa.feature.spectral_centroid(\n",
        "                y=y, sr=sr, hop_length=self.hop_length\n",
        "            )\n",
        "            chroma = librosa.feature.chroma_stft(y=y, sr=sr, hop_length=self.hop_length)\n",
        "            spectral_contrast = librosa.feature.spectral_contrast(\n",
        "                y=y, sr=sr, hop_length=self.hop_length\n",
        "            )\n",
        "\n",
        "            # TODO: feature extraction\n",
        "            data[i, :, 0:13] = mfcc.T[0:self.timeseries_length, :]            \n",
        "            data[i, :, 13:14] = spectral_center.T[0:self.timeseries_length, :]\n",
        "            data[i, :, 14:26] = chroma.T[0:self.timeseries_length, :]\n",
        "            data[i, :, 26:33] = spectral_contrast.T[0:self.timeseries_length, :]\n",
        "\n",
        "            splits = re.split(\"[ .]\", file)\n",
        "            genre = re.split(\"[ /]\", splits[0])[-1]\n",
        "            target.append(genre)\n",
        "\n",
        "            print(\n",
        "                \"Extracted features audio track %i of %i.\"\n",
        "                % (i + 1, len(list_of_audiofiles))\n",
        "            )\n",
        "\n",
        "        return data, np.expand_dims(np.asarray(target), axis=1)\n",
        "\n",
        "    def one_hot(self, Y_genre_strings):\n",
        "        y_one_hot = np.zeros((Y_genre_strings.shape[0], len(self.genre_list)))\n",
        "        for i, genre_string in enumerate(Y_genre_strings):\n",
        "            index = self.genre_list.index(genre_string)\n",
        "            y_one_hot[i, index] = 1\n",
        "        return y_one_hot\n",
        "\n",
        "    @staticmethod\n",
        "    def path_to_audiofiles(dir_folder):\n",
        "        list_of_audio = []\n",
        "        for file in os.listdir(dir_folder):\n",
        "            if file.endswith(\".au\"):\n",
        "                directory = \"%s/%s\" % (dir_folder, file)\n",
        "                list_of_audio.append(directory)\n",
        "        return list_of_audio"
      ],
      "execution_count": 6,
      "outputs": []
    },
    {
      "cell_type": "code",
      "metadata": {
        "id": "RFXVAL3xaZLp",
        "colab": {
          "base_uri": "https://localhost:8080/"
        },
        "outputId": "7f837040-0534-4782-be14-3f934587f63c"
      },
      "source": [
        "genre_features = GenreFeatureData()\n",
        "\n",
        "print(\"Preprocessing raw audio files\")\n",
        "genre_features.load_preprocess_data()"
      ],
      "execution_count": 7,
      "outputs": [
        {
          "output_type": "stream",
          "name": "stdout",
          "text": [
            "Preprocessing raw audio files\n",
            "Extracted features audio track 1 of 420.\n",
            "Extracted features audio track 2 of 420.\n",
            "Extracted features audio track 3 of 420.\n",
            "Extracted features audio track 4 of 420.\n",
            "Extracted features audio track 5 of 420.\n",
            "Extracted features audio track 6 of 420.\n",
            "Extracted features audio track 7 of 420.\n",
            "Extracted features audio track 8 of 420.\n",
            "Extracted features audio track 9 of 420.\n",
            "Extracted features audio track 10 of 420.\n",
            "Extracted features audio track 11 of 420.\n",
            "Extracted features audio track 12 of 420.\n",
            "Extracted features audio track 13 of 420.\n",
            "Extracted features audio track 14 of 420.\n",
            "Extracted features audio track 15 of 420.\n",
            "Extracted features audio track 16 of 420.\n",
            "Extracted features audio track 17 of 420.\n",
            "Extracted features audio track 18 of 420.\n",
            "Extracted features audio track 19 of 420.\n",
            "Extracted features audio track 20 of 420.\n",
            "Extracted features audio track 21 of 420.\n",
            "Extracted features audio track 22 of 420.\n",
            "Extracted features audio track 23 of 420.\n",
            "Extracted features audio track 24 of 420.\n",
            "Extracted features audio track 25 of 420.\n",
            "Extracted features audio track 26 of 420.\n",
            "Extracted features audio track 27 of 420.\n",
            "Extracted features audio track 28 of 420.\n",
            "Extracted features audio track 29 of 420.\n",
            "Extracted features audio track 30 of 420.\n",
            "Extracted features audio track 31 of 420.\n",
            "Extracted features audio track 32 of 420.\n",
            "Extracted features audio track 33 of 420.\n",
            "Extracted features audio track 34 of 420.\n",
            "Extracted features audio track 35 of 420.\n",
            "Extracted features audio track 36 of 420.\n",
            "Extracted features audio track 37 of 420.\n",
            "Extracted features audio track 38 of 420.\n",
            "Extracted features audio track 39 of 420.\n",
            "Extracted features audio track 40 of 420.\n",
            "Extracted features audio track 41 of 420.\n",
            "Extracted features audio track 42 of 420.\n",
            "Extracted features audio track 43 of 420.\n",
            "Extracted features audio track 44 of 420.\n",
            "Extracted features audio track 45 of 420.\n",
            "Extracted features audio track 46 of 420.\n",
            "Extracted features audio track 47 of 420.\n",
            "Extracted features audio track 48 of 420.\n",
            "Extracted features audio track 49 of 420.\n",
            "Extracted features audio track 50 of 420.\n",
            "Extracted features audio track 51 of 420.\n",
            "Extracted features audio track 52 of 420.\n",
            "Extracted features audio track 53 of 420.\n",
            "Extracted features audio track 54 of 420.\n",
            "Extracted features audio track 55 of 420.\n",
            "Extracted features audio track 56 of 420.\n",
            "Extracted features audio track 57 of 420.\n",
            "Extracted features audio track 58 of 420.\n",
            "Extracted features audio track 59 of 420.\n",
            "Extracted features audio track 60 of 420.\n",
            "Extracted features audio track 61 of 420.\n",
            "Extracted features audio track 62 of 420.\n",
            "Extracted features audio track 63 of 420.\n",
            "Extracted features audio track 64 of 420.\n",
            "Extracted features audio track 65 of 420.\n",
            "Extracted features audio track 66 of 420.\n",
            "Extracted features audio track 67 of 420.\n",
            "Extracted features audio track 68 of 420.\n",
            "Extracted features audio track 69 of 420.\n",
            "Extracted features audio track 70 of 420.\n",
            "Extracted features audio track 71 of 420.\n",
            "Extracted features audio track 72 of 420.\n",
            "Extracted features audio track 73 of 420.\n",
            "Extracted features audio track 74 of 420.\n",
            "Extracted features audio track 75 of 420.\n",
            "Extracted features audio track 76 of 420.\n",
            "Extracted features audio track 77 of 420.\n",
            "Extracted features audio track 78 of 420.\n",
            "Extracted features audio track 79 of 420.\n",
            "Extracted features audio track 80 of 420.\n",
            "Extracted features audio track 81 of 420.\n",
            "Extracted features audio track 82 of 420.\n",
            "Extracted features audio track 83 of 420.\n",
            "Extracted features audio track 84 of 420.\n",
            "Extracted features audio track 85 of 420.\n",
            "Extracted features audio track 86 of 420.\n",
            "Extracted features audio track 87 of 420.\n",
            "Extracted features audio track 88 of 420.\n",
            "Extracted features audio track 89 of 420.\n",
            "Extracted features audio track 90 of 420.\n",
            "Extracted features audio track 91 of 420.\n",
            "Extracted features audio track 92 of 420.\n",
            "Extracted features audio track 93 of 420.\n",
            "Extracted features audio track 94 of 420.\n",
            "Extracted features audio track 95 of 420.\n",
            "Extracted features audio track 96 of 420.\n",
            "Extracted features audio track 97 of 420.\n",
            "Extracted features audio track 98 of 420.\n",
            "Extracted features audio track 99 of 420.\n",
            "Extracted features audio track 100 of 420.\n",
            "Extracted features audio track 101 of 420.\n",
            "Extracted features audio track 102 of 420.\n",
            "Extracted features audio track 103 of 420.\n",
            "Extracted features audio track 104 of 420.\n",
            "Extracted features audio track 105 of 420.\n",
            "Extracted features audio track 106 of 420.\n",
            "Extracted features audio track 107 of 420.\n",
            "Extracted features audio track 108 of 420.\n",
            "Extracted features audio track 109 of 420.\n",
            "Extracted features audio track 110 of 420.\n",
            "Extracted features audio track 111 of 420.\n",
            "Extracted features audio track 112 of 420.\n",
            "Extracted features audio track 113 of 420.\n",
            "Extracted features audio track 114 of 420.\n",
            "Extracted features audio track 115 of 420.\n",
            "Extracted features audio track 116 of 420.\n",
            "Extracted features audio track 117 of 420.\n",
            "Extracted features audio track 118 of 420.\n",
            "Extracted features audio track 119 of 420.\n",
            "Extracted features audio track 120 of 420.\n",
            "Extracted features audio track 121 of 420.\n",
            "Extracted features audio track 122 of 420.\n",
            "Extracted features audio track 123 of 420.\n",
            "Extracted features audio track 124 of 420.\n",
            "Extracted features audio track 125 of 420.\n",
            "Extracted features audio track 126 of 420.\n",
            "Extracted features audio track 127 of 420.\n",
            "Extracted features audio track 128 of 420.\n",
            "Extracted features audio track 129 of 420.\n",
            "Extracted features audio track 130 of 420.\n",
            "Extracted features audio track 131 of 420.\n",
            "Extracted features audio track 132 of 420.\n",
            "Extracted features audio track 133 of 420.\n",
            "Extracted features audio track 134 of 420.\n",
            "Extracted features audio track 135 of 420.\n",
            "Extracted features audio track 136 of 420.\n",
            "Extracted features audio track 137 of 420.\n",
            "Extracted features audio track 138 of 420.\n",
            "Extracted features audio track 139 of 420.\n",
            "Extracted features audio track 140 of 420.\n",
            "Extracted features audio track 141 of 420.\n",
            "Extracted features audio track 142 of 420.\n",
            "Extracted features audio track 143 of 420.\n",
            "Extracted features audio track 144 of 420.\n",
            "Extracted features audio track 145 of 420.\n",
            "Extracted features audio track 146 of 420.\n",
            "Extracted features audio track 147 of 420.\n",
            "Extracted features audio track 148 of 420.\n",
            "Extracted features audio track 149 of 420.\n",
            "Extracted features audio track 150 of 420.\n",
            "Extracted features audio track 151 of 420.\n",
            "Extracted features audio track 152 of 420.\n",
            "Extracted features audio track 153 of 420.\n",
            "Extracted features audio track 154 of 420.\n",
            "Extracted features audio track 155 of 420.\n",
            "Extracted features audio track 156 of 420.\n",
            "Extracted features audio track 157 of 420.\n",
            "Extracted features audio track 158 of 420.\n",
            "Extracted features audio track 159 of 420.\n",
            "Extracted features audio track 160 of 420.\n",
            "Extracted features audio track 161 of 420.\n",
            "Extracted features audio track 162 of 420.\n",
            "Extracted features audio track 163 of 420.\n",
            "Extracted features audio track 164 of 420.\n",
            "Extracted features audio track 165 of 420.\n",
            "Extracted features audio track 166 of 420.\n",
            "Extracted features audio track 167 of 420.\n",
            "Extracted features audio track 168 of 420.\n",
            "Extracted features audio track 169 of 420.\n",
            "Extracted features audio track 170 of 420.\n",
            "Extracted features audio track 171 of 420.\n",
            "Extracted features audio track 172 of 420.\n",
            "Extracted features audio track 173 of 420.\n",
            "Extracted features audio track 174 of 420.\n",
            "Extracted features audio track 175 of 420.\n",
            "Extracted features audio track 176 of 420.\n",
            "Extracted features audio track 177 of 420.\n",
            "Extracted features audio track 178 of 420.\n",
            "Extracted features audio track 179 of 420.\n",
            "Extracted features audio track 180 of 420.\n",
            "Extracted features audio track 181 of 420.\n",
            "Extracted features audio track 182 of 420.\n",
            "Extracted features audio track 183 of 420.\n",
            "Extracted features audio track 184 of 420.\n",
            "Extracted features audio track 185 of 420.\n",
            "Extracted features audio track 186 of 420.\n",
            "Extracted features audio track 187 of 420.\n",
            "Extracted features audio track 188 of 420.\n",
            "Extracted features audio track 189 of 420.\n",
            "Extracted features audio track 190 of 420.\n",
            "Extracted features audio track 191 of 420.\n",
            "Extracted features audio track 192 of 420.\n",
            "Extracted features audio track 193 of 420.\n",
            "Extracted features audio track 194 of 420.\n",
            "Extracted features audio track 195 of 420.\n",
            "Extracted features audio track 196 of 420.\n",
            "Extracted features audio track 197 of 420.\n",
            "Extracted features audio track 198 of 420.\n",
            "Extracted features audio track 199 of 420.\n",
            "Extracted features audio track 200 of 420.\n",
            "Extracted features audio track 201 of 420.\n",
            "Extracted features audio track 202 of 420.\n",
            "Extracted features audio track 203 of 420.\n",
            "Extracted features audio track 204 of 420.\n",
            "Extracted features audio track 205 of 420.\n",
            "Extracted features audio track 206 of 420.\n",
            "Extracted features audio track 207 of 420.\n",
            "Extracted features audio track 208 of 420.\n",
            "Extracted features audio track 209 of 420.\n",
            "Extracted features audio track 210 of 420.\n",
            "Extracted features audio track 211 of 420.\n",
            "Extracted features audio track 212 of 420.\n",
            "Extracted features audio track 213 of 420.\n",
            "Extracted features audio track 214 of 420.\n",
            "Extracted features audio track 215 of 420.\n",
            "Extracted features audio track 216 of 420.\n",
            "Extracted features audio track 217 of 420.\n",
            "Extracted features audio track 218 of 420.\n",
            "Extracted features audio track 219 of 420.\n",
            "Extracted features audio track 220 of 420.\n",
            "Extracted features audio track 221 of 420.\n",
            "Extracted features audio track 222 of 420.\n",
            "Extracted features audio track 223 of 420.\n",
            "Extracted features audio track 224 of 420.\n",
            "Extracted features audio track 225 of 420.\n",
            "Extracted features audio track 226 of 420.\n",
            "Extracted features audio track 227 of 420.\n",
            "Extracted features audio track 228 of 420.\n",
            "Extracted features audio track 229 of 420.\n",
            "Extracted features audio track 230 of 420.\n",
            "Extracted features audio track 231 of 420.\n",
            "Extracted features audio track 232 of 420.\n",
            "Extracted features audio track 233 of 420.\n",
            "Extracted features audio track 234 of 420.\n",
            "Extracted features audio track 235 of 420.\n",
            "Extracted features audio track 236 of 420.\n",
            "Extracted features audio track 237 of 420.\n",
            "Extracted features audio track 238 of 420.\n",
            "Extracted features audio track 239 of 420.\n",
            "Extracted features audio track 240 of 420.\n",
            "Extracted features audio track 241 of 420.\n",
            "Extracted features audio track 242 of 420.\n",
            "Extracted features audio track 243 of 420.\n",
            "Extracted features audio track 244 of 420.\n",
            "Extracted features audio track 245 of 420.\n",
            "Extracted features audio track 246 of 420.\n",
            "Extracted features audio track 247 of 420.\n",
            "Extracted features audio track 248 of 420.\n",
            "Extracted features audio track 249 of 420.\n",
            "Extracted features audio track 250 of 420.\n",
            "Extracted features audio track 251 of 420.\n",
            "Extracted features audio track 252 of 420.\n",
            "Extracted features audio track 253 of 420.\n",
            "Extracted features audio track 254 of 420.\n",
            "Extracted features audio track 255 of 420.\n",
            "Extracted features audio track 256 of 420.\n",
            "Extracted features audio track 257 of 420.\n",
            "Extracted features audio track 258 of 420.\n",
            "Extracted features audio track 259 of 420.\n",
            "Extracted features audio track 260 of 420.\n",
            "Extracted features audio track 261 of 420.\n",
            "Extracted features audio track 262 of 420.\n",
            "Extracted features audio track 263 of 420.\n",
            "Extracted features audio track 264 of 420.\n",
            "Extracted features audio track 265 of 420.\n",
            "Extracted features audio track 266 of 420.\n",
            "Extracted features audio track 267 of 420.\n",
            "Extracted features audio track 268 of 420.\n",
            "Extracted features audio track 269 of 420.\n",
            "Extracted features audio track 270 of 420.\n",
            "Extracted features audio track 271 of 420.\n",
            "Extracted features audio track 272 of 420.\n",
            "Extracted features audio track 273 of 420.\n",
            "Extracted features audio track 274 of 420.\n",
            "Extracted features audio track 275 of 420.\n",
            "Extracted features audio track 276 of 420.\n",
            "Extracted features audio track 277 of 420.\n",
            "Extracted features audio track 278 of 420.\n",
            "Extracted features audio track 279 of 420.\n",
            "Extracted features audio track 280 of 420.\n",
            "Extracted features audio track 281 of 420.\n",
            "Extracted features audio track 282 of 420.\n",
            "Extracted features audio track 283 of 420.\n",
            "Extracted features audio track 284 of 420.\n",
            "Extracted features audio track 285 of 420.\n",
            "Extracted features audio track 286 of 420.\n",
            "Extracted features audio track 287 of 420.\n",
            "Extracted features audio track 288 of 420.\n",
            "Extracted features audio track 289 of 420.\n",
            "Extracted features audio track 290 of 420.\n",
            "Extracted features audio track 291 of 420.\n",
            "Extracted features audio track 292 of 420.\n",
            "Extracted features audio track 293 of 420.\n",
            "Extracted features audio track 294 of 420.\n",
            "Extracted features audio track 295 of 420.\n",
            "Extracted features audio track 296 of 420.\n",
            "Extracted features audio track 297 of 420.\n",
            "Extracted features audio track 298 of 420.\n",
            "Extracted features audio track 299 of 420.\n",
            "Extracted features audio track 300 of 420.\n",
            "Extracted features audio track 301 of 420.\n",
            "Extracted features audio track 302 of 420.\n",
            "Extracted features audio track 303 of 420.\n",
            "Extracted features audio track 304 of 420.\n",
            "Extracted features audio track 305 of 420.\n",
            "Extracted features audio track 306 of 420.\n",
            "Extracted features audio track 307 of 420.\n",
            "Extracted features audio track 308 of 420.\n",
            "Extracted features audio track 309 of 420.\n",
            "Extracted features audio track 310 of 420.\n",
            "Extracted features audio track 311 of 420.\n",
            "Extracted features audio track 312 of 420.\n",
            "Extracted features audio track 313 of 420.\n",
            "Extracted features audio track 314 of 420.\n",
            "Extracted features audio track 315 of 420.\n",
            "Extracted features audio track 316 of 420.\n",
            "Extracted features audio track 317 of 420.\n",
            "Extracted features audio track 318 of 420.\n",
            "Extracted features audio track 319 of 420.\n",
            "Extracted features audio track 320 of 420.\n",
            "Extracted features audio track 321 of 420.\n",
            "Extracted features audio track 322 of 420.\n",
            "Extracted features audio track 323 of 420.\n",
            "Extracted features audio track 324 of 420.\n",
            "Extracted features audio track 325 of 420.\n",
            "Extracted features audio track 326 of 420.\n",
            "Extracted features audio track 327 of 420.\n",
            "Extracted features audio track 328 of 420.\n",
            "Extracted features audio track 329 of 420.\n",
            "Extracted features audio track 330 of 420.\n",
            "Extracted features audio track 331 of 420.\n",
            "Extracted features audio track 332 of 420.\n",
            "Extracted features audio track 333 of 420.\n",
            "Extracted features audio track 334 of 420.\n",
            "Extracted features audio track 335 of 420.\n",
            "Extracted features audio track 336 of 420.\n",
            "Extracted features audio track 337 of 420.\n",
            "Extracted features audio track 338 of 420.\n",
            "Extracted features audio track 339 of 420.\n",
            "Extracted features audio track 340 of 420.\n",
            "Extracted features audio track 341 of 420.\n",
            "Extracted features audio track 342 of 420.\n",
            "Extracted features audio track 343 of 420.\n",
            "Extracted features audio track 344 of 420.\n",
            "Extracted features audio track 345 of 420.\n",
            "Extracted features audio track 346 of 420.\n",
            "Extracted features audio track 347 of 420.\n",
            "Extracted features audio track 348 of 420.\n",
            "Extracted features audio track 349 of 420.\n",
            "Extracted features audio track 350 of 420.\n",
            "Extracted features audio track 351 of 420.\n",
            "Extracted features audio track 352 of 420.\n",
            "Extracted features audio track 353 of 420.\n",
            "Extracted features audio track 354 of 420.\n",
            "Extracted features audio track 355 of 420.\n",
            "Extracted features audio track 356 of 420.\n",
            "Extracted features audio track 357 of 420.\n",
            "Extracted features audio track 358 of 420.\n",
            "Extracted features audio track 359 of 420.\n",
            "Extracted features audio track 360 of 420.\n",
            "Extracted features audio track 361 of 420.\n",
            "Extracted features audio track 362 of 420.\n",
            "Extracted features audio track 363 of 420.\n",
            "Extracted features audio track 364 of 420.\n",
            "Extracted features audio track 365 of 420.\n",
            "Extracted features audio track 366 of 420.\n",
            "Extracted features audio track 367 of 420.\n",
            "Extracted features audio track 368 of 420.\n",
            "Extracted features audio track 369 of 420.\n",
            "Extracted features audio track 370 of 420.\n",
            "Extracted features audio track 371 of 420.\n",
            "Extracted features audio track 372 of 420.\n",
            "Extracted features audio track 373 of 420.\n",
            "Extracted features audio track 374 of 420.\n",
            "Extracted features audio track 375 of 420.\n",
            "Extracted features audio track 376 of 420.\n",
            "Extracted features audio track 377 of 420.\n",
            "Extracted features audio track 378 of 420.\n",
            "Extracted features audio track 379 of 420.\n",
            "Extracted features audio track 380 of 420.\n",
            "Extracted features audio track 381 of 420.\n",
            "Extracted features audio track 382 of 420.\n",
            "Extracted features audio track 383 of 420.\n",
            "Extracted features audio track 384 of 420.\n",
            "Extracted features audio track 385 of 420.\n",
            "Extracted features audio track 386 of 420.\n",
            "Extracted features audio track 387 of 420.\n",
            "Extracted features audio track 388 of 420.\n",
            "Extracted features audio track 389 of 420.\n",
            "Extracted features audio track 390 of 420.\n",
            "Extracted features audio track 391 of 420.\n",
            "Extracted features audio track 392 of 420.\n",
            "Extracted features audio track 393 of 420.\n",
            "Extracted features audio track 394 of 420.\n",
            "Extracted features audio track 395 of 420.\n",
            "Extracted features audio track 396 of 420.\n",
            "Extracted features audio track 397 of 420.\n",
            "Extracted features audio track 398 of 420.\n",
            "Extracted features audio track 399 of 420.\n",
            "Extracted features audio track 400 of 420.\n",
            "Extracted features audio track 401 of 420.\n",
            "Extracted features audio track 402 of 420.\n",
            "Extracted features audio track 403 of 420.\n",
            "Extracted features audio track 404 of 420.\n",
            "Extracted features audio track 405 of 420.\n",
            "Extracted features audio track 406 of 420.\n",
            "Extracted features audio track 407 of 420.\n",
            "Extracted features audio track 408 of 420.\n",
            "Extracted features audio track 409 of 420.\n",
            "Extracted features audio track 410 of 420.\n",
            "Extracted features audio track 411 of 420.\n",
            "Extracted features audio track 412 of 420.\n",
            "Extracted features audio track 413 of 420.\n",
            "Extracted features audio track 414 of 420.\n",
            "Extracted features audio track 415 of 420.\n",
            "Extracted features audio track 416 of 420.\n",
            "Extracted features audio track 417 of 420.\n",
            "Extracted features audio track 418 of 420.\n",
            "Extracted features audio track 419 of 420.\n",
            "Extracted features audio track 420 of 420.\n",
            "Extracted features audio track 1 of 120.\n",
            "Extracted features audio track 2 of 120.\n",
            "Extracted features audio track 3 of 120.\n",
            "Extracted features audio track 4 of 120.\n",
            "Extracted features audio track 5 of 120.\n",
            "Extracted features audio track 6 of 120.\n",
            "Extracted features audio track 7 of 120.\n",
            "Extracted features audio track 8 of 120.\n",
            "Extracted features audio track 9 of 120.\n",
            "Extracted features audio track 10 of 120.\n",
            "Extracted features audio track 11 of 120.\n",
            "Extracted features audio track 12 of 120.\n",
            "Extracted features audio track 13 of 120.\n",
            "Extracted features audio track 14 of 120.\n",
            "Extracted features audio track 15 of 120.\n",
            "Extracted features audio track 16 of 120.\n",
            "Extracted features audio track 17 of 120.\n",
            "Extracted features audio track 18 of 120.\n",
            "Extracted features audio track 19 of 120.\n",
            "Extracted features audio track 20 of 120.\n",
            "Extracted features audio track 21 of 120.\n",
            "Extracted features audio track 22 of 120.\n",
            "Extracted features audio track 23 of 120.\n",
            "Extracted features audio track 24 of 120.\n",
            "Extracted features audio track 25 of 120.\n",
            "Extracted features audio track 26 of 120.\n",
            "Extracted features audio track 27 of 120.\n",
            "Extracted features audio track 28 of 120.\n",
            "Extracted features audio track 29 of 120.\n",
            "Extracted features audio track 30 of 120.\n",
            "Extracted features audio track 31 of 120.\n",
            "Extracted features audio track 32 of 120.\n",
            "Extracted features audio track 33 of 120.\n",
            "Extracted features audio track 34 of 120.\n",
            "Extracted features audio track 35 of 120.\n",
            "Extracted features audio track 36 of 120.\n",
            "Extracted features audio track 37 of 120.\n",
            "Extracted features audio track 38 of 120.\n",
            "Extracted features audio track 39 of 120.\n",
            "Extracted features audio track 40 of 120.\n",
            "Extracted features audio track 41 of 120.\n",
            "Extracted features audio track 42 of 120.\n",
            "Extracted features audio track 43 of 120.\n",
            "Extracted features audio track 44 of 120.\n",
            "Extracted features audio track 45 of 120.\n",
            "Extracted features audio track 46 of 120.\n",
            "Extracted features audio track 47 of 120.\n",
            "Extracted features audio track 48 of 120.\n",
            "Extracted features audio track 49 of 120.\n",
            "Extracted features audio track 50 of 120.\n",
            "Extracted features audio track 51 of 120.\n",
            "Extracted features audio track 52 of 120.\n",
            "Extracted features audio track 53 of 120.\n",
            "Extracted features audio track 54 of 120.\n",
            "Extracted features audio track 55 of 120.\n",
            "Extracted features audio track 56 of 120.\n",
            "Extracted features audio track 57 of 120.\n",
            "Extracted features audio track 58 of 120.\n",
            "Extracted features audio track 59 of 120.\n",
            "Extracted features audio track 60 of 120.\n",
            "Extracted features audio track 61 of 120.\n",
            "Extracted features audio track 62 of 120.\n",
            "Extracted features audio track 63 of 120.\n",
            "Extracted features audio track 64 of 120.\n",
            "Extracted features audio track 65 of 120.\n",
            "Extracted features audio track 66 of 120.\n",
            "Extracted features audio track 67 of 120.\n",
            "Extracted features audio track 68 of 120.\n",
            "Extracted features audio track 69 of 120.\n",
            "Extracted features audio track 70 of 120.\n",
            "Extracted features audio track 71 of 120.\n",
            "Extracted features audio track 72 of 120.\n",
            "Extracted features audio track 73 of 120.\n",
            "Extracted features audio track 74 of 120.\n",
            "Extracted features audio track 75 of 120.\n",
            "Extracted features audio track 76 of 120.\n",
            "Extracted features audio track 77 of 120.\n",
            "Extracted features audio track 78 of 120.\n",
            "Extracted features audio track 79 of 120.\n",
            "Extracted features audio track 80 of 120.\n",
            "Extracted features audio track 81 of 120.\n",
            "Extracted features audio track 82 of 120.\n",
            "Extracted features audio track 83 of 120.\n",
            "Extracted features audio track 84 of 120.\n",
            "Extracted features audio track 85 of 120.\n",
            "Extracted features audio track 86 of 120.\n",
            "Extracted features audio track 87 of 120.\n",
            "Extracted features audio track 88 of 120.\n",
            "Extracted features audio track 89 of 120.\n",
            "Extracted features audio track 90 of 120.\n",
            "Extracted features audio track 91 of 120.\n",
            "Extracted features audio track 92 of 120.\n",
            "Extracted features audio track 93 of 120.\n",
            "Extracted features audio track 94 of 120.\n",
            "Extracted features audio track 95 of 120.\n",
            "Extracted features audio track 96 of 120.\n",
            "Extracted features audio track 97 of 120.\n",
            "Extracted features audio track 98 of 120.\n",
            "Extracted features audio track 99 of 120.\n",
            "Extracted features audio track 100 of 120.\n",
            "Extracted features audio track 101 of 120.\n",
            "Extracted features audio track 102 of 120.\n",
            "Extracted features audio track 103 of 120.\n",
            "Extracted features audio track 104 of 120.\n",
            "Extracted features audio track 105 of 120.\n",
            "Extracted features audio track 106 of 120.\n",
            "Extracted features audio track 107 of 120.\n",
            "Extracted features audio track 108 of 120.\n",
            "Extracted features audio track 109 of 120.\n",
            "Extracted features audio track 110 of 120.\n",
            "Extracted features audio track 111 of 120.\n",
            "Extracted features audio track 112 of 120.\n",
            "Extracted features audio track 113 of 120.\n",
            "Extracted features audio track 114 of 120.\n",
            "Extracted features audio track 115 of 120.\n",
            "Extracted features audio track 116 of 120.\n",
            "Extracted features audio track 117 of 120.\n",
            "Extracted features audio track 118 of 120.\n",
            "Extracted features audio track 119 of 120.\n",
            "Extracted features audio track 120 of 120.\n",
            "Extracted features audio track 1 of 60.\n",
            "Extracted features audio track 2 of 60.\n",
            "Extracted features audio track 3 of 60.\n",
            "Extracted features audio track 4 of 60.\n",
            "Extracted features audio track 5 of 60.\n",
            "Extracted features audio track 6 of 60.\n",
            "Extracted features audio track 7 of 60.\n",
            "Extracted features audio track 8 of 60.\n",
            "Extracted features audio track 9 of 60.\n",
            "Extracted features audio track 10 of 60.\n",
            "Extracted features audio track 11 of 60.\n",
            "Extracted features audio track 12 of 60.\n",
            "Extracted features audio track 13 of 60.\n",
            "Extracted features audio track 14 of 60.\n",
            "Extracted features audio track 15 of 60.\n",
            "Extracted features audio track 16 of 60.\n",
            "Extracted features audio track 17 of 60.\n",
            "Extracted features audio track 18 of 60.\n",
            "Extracted features audio track 19 of 60.\n",
            "Extracted features audio track 20 of 60.\n",
            "Extracted features audio track 21 of 60.\n",
            "Extracted features audio track 22 of 60.\n",
            "Extracted features audio track 23 of 60.\n",
            "Extracted features audio track 24 of 60.\n",
            "Extracted features audio track 25 of 60.\n",
            "Extracted features audio track 26 of 60.\n",
            "Extracted features audio track 27 of 60.\n",
            "Extracted features audio track 28 of 60.\n",
            "Extracted features audio track 29 of 60.\n",
            "Extracted features audio track 30 of 60.\n",
            "Extracted features audio track 31 of 60.\n",
            "Extracted features audio track 32 of 60.\n",
            "Extracted features audio track 33 of 60.\n",
            "Extracted features audio track 34 of 60.\n",
            "Extracted features audio track 35 of 60.\n",
            "Extracted features audio track 36 of 60.\n",
            "Extracted features audio track 37 of 60.\n",
            "Extracted features audio track 38 of 60.\n",
            "Extracted features audio track 39 of 60.\n",
            "Extracted features audio track 40 of 60.\n",
            "Extracted features audio track 41 of 60.\n",
            "Extracted features audio track 42 of 60.\n",
            "Extracted features audio track 43 of 60.\n",
            "Extracted features audio track 44 of 60.\n",
            "Extracted features audio track 45 of 60.\n",
            "Extracted features audio track 46 of 60.\n",
            "Extracted features audio track 47 of 60.\n",
            "Extracted features audio track 48 of 60.\n",
            "Extracted features audio track 49 of 60.\n",
            "Extracted features audio track 50 of 60.\n",
            "Extracted features audio track 51 of 60.\n",
            "Extracted features audio track 52 of 60.\n",
            "Extracted features audio track 53 of 60.\n",
            "Extracted features audio track 54 of 60.\n",
            "Extracted features audio track 55 of 60.\n",
            "Extracted features audio track 56 of 60.\n",
            "Extracted features audio track 57 of 60.\n",
            "Extracted features audio track 58 of 60.\n",
            "Extracted features audio track 59 of 60.\n",
            "Extracted features audio track 60 of 60.\n"
          ]
        }
      ]
    },
    {
      "cell_type": "markdown",
      "metadata": {
        "id": "FqjryNCJ9EHo"
      },
      "source": [
        "Print out the dimension of training features, valiation features, and test features, as well as the ground truths."
      ]
    },
    {
      "cell_type": "markdown",
      "source": [
        "**Training Dimensions**"
      ],
      "metadata": {
        "id": "FrddEMVzrjpM"
      }
    },
    {
      "cell_type": "code",
      "metadata": {
        "id": "47hXjqxJlkhG",
        "colab": {
          "base_uri": "https://localhost:8080/"
        },
        "outputId": "cba69ec5-77c8-4b7e-b13e-6c60f5606c80"
      },
      "source": [
        "genre_features.train_X.shape"
      ],
      "execution_count": 8,
      "outputs": [
        {
          "output_type": "execute_result",
          "data": {
            "text/plain": [
              "(420, 128, 33)"
            ]
          },
          "metadata": {},
          "execution_count": 8
        }
      ]
    },
    {
      "cell_type": "code",
      "source": [
        "genre_features.train_Y.shape"
      ],
      "metadata": {
        "colab": {
          "base_uri": "https://localhost:8080/"
        },
        "id": "NsZqk5b-Sogz",
        "outputId": "33d008af-b0bc-4185-9278-9e7ba9a2c1aa"
      },
      "execution_count": 9,
      "outputs": [
        {
          "output_type": "execute_result",
          "data": {
            "text/plain": [
              "(420, 8)"
            ]
          },
          "metadata": {},
          "execution_count": 9
        }
      ]
    },
    {
      "cell_type": "markdown",
      "source": [
        "**Validation Dimensions**"
      ],
      "metadata": {
        "id": "LvG5agRsrpSv"
      }
    },
    {
      "cell_type": "code",
      "source": [
        "genre_features.dev_X.shape"
      ],
      "metadata": {
        "colab": {
          "base_uri": "https://localhost:8080/"
        },
        "id": "J8I4TbaIrotT",
        "outputId": "c656fd85-935c-467c-e1c7-2763445319ca"
      },
      "execution_count": 10,
      "outputs": [
        {
          "output_type": "execute_result",
          "data": {
            "text/plain": [
              "(120, 128, 33)"
            ]
          },
          "metadata": {},
          "execution_count": 10
        }
      ]
    },
    {
      "cell_type": "code",
      "source": [
        "genre_features.dev_Y.shape"
      ],
      "metadata": {
        "colab": {
          "base_uri": "https://localhost:8080/"
        },
        "id": "sYq0IdGvSvSp",
        "outputId": "5b7b74df-a73c-4efd-942b-c39f881fea48"
      },
      "execution_count": 11,
      "outputs": [
        {
          "output_type": "execute_result",
          "data": {
            "text/plain": [
              "(120, 8)"
            ]
          },
          "metadata": {},
          "execution_count": 11
        }
      ]
    },
    {
      "cell_type": "markdown",
      "source": [
        "**Test Dimensions**"
      ],
      "metadata": {
        "id": "ljbalAnmrvSe"
      }
    },
    {
      "cell_type": "code",
      "source": [
        "genre_features.test_X.shape"
      ],
      "metadata": {
        "colab": {
          "base_uri": "https://localhost:8080/"
        },
        "id": "Sf_tCOiOrx7z",
        "outputId": "b568a649-cfab-40a7-bc3c-0a8196631ba7"
      },
      "execution_count": 12,
      "outputs": [
        {
          "output_type": "execute_result",
          "data": {
            "text/plain": [
              "(60, 128, 33)"
            ]
          },
          "metadata": {},
          "execution_count": 12
        }
      ]
    },
    {
      "cell_type": "code",
      "source": [
        "genre_features.test_Y.shape"
      ],
      "metadata": {
        "colab": {
          "base_uri": "https://localhost:8080/"
        },
        "id": "7FL9SnvGS7kE",
        "outputId": "a907587a-a1a5-430c-af10-512a21079962"
      },
      "execution_count": 13,
      "outputs": [
        {
          "output_type": "execute_result",
          "data": {
            "text/plain": [
              "(60, 8)"
            ]
          },
          "metadata": {},
          "execution_count": 13
        }
      ]
    },
    {
      "cell_type": "markdown",
      "metadata": {
        "id": "Pb4ze_-4rfEn"
      },
      "source": [
        "**Visualize MFCC and Chromagram features.**"
      ]
    },
    {
      "cell_type": "code",
      "source": [
        "%matplotlib inline\n",
        "import matplotlib.pyplot as plt\n",
        "import librosa.display\n",
        "import random"
      ],
      "metadata": {
        "id": "MvmNZqWHvrW0"
      },
      "execution_count": 14,
      "outputs": []
    },
    {
      "cell_type": "code",
      "source": [
        "def display_mfcc_and_chroma(idx):   \n",
        "  fig, axs = plt.subplots(1, 2, figsize = (20, 5))\n",
        "  plt.gray()\n",
        "  print(f'Filename: {genre_features.trainfiles_list[idx]}')\n",
        "  librosa.display.specshow(genre_features.train_X[idx, :, 0:13].T, x_axis='time', ax=axs[0]);\n",
        "  librosa.display.specshow(genre_features.train_X[idx, :, 14:26].T, y_axis='chroma', x_axis='time', ax=axs[1]) \n",
        "  plt.show();  "
      ],
      "metadata": {
        "id": "uXIXzSToM0m2"
      },
      "execution_count": 15,
      "outputs": []
    },
    {
      "cell_type": "code",
      "source": [
        "display_mfcc_and_chroma(0)"
      ],
      "metadata": {
        "colab": {
          "base_uri": "https://localhost:8080/",
          "height": 351
        },
        "id": "V9OVDmAnIHuu",
        "outputId": "de5194de-bff0-4e9e-f4f0-7b6f17bf321c"
      },
      "execution_count": 16,
      "outputs": [
        {
          "output_type": "stream",
          "name": "stdout",
          "text": [
            "Filename: dataset/gtzan/_train/classical.00032.au\n"
          ]
        },
        {
          "output_type": "display_data",
          "data": {
            "image/png": "[encoded data removed]",
            "text/plain": [
              "<Figure size 1440x360 with 2 Axes>"
            ]
          },
          "metadata": {
            "needs_background": "light"
          }
        }
      ]
    },
    {
      "cell_type": "code",
      "source": [
        "display_mfcc_and_chroma(113)"
      ],
      "metadata": {
        "colab": {
          "base_uri": "https://localhost:8080/",
          "height": 351
        },
        "id": "1w2HEIpOMrYB",
        "outputId": "2df46893-d45d-4f7b-a518-17ac3feaa4ba"
      },
      "execution_count": 17,
      "outputs": [
        {
          "output_type": "stream",
          "name": "stdout",
          "text": [
            "Filename: dataset/gtzan/_train/hiphop.00078.au\n"
          ]
        },
        {
          "output_type": "display_data",
          "data": {
            "image/png": "[encoded data removed]",
            "text/plain": [
              "<Figure size 1440x360 with 2 Axes>"
            ]
          },
          "metadata": {
            "needs_background": "light"
          }
        }
      ]
    },
    {
      "cell_type": "code",
      "source": [
        "display_mfcc_and_chroma(401)"
      ],
      "metadata": {
        "colab": {
          "base_uri": "https://localhost:8080/",
          "height": 351
        },
        "id": "7r-QGX1rNPzf",
        "outputId": "dbcecaf8-165d-48dd-eda7-0f8f02c82626"
      },
      "execution_count": 18,
      "outputs": [
        {
          "output_type": "stream",
          "name": "stdout",
          "text": [
            "Filename: dataset/gtzan/_train/hiphop.00075.au\n"
          ]
        },
        {
          "output_type": "display_data",
          "data": {
            "image/png": "[encoded data removed]",
            "text/plain": [
              "<Figure size 1440x360 with 2 Axes>"
            ]
          },
          "metadata": {
            "needs_background": "light"
          }
        }
      ]
    },
    {
      "cell_type": "markdown",
      "metadata": {
        "id": "v5rXGd4JYitk"
      },
      "source": [
        "## (c) LSTM Implementation"
      ]
    },
    {
      "cell_type": "code",
      "metadata": {
        "id": "R_od3MUQG_gc"
      },
      "source": [
        "import matplotlib.pyplot as plt\n",
        "import torch\n",
        "import torch.nn as nn\n",
        "import torch.nn.functional as F\n",
        "import torch.optim as optim\n",
        "from torch.utils.data import Dataset\n",
        "from torch.utils.data import DataLoader\n",
        "from torch.autograd import Variable"
      ],
      "execution_count": 19,
      "outputs": []
    },
    {
      "cell_type": "code",
      "metadata": {
        "id": "3FC4izP8C28W"
      },
      "source": [
        "from torch.nn.modules import dropout\n",
        "class LSTM(nn.Module):\n",
        "    def __init__(self, input_dim, feature_dim, batch_size, output_dim, num_layers):\n",
        "        super(LSTM, self).__init__()\n",
        "        self.input_dim = input_dim\n",
        "        self.feature_dim = feature_dim\n",
        "        self.batch_size = batch_size\n",
        "        self.num_layers = num_layers\n",
        "\n",
        "        self.lstm = nn.LSTM(self.input_dim, self.feature_dim, self.num_layers, batch_first=True, dropout=.3)\n",
        "        self.fc = nn.Linear(self.feature_dim, output_dim)\n",
        "\n",
        "    def forward(self, input):        \n",
        "        h0 = torch.zeros(self.num_layers, input.size(0), self.feature_dim).requires_grad_()\n",
        "        c0 = torch.zeros(self.num_layers, input.size(0), self.feature_dim).requires_grad_()\n",
        "\n",
        "        lstm_out, _ = self.lstm(input, (h0.detach(), c0.detach())) \n",
        "        logits = self.fc(lstm_out[:, -1, :])                    \n",
        "        genre_scores = F.log_softmax(logits, dim=1)\n",
        "\n",
        "        return genre_scores\n",
        "\n",
        "\n",
        "    def get_accuracy(self, logits, target):\n",
        "        \"\"\" compute accuracy for training round \"\"\"\n",
        "        corrects = (\n",
        "            torch.max(logits, 1)[1].view(target.size()).data == target.data\n",
        "        ).sum()\n",
        "        accuracy = 100.0 * corrects / self.batch_size\n",
        "        return accuracy.item()"
      ],
      "execution_count": 33,
      "outputs": []
    },
    {
      "cell_type": "code",
      "source": [
        "batch_size = 30 \n",
        "\n",
        "class AudioFeatures(Dataset):\n",
        "    def __init__(self, features, labels):\n",
        "        self.features = features \n",
        "        self.labels = labels\n",
        "\n",
        "    def __len__(self):\n",
        "        return len(self.labels)\n",
        "\n",
        "    def __getitem__(self, idx):\n",
        "        return self.features[idx, :, :], torch.max(self.labels[idx], 0)[1] \n",
        "\n",
        "train_X = torch.from_numpy(genre_features.train_X).type(torch.Tensor)\n",
        "train_Y = torch.from_numpy(genre_features.train_Y).type(torch.LongTensor)\n",
        "dev_X = torch.from_numpy(genre_features.dev_X).type(torch.Tensor)\n",
        "dev_Y = torch.from_numpy(genre_features.dev_Y).type(torch.LongTensor)\n",
        "test_X = torch.from_numpy(genre_features.test_X).type(torch.Tensor)\n",
        "test_Y = torch.from_numpy(genre_features.test_Y).type(torch.LongTensor)\n",
        "\n",
        "train_set = AudioFeatures(train_X, train_Y)\n",
        "val_set = AudioFeatures(dev_X, dev_Y)\n",
        "test_set = AudioFeatures(test_X, test_Y)\n",
        "train_dataloader = DataLoader(train_set, batch_size=batch_size, shuffle=True)\n",
        "val_dataloader = DataLoader(val_set, batch_size=batch_size)\n",
        "test_dataloader = DataLoader(test_set, batch_size=batch_size)        "
      ],
      "metadata": {
        "id": "xNUgnY6cZpQk"
      },
      "execution_count": 24,
      "outputs": []
    },
    {
      "cell_type": "code",
      "source": [
        "def train(dataloader, model, loss_fn, optimizer):\n",
        "    model.train()\n",
        "\n",
        "    running_loss, running_acc = 0.0, 0.0\n",
        "    for batch, (X, y) in enumerate(dataloader):\n",
        "        optimizer.zero_grad()\n",
        "\n",
        "        pred = model(X)\n",
        "        loss = loss_fn(pred, y)\n",
        "\n",
        "        loss.backward()\n",
        "        optimizer.step()\n",
        "\n",
        "        running_loss += loss.detach().item()  \n",
        "        running_acc += model.get_accuracy(pred, y)\n",
        "    \n",
        "    return (running_loss, running_acc)\n",
        "\n",
        "def test(dataloader, model, loss_fn):\n",
        "    model.eval()\n",
        "\n",
        "    running_loss, running_acc = 0.0, 0.0\n",
        "    with torch.no_grad():\n",
        "        for X, y in dataloader:\n",
        "            pred = model(X)\n",
        "\n",
        "            loss = loss_fn(pred, y)\n",
        "            running_loss += loss.detach().item()  \n",
        "            running_acc += model.get_accuracy(pred, y)\n",
        "            \n",
        "    return (running_loss, running_acc)"
      ],
      "metadata": {
        "id": "dodUFBWxhJzm"
      },
      "execution_count": 25,
      "outputs": []
    },
    {
      "cell_type": "code",
      "source": [
        "epochs = 200\n",
        "model = LSTM(33, 128, batch_size, 8, 2)\n",
        "loss_function = nn.CrossEntropyLoss()\n",
        "optimizer = optim.Adam(model.parameters(), lr=0.001)\n",
        "num_train_batches = len(train_dataloader) \n",
        "num_val_batches = len(val_dataloader) \n",
        "train_losses,  val_losses, epochs_list = [], [], []\n",
        "\n",
        "for epoch in range(epochs):\n",
        "    train_metrics = train(train_dataloader, model, loss_function, optimizer)\n",
        "    print(\n",
        "        \"Epoch:  %d | Train Loss: %.4f | Train Accuracy: %.2f\"\n",
        "        % (epoch+1, train_metrics[0] / num_train_batches, train_metrics[1] / num_train_batches)\n",
        "    )    \n",
        "\n",
        "    if (epoch+1) % 10 == 0:\n",
        "      val_metrics = test(val_dataloader, model, loss_function)\n",
        "      print(\n",
        "        \"Epoch:  %d | Val Loss: %.4f | Val Accuracy: %.2f\"\n",
        "        % (epoch+1, val_metrics[0] / num_val_batches, val_metrics[1] / num_val_batches)\n",
        "      )\n",
        "\n",
        "      epochs_list.append(epoch)\n",
        "      train_losses.append(train_metrics[0] / num_train_batches)\n",
        "      val_losses.append(val_metrics[0] / num_val_batches)\n",
        "\n",
        "print(\"Done!\")"
      ],
      "metadata": {
        "colab": {
          "base_uri": "https://localhost:8080/"
        },
        "id": "uGxnpPoFhZMK",
        "outputId": "0b0cf73a-eb7f-4a28-a187-d6376d2e43b2"
      },
      "execution_count": 30,
      "outputs": [
        {
          "output_type": "stream",
          "name": "stdout",
          "text": [
            "Epoch:  1 | Train Loss: 1.9142 | Train Accuracy: 19.29\n",
            "Epoch:  2 | Train Loss: 1.6201 | Train Accuracy: 34.52\n",
            "Epoch:  3 | Train Loss: 1.4764 | Train Accuracy: 34.52\n",
            "Epoch:  4 | Train Loss: 1.4092 | Train Accuracy: 35.95\n",
            "Epoch:  5 | Train Loss: 1.3080 | Train Accuracy: 50.00\n",
            "Epoch:  6 | Train Loss: 1.2366 | Train Accuracy: 50.48\n",
            "Epoch:  7 | Train Loss: 1.2320 | Train Accuracy: 47.38\n",
            "Epoch:  8 | Train Loss: 1.1944 | Train Accuracy: 52.38\n",
            "Epoch:  9 | Train Loss: 1.1006 | Train Accuracy: 58.33\n",
            "Epoch:  10 | Train Loss: 1.1060 | Train Accuracy: 55.71\n",
            "Epoch:  10 | Val Loss: 1.0660 | Val Accuracy: 61.67\n",
            "Epoch:  11 | Train Loss: 1.0243 | Train Accuracy: 61.19\n",
            "Epoch:  12 | Train Loss: 0.9683 | Train Accuracy: 64.05\n",
            "Epoch:  13 | Train Loss: 1.0879 | Train Accuracy: 57.14\n",
            "Epoch:  14 | Train Loss: 1.1175 | Train Accuracy: 54.52\n",
            "Epoch:  15 | Train Loss: 0.9874 | Train Accuracy: 61.43\n",
            "Epoch:  16 | Train Loss: 1.0092 | Train Accuracy: 60.95\n",
            "Epoch:  17 | Train Loss: 1.4035 | Train Accuracy: 45.95\n",
            "Epoch:  18 | Train Loss: 1.1717 | Train Accuracy: 53.10\n",
            "Epoch:  19 | Train Loss: 1.0985 | Train Accuracy: 60.00\n",
            "Epoch:  20 | Train Loss: 0.9879 | Train Accuracy: 64.05\n",
            "Epoch:  20 | Val Loss: 1.0665 | Val Accuracy: 58.33\n",
            "Epoch:  21 | Train Loss: 0.9260 | Train Accuracy: 65.71\n",
            "Epoch:  22 | Train Loss: 0.8757 | Train Accuracy: 67.14\n",
            "Epoch:  23 | Train Loss: 0.9199 | Train Accuracy: 63.81\n",
            "Epoch:  24 | Train Loss: 0.9933 | Train Accuracy: 59.52\n",
            "Epoch:  25 | Train Loss: 0.9232 | Train Accuracy: 60.71\n",
            "Epoch:  26 | Train Loss: 0.8721 | Train Accuracy: 66.90\n",
            "Epoch:  27 | Train Loss: 0.8429 | Train Accuracy: 65.48\n",
            "Epoch:  28 | Train Loss: 0.7994 | Train Accuracy: 66.90\n",
            "Epoch:  29 | Train Loss: 1.2739 | Train Accuracy: 56.19\n",
            "Epoch:  30 | Train Loss: 1.5429 | Train Accuracy: 44.52\n",
            "Epoch:  30 | Val Loss: 1.3127 | Val Accuracy: 48.33\n",
            "Epoch:  31 | Train Loss: 1.2869 | Train Accuracy: 46.67\n",
            "Epoch:  32 | Train Loss: 1.1837 | Train Accuracy: 55.48\n",
            "Epoch:  33 | Train Loss: 1.1585 | Train Accuracy: 57.14\n",
            "Epoch:  34 | Train Loss: 1.1671 | Train Accuracy: 53.57\n",
            "Epoch:  35 | Train Loss: 1.1401 | Train Accuracy: 58.81\n",
            "Epoch:  36 | Train Loss: 1.0260 | Train Accuracy: 64.76\n",
            "Epoch:  37 | Train Loss: 0.9475 | Train Accuracy: 65.95\n",
            "Epoch:  38 | Train Loss: 0.9030 | Train Accuracy: 63.57\n",
            "Epoch:  39 | Train Loss: 0.8955 | Train Accuracy: 63.33\n",
            "Epoch:  40 | Train Loss: 1.0594 | Train Accuracy: 60.00\n",
            "Epoch:  40 | Val Loss: 1.9417 | Val Accuracy: 46.67\n",
            "Epoch:  41 | Train Loss: 1.3987 | Train Accuracy: 46.90\n",
            "Epoch:  42 | Train Loss: 1.0956 | Train Accuracy: 57.38\n",
            "Epoch:  43 | Train Loss: 1.0067 | Train Accuracy: 62.86\n",
            "Epoch:  44 | Train Loss: 1.0346 | Train Accuracy: 58.33\n",
            "Epoch:  45 | Train Loss: 1.0083 | Train Accuracy: 61.67\n",
            "Epoch:  46 | Train Loss: 0.8752 | Train Accuracy: 65.48\n",
            "Epoch:  47 | Train Loss: 0.8663 | Train Accuracy: 66.43\n",
            "Epoch:  48 | Train Loss: 0.9542 | Train Accuracy: 62.38\n",
            "Epoch:  49 | Train Loss: 1.1054 | Train Accuracy: 56.90\n",
            "Epoch:  50 | Train Loss: 0.9494 | Train Accuracy: 62.62\n",
            "Epoch:  50 | Val Loss: 1.0084 | Val Accuracy: 61.67\n",
            "Epoch:  51 | Train Loss: 0.9376 | Train Accuracy: 61.67\n",
            "Epoch:  52 | Train Loss: 0.8627 | Train Accuracy: 67.62\n",
            "Epoch:  53 | Train Loss: 0.8427 | Train Accuracy: 65.95\n",
            "Epoch:  54 | Train Loss: 0.8016 | Train Accuracy: 66.43\n",
            "Epoch:  55 | Train Loss: 0.7654 | Train Accuracy: 68.81\n",
            "Epoch:  56 | Train Loss: 0.7976 | Train Accuracy: 67.38\n",
            "Epoch:  57 | Train Loss: 0.8003 | Train Accuracy: 68.10\n",
            "Epoch:  58 | Train Loss: 0.7646 | Train Accuracy: 68.10\n",
            "Epoch:  59 | Train Loss: 0.9687 | Train Accuracy: 61.90\n",
            "Epoch:  60 | Train Loss: 0.9401 | Train Accuracy: 60.48\n",
            "Epoch:  60 | Val Loss: 0.9934 | Val Accuracy: 65.00\n",
            "Epoch:  61 | Train Loss: 0.8154 | Train Accuracy: 70.24\n",
            "Epoch:  62 | Train Loss: 0.7916 | Train Accuracy: 66.90\n",
            "Epoch:  63 | Train Loss: 0.7654 | Train Accuracy: 70.71\n",
            "Epoch:  64 | Train Loss: 0.7224 | Train Accuracy: 73.81\n",
            "Epoch:  65 | Train Loss: 0.7352 | Train Accuracy: 72.62\n",
            "Epoch:  66 | Train Loss: 0.8152 | Train Accuracy: 66.67\n",
            "Epoch:  67 | Train Loss: 0.7267 | Train Accuracy: 71.90\n",
            "Epoch:  68 | Train Loss: 0.7162 | Train Accuracy: 69.52\n",
            "Epoch:  69 | Train Loss: 0.6577 | Train Accuracy: 74.05\n",
            "Epoch:  70 | Train Loss: 0.6876 | Train Accuracy: 73.81\n",
            "Epoch:  70 | Val Loss: 1.0767 | Val Accuracy: 62.50\n",
            "Epoch:  71 | Train Loss: 0.8740 | Train Accuracy: 67.38\n",
            "Epoch:  72 | Train Loss: 0.8455 | Train Accuracy: 67.86\n",
            "Epoch:  73 | Train Loss: 0.7371 | Train Accuracy: 71.19\n",
            "Epoch:  74 | Train Loss: 0.7283 | Train Accuracy: 71.43\n",
            "Epoch:  75 | Train Loss: 0.7244 | Train Accuracy: 71.67\n",
            "Epoch:  76 | Train Loss: 0.7228 | Train Accuracy: 73.10\n",
            "Epoch:  77 | Train Loss: 0.7398 | Train Accuracy: 71.67\n",
            "Epoch:  78 | Train Loss: 0.7361 | Train Accuracy: 71.43\n",
            "Epoch:  79 | Train Loss: 0.6906 | Train Accuracy: 75.24\n",
            "Epoch:  80 | Train Loss: 0.6576 | Train Accuracy: 76.43\n",
            "Epoch:  80 | Val Loss: 1.1193 | Val Accuracy: 66.67\n",
            "Epoch:  81 | Train Loss: 0.7636 | Train Accuracy: 71.19\n",
            "Epoch:  82 | Train Loss: 1.0293 | Train Accuracy: 62.38\n",
            "Epoch:  83 | Train Loss: 0.9080 | Train Accuracy: 64.29\n",
            "Epoch:  84 | Train Loss: 0.8334 | Train Accuracy: 68.33\n",
            "Epoch:  85 | Train Loss: 0.7711 | Train Accuracy: 67.38\n",
            "Epoch:  86 | Train Loss: 0.7456 | Train Accuracy: 70.71\n",
            "Epoch:  87 | Train Loss: 0.7461 | Train Accuracy: 70.00\n",
            "Epoch:  88 | Train Loss: 0.7951 | Train Accuracy: 70.24\n",
            "Epoch:  89 | Train Loss: 0.7666 | Train Accuracy: 69.29\n",
            "Epoch:  90 | Train Loss: 0.7417 | Train Accuracy: 68.81\n",
            "Epoch:  90 | Val Loss: 1.0401 | Val Accuracy: 66.67\n",
            "Epoch:  91 | Train Loss: 0.7075 | Train Accuracy: 71.67\n",
            "Epoch:  92 | Train Loss: 0.7398 | Train Accuracy: 73.81\n",
            "Epoch:  93 | Train Loss: 0.8639 | Train Accuracy: 68.10\n",
            "Epoch:  94 | Train Loss: 0.7958 | Train Accuracy: 69.29\n",
            "Epoch:  95 | Train Loss: 0.7485 | Train Accuracy: 70.24\n",
            "Epoch:  96 | Train Loss: 0.6854 | Train Accuracy: 72.86\n",
            "Epoch:  97 | Train Loss: 0.6773 | Train Accuracy: 75.48\n",
            "Epoch:  98 | Train Loss: 0.9482 | Train Accuracy: 64.05\n",
            "Epoch:  99 | Train Loss: 1.0997 | Train Accuracy: 53.33\n",
            "Epoch:  100 | Train Loss: 0.8666 | Train Accuracy: 63.57\n",
            "Epoch:  100 | Val Loss: 1.1637 | Val Accuracy: 61.67\n",
            "Epoch:  101 | Train Loss: 0.8280 | Train Accuracy: 65.48\n",
            "Epoch:  102 | Train Loss: 0.7747 | Train Accuracy: 68.81\n",
            "Epoch:  103 | Train Loss: 0.7847 | Train Accuracy: 69.05\n",
            "Epoch:  104 | Train Loss: 0.7696 | Train Accuracy: 68.10\n",
            "Epoch:  105 | Train Loss: 0.9734 | Train Accuracy: 62.86\n",
            "Epoch:  106 | Train Loss: 0.8557 | Train Accuracy: 65.24\n",
            "Epoch:  107 | Train Loss: 0.8844 | Train Accuracy: 65.48\n",
            "Epoch:  108 | Train Loss: 0.8414 | Train Accuracy: 66.67\n",
            "Epoch:  109 | Train Loss: 0.8765 | Train Accuracy: 62.86\n",
            "Epoch:  110 | Train Loss: 0.8814 | Train Accuracy: 64.76\n",
            "Epoch:  110 | Val Loss: 1.1161 | Val Accuracy: 60.00\n",
            "Epoch:  111 | Train Loss: 0.8901 | Train Accuracy: 66.90\n",
            "Epoch:  112 | Train Loss: 0.7741 | Train Accuracy: 68.57\n",
            "Epoch:  113 | Train Loss: 0.8042 | Train Accuracy: 68.33\n",
            "Epoch:  114 | Train Loss: 0.7957 | Train Accuracy: 69.52\n",
            "Epoch:  115 | Train Loss: 0.7731 | Train Accuracy: 70.71\n",
            "Epoch:  116 | Train Loss: 0.7693 | Train Accuracy: 70.00\n",
            "Epoch:  117 | Train Loss: 0.7385 | Train Accuracy: 70.71\n",
            "Epoch:  118 | Train Loss: 0.7105 | Train Accuracy: 72.14\n",
            "Epoch:  119 | Train Loss: 0.7047 | Train Accuracy: 71.19\n",
            "Epoch:  120 | Train Loss: 0.6788 | Train Accuracy: 74.29\n",
            "Epoch:  120 | Val Loss: 1.0517 | Val Accuracy: 65.83\n",
            "Epoch:  121 | Train Loss: 0.6819 | Train Accuracy: 71.90\n",
            "Epoch:  122 | Train Loss: 0.6575 | Train Accuracy: 74.29\n",
            "Epoch:  123 | Train Loss: 0.6227 | Train Accuracy: 76.19\n",
            "Epoch:  124 | Train Loss: 0.6099 | Train Accuracy: 76.90\n",
            "Epoch:  125 | Train Loss: 0.5925 | Train Accuracy: 76.67\n",
            "Epoch:  126 | Train Loss: 0.5971 | Train Accuracy: 76.90\n",
            "Epoch:  127 | Train Loss: 0.5715 | Train Accuracy: 78.57\n",
            "Epoch:  128 | Train Loss: 0.6142 | Train Accuracy: 76.19\n",
            "Epoch:  129 | Train Loss: 0.7586 | Train Accuracy: 71.90\n",
            "Epoch:  130 | Train Loss: 0.7276 | Train Accuracy: 71.43\n",
            "Epoch:  130 | Val Loss: 1.0163 | Val Accuracy: 70.00\n",
            "Epoch:  131 | Train Loss: 0.6241 | Train Accuracy: 75.71\n",
            "Epoch:  132 | Train Loss: 0.5929 | Train Accuracy: 75.71\n",
            "Epoch:  133 | Train Loss: 0.5374 | Train Accuracy: 80.48\n",
            "Epoch:  134 | Train Loss: 0.5682 | Train Accuracy: 77.86\n",
            "Epoch:  135 | Train Loss: 0.5449 | Train Accuracy: 79.29\n",
            "Epoch:  136 | Train Loss: 0.5673 | Train Accuracy: 80.24\n",
            "Epoch:  137 | Train Loss: 0.5109 | Train Accuracy: 81.43\n",
            "Epoch:  138 | Train Loss: 0.5516 | Train Accuracy: 78.81\n",
            "Epoch:  139 | Train Loss: 0.5265 | Train Accuracy: 80.71\n",
            "Epoch:  140 | Train Loss: 0.5544 | Train Accuracy: 79.76\n",
            "Epoch:  140 | Val Loss: 1.2331 | Val Accuracy: 57.50\n",
            "Epoch:  141 | Train Loss: 0.5962 | Train Accuracy: 77.86\n",
            "Epoch:  142 | Train Loss: 0.5608 | Train Accuracy: 77.62\n",
            "Epoch:  143 | Train Loss: 0.5069 | Train Accuracy: 79.76\n",
            "Epoch:  144 | Train Loss: 0.4705 | Train Accuracy: 83.33\n",
            "Epoch:  145 | Train Loss: 0.6041 | Train Accuracy: 77.62\n",
            "Epoch:  146 | Train Loss: 0.5526 | Train Accuracy: 78.33\n",
            "Epoch:  147 | Train Loss: 0.5293 | Train Accuracy: 79.05\n",
            "Epoch:  148 | Train Loss: 0.5005 | Train Accuracy: 81.19\n",
            "Epoch:  149 | Train Loss: 0.5098 | Train Accuracy: 81.43\n",
            "Epoch:  150 | Train Loss: 0.6268 | Train Accuracy: 74.29\n",
            "Epoch:  150 | Val Loss: 1.4230 | Val Accuracy: 58.33\n",
            "Epoch:  151 | Train Loss: 0.5572 | Train Accuracy: 79.29\n",
            "Epoch:  152 | Train Loss: 0.5190 | Train Accuracy: 79.52\n",
            "Epoch:  153 | Train Loss: 0.5390 | Train Accuracy: 81.43\n",
            "Epoch:  154 | Train Loss: 0.4970 | Train Accuracy: 80.48\n",
            "Epoch:  155 | Train Loss: 0.4902 | Train Accuracy: 82.62\n",
            "Epoch:  156 | Train Loss: 0.6055 | Train Accuracy: 77.38\n",
            "Epoch:  157 | Train Loss: 0.7208 | Train Accuracy: 74.29\n",
            "Epoch:  158 | Train Loss: 0.5439 | Train Accuracy: 81.67\n",
            "Epoch:  159 | Train Loss: 0.5303 | Train Accuracy: 81.90\n",
            "Epoch:  160 | Train Loss: 0.5922 | Train Accuracy: 77.38\n",
            "Epoch:  160 | Val Loss: 0.9157 | Val Accuracy: 72.50\n",
            "Epoch:  161 | Train Loss: 0.5809 | Train Accuracy: 77.86\n",
            "Epoch:  162 | Train Loss: 0.5577 | Train Accuracy: 77.62\n",
            "Epoch:  163 | Train Loss: 0.5828 | Train Accuracy: 79.52\n",
            "Epoch:  164 | Train Loss: 0.4811 | Train Accuracy: 82.14\n",
            "Epoch:  165 | Train Loss: 0.4990 | Train Accuracy: 80.24\n",
            "Epoch:  166 | Train Loss: 0.5336 | Train Accuracy: 80.95\n",
            "Epoch:  167 | Train Loss: 0.4602 | Train Accuracy: 83.33\n",
            "Epoch:  168 | Train Loss: 0.5533 | Train Accuracy: 81.43\n",
            "Epoch:  169 | Train Loss: 0.5731 | Train Accuracy: 78.81\n",
            "Epoch:  170 | Train Loss: 0.6043 | Train Accuracy: 77.14\n",
            "Epoch:  170 | Val Loss: 1.1761 | Val Accuracy: 65.83\n",
            "Epoch:  171 | Train Loss: 0.5805 | Train Accuracy: 77.38\n",
            "Epoch:  172 | Train Loss: 0.4949 | Train Accuracy: 81.67\n",
            "Epoch:  173 | Train Loss: 0.4639 | Train Accuracy: 82.14\n",
            "Epoch:  174 | Train Loss: 0.5084 | Train Accuracy: 80.71\n",
            "Epoch:  175 | Train Loss: 0.4916 | Train Accuracy: 82.14\n",
            "Epoch:  176 | Train Loss: 0.5144 | Train Accuracy: 80.00\n",
            "Epoch:  177 | Train Loss: 0.4798 | Train Accuracy: 83.33\n",
            "Epoch:  178 | Train Loss: 0.5061 | Train Accuracy: 81.19\n",
            "Epoch:  179 | Train Loss: 0.5408 | Train Accuracy: 78.57\n",
            "Epoch:  180 | Train Loss: 0.5012 | Train Accuracy: 80.00\n",
            "Epoch:  180 | Val Loss: 1.1761 | Val Accuracy: 62.50\n",
            "Epoch:  181 | Train Loss: 0.4392 | Train Accuracy: 84.52\n",
            "Epoch:  182 | Train Loss: 0.4137 | Train Accuracy: 84.52\n",
            "Epoch:  183 | Train Loss: 0.4012 | Train Accuracy: 84.76\n",
            "Epoch:  184 | Train Loss: 0.4500 | Train Accuracy: 81.19\n",
            "Epoch:  185 | Train Loss: 0.4366 | Train Accuracy: 83.81\n",
            "Epoch:  186 | Train Loss: 0.4356 | Train Accuracy: 82.62\n",
            "Epoch:  187 | Train Loss: 0.3940 | Train Accuracy: 85.71\n",
            "Epoch:  188 | Train Loss: 0.3687 | Train Accuracy: 86.90\n",
            "Epoch:  189 | Train Loss: 0.3967 | Train Accuracy: 85.71\n",
            "Epoch:  190 | Train Loss: 0.4523 | Train Accuracy: 83.57\n",
            "Epoch:  190 | Val Loss: 0.8940 | Val Accuracy: 68.33\n",
            "Epoch:  191 | Train Loss: 0.4716 | Train Accuracy: 81.90\n",
            "Epoch:  192 | Train Loss: 0.3736 | Train Accuracy: 86.67\n",
            "Epoch:  193 | Train Loss: 0.3361 | Train Accuracy: 88.10\n",
            "Epoch:  194 | Train Loss: 0.4179 | Train Accuracy: 84.76\n",
            "Epoch:  195 | Train Loss: 0.4181 | Train Accuracy: 83.33\n",
            "Epoch:  196 | Train Loss: 0.4193 | Train Accuracy: 84.29\n",
            "Epoch:  197 | Train Loss: 0.4055 | Train Accuracy: 87.14\n",
            "Epoch:  198 | Train Loss: 0.3374 | Train Accuracy: 87.14\n",
            "Epoch:  199 | Train Loss: 0.3013 | Train Accuracy: 89.52\n",
            "Epoch:  200 | Train Loss: 0.3280 | Train Accuracy: 89.29\n",
            "Epoch:  200 | Val Loss: 1.0497 | Val Accuracy: 70.83\n",
            "Done!\n"
          ]
        }
      ]
    },
    {
      "cell_type": "markdown",
      "metadata": {
        "id": "tSK3rxnwxD48"
      },
      "source": [
        "Visualize loss during the training."
      ]
    },
    {
      "cell_type": "code",
      "metadata": {
        "id": "7WkpfdMy5B20",
        "colab": {
          "base_uri": "https://localhost:8080/",
          "height": 295
        },
        "outputId": "3c80d662-4296-4dd3-fd46-f103fb277734"
      },
      "source": [
        "plt.plot(epochs_list, train_losses, label='Train')\n",
        "plt.plot(epochs_list, val_losses, label='Val')\n",
        "plt.xlabel(\"# of Epochs\")\n",
        "plt.ylabel(\"Loss\")\n",
        "plt.title(\"Loss vs Epochs\")\n",
        "plt.legend()\n",
        "plt.show()"
      ],
      "execution_count": 31,
      "outputs": [
        {
          "output_type": "display_data",
          "data": {
            "image/png": "[encoded data removed]",
            "text/plain": [
              "<Figure size 432x288 with 1 Axes>"
            ]
          },
          "metadata": {
            "needs_background": "light"
          }
        }
      ]
    },
    {
      "cell_type": "markdown",
      "metadata": {
        "id": "y9p_kt-2xROL"
      },
      "source": [
        "## (d) Evaluation and Ablation Study"
      ]
    },
    {
      "cell_type": "markdown",
      "source": [
        "**Test Accuracy**"
      ],
      "metadata": {
        "id": "ECkDD0hQArZR"
      }
    },
    {
      "cell_type": "code",
      "metadata": {
        "id": "ekdnaCmWxW7t",
        "colab": {
          "base_uri": "https://localhost:8080/"
        },
        "outputId": "be5fc93e-e948-4574-8b94-67640fdab18b"
      },
      "source": [
        "metrics = test(test_dataloader, model, loss_function)\n",
        "print(\n",
        "  \"Avg Test Loss: %.4f | Avg Test Accuracy: %.2f\"\n",
        "      % (metrics[0] / len(test_dataloader), metrics[1] / len(test_dataloader))\n",
        ")"
      ],
      "execution_count": 32,
      "outputs": [
        {
          "output_type": "stream",
          "name": "stdout",
          "text": [
            "Avg Test Loss: 1.1114 | Avg Test Accuracy: 70.00\n"
          ]
        }
      ]
    },
    {
      "cell_type": "markdown",
      "source": [
        "**MFCC Only Features**"
      ],
      "metadata": {
        "id": "dnQaG1n3AvRa"
      }
    },
    {
      "cell_type": "code",
      "source": [
        "mfcc_train_set = AudioFeatures(train_X[:,:,0:13], train_Y)\n",
        "mfcc_val_set = AudioFeatures(dev_X[:,:,0:13], dev_Y)\n",
        "mfcc_test_set = AudioFeatures(test_X[:,:,0:13], test_Y)\n",
        "mfcc_train_dataloader = DataLoader(mfcc_train_set, batch_size=batch_size, shuffle=True)\n",
        "mfcc_val_dataloader = DataLoader(mfcc_val_set, batch_size=batch_size)\n",
        "mfcc_test_dataloader = DataLoader(mfcc_test_set, batch_size=batch_size)  "
      ],
      "metadata": {
        "id": "_eO9XnfLAzm5"
      },
      "execution_count": 34,
      "outputs": []
    },
    {
      "cell_type": "code",
      "source": [
        "epochs = 50\n",
        "mfcc_model = LSTM(13, 128, batch_size, 8, 2)\n",
        "mfcc_loss_function = nn.CrossEntropyLoss() \n",
        "mfcc_optimizer = optim.Adam(mfcc_model.parameters(), lr=0.001)\n",
        "num_train_batches = len(mfcc_train_dataloader) \n",
        "num_val_batches = len(mfcc_val_dataloader) \n",
        "train_losses, val_losses, epochs_list = [], [], []\n",
        "\n",
        "for epoch in range(epochs):\n",
        "    train_metrics = train(mfcc_train_dataloader, mfcc_model, mfcc_loss_function, mfcc_optimizer)\n",
        "    print(\n",
        "        \"Epoch:  %d | Train Loss: %.4f | Train Accuracy: %.2f\"\n",
        "        % (epoch+1, train_metrics[0] / num_train_batches, train_metrics[1] / num_train_batches)\n",
        "    )    \n",
        "\n",
        "    if (epoch+1) % 10 == 0:\n",
        "      val_metrics = test(mfcc_val_dataloader, mfcc_model, mfcc_loss_function)\n",
        "      print(\n",
        "        \"Epoch:  %d | Val Loss: %.4f | Val Accuracy: %.2f\"\n",
        "        % (epoch+1, val_metrics[0] / num_val_batches, val_metrics[1] / num_val_batches)\n",
        "      )\n",
        "\n",
        "      epochs_list.append(epoch)\n",
        "      train_losses.append(train_metrics[0] / num_train_batches)      \n",
        "      val_losses.append(val_metrics[0] / num_val_batches)\n",
        "\n",
        "print(\"Done!\")"
      ],
      "metadata": {
        "colab": {
          "base_uri": "https://localhost:8080/"
        },
        "id": "AItIQGxQBUb9",
        "outputId": "70932662-7a7d-4311-f0c2-93b62db4aef6"
      },
      "execution_count": 36,
      "outputs": [
        {
          "output_type": "stream",
          "name": "stdout",
          "text": [
            "Epoch:  1 | Train Loss: 1.8793 | Train Accuracy: 32.38\n",
            "Epoch:  2 | Train Loss: 1.2964 | Train Accuracy: 52.14\n",
            "Epoch:  3 | Train Loss: 0.9872 | Train Accuracy: 62.86\n",
            "Epoch:  4 | Train Loss: 0.9264 | Train Accuracy: 62.14\n",
            "Epoch:  5 | Train Loss: 0.8433 | Train Accuracy: 66.43\n",
            "Epoch:  6 | Train Loss: 0.7121 | Train Accuracy: 72.86\n",
            "Epoch:  7 | Train Loss: 0.6128 | Train Accuracy: 76.90\n",
            "Epoch:  8 | Train Loss: 0.5327 | Train Accuracy: 80.48\n",
            "Epoch:  9 | Train Loss: 0.5451 | Train Accuracy: 79.76\n",
            "Epoch:  10 | Train Loss: 0.4805 | Train Accuracy: 82.38\n",
            "Epoch:  10 | Val Loss: 1.0223 | Val Accuracy: 69.17\n",
            "Epoch:  11 | Train Loss: 0.4012 | Train Accuracy: 85.48\n",
            "Epoch:  12 | Train Loss: 0.3249 | Train Accuracy: 90.95\n",
            "Epoch:  13 | Train Loss: 0.3054 | Train Accuracy: 90.48\n",
            "Epoch:  14 | Train Loss: 0.3296 | Train Accuracy: 89.05\n",
            "Epoch:  15 | Train Loss: 0.3732 | Train Accuracy: 86.90\n",
            "Epoch:  16 | Train Loss: 0.3079 | Train Accuracy: 90.48\n",
            "Epoch:  17 | Train Loss: 0.2495 | Train Accuracy: 90.95\n",
            "Epoch:  18 | Train Loss: 0.2484 | Train Accuracy: 91.43\n",
            "Epoch:  19 | Train Loss: 0.2299 | Train Accuracy: 91.43\n",
            "Epoch:  20 | Train Loss: 0.2169 | Train Accuracy: 92.62\n",
            "Epoch:  20 | Val Loss: 1.2340 | Val Accuracy: 60.83\n",
            "Epoch:  21 | Train Loss: 0.1453 | Train Accuracy: 95.48\n",
            "Epoch:  22 | Train Loss: 0.1447 | Train Accuracy: 95.24\n",
            "Epoch:  23 | Train Loss: 0.1130 | Train Accuracy: 97.62\n",
            "Epoch:  24 | Train Loss: 0.1011 | Train Accuracy: 97.62\n",
            "Epoch:  25 | Train Loss: 0.1910 | Train Accuracy: 93.10\n",
            "Epoch:  26 | Train Loss: 0.1978 | Train Accuracy: 92.86\n",
            "Epoch:  27 | Train Loss: 0.1768 | Train Accuracy: 94.05\n",
            "Epoch:  28 | Train Loss: 0.1356 | Train Accuracy: 96.43\n",
            "Epoch:  29 | Train Loss: 0.1302 | Train Accuracy: 95.71\n",
            "Epoch:  30 | Train Loss: 0.1003 | Train Accuracy: 97.62\n",
            "Epoch:  30 | Val Loss: 1.5509 | Val Accuracy: 60.83\n",
            "Epoch:  31 | Train Loss: 0.0963 | Train Accuracy: 96.90\n",
            "Epoch:  32 | Train Loss: 0.0856 | Train Accuracy: 98.10\n",
            "Epoch:  33 | Train Loss: 0.1200 | Train Accuracy: 96.67\n",
            "Epoch:  34 | Train Loss: 0.1698 | Train Accuracy: 94.52\n",
            "Epoch:  35 | Train Loss: 0.1801 | Train Accuracy: 93.10\n",
            "Epoch:  36 | Train Loss: 0.1456 | Train Accuracy: 95.95\n",
            "Epoch:  37 | Train Loss: 0.1259 | Train Accuracy: 95.95\n",
            "Epoch:  38 | Train Loss: 0.0819 | Train Accuracy: 97.86\n",
            "Epoch:  39 | Train Loss: 0.0614 | Train Accuracy: 98.57\n",
            "Epoch:  40 | Train Loss: 0.0344 | Train Accuracy: 99.29\n",
            "Epoch:  40 | Val Loss: 1.7246 | Val Accuracy: 59.17\n",
            "Epoch:  41 | Train Loss: 0.0301 | Train Accuracy: 99.52\n",
            "Epoch:  42 | Train Loss: 0.0463 | Train Accuracy: 98.57\n",
            "Epoch:  43 | Train Loss: 0.0848 | Train Accuracy: 97.38\n",
            "Epoch:  44 | Train Loss: 0.1027 | Train Accuracy: 97.38\n",
            "Epoch:  45 | Train Loss: 0.4476 | Train Accuracy: 86.90\n",
            "Epoch:  46 | Train Loss: 0.2934 | Train Accuracy: 89.05\n",
            "Epoch:  47 | Train Loss: 0.1535 | Train Accuracy: 96.90\n",
            "Epoch:  48 | Train Loss: 0.0755 | Train Accuracy: 98.10\n",
            "Epoch:  49 | Train Loss: 0.0753 | Train Accuracy: 97.14\n",
            "Epoch:  50 | Train Loss: 0.0474 | Train Accuracy: 99.05\n",
            "Epoch:  50 | Val Loss: 1.8689 | Val Accuracy: 60.83\n",
            "Done!\n"
          ]
        }
      ]
    },
    {
      "cell_type": "code",
      "source": [
        "plt.plot(epochs_list, train_losses, label='Train')\n",
        "plt.plot(epochs_list, val_losses, label='Val')\n",
        "plt.xlabel(\"# of Epochs\")\n",
        "plt.ylabel(\"Loss\")\n",
        "plt.title(\"Loss vs Epochs\")\n",
        "plt.legend()\n",
        "plt.show()"
      ],
      "metadata": {
        "colab": {
          "base_uri": "https://localhost:8080/",
          "height": 295
        },
        "id": "-CFEXD7daD2f",
        "outputId": "c924a2f7-3285-429e-fb93-d3c1558b63e1"
      },
      "execution_count": 37,
      "outputs": [
        {
          "output_type": "display_data",
          "data": {
            "image/png": "[encoded data removed]",
            "text/plain": [
              "<Figure size 432x288 with 1 Axes>"
            ]
          },
          "metadata": {
            "needs_background": "light"
          }
        }
      ]
    },
    {
      "cell_type": "markdown",
      "source": [
        "**Accuracy**"
      ],
      "metadata": {
        "id": "jiJtT30ZFGZD"
      }
    },
    {
      "cell_type": "code",
      "source": [
        "metrics = test(mfcc_test_dataloader, mfcc_model, mfcc_loss_function)\n",
        "print(\n",
        "  \"Avg Test Loss: %.4f | Avg Test Accuracy: %.2f\"\n",
        "      % (metrics[0] / len(mfcc_test_dataloader), metrics[1] / len(mfcc_test_dataloader))\n",
        ")"
      ],
      "metadata": {
        "colab": {
          "base_uri": "https://localhost:8080/"
        },
        "id": "snv70cKDFIyU",
        "outputId": "2d45e880-e9ef-40ef-96d9-c558ee4c673f"
      },
      "execution_count": 38,
      "outputs": [
        {
          "output_type": "stream",
          "name": "stdout",
          "text": [
            "Avg Test Loss: 2.3336 | Avg Test Accuracy: 55.00\n"
          ]
        }
      ]
    },
    {
      "cell_type": "markdown",
      "metadata": {
        "id": "5AzsCehJxbRY"
      },
      "source": [
        "## (e) Try a customized music"
      ]
    },
    {
      "cell_type": "code",
      "source": [
        "def get_features(file):   \n",
        "    length = 128\n",
        "    features = np.zeros((1, length, 33), dtype=np.float64)\n",
        "\n",
        "    y, sr = librosa.load(file)\n",
        "    mfcc = librosa.feature.mfcc(y=y, sr=sr, hop_length=512, n_mfcc=13)\n",
        "    spectral_center = librosa.feature.spectral_centroid(y=y, sr=sr, hop_length=512)\n",
        "    chroma = librosa.feature.chroma_stft(y=y, sr=sr, hop_length=512)\n",
        "    spectral_contrast = librosa.feature.spectral_contrast(y=y, sr=sr, hop_length=512)\n",
        "\n",
        "    features[0, :, 0:13] = mfcc.T[0:length, :]\n",
        "    features[0, :, 13:14] = spectral_center.T[0:length, :]\n",
        "    features[0, :, 14:26] = chroma.T[0:length, :]\n",
        "    features[0, :, 26:33] = spectral_contrast.T[0:length, :]\n",
        "    \n",
        "    return features"
      ],
      "metadata": {
        "id": "9CL2slpm_cdT"
      },
      "execution_count": 39,
      "outputs": []
    },
    {
      "cell_type": "code",
      "metadata": {
        "id": "lz5IWImExfL9",
        "colab": {
          "base_uri": "https://localhost:8080/"
        },
        "outputId": "7423c13c-23be-4bcc-c3e2-9019c48af481"
      },
      "source": [
        "input = get_features(\"/content/gdrive/MyDrive/Colab Notebooks/ee-596/hw-5/funky_track.mp3\")"
      ],
      "execution_count": 40,
      "outputs": [
        {
          "output_type": "stream",
          "name": "stderr",
          "text": [
            "/usr/local/lib/python3.7/dist-packages/librosa/core/audio.py:165: UserWarning: PySoundFile failed. Trying audioread instead.\n",
            "  warnings.warn(\"PySoundFile failed. Trying audioread instead.\")\n"
          ]
        }
      ]
    },
    {
      "cell_type": "markdown",
      "source": [
        "Prediction with MFCC Features Only"
      ],
      "metadata": {
        "id": "BFNQIYDz_rVE"
      }
    },
    {
      "cell_type": "code",
      "source": [
        "mfcc_model.eval()\n",
        "with torch.no_grad():\n",
        "  pred = mfcc_model(torch.from_numpy(input[:,:,0:13]).type(torch.Tensor))\n",
        "  print(GenreFeatureData().genre_list[torch.max(pred, 1)[1]])"
      ],
      "metadata": {
        "colab": {
          "base_uri": "https://localhost:8080/"
        },
        "id": "L7M3lJClAPV5",
        "outputId": "8f0d2290-073e-4652-8fa9-aca64e58447f"
      },
      "execution_count": 41,
      "outputs": [
        {
          "output_type": "stream",
          "name": "stdout",
          "text": [
            "jazz\n"
          ]
        }
      ]
    },
    {
      "cell_type": "markdown",
      "source": [
        "Prediction with All Features"
      ],
      "metadata": {
        "id": "gWXKbOc1_24I"
      }
    },
    {
      "cell_type": "code",
      "source": [
        "model.eval()\n",
        "with torch.no_grad():\n",
        "  pred = model(torch.from_numpy(input).type(torch.Tensor))\n",
        "  print(GenreFeatureData().genre_list[torch.max(pred, 1)[1]])"
      ],
      "metadata": {
        "colab": {
          "base_uri": "https://localhost:8080/"
        },
        "id": "jXIC_I0d_qkY",
        "outputId": "976f2c89-fd16-44bc-f59f-12c152178289"
      },
      "execution_count": 42,
      "outputs": [
        {
          "output_type": "stream",
          "name": "stdout",
          "text": [
            "jazz\n"
          ]
        }
      ]
    },
    {
      "cell_type": "markdown",
      "source": [
        "**Question** : How is the prediction result?\n",
        "\n",
        "**Answer** : The predicted cateogry is Jazz, but the expected category is Disco. Sad."
      ],
      "metadata": {
        "id": "QzA7lGuuEYzJ"
      }
    }
  ]
}