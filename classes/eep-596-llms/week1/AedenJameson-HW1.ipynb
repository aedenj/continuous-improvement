{
  "cells": [
    {
      "cell_type": "markdown",
      "metadata": {
        "id": "view-in-github",
        "colab_type": "text"
      },
      "source": [
        "<a href=\"https://colab.research.google.com/github/aedenj/continuous-improvement/blob/main/classes/eep-596-llms/week1/AedenJameson-HW1.ipynb\" target=\"_parent\"><img src=\"https://colab.research.google.com/assets/colab-badge.svg\" alt=\"Open In Colab\"/></a>"
      ]
    },
    {
      "cell_type": "markdown",
      "metadata": {
        "id": "QriHsf_B4TAJ"
      },
      "source": [
        "## Google Colab Setup"
      ]
    },
    {
      "cell_type": "markdown",
      "metadata": {
        "id": "wfQ6-4um4TAL"
      },
      "source": [
        "### Setting up Google Colab with GPU support is a straightforward process. Here are the steps along with links to the official documentation:\n",
        "\n",
        "1. Open Google Colab:\n",
        "   Open your browser and go to Google Colab.\n",
        "\n",
        "2. Sign in with Google Account:\n",
        "   If you're not already signed in, sign in with your Google account.\n",
        "\n",
        "3. Create a New Notebook:\n",
        "   Click on \"File\" in the top left corner, then select \"New Notebook\" to create a new Colab notebook.\n",
        "\n",
        "4. Change Runtime Type:\n",
        "   Click on \"Runtime\" in the top menu, then select \"Change runtime type.\" Choose \"GPU\" from the Hardware accelerator dropdown menu.\n",
        "\n",
        "[Change runtime type documentation](https://colab.research.google.com/notebooks/basic_features_overview.ipynb#scrollTo=-_z3tY2D-RRs)\n",
        "\n",
        "5. Verify GPU Availability:\n",
        "   To verify that the GPU is successfully connected, you can run the following code snippet in a code cell:\n",
        "   ```python\n",
        "   import tensorflow as tf\n",
        "   tf.test.gpu_device_name()\n",
        "   ```\n",
        "   It should output the name of your GPU if the GPU is connected.\n",
        "\n",
        "\n",
        "6. Load Data and Start Coding:\n",
        "   Now you can start coding in your notebook. Upload your datasets, write your code, and execute the cells.\n",
        "\n",
        "   Remember that the GPU access provided by Colab is not unlimited. It has time restrictions, and if you exceed the allocated time, you might need to reconnect to a new GPU.\n",
        "\n",
        "   By following these steps and referring to the provided documentation links, you should be able to set up and use Google Colab with GPU support for your machine learning or deep learning projects.\n",
        "\n",
        "\n",
        "\n"
      ]
    },
    {
      "cell_type": "markdown",
      "metadata": {
        "id": "-iiUXLUQq8XR"
      },
      "source": [
        "## Coding Exercise"
      ]
    },
    {
      "cell_type": "markdown",
      "metadata": {
        "id": "PWztx2Kts2q1"
      },
      "source": [
        "### Simple Neural Network Implementation\n",
        "\n",
        "Objective: Complete a simple neural network.\n",
        "This task will help you understand the fundamental mechanisms of neural networks, including the forward pass, backward pass (backpropagation), and basic optimization.\n",
        "\n",
        "Problem Statement:\n",
        "You are given a neural network that is performing really bad.\n",
        "You are required to complete and improve it to perform  classification on a Fashion MNIST Dataset"
      ]
    },
    {
      "cell_type": "markdown",
      "metadata": {
        "id": "MYJU27tOuJca"
      },
      "source": [
        "Import all necessary libraries"
      ]
    },
    {
      "cell_type": "code",
      "execution_count": 1,
      "metadata": {
        "id": "ugipDkHVuL94",
        "colab": {
          "base_uri": "https://localhost:8080/",
          "height": 35
        },
        "outputId": "f5dfb31d-5490-495b-bf62-0245e892ccea"
      },
      "outputs": [
        {
          "output_type": "execute_result",
          "data": {
            "text/plain": [
              "'/device:GPU:0'"
            ],
            "application/vnd.google.colaboratory.intrinsic+json": {
              "type": "string"
            }
          },
          "metadata": {},
          "execution_count": 1
        }
      ],
      "source": [
        "import torch\n",
        "import torch.nn as nn\n",
        "import torch.optim as optim\n",
        "import numpy as np\n",
        "import matplotlib.pyplot as plt\n",
        "import torch.nn.functional as F\n",
        "from torchvision import datasets, transforms\n",
        "from torch.utils.data.sampler import  SubsetRandomSampler\n",
        "\n",
        "import tensorflow as tf\n",
        "tf.test.gpu_device_name()"
      ]
    },
    {
      "cell_type": "markdown",
      "metadata": {
        "id": "rAySP4v94TAM"
      },
      "source": [
        "### Dataset:\n",
        "\n",
        "The dataset used is the Fashion-MNIST dataset, a dataset of Zalando's article images. It is intended as a drop-in replacement for the original MNIST dataset for benchmarking machine learning algorithms. It consists of 60,000 training images and 10,000 testing images. Each image is a 28x28 grayscale image, associated with a label from 10 classes: T-shirt/top, Trouser, Pullover, Dress, Coat, Sandal, Shirt, Sneaker, Bag, and Ankle boot."
      ]
    },
    {
      "cell_type": "markdown",
      "metadata": {
        "id": "whDdonrr4TAM"
      },
      "source": [
        "### Train, Validation & Test split\n",
        "\n",
        "- **Splitting the Dataset:** The dataset is split into training and testing sets. The `train=True` argument is used to load the training set, and `train=False` is used to load the testing set.\n",
        "\n",
        "- **Creating a Validation Set:** A validation set is created from the training set. The indices of the training set are shuffled, and the first 20% of these indices are used for the validation set. The `SubsetRandomSampler` function is used to create samplers for the training and validation sets, which can be used to load batches of data."
      ]
    },
    {
      "cell_type": "code",
      "execution_count": 2,
      "metadata": {
        "id": "ASJpjCuctOYx",
        "colab": {
          "base_uri": "https://localhost:8080/"
        },
        "outputId": "a05f819a-6177-491b-faa2-dfa0c7f1a579"
      },
      "outputs": [
        {
          "output_type": "stream",
          "name": "stdout",
          "text": [
            "Downloading http://fashion-mnist.s3-website.eu-central-1.amazonaws.com/train-images-idx3-ubyte.gz\n",
            "Downloading http://fashion-mnist.s3-website.eu-central-1.amazonaws.com/train-images-idx3-ubyte.gz to /root/.pytorch/F_MNIST_data/FashionMNIST/raw/train-images-idx3-ubyte.gz\n"
          ]
        },
        {
          "output_type": "stream",
          "name": "stderr",
          "text": [
            "100%|██████████| 26.4M/26.4M [00:02<00:00, 12.4MB/s]\n"
          ]
        },
        {
          "output_type": "stream",
          "name": "stdout",
          "text": [
            "Extracting /root/.pytorch/F_MNIST_data/FashionMNIST/raw/train-images-idx3-ubyte.gz to /root/.pytorch/F_MNIST_data/FashionMNIST/raw\n",
            "\n",
            "Downloading http://fashion-mnist.s3-website.eu-central-1.amazonaws.com/train-labels-idx1-ubyte.gz\n",
            "Downloading http://fashion-mnist.s3-website.eu-central-1.amazonaws.com/train-labels-idx1-ubyte.gz to /root/.pytorch/F_MNIST_data/FashionMNIST/raw/train-labels-idx1-ubyte.gz\n"
          ]
        },
        {
          "output_type": "stream",
          "name": "stderr",
          "text": [
            "100%|██████████| 29.5k/29.5k [00:00<00:00, 200kB/s]\n"
          ]
        },
        {
          "output_type": "stream",
          "name": "stdout",
          "text": [
            "Extracting /root/.pytorch/F_MNIST_data/FashionMNIST/raw/train-labels-idx1-ubyte.gz to /root/.pytorch/F_MNIST_data/FashionMNIST/raw\n",
            "\n",
            "Downloading http://fashion-mnist.s3-website.eu-central-1.amazonaws.com/t10k-images-idx3-ubyte.gz\n",
            "Downloading http://fashion-mnist.s3-website.eu-central-1.amazonaws.com/t10k-images-idx3-ubyte.gz to /root/.pytorch/F_MNIST_data/FashionMNIST/raw/t10k-images-idx3-ubyte.gz\n"
          ]
        },
        {
          "output_type": "stream",
          "name": "stderr",
          "text": [
            "100%|██████████| 4.42M/4.42M [00:01<00:00, 3.71MB/s]\n"
          ]
        },
        {
          "output_type": "stream",
          "name": "stdout",
          "text": [
            "Extracting /root/.pytorch/F_MNIST_data/FashionMNIST/raw/t10k-images-idx3-ubyte.gz to /root/.pytorch/F_MNIST_data/FashionMNIST/raw\n",
            "\n",
            "Downloading http://fashion-mnist.s3-website.eu-central-1.amazonaws.com/t10k-labels-idx1-ubyte.gz\n",
            "Downloading http://fashion-mnist.s3-website.eu-central-1.amazonaws.com/t10k-labels-idx1-ubyte.gz to /root/.pytorch/F_MNIST_data/FashionMNIST/raw/t10k-labels-idx1-ubyte.gz\n"
          ]
        },
        {
          "output_type": "stream",
          "name": "stderr",
          "text": [
            "100%|██████████| 5.15k/5.15k [00:00<00:00, 9.61MB/s]"
          ]
        },
        {
          "output_type": "stream",
          "name": "stdout",
          "text": [
            "Extracting /root/.pytorch/F_MNIST_data/FashionMNIST/raw/t10k-labels-idx1-ubyte.gz to /root/.pytorch/F_MNIST_data/FashionMNIST/raw\n",
            "\n"
          ]
        },
        {
          "output_type": "stream",
          "name": "stderr",
          "text": [
            "\n"
          ]
        }
      ],
      "source": [
        "## Fashion MNIST data loading\n",
        "transform = transforms.Compose([transforms.ToTensor(),\n",
        "                               transforms.Normalize((0.5,),(0.5,),)]) #mean and std have to be sequences (e.g., tuples),\n",
        "                                                                      # therefore we should add a comma after the values\n",
        "\n",
        "#Load the data: train and test sets\n",
        "trainset = datasets.FashionMNIST('~/.pytorch/F_MNIST_data', download=True, train=True, transform=transform)\n",
        "testset = datasets.FashionMNIST('~/.pytorch/F_MNIST_data', download=True, train=False, transform=transform)\n",
        "\n",
        "#Preparing for validaion test\n",
        "indices = list(range(len(trainset)))\n",
        "np.random.shuffle(indices)\n",
        "#to get 20% of the train set\n",
        "split = int(np.floor(0.2 * len(trainset)))\n",
        "train_sample = SubsetRandomSampler(indices[:split])\n",
        "valid_sample = SubsetRandomSampler(indices[split:])\n",
        "\n",
        "#Data Loader\n",
        "trainloader = torch.utils.data.DataLoader(trainset, sampler=train_sample, batch_size=64)\n",
        "validloader = torch.utils.data.DataLoader(trainset, sampler=valid_sample, batch_size=64)\n",
        "testloader = torch.utils.data.DataLoader(testset, batch_size=64, shuffle=True)\n"
      ]
    },
    {
      "cell_type": "markdown",
      "metadata": {
        "id": "rCsScrZb4TAN"
      },
      "source": [
        "#### Sequential Model\n",
        "\n",
        "The neural network model is defined as a `Sequential` model. The `Sequential` model is a linear stack of layers. It can be created by passing a list of layer instances to the constructor.\n"
      ]
    },
    {
      "cell_type": "code",
      "execution_count": 3,
      "metadata": {
        "id": "7sdYczcm4TAN"
      },
      "outputs": [],
      "source": [
        "class Classifier(nn.Module):\n",
        "    def __init__(self):\n",
        "        super().__init__()\n",
        "        self.fc1 = nn.Linear(784, 120)\n",
        "        self.fc2 = nn.Linear(120,10)\n",
        "        #defining the 20% dropout\n",
        "        self.dropout = nn.Dropout(0.2)\n",
        "\n",
        "    def forward(self,x):\n",
        "        x = x.view(x.shape[0],-1)\n",
        "        x = self.dropout(F.relu(self.fc1(x)))\n",
        "        #not using dropout on output layer\n",
        "        x = F.tanh(self.fc2(x))\n",
        "\n",
        "        return x"
      ]
    },
    {
      "cell_type": "code",
      "execution_count": 4,
      "metadata": {
        "id": "WS3ezP3K4TAN",
        "outputId": "7fa1ce8f-44e3-4744-f0b3-de2b11c5aa55",
        "colab": {
          "base_uri": "https://localhost:8080/",
          "height": 101
        }
      },
      "outputs": [
        {
          "output_type": "display_data",
          "data": {
            "text/plain": [
              "<Figure size 2500x400 with 10 Axes>"
            ],
            "image/png": "[encoded data removed]"
          },
          "metadata": {}
        }
      ],
      "source": [
        "# visualizing images in gird\n",
        "def imshow(img):\n",
        "    img = img/2 + 0.5 #unnormalize\n",
        "    plt.imshow(np.transpose(img, (1,2,0))) #convert from tensor image\n",
        "\n",
        "dataiter = iter(trainloader)\n",
        "images, labels = next(dataiter)\n",
        "images = images.numpy() #converting images to numpy for display\n",
        "\n",
        "fig = plt.figure(figsize=(25,4))\n",
        "for idx in np.arange(10):\n",
        "    ax = fig.add_subplot(2, 10, idx+1, xticks=[], yticks=[])\n",
        "    imshow(images[idx])\n",
        "    ax.set_title(trainset.classes[labels[idx]])\n"
      ]
    },
    {
      "cell_type": "markdown",
      "metadata": {
        "id": "PmdKXf_1tc1g"
      },
      "source": [
        "### Training Function:\n",
        "This function trains the neural network model with stochastic gradient descent (SGD) as the optimizer and cross-entropy as the loss objective function.\n",
        "The training process includes both forward and backward passes. The model's parameters are updated in each epoch.\n",
        "\n",
        "### Testing Function:\n",
        "After training the model, we'll evaluate the model's performance on testing dataset. The evaluation will be done based on the accuracy of the model, which is the proportion of correctly predicted samples."
      ]
    },
    {
      "cell_type": "code",
      "execution_count": 5,
      "metadata": {
        "id": "OREQN_D3tdc2"
      },
      "outputs": [],
      "source": [
        "class ModelTrainer:\n",
        "    def __init__(self, model, learning_rate=1, num_epochs=100):\n",
        "        self.model = model\n",
        "        self.learning_rate = learning_rate\n",
        "        self.num_epochs = num_epochs\n",
        "        self.loss_func = nn.CrossEntropyLoss()\n",
        "        self.optimizer = optim.SGD(self.model.parameters(), lr=self.learning_rate)\n",
        "        self.device = torch.device(\"cuda:0\" if torch.cuda.is_available() else \"cpu\")\n",
        "        self.model.to(self.device)\n",
        "        self.train_loss = []\n",
        "        self.test_loss = []\n",
        "\n",
        "    def train_model(self, loader, epoch):\n",
        "        self.model.train()\n",
        "        loss_list = []\n",
        "        for batch_idx, (data, target) in enumerate(loader):\n",
        "            data, target = data.to(self.device), target.to(self.device)\n",
        "            self.optimizer.zero_grad()\n",
        "            output = self.model(data)\n",
        "            loss = self.loss_func(output, target)\n",
        "            loss.backward()\n",
        "            self.optimizer.step()\n",
        "            loss_list.append(loss.item())\n",
        "        print('Train Epoch: {} [{}/{} ({:.0f}%)]\\tLoss: {:.6f}'.format(\n",
        "                        epoch, batch_idx*len(data), len(loader.dataset),\n",
        "                        100. * batch_idx / len(loader), loss.item()))\n",
        "        avg_loss = sum(loss_list)/len(loss_list)\n",
        "        self.train_loss.append(avg_loss)\n",
        "\n",
        "\n",
        "    def test_model(self, loader):\n",
        "        self.model.eval()\n",
        "        test_loss = 0\n",
        "        correct = 0\n",
        "        loss_list = []\n",
        "        y_true = []\n",
        "        y_pred = []\n",
        "        with torch.no_grad():\n",
        "            for data, target in loader:\n",
        "                data, target = data.to(self.device), target.to(self.device)\n",
        "                y_true.extend(target.cpu().numpy())\n",
        "\n",
        "                output = self.model(data)\n",
        "                batch_loss = self.loss_func(output, target).item()  # Calculate the loss for this batch\n",
        "                test_loss += batch_loss  # Add the batch loss to the total test loss\n",
        "                pred = output.argmax(dim=1, keepdim=True)\n",
        "\n",
        "                y_pred.extend(pred.squeeze(dim=1).tolist())\n",
        "                correct += pred.eq(target.view_as(pred)).sum().item()\n",
        "                loss_list.append(batch_loss)  # Append the batch loss to the list\n",
        "\n",
        "        avg_loss = sum(loss_list) / len(loss_list)\n",
        "        self.test_loss.append(avg_loss)\n",
        "        test_loss /= len(loader.dataset)\n",
        "        accuracy = 100. * correct / len(loader.dataset)\n",
        "        print('\\nTest set: Average loss: {:.4f}, Accuracy: {}/{} ({:.0f}%)\\n'.format(\n",
        "                test_loss, correct, len(loader.dataset), accuracy))\n",
        "\n",
        "        return y_true, y_pred\n",
        "\n",
        "    def run(self, trainloader, validloader):\n",
        "        for epoch in range(self.num_epochs):\n",
        "            self.train_model(trainloader, epoch)\n",
        "            self.test_model(validloader)\n",
        "        self.plot_loss()\n",
        "\n",
        "\n",
        "    def plot_loss(self):\n",
        "      epochs = range(1, self.num_epochs + 1)\n",
        "\n",
        "      plt.plot(epochs, self.train_loss, label='Training Loss')\n",
        "      plt.plot(epochs, self.test_loss, label='Test Loss')\n",
        "      plt.xlabel('Epochs')\n",
        "      plt.ylabel('Loss')\n",
        "      plt.legend()\n",
        "      plt.grid(True)\n",
        "      plt.show()\n"
      ]
    },
    {
      "cell_type": "code",
      "execution_count": 6,
      "metadata": {
        "id": "wyVIp14TuF1O",
        "colab": {
          "base_uri": "https://localhost:8080/",
          "height": 636
        },
        "outputId": "75ef08e8-2929-45a8-b3bb-0d2e5c4942c9"
      },
      "outputs": [
        {
          "output_type": "stream",
          "name": "stdout",
          "text": [
            "Train Epoch: 0 [5984/60000 (99%)]\tLoss: 1.393864\n",
            "\n",
            "Test set: Average loss: 0.0155, Accuracy: 30423/60000 (51%)\n",
            "\n",
            "Train Epoch: 1 [5984/60000 (99%)]\tLoss: 1.276762\n",
            "\n",
            "Test set: Average loss: 0.0152, Accuracy: 31311/60000 (52%)\n",
            "\n"
          ]
        },
        {
          "output_type": "display_data",
          "data": {
            "text/plain": [
              "<Figure size 640x480 with 1 Axes>"
            ],
            "image/png": "[encoded data removed]"
          },
          "metadata": {}
        },
        {
          "output_type": "stream",
          "name": "stdout",
          "text": [
            "\n",
            "Test set: Average loss: 0.0192, Accuracy: 6419/10000 (64%)\n",
            "\n"
          ]
        }
      ],
      "source": [
        "model = Classifier()\n",
        "trainer = ModelTrainer(model=model, learning_rate=0.5, num_epochs=2)\n",
        "trainer.run(trainloader, validloader)\n",
        "y_true, y_pred = trainer.test_model(testloader)"
      ]
    },
    {
      "cell_type": "markdown",
      "metadata": {
        "id": "9FQR3o494TAO"
      },
      "source": [
        "#### Task 1: Visualize the model's correct and incorrect predictions on the testing dataset using a confusion Matrix.(10 pts)"
      ]
    },
    {
      "cell_type": "code",
      "source": [
        "from sklearn.metrics import confusion_matrix\n",
        "import seaborn as sns\n",
        "\n",
        "sns.set_theme()"
      ],
      "metadata": {
        "id": "8cdAktJy0rKo"
      },
      "execution_count": 7,
      "outputs": []
    },
    {
      "cell_type": "code",
      "execution_count": 8,
      "metadata": {
        "id": "ojzRopVw4TAO",
        "colab": {
          "base_uri": "https://localhost:8080/",
          "height": 633
        },
        "outputId": "7c98b926-2767-4b68-c63d-8ab4b369c1a0"
      },
      "outputs": [
        {
          "output_type": "display_data",
          "data": {
            "text/plain": [
              "<Figure size 1200x700 with 2 Axes>"
            ],
            "image/png": "[encoded data removed]"
          },
          "metadata": {}
        }
      ],
      "source": [
        "plt.figure(figsize=(12, 7))\n",
        "sns.heatmap(\n",
        "    confusion_matrix(y_true, y_pred),\n",
        "    annot=True,\n",
        "    fmt='g',\n",
        "    cbar=True,\n",
        "    xticklabels=datasets.FashionMNIST.classes,\n",
        "    yticklabels=datasets.FashionMNIST.classes\n",
        ")\n",
        "\n",
        "plt.xlabel('Predictions', labelpad=20)\n",
        "plt.gca().xaxis.set_label_position('top')\n",
        "plt.gca().xaxis.tick_top()\n",
        "plt.ylabel('Actuals')\n",
        "plt.title('Confusion Matrix', pad=25)\n",
        "\n",
        "plt.show()"
      ]
    },
    {
      "cell_type": "markdown",
      "metadata": {
        "id": "7ZpLcJVIQx5X"
      },
      "source": [
        "### Machine learning involves a lot of experimentation. You might not always see large improvements, but every observation helps you understand how different parameters and design choices affect the model's performance. Focus on interpreting the results, not just achieving the best accuracy."
      ]
    },
    {
      "cell_type": "markdown",
      "metadata": {
        "id": "s76rytSC4TAO"
      },
      "source": [
        "#### Task 2: Experiment with different learning rates and report your observations. Explain why the model performs better with some learning rates and worse with others. (10 pts)\n",
        "\n",
        "For example, Keeping the other parameters the same, pick a high learning rate and observe the lose curve, accuracy. Then pick a low learning rate and observe the lose curve, accuracy. Find an optimal learning rate for your model and explain How learning rate affects the accuracy and lose change? What is the reason for this change?"
      ]
    },
    {
      "cell_type": "code",
      "execution_count": 9,
      "metadata": {
        "id": "T_ls0VuC4TAO",
        "colab": {
          "base_uri": "https://localhost:8080/"
        },
        "outputId": "bf42b7e0-d1e6-4846-ca75-bbafe3e9d982"
      },
      "outputs": [
        {
          "output_type": "stream",
          "name": "stdout",
          "text": [
            "Collecting skorch\n",
            "  Downloading skorch-1.1.0-py3-none-any.whl.metadata (11 kB)\n",
            "Requirement already satisfied: numpy>=1.13.3 in /usr/local/lib/python3.10/dist-packages (from skorch) (1.26.4)\n",
            "Requirement already satisfied: scikit-learn>=0.22.0 in /usr/local/lib/python3.10/dist-packages (from skorch) (1.6.0)\n",
            "Requirement already satisfied: scipy>=1.1.0 in /usr/local/lib/python3.10/dist-packages (from skorch) (1.13.1)\n",
            "Requirement already satisfied: tabulate>=0.7.7 in /usr/local/lib/python3.10/dist-packages (from skorch) (0.9.0)\n",
            "Requirement already satisfied: tqdm>=4.14.0 in /usr/local/lib/python3.10/dist-packages (from skorch) (4.67.1)\n",
            "Requirement already satisfied: joblib>=1.2.0 in /usr/local/lib/python3.10/dist-packages (from scikit-learn>=0.22.0->skorch) (1.4.2)\n",
            "Requirement already satisfied: threadpoolctl>=3.1.0 in /usr/local/lib/python3.10/dist-packages (from scikit-learn>=0.22.0->skorch) (3.5.0)\n",
            "Downloading skorch-1.1.0-py3-none-any.whl (228 kB)\n",
            "\u001b[?25l   \u001b[90m━━━━━━━━━━━━━━━━━━━━━━━━━━━━━━━━━━━━━━━━\u001b[0m \u001b[32m0.0/228.9 kB\u001b[0m \u001b[31m?\u001b[0m eta \u001b[36m-:--:--\u001b[0m\r\u001b[2K   \u001b[91m━━━━━━━━━━━━━━━━━━━━━━━━━━━━━━━━━━━━━━━\u001b[0m\u001b[90m╺\u001b[0m \u001b[32m225.3/228.9 kB\u001b[0m \u001b[31m8.3 MB/s\u001b[0m eta \u001b[36m0:00:01\u001b[0m\r\u001b[2K   \u001b[90m━━━━━━━━━━━━━━━━━━━━━━━━━━━━━━━━━━━━━━━━\u001b[0m \u001b[32m228.9/228.9 kB\u001b[0m \u001b[31m6.2 MB/s\u001b[0m eta \u001b[36m0:00:00\u001b[0m\n",
            "\u001b[?25hInstalling collected packages: skorch\n",
            "Successfully installed skorch-1.1.0\n"
          ]
        }
      ],
      "source": [
        "# Make PyTorch models look like scikit-learn models so we can leverage\n",
        "# scikit-learns hyper-parameter tuning abilities.\n",
        "!pip install skorch"
      ]
    },
    {
      "cell_type": "code",
      "source": [
        "from sklearn.model_selection import ParameterGrid"
      ],
      "metadata": {
        "id": "25tWldIDeSEc"
      },
      "execution_count": 10,
      "outputs": []
    },
    {
      "cell_type": "code",
      "source": [
        "params = {\n",
        "  'max_epochs': [2, 5],\n",
        "  'lr': [0.001, 0.5]\n",
        "}\n",
        "\n",
        "training_configs = ParameterGrid(params)\n",
        "\n",
        "for c in training_configs:\n",
        "  print(c)"
      ],
      "metadata": {
        "colab": {
          "base_uri": "https://localhost:8080/"
        },
        "id": "VdEXDC9weg1L",
        "outputId": "531b5c13-2137-494c-ff64-fc8478ef3593"
      },
      "execution_count": 15,
      "outputs": [
        {
          "output_type": "stream",
          "name": "stdout",
          "text": [
            "{'lr': 0.001, 'max_epochs': 2}\n",
            "{'lr': 0.001, 'max_epochs': 5}\n",
            "{'lr': 0.5, 'max_epochs': 2}\n",
            "{'lr': 0.5, 'max_epochs': 5}\n"
          ]
        }
      ]
    },
    {
      "cell_type": "code",
      "source": [
        "from skorch import NeuralNetClassifier\n",
        "from sklearn.model_selection import GridSearchCV\n",
        "from skorch.helper import SliceDataset"
      ],
      "metadata": {
        "id": "5dXu67qaZUkc"
      },
      "execution_count": 25,
      "outputs": []
    },
    {
      "cell_type": "code",
      "source": [
        "model = NeuralNetClassifier(\n",
        "    module=Classifier,\n",
        "    device='cuda',\n",
        "    #iterator_train__sampler=train_sample,\n",
        "    #iterator_train__batch_size=64,\n",
        "    #iterator_valid__sampler=valid_sample,\n",
        "    #iterator_valid__batch_size=64,\n",
        "    criterion=nn.CrossEntropyLoss,\n",
        "    optimizer=optim.SGD,\n",
        "    lr=0.5,\n",
        "    verbose=1\n",
        ")"
      ],
      "metadata": {
        "id": "wFYIIm9Nm9uK"
      },
      "execution_count": null,
      "outputs": []
    },
    {
      "cell_type": "code",
      "source": [
        "param_grid = {\n",
        "  'max_epochs': [2]\n",
        "}\n",
        "\n",
        "grid = GridSearchCV(estimator=model, param_grid=param_grid, n_jobs=-1, cv=3)\n",
        "grid_result = grid.fit(SliceDataset(trainset), SliceDataset(trainset, idx=1))\n"
      ],
      "metadata": {
        "id": "ttHjC-W83Rjq",
        "outputId": "6bcf185f-60f2-49a0-f2b7-53bdcf3f16b6",
        "colab": {
          "base_uri": "https://localhost:8080/",
          "height": 744
        }
      },
      "execution_count": null,
      "outputs": [
        {
          "output_type": "stream",
          "name": "stderr",
          "text": [
            "/usr/local/lib/python3.10/dist-packages/joblib/externals/loky/process_executor.py:752: UserWarning: A worker stopped while some jobs were given to the executor. This can be caused by a too short worker timeout or by a memory leak.\n",
            "  warnings.warn(\n"
          ]
        },
        {
          "output_type": "error",
          "ename": "ValueError",
          "evalue": "\nAll the 3 fits failed.\nIt is very likely that your model is misconfigured.\nYou can try to debug the error by setting error_score='raise'.\n\nBelow are more details about the failures:\n--------------------------------------------------------------------------------\n3 fits failed with the following error:\nTraceback (most recent call last):\n  File \"/usr/local/lib/python3.10/dist-packages/sklearn/model_selection/_validation.py\", line 866, in _fit_and_score\n    estimator.fit(X_train, y_train, **fit_params)\n  File \"/usr/local/lib/python3.10/dist-packages/skorch/classifier.py\", line 165, in fit\n    return super(NeuralNetClassifier, self).fit(X, y, **fit_params)\n  File \"/usr/local/lib/python3.10/dist-packages/skorch/net.py\", line 1347, in fit\n    self.initialize()\n  File \"/usr/local/lib/python3.10/dist-packages/skorch/net.py\", line 938, in initialize\n    self._validate_params()\n  File \"/usr/local/lib/python3.10/dist-packages/skorch/net.py\", line 2079, in _validate_params\n    raise ValueError(full_msg)\nValueError: __init__() got unexpected argument(s) devicestr. Either you made a typo, or you added new arguments in a subclass; if that is the case, the subclass should deal with the new arguments explicitly.\n",
          "traceback": [
            "\u001b[0;31m---------------------------------------------------------------------------\u001b[0m",
            "\u001b[0;31mValueError\u001b[0m                                Traceback (most recent call last)",
            "\u001b[0;32m<ipython-input-20-f47c59011f7d>\u001b[0m in \u001b[0;36m<cell line: 6>\u001b[0;34m()\u001b[0m\n\u001b[1;32m      4\u001b[0m \u001b[0;34m\u001b[0m\u001b[0m\n\u001b[1;32m      5\u001b[0m \u001b[0mgrid\u001b[0m \u001b[0;34m=\u001b[0m \u001b[0mGridSearchCV\u001b[0m\u001b[0;34m(\u001b[0m\u001b[0mestimator\u001b[0m\u001b[0;34m=\u001b[0m\u001b[0mmodel\u001b[0m\u001b[0;34m,\u001b[0m \u001b[0mparam_grid\u001b[0m\u001b[0;34m=\u001b[0m\u001b[0mparam_grid\u001b[0m\u001b[0;34m,\u001b[0m \u001b[0mn_jobs\u001b[0m\u001b[0;34m=\u001b[0m\u001b[0;34m-\u001b[0m\u001b[0;36m1\u001b[0m\u001b[0;34m,\u001b[0m \u001b[0mcv\u001b[0m\u001b[0;34m=\u001b[0m\u001b[0;36m3\u001b[0m\u001b[0;34m)\u001b[0m\u001b[0;34m\u001b[0m\u001b[0;34m\u001b[0m\u001b[0m\n\u001b[0;32m----> 6\u001b[0;31m \u001b[0mgrid_result\u001b[0m \u001b[0;34m=\u001b[0m \u001b[0mgrid\u001b[0m\u001b[0;34m.\u001b[0m\u001b[0mfit\u001b[0m\u001b[0;34m(\u001b[0m\u001b[0mSliceDataset\u001b[0m\u001b[0;34m(\u001b[0m\u001b[0mtrainset\u001b[0m\u001b[0;34m)\u001b[0m\u001b[0;34m,\u001b[0m \u001b[0mSliceDataset\u001b[0m\u001b[0;34m(\u001b[0m\u001b[0mtrainset\u001b[0m\u001b[0;34m,\u001b[0m \u001b[0midx\u001b[0m\u001b[0;34m=\u001b[0m\u001b[0;36m1\u001b[0m\u001b[0;34m)\u001b[0m\u001b[0;34m)\u001b[0m\u001b[0;34m\u001b[0m\u001b[0;34m\u001b[0m\u001b[0m\n\u001b[0m",
            "\u001b[0;32m/usr/local/lib/python3.10/dist-packages/sklearn/base.py\u001b[0m in \u001b[0;36mwrapper\u001b[0;34m(estimator, *args, **kwargs)\u001b[0m\n\u001b[1;32m   1387\u001b[0m                 )\n\u001b[1;32m   1388\u001b[0m             ):\n\u001b[0;32m-> 1389\u001b[0;31m                 \u001b[0;32mreturn\u001b[0m \u001b[0mfit_method\u001b[0m\u001b[0;34m(\u001b[0m\u001b[0mestimator\u001b[0m\u001b[0;34m,\u001b[0m \u001b[0;34m*\u001b[0m\u001b[0margs\u001b[0m\u001b[0;34m,\u001b[0m \u001b[0;34m**\u001b[0m\u001b[0mkwargs\u001b[0m\u001b[0;34m)\u001b[0m\u001b[0;34m\u001b[0m\u001b[0;34m\u001b[0m\u001b[0m\n\u001b[0m\u001b[1;32m   1390\u001b[0m \u001b[0;34m\u001b[0m\u001b[0m\n\u001b[1;32m   1391\u001b[0m         \u001b[0;32mreturn\u001b[0m \u001b[0mwrapper\u001b[0m\u001b[0;34m\u001b[0m\u001b[0;34m\u001b[0m\u001b[0m\n",
            "\u001b[0;32m/usr/local/lib/python3.10/dist-packages/sklearn/model_selection/_search.py\u001b[0m in \u001b[0;36mfit\u001b[0;34m(self, X, y, **params)\u001b[0m\n\u001b[1;32m   1021\u001b[0m                 \u001b[0;32mreturn\u001b[0m \u001b[0mresults\u001b[0m\u001b[0;34m\u001b[0m\u001b[0;34m\u001b[0m\u001b[0m\n\u001b[1;32m   1022\u001b[0m \u001b[0;34m\u001b[0m\u001b[0m\n\u001b[0;32m-> 1023\u001b[0;31m             \u001b[0mself\u001b[0m\u001b[0;34m.\u001b[0m\u001b[0m_run_search\u001b[0m\u001b[0;34m(\u001b[0m\u001b[0mevaluate_candidates\u001b[0m\u001b[0;34m)\u001b[0m\u001b[0;34m\u001b[0m\u001b[0;34m\u001b[0m\u001b[0m\n\u001b[0m\u001b[1;32m   1024\u001b[0m \u001b[0;34m\u001b[0m\u001b[0m\n\u001b[1;32m   1025\u001b[0m             \u001b[0;31m# multimetric is determined here because in the case of a callable\u001b[0m\u001b[0;34m\u001b[0m\u001b[0;34m\u001b[0m\u001b[0m\n",
            "\u001b[0;32m/usr/local/lib/python3.10/dist-packages/sklearn/model_selection/_search.py\u001b[0m in \u001b[0;36m_run_search\u001b[0;34m(self, evaluate_candidates)\u001b[0m\n\u001b[1;32m   1568\u001b[0m     \u001b[0;32mdef\u001b[0m \u001b[0m_run_search\u001b[0m\u001b[0;34m(\u001b[0m\u001b[0mself\u001b[0m\u001b[0;34m,\u001b[0m \u001b[0mevaluate_candidates\u001b[0m\u001b[0;34m)\u001b[0m\u001b[0;34m:\u001b[0m\u001b[0;34m\u001b[0m\u001b[0;34m\u001b[0m\u001b[0m\n\u001b[1;32m   1569\u001b[0m         \u001b[0;34m\"\"\"Search all candidates in param_grid\"\"\"\u001b[0m\u001b[0;34m\u001b[0m\u001b[0;34m\u001b[0m\u001b[0m\n\u001b[0;32m-> 1570\u001b[0;31m         \u001b[0mevaluate_candidates\u001b[0m\u001b[0;34m(\u001b[0m\u001b[0mParameterGrid\u001b[0m\u001b[0;34m(\u001b[0m\u001b[0mself\u001b[0m\u001b[0;34m.\u001b[0m\u001b[0mparam_grid\u001b[0m\u001b[0;34m)\u001b[0m\u001b[0;34m)\u001b[0m\u001b[0;34m\u001b[0m\u001b[0;34m\u001b[0m\u001b[0m\n\u001b[0m\u001b[1;32m   1571\u001b[0m \u001b[0;34m\u001b[0m\u001b[0m\n\u001b[1;32m   1572\u001b[0m \u001b[0;34m\u001b[0m\u001b[0m\n",
            "\u001b[0;32m/usr/local/lib/python3.10/dist-packages/sklearn/model_selection/_search.py\u001b[0m in \u001b[0;36mevaluate_candidates\u001b[0;34m(candidate_params, cv, more_results)\u001b[0m\n\u001b[1;32m    998\u001b[0m                     )\n\u001b[1;32m    999\u001b[0m \u001b[0;34m\u001b[0m\u001b[0m\n\u001b[0;32m-> 1000\u001b[0;31m                 \u001b[0m_warn_or_raise_about_fit_failures\u001b[0m\u001b[0;34m(\u001b[0m\u001b[0mout\u001b[0m\u001b[0;34m,\u001b[0m \u001b[0mself\u001b[0m\u001b[0;34m.\u001b[0m\u001b[0merror_score\u001b[0m\u001b[0;34m)\u001b[0m\u001b[0;34m\u001b[0m\u001b[0;34m\u001b[0m\u001b[0m\n\u001b[0m\u001b[1;32m   1001\u001b[0m \u001b[0;34m\u001b[0m\u001b[0m\n\u001b[1;32m   1002\u001b[0m                 \u001b[0;31m# For callable self.scoring, the return type is only know after\u001b[0m\u001b[0;34m\u001b[0m\u001b[0;34m\u001b[0m\u001b[0m\n",
            "\u001b[0;32m/usr/local/lib/python3.10/dist-packages/sklearn/model_selection/_validation.py\u001b[0m in \u001b[0;36m_warn_or_raise_about_fit_failures\u001b[0;34m(results, error_score)\u001b[0m\n\u001b[1;32m    515\u001b[0m                 \u001b[0;34mf\"Below are more details about the failures:\\n{fit_errors_summary}\"\u001b[0m\u001b[0;34m\u001b[0m\u001b[0;34m\u001b[0m\u001b[0m\n\u001b[1;32m    516\u001b[0m             )\n\u001b[0;32m--> 517\u001b[0;31m             \u001b[0;32mraise\u001b[0m \u001b[0mValueError\u001b[0m\u001b[0;34m(\u001b[0m\u001b[0mall_fits_failed_message\u001b[0m\u001b[0;34m)\u001b[0m\u001b[0;34m\u001b[0m\u001b[0;34m\u001b[0m\u001b[0m\n\u001b[0m\u001b[1;32m    518\u001b[0m \u001b[0;34m\u001b[0m\u001b[0m\n\u001b[1;32m    519\u001b[0m         \u001b[0;32melse\u001b[0m\u001b[0;34m:\u001b[0m\u001b[0;34m\u001b[0m\u001b[0;34m\u001b[0m\u001b[0m\n",
            "\u001b[0;31mValueError\u001b[0m: \nAll the 3 fits failed.\nIt is very likely that your model is misconfigured.\nYou can try to debug the error by setting error_score='raise'.\n\nBelow are more details about the failures:\n--------------------------------------------------------------------------------\n3 fits failed with the following error:\nTraceback (most recent call last):\n  File \"/usr/local/lib/python3.10/dist-packages/sklearn/model_selection/_validation.py\", line 866, in _fit_and_score\n    estimator.fit(X_train, y_train, **fit_params)\n  File \"/usr/local/lib/python3.10/dist-packages/skorch/classifier.py\", line 165, in fit\n    return super(NeuralNetClassifier, self).fit(X, y, **fit_params)\n  File \"/usr/local/lib/python3.10/dist-packages/skorch/net.py\", line 1347, in fit\n    self.initialize()\n  File \"/usr/local/lib/python3.10/dist-packages/skorch/net.py\", line 938, in initialize\n    self._validate_params()\n  File \"/usr/local/lib/python3.10/dist-packages/skorch/net.py\", line 2079, in _validate_params\n    raise ValueError(full_msg)\nValueError: __init__() got unexpected argument(s) devicestr. Either you made a typo, or you added new arguments in a subclass; if that is the case, the subclass should deal with the new arguments explicitly.\n"
          ]
        }
      ]
    },
    {
      "cell_type": "code",
      "source": [
        "print(grid_result.cv_results_)"
      ],
      "metadata": {
        "id": "3VsI2jkaJ0-5",
        "outputId": "6aa089ec-b29c-47eb-fe0e-76e6db95c8c4",
        "colab": {
          "base_uri": "https://localhost:8080/"
        }
      },
      "execution_count": null,
      "outputs": [
        {
          "output_type": "stream",
          "name": "stdout",
          "text": [
            "{'mean_fit_time': array([100.3523318]), 'std_fit_time': array([25.08846019]), 'mean_score_time': array([26.60393413]), 'std_score_time': array([6.83448654]), 'param_max_epochs': masked_array(data=[2],\n",
            "             mask=[False],\n",
            "       fill_value=999999), 'params': [{'max_epochs': 2}], 'split0_test_score': array([0.81255]), 'split1_test_score': array([0.78535]), 'split2_test_score': array([0.7688]), 'mean_test_score': array([0.7889]), 'std_test_score': array([0.0180364]), 'rank_test_score': array([1], dtype=int32)}\n"
          ]
        }
      ]
    },
    {
      "cell_type": "markdown",
      "metadata": {
        "id": "hgtTI1T44TAO"
      },
      "source": [
        "#### Task 3: Experiment and report your observations on how the model's performance changes using *three* different activation functions. (10 pts)\n",
        "Read more here: [Activation functions](https://machinelearningmastery.com/activation-functions-in-pytorch/)"
      ]
    },
    {
      "cell_type": "code",
      "execution_count": null,
      "metadata": {
        "id": "TawReWDz4TAO"
      },
      "outputs": [],
      "source": [
        "######################################\n",
        "######## WRITE YOUR CODE HERE ########\n",
        "######################################"
      ]
    },
    {
      "cell_type": "markdown",
      "metadata": {
        "id": "1rFLOJiI4TAO"
      },
      "source": [
        "#### Task 4: Experiment and report your observations on how the model's performance(testing accuracy) changes with different numbers of hidden neurons and different number of hidden layers. (15 pts)\n",
        "For example pick a hidden layer with 1000 neurons and report the accuracy. Then pick a hidden layer with 10 neurons and report the accuracy. How does the accuracy change, how long does it take for each iteration? What is the reason for this change?\n"
      ]
    },
    {
      "cell_type": "code",
      "execution_count": null,
      "metadata": {
        "id": "8BT9Gc444TAO"
      },
      "outputs": [],
      "source": [
        "######################################\n",
        "######## WRITE YOUR CODE HERE ########\n",
        "######################################"
      ]
    },
    {
      "cell_type": "markdown",
      "metadata": {
        "id": "9ODsfGOt4TAO"
      },
      "source": [
        "#### Task 5: What did you learn from these experiments? (10 pts)"
      ]
    },
    {
      "cell_type": "markdown",
      "metadata": {
        "id": "svC_cOJiQx5Y"
      },
      "source": []
    },
    {
      "cell_type": "markdown",
      "metadata": {
        "id": "ZvN_ne-iQx5Y"
      },
      "source": [
        "## Exploring Web Interfaces of Large Language Models\n",
        "\n",
        "### Objective:\n",
        "This section is designed to help you become familiar with web interfaces of popular AI tools, including OpenAI GPT, Perplexity, and Grok. You will explore how these tools handle different types of prompts.\n",
        "This exercise will help you understand and compare the capabilities and limitations of different large language model-based tools, providing insights into their real-world applications.\n",
        "\n",
        "The task is to experiment with atleast 3 tools to compare and gain insights on how my perform and their limitations.\n",
        "\n",
        "### Part 1: Task: Exploring Role-Specific Prompting (10 pts)\n",
        "1. General Prompt:\n",
        "\n",
        "Ask the tool a simple question, such as:\n",
        "   - \"How does a neural network work?\"\n",
        "   - \"Explain how a recommendation system works.\"\n",
        "\n",
        "2. Role-Specific Prompt:\n",
        "\n",
        "Frame the same question by assigning a professional role to the tool. For example:\n",
        "   - \"You are a professor with 20 years of experience in machine learning. Explain how a neural network works.\"\n",
        "   - \"You are a data scientist working on Netflix's recommendation systems. Explain how a recommendation system works.\"\n",
        "   \n",
        "Observe and document how the response changes in detail, tone, and focus.\n",
        "\n",
        "### Part 2: Math and Reasoning (10 pts)\n",
        "1. Using the same three tools, provide prompts requiring logical reasoning and mathematical calculations. For instance:\n",
        "   - \"What is the sum of 123 and 456?\"\n",
        "   - \"If it takes 3 hours to travel 180 miles, what is the speed in miles per hour?\"\n",
        "2. Compare the outputs for accuracy and coherence.\n",
        "\n",
        "\n",
        "### Submission Instructions\n",
        "- Take screenshots of the prompts and the corresponding responses for both tasks.\n",
        "- Compile the screenshots into a single Zip file.\n",
        "- Submit your document via the assignment portal.\n",
        "\n"
      ]
    },
    {
      "cell_type": "markdown",
      "metadata": {
        "id": "zCsa9OP_4TAO"
      },
      "source": [
        "## OpenAI API Setup Instructions"
      ]
    },
    {
      "cell_type": "markdown",
      "metadata": {
        "id": "0IJ5b_Vp4TAP"
      },
      "source": [
        "### Step 1: Create an OpenAI Account\n",
        "Go to the [OpenAI website](https://beta.openai.com/signup/) and create an account.\n",
        "### Step 2: Get Your API Key\n",
        "Once you've created an account and logged in, navigate to the API section in the dashboard. Here, you will have to create your own API key. Make sure to Copy this key for later use.\n",
        "\n",
        "Note: You might need to make a minimum payment to use the API calls. You will be charged as per the number of API calls made. [Pricing](https://openai.com/api/pricing/)\n",
        "### Step 3: Install the OpenAI Python Client\n",
        "You can install the OpenAI Python client using pip. Open your terminal and run the following command:\n",
        "```console\n",
        "pip install openai\n",
        "```\n",
        "### Step 4: Use the API Key in Your Application\n",
        "In your Python script, you can use the API key like this:\n",
        "\n",
        "```python\n",
        "import openai\n",
        "\n",
        "openai.api_key = 'your-api-key'\n",
        "```\n",
        "\n",
        "Replace `'your-api-key'` with the API key you copied earlier.\n",
        "\n",
        "### Step 5: Make API Calls\n",
        "Now you can make API calls using the `openai` library. For example, to use the GPT-3 model, you can do something like this:\n",
        "#### For Text Generation\n",
        "```python\n",
        "messages = [{\"role\": \"user\", \"content\": prompt}]\n",
        "response = openai.chat.completions.create(\n",
        "        model=\"gpt-3.5-turbo\",\n",
        "        messages=messages,\n",
        "        temperature=1,\n",
        "    )\n",
        "```\n",
        "\n",
        "#### For Image Generation\n",
        "```python\n",
        "response = client.images.generate(\n",
        "        model=\"dall-e-2\",\n",
        "        prompt= \"Birthday cake with candles\",\n",
        "        n=1,\n",
        "        size=\"1024x1024\"\n",
        "    )\n",
        "\n",
        "That's it! You've successfully set up the OpenAI API.\n",
        "For more Usages and examples refer the Docs Section\n",
        "```"
      ]
    },
    {
      "cell_type": "markdown",
      "metadata": {
        "id": "9I53ieN64TAQ"
      },
      "source": [
        "## OpenAI Setup Assignment"
      ]
    },
    {
      "cell_type": "markdown",
      "metadata": {
        "id": "ItlXaho34TAQ"
      },
      "source": [
        "After successfully setting up the OpenAI API, you can now use it to complete the assignment. The assignment is divided into two parts:\n",
        "\n",
        "### Part 1: Sentiment Analysis (10 pts)\n",
        "In this part, you'll use the OpenAI API to generate text. You'll use the GPT-3 model for this task. Take input from the user and perform sentiment analysis on the input text. Based on the sentiment, generate a response using the GPT-3 model.\n",
        "\n",
        "### Part 2: Image Generation (5 pts)\n",
        "In this part, you'll use the OpenAI API to generate images. You'll use the DALL-E model for this task. Take input from the user and generate an image based on the input text."
      ]
    },
    {
      "cell_type": "markdown",
      "metadata": {
        "id": "sVBcmi_I64tt"
      },
      "source": [
        " ###  *Store your API key in a file called open_ai_key.txt and upload it on Colab or give path to the text file if you are running it locally*\n"
      ]
    },
    {
      "cell_type": "code",
      "execution_count": null,
      "metadata": {
        "id": "ufnelbIE508D"
      },
      "outputs": [],
      "source": [
        "from google.colab import drive\n",
        "drive.mount('/content/gdrive')"
      ]
    },
    {
      "cell_type": "code",
      "execution_count": null,
      "metadata": {
        "id": "4Cj671eM4TAQ"
      },
      "outputs": [],
      "source": [
        "import openai\n",
        "from openai import OpenAI\n",
        "from PIL import Image\n",
        "import urllib.request\n",
        "from io import BytesIO\n",
        "from IPython.display import display\n",
        "\n",
        "class open_ai_a0:\n",
        "    def __init__(self):\n",
        "        api_key = self.load_key()\n",
        "        self.client = OpenAI(api_key=api_key)\n",
        "\n",
        "    # Loading OpenAI key from file #\n",
        "    def load_key(self):\n",
        "        open_ai_key_file = \"open_ai_key.txt\"\n",
        "        with open(open_ai_key_file, \"r\") as f:\n",
        "            for line in f:\n",
        "                OPENAI_KEY = line.strip()  # strip to remove any trailing newline character\n",
        "                return OPENAI_KEY\n",
        "\n",
        "    def get_sentiment(self, text):\n",
        "        # TODO: Write your prompt here for sentiment analysis on user provided text\n",
        "        ######################################\n",
        "        ######## WRITE YOUR PROMPT HERE ########\n",
        "        ######################################\n",
        "        prompt = \"\"\n",
        "        messages = [{\"role\": \"user\", \"content\": prompt}]\n",
        "        response = self.client.chat.completions.create(\n",
        "            model=\"gpt-3.5-turbo\",\n",
        "            messages=messages,\n",
        "            temperature=1,\n",
        "        )\n",
        "\n",
        "        sentiment = response.choices[0].message.content\n",
        "        print(sentiment)\n",
        "\n",
        "    def text_to_image(self):\n",
        "        response = self.client.images.generate(\n",
        "            model=\"dall-e-2\",\n",
        "            # TODO: Write your prompt here for text to image\n",
        "            ######################################\n",
        "            ######## WRITE YOUR PROMPT HERE ########\n",
        "            ######################################\n",
        "            prompt= \"\",\n",
        "            n=1,\n",
        "            size=\"1024x1024\"\n",
        "        )\n",
        "        image_url = response.data[0].url\n",
        "        with urllib.request.urlopen(image_url) as image_url:\n",
        "            img = Image.open(BytesIO(image_url.read()))\n",
        "\n",
        "        display(img)\n",
        "\n",
        "\n",
        "    def run(self):\n",
        "        text = input(\"Enter a text: \")\n",
        "        self.get_sentiment(text)\n",
        "        self.text_to_image()"
      ]
    },
    {
      "cell_type": "code",
      "execution_count": null,
      "metadata": {
        "id": "UUl20UWE4TAQ"
      },
      "outputs": [],
      "source": [
        "if __name__ == \"__main__\":\n",
        "    obj = open_ai_a0()\n",
        "    obj.run()"
      ]
    }
  ],
  "metadata": {
    "colab": {
      "provenance": [],
      "gpuType": "L4",
      "include_colab_link": true
    },
    "kernelspec": {
      "display_name": "Python 3",
      "name": "python3"
    },
    "language_info": {
      "codemirror_mode": {
        "name": "ipython",
        "version": 3
      },
      "file_extension": ".py",
      "mimetype": "text/x-python",
      "name": "python",
      "nbconvert_exporter": "python",
      "pygments_lexer": "ipython3",
      "version": "3.11.3"
    },
    "accelerator": "GPU"
  },
  "nbformat": 4,
  "nbformat_minor": 0
}