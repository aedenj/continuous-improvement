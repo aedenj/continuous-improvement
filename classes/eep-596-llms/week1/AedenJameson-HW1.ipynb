{
  "cells": [
    {
      "cell_type": "markdown",
      "metadata": {
        "id": "QriHsf_B4TAJ"
      },
      "source": [
        "## Google Colab Setup"
      ]
    },
    {
      "cell_type": "markdown",
      "metadata": {
        "id": "wfQ6-4um4TAL"
      },
      "source": [
        "### Setting up Google Colab with GPU support is a straightforward process. Here are the steps along with links to the official documentation:\n",
        "\n",
        "1. Open Google Colab:\n",
        "   Open your browser and go to Google Colab.\n",
        "\n",
        "2. Sign in with Google Account:\n",
        "   If you're not already signed in, sign in with your Google account.\n",
        "\n",
        "3. Create a New Notebook:\n",
        "   Click on \"File\" in the top left corner, then select \"New Notebook\" to create a new Colab notebook.\n",
        "\n",
        "4. Change Runtime Type:\n",
        "   Click on \"Runtime\" in the top menu, then select \"Change runtime type.\" Choose \"GPU\" from the Hardware accelerator dropdown menu.\n",
        "\n",
        "[Change runtime type documentation](https://colab.research.google.com/notebooks/basic_features_overview.ipynb#scrollTo=-_z3tY2D-RRs)\n",
        "\n",
        "5. Verify GPU Availability:\n",
        "   To verify that the GPU is successfully connected, you can run the following code snippet in a code cell:\n",
        "   ```python\n",
        "   import tensorflow as tf\n",
        "   tf.test.gpu_device_name()\n",
        "   ```\n",
        "   It should output the name of your GPU if the GPU is connected.\n",
        "\n",
        "\n",
        "6. Load Data and Start Coding:\n",
        "   Now you can start coding in your notebook. Upload your datasets, write your code, and execute the cells.\n",
        "\n",
        "   Remember that the GPU access provided by Colab is not unlimited. It has time restrictions, and if you exceed the allocated time, you might need to reconnect to a new GPU.\n",
        "\n",
        "   By following these steps and referring to the provided documentation links, you should be able to set up and use Google Colab with GPU support for your machine learning or deep learning projects.\n",
        "\n",
        "\n",
        "\n"
      ]
    },
    {
      "cell_type": "markdown",
      "metadata": {
        "id": "-iiUXLUQq8XR"
      },
      "source": [
        "## Coding Exercise"
      ]
    },
    {
      "cell_type": "markdown",
      "metadata": {
        "id": "PWztx2Kts2q1"
      },
      "source": [
        "### Simple Neural Network Implementation\n",
        "\n",
        "Objective: Complete a simple neural network.\n",
        "This task will help you understand the fundamental mechanisms of neural networks, including the forward pass, backward pass (backpropagation), and basic optimization.\n",
        "\n",
        "Problem Statement:\n",
        "You are given a neural network that is performing really bad.\n",
        "You are required to complete and improve it to perform  classification on a Fashion MNIST Dataset"
      ]
    },
    {
      "cell_type": "markdown",
      "metadata": {
        "id": "MYJU27tOuJca"
      },
      "source": [
        "Import all necessary libraries"
      ]
    },
    {
      "cell_type": "code",
      "execution_count": null,
      "metadata": {
        "id": "ugipDkHVuL94"
      },
      "outputs": [],
      "source": [
        "import torch\n",
        "import torch.nn as nn\n",
        "import torch.optim as optim\n",
        "import numpy as np\n",
        "import matplotlib.pyplot as plt\n",
        "import torch.nn.functional as F\n",
        "from torchvision import datasets, transforms\n",
        "from torch.utils.data.sampler import  SubsetRandomSampler"
      ]
    },
    {
      "cell_type": "markdown",
      "metadata": {
        "id": "rAySP4v94TAM"
      },
      "source": [
        "### Dataset:\n",
        "\n",
        "The dataset used is the Fashion-MNIST dataset, a dataset of Zalando's article images. It is intended as a drop-in replacement for the original MNIST dataset for benchmarking machine learning algorithms. It consists of 60,000 training images and 10,000 testing images. Each image is a 28x28 grayscale image, associated with a label from 10 classes: T-shirt/top, Trouser, Pullover, Dress, Coat, Sandal, Shirt, Sneaker, Bag, and Ankle boot."
      ]
    },
    {
      "cell_type": "markdown",
      "metadata": {
        "id": "whDdonrr4TAM"
      },
      "source": [
        "### Train, Validation & Test split\n",
        "\n",
        "- **Splitting the Dataset:** The dataset is split into training and testing sets. The `train=True` argument is used to load the training set, and `train=False` is used to load the testing set.\n",
        "\n",
        "- **Creating a Validation Set:** A validation set is created from the training set. The indices of the training set are shuffled, and the first 20% of these indices are used for the validation set. The `SubsetRandomSampler` function is used to create samplers for the training and validation sets, which can be used to load batches of data."
      ]
    },
    {
      "cell_type": "code",
      "execution_count": null,
      "metadata": {
        "id": "ASJpjCuctOYx"
      },
      "outputs": [],
      "source": [
        "## Fashion MNIST data loading\n",
        "transform = transforms.Compose([transforms.ToTensor(),\n",
        "                               transforms.Normalize((0.5,),(0.5,),)]) #mean and std have to be sequences (e.g., tuples),\n",
        "                                                                      # therefore we should add a comma after the values\n",
        "\n",
        "#Load the data: train and test sets\n",
        "trainset = datasets.FashionMNIST('~/.pytorch/F_MNIST_data', download=True, train=True, transform=transform)\n",
        "testset = datasets.FashionMNIST('~/.pytorch/F_MNIST_data', download=True, train=False, transform=transform)\n",
        "\n",
        "#Preparing for validaion test\n",
        "indices = list(range(len(trainset)))\n",
        "np.random.shuffle(indices)\n",
        "#to get 20% of the train set\n",
        "split = int(np.floor(0.2 * len(trainset)))\n",
        "train_sample = SubsetRandomSampler(indices[:split])\n",
        "valid_sample = SubsetRandomSampler(indices[split:])\n",
        "\n",
        "#Data Loader\n",
        "trainloader = torch.utils.data.DataLoader(trainset, sampler=train_sample, batch_size=64)\n",
        "validloader = torch.utils.data.DataLoader(trainset, sampler=valid_sample, batch_size=64)\n",
        "testloader = torch.utils.data.DataLoader(testset, batch_size=64, shuffle=True)\n"
      ]
    },
    {
      "cell_type": "markdown",
      "metadata": {
        "id": "rCsScrZb4TAN"
      },
      "source": [
        "#### Sequential Model\n",
        "\n",
        "The neural network model is defined as a `Sequential` model. The `Sequential` model is a linear stack of layers. It can be created by passing a list of layer instances to the constructor.\n"
      ]
    },
    {
      "cell_type": "code",
      "execution_count": null,
      "metadata": {
        "id": "7sdYczcm4TAN"
      },
      "outputs": [],
      "source": [
        "class Classifier(nn.Module):\n",
        "    def __init__(self):\n",
        "        super().__init__()\n",
        "        self.fc1 = nn.Linear(784, 120)\n",
        "        self.fc2 = nn.Linear(120,10)\n",
        "        #defining the 20% dropout\n",
        "        self.dropout = nn.Dropout(0.2)\n",
        "\n",
        "    def forward(self,x):\n",
        "        x = x.view(x.shape[0],-1)\n",
        "        x = self.dropout(F.relu(self.fc1(x)))\n",
        "        #not using dropout on output layer\n",
        "        x = F.tanh(self.fc2(x))\n",
        "\n",
        "        return x"
      ]
    },
    {
      "cell_type": "code",
      "execution_count": null,
      "metadata": {
        "id": "WS3ezP3K4TAN",
        "outputId": "875c8068-93bb-405c-c3c6-6d23a993b8a2"
      },
      "outputs": [
        {
          "data": {
            "image/png": "[encoded data removed]",
            "text/plain": [
              "<Figure size 2500x400 with 10 Axes>"
            ]
          },
          "metadata": {},
          "output_type": "display_data"
        }
      ],
      "source": [
        "# visualizing images in gird\n",
        "def imshow(img):\n",
        "    img = img/2 + 0.5 #unnormalize\n",
        "    plt.imshow(np.transpose(img, (1,2,0))) #convert from tensor image\n",
        "\n",
        "dataiter = iter(trainloader)\n",
        "images, labels = next(dataiter)\n",
        "images = images.numpy() #converting images to numpy for display\n",
        "\n",
        "fig = plt.figure(figsize=(25,4))\n",
        "for idx in np.arange(10):\n",
        "    ax = fig.add_subplot(2, 10, idx+1, xticks=[], yticks=[])\n",
        "    imshow(images[idx])\n",
        "    ax.set_title(trainset.classes[labels[idx]])\n"
      ]
    },
    {
      "cell_type": "markdown",
      "metadata": {
        "id": "PmdKXf_1tc1g"
      },
      "source": [
        "### Training Function:\n",
        "This function trains the neural network model with stochastic gradient descent (SGD) as the optimizer and cross-entropy as the loss objective function.\n",
        "The training process includes both forward and backward passes. The model's parameters are updated in each epoch.\n",
        "\n",
        "### Testing Function:\n",
        "After training the model, we'll evaluate the model's performance on testing dataset. The evaluation will be done based on the accuracy of the model, which is the proportion of correctly predicted samples."
      ]
    },
    {
      "cell_type": "code",
      "execution_count": null,
      "metadata": {
        "id": "OREQN_D3tdc2"
      },
      "outputs": [],
      "source": [
        "class ModelTrainer:\n",
        "    def __init__(self, model, learning_rate=1, num_epochs=100):\n",
        "        self.model = model\n",
        "        self.learning_rate = learning_rate\n",
        "        self.num_epochs = num_epochs\n",
        "        self.loss_func = nn.CrossEntropyLoss()\n",
        "        self.optimizer = optim.SGD(self.model.parameters(), lr=self.learning_rate)\n",
        "        self.device = torch.device(\"cuda:0\" if torch.cuda.is_available() else \"cpu\")\n",
        "        self.model.to(self.device)\n",
        "        self.train_loss = []\n",
        "        self.test_loss = []\n",
        "\n",
        "    def train_model(self, loader, epoch):\n",
        "        self.model.train()\n",
        "        loss_list = []\n",
        "        for batch_idx, (data, target) in enumerate(loader):\n",
        "            data, target = data.to(self.device), target.to(self.device)\n",
        "            self.optimizer.zero_grad()\n",
        "            output = self.model(data)\n",
        "            loss = self.loss_func(output, target)\n",
        "            loss.backward()\n",
        "            self.optimizer.step()\n",
        "            loss_list.append(loss.item())\n",
        "        print('Train Epoch: {} [{}/{} ({:.0f}%)]\\tLoss: {:.6f}'.format(\n",
        "                        epoch, batch_idx*len(data), len(loader.dataset),\n",
        "                        100. * batch_idx / len(loader), loss.item()))\n",
        "        avg_loss = sum(loss_list)/len(loss_list)\n",
        "        self.train_loss.append(avg_loss)\n",
        "\n",
        "\n",
        "    def test_model(self, loader):\n",
        "        self.model.eval()\n",
        "        test_loss = 0\n",
        "        correct = 0\n",
        "        loss_list = []\n",
        "        with torch.no_grad():\n",
        "            for data, target in loader:\n",
        "                data, target = data.to(self.device), target.to(self.device)\n",
        "                output = self.model(data)\n",
        "                batch_loss = self.loss_func(output, target).item()  # Calculate the loss for this batch\n",
        "                test_loss += batch_loss  # Add the batch loss to the total test loss\n",
        "                pred = output.argmax(dim=1, keepdim=True)\n",
        "                correct += pred.eq(target.view_as(pred)).sum().item()\n",
        "                loss_list.append(batch_loss)  # Append the batch loss to the list\n",
        "\n",
        "        avg_loss = sum(loss_list) / len(loss_list)\n",
        "        self.test_loss.append(avg_loss)\n",
        "        test_loss /= len(loader.dataset)\n",
        "        accuracy = 100. * correct / len(loader.dataset)\n",
        "        print('\\nTest set: Average loss: {:.4f}, Accuracy: {}/{} ({:.0f}%)\\n'.format(\n",
        "                test_loss, correct, len(loader.dataset), accuracy))\n",
        "\n",
        "    def run(self, trainloader, validloader):\n",
        "        for epoch in range(self.num_epochs):\n",
        "            self.train_model(trainloader, epoch)\n",
        "            self.test_model(validloader)\n",
        "        self.plot_loss()\n",
        "\n",
        "\n",
        "    # TODO: Generate a plot of the training/testing loss vs. the number of epochs. (10pts)\n",
        "    def plot_loss(self):\n",
        "        ######################################\n",
        "        ######## WRITE YOUR CODE HERE ########\n",
        "        ######################################\n",
        "        pass\n"
      ]
    },
    {
      "cell_type": "code",
      "execution_count": null,
      "metadata": {
        "id": "wyVIp14TuF1O"
      },
      "outputs": [],
      "source": [
        "model = Classifier()\n",
        "trainer = ModelTrainer(model=model, learning_rate=0.5, num_epochs=2)\n",
        "trainer.run(trainloader, validloader)\n",
        "trainer.test_model(testloader)"
      ]
    },
    {
      "cell_type": "markdown",
      "metadata": {
        "id": "9FQR3o494TAO"
      },
      "source": [
        "#### Task 1: Visualize the model's correct and incorrect predictions on the testing dataset using a confusion Matrix.(10 pts)"
      ]
    },
    {
      "cell_type": "code",
      "execution_count": null,
      "metadata": {
        "id": "ojzRopVw4TAO"
      },
      "outputs": [],
      "source": [
        "######################################\n",
        "######## WRITE YOUR CODE HERE ########\n",
        "######################################"
      ]
    },
    {
      "cell_type": "markdown",
      "metadata": {},
      "source": [
        "### Machine learning involves a lot of experimentation. You might not always see large improvements, but every observation helps you understand how different parameters and design choices affect the model's performance. Focus on interpreting the results, not just achieving the best accuracy."
      ]
    },
    {
      "cell_type": "markdown",
      "metadata": {
        "id": "s76rytSC4TAO"
      },
      "source": [
        "#### Task 2: Experiment with different learning rates and report your observations. Explain why the model performs better with some learning rates and worse with others. (10 pts)\n",
        "\n",
        "For example, Keeping the other parameters the same, pick a high learning rate and observe the lose curve, accuracy. Then pick a low learning rate and observe the lose curve, accuracy. Find an optimal learning rate for your model and explain How learning rate affects the accuracy and lose change? What is the reason for this change?"
      ]
    },
    {
      "cell_type": "code",
      "execution_count": null,
      "metadata": {
        "id": "T_ls0VuC4TAO"
      },
      "outputs": [],
      "source": [
        "######################################\n",
        "######## WRITE YOUR CODE HERE ########\n",
        "######################################"
      ]
    },
    {
      "cell_type": "markdown",
      "metadata": {
        "id": "hgtTI1T44TAO"
      },
      "source": [
        "#### Task 3: Experiment and report your observations on how the model's performance changes using *three* different activation functions. (10 pts)\n",
        "Read more here: [Activation functions](https://machinelearningmastery.com/activation-functions-in-pytorch/)"
      ]
    },
    {
      "cell_type": "code",
      "execution_count": null,
      "metadata": {
        "id": "TawReWDz4TAO"
      },
      "outputs": [],
      "source": [
        "######################################\n",
        "######## WRITE YOUR CODE HERE ########\n",
        "######################################"
      ]
    },
    {
      "cell_type": "markdown",
      "metadata": {
        "id": "1rFLOJiI4TAO"
      },
      "source": [
        "#### Task 4: Experiment and report your observations on how the model's performance(testing accuracy) changes with different numbers of hidden neurons and different number of hidden layers. (15 pts)\n",
        "For example pick a hidden layer with 1000 neurons and report the accuracy. Then pick a hidden layer with 10 neurons and report the accuracy. How does the accuracy change, how long does it take for each iteration? What is the reason for this change?\n"
      ]
    },
    {
      "cell_type": "code",
      "execution_count": null,
      "metadata": {
        "id": "8BT9Gc444TAO"
      },
      "outputs": [],
      "source": [
        "######################################\n",
        "######## WRITE YOUR CODE HERE ########\n",
        "######################################"
      ]
    },
    {
      "cell_type": "markdown",
      "metadata": {
        "id": "9ODsfGOt4TAO"
      },
      "source": [
        "#### Task 5: What did you learn from these experiments? (10 pts)"
      ]
    },
    {
      "cell_type": "markdown",
      "metadata": {},
      "source": []
    },
    {
      "cell_type": "markdown",
      "metadata": {},
      "source": [
        "## Exploring Web Interfaces of Large Language Models\n",
        "\n",
        "### Objective:\n",
        "This section is designed to help you become familiar with web interfaces of popular AI tools, including OpenAI GPT, Perplexity, and Grok. You will explore how these tools handle different types of prompts.\n",
        "This exercise will help you understand and compare the capabilities and limitations of different large language model-based tools, providing insights into their real-world applications.\n",
        "\n",
        "The task is to experiment with atleast 3 tools to compare and gain insights on how my perform and their limitations.\n",
        "\n",
        "### Part 1: Task: Exploring Role-Specific Prompting (10 pts)\n",
        "1. General Prompt:\n",
        "\n",
        "Ask the tool a simple question, such as:\n",
        "   - \"How does a neural network work?\"\n",
        "   - \"Explain how a recommendation system works.\"\n",
        "\n",
        "2. Role-Specific Prompt:\n",
        "\n",
        "Frame the same question by assigning a professional role to the tool. For example:\n",
        "   - \"You are a professor with 20 years of experience in machine learning. Explain how a neural network works.\"\n",
        "   - \"You are a data scientist working on Netflix's recommendation systems. Explain how a recommendation system works.\"\n",
        "   \n",
        "Observe and document how the response changes in detail, tone, and focus.\n",
        "\n",
        "### Part 2: Math and Reasoning (10 pts)\n",
        "1. Using the same three tools, provide prompts requiring logical reasoning and mathematical calculations. For instance:\n",
        "   - \"What is the sum of 123 and 456?\"\n",
        "   - \"If it takes 3 hours to travel 180 miles, what is the speed in miles per hour?\"\n",
        "2. Compare the outputs for accuracy and coherence.\n",
        "\n",
        "\n",
        "### Submission Instructions\n",
        "- Take screenshots of the prompts and the corresponding responses for both tasks.\n",
        "- Compile the screenshots into a single Zip file.\n",
        "- Submit your document via the assignment portal.\n",
        "\n"
      ]
    },
    {
      "cell_type": "markdown",
      "metadata": {
        "id": "zCsa9OP_4TAO"
      },
      "source": [
        "## OpenAI API Setup Instructions"
      ]
    },
    {
      "cell_type": "markdown",
      "metadata": {
        "id": "0IJ5b_Vp4TAP"
      },
      "source": [
        "### Step 1: Create an OpenAI Account\n",
        "Go to the [OpenAI website](https://beta.openai.com/signup/) and create an account.\n",
        "### Step 2: Get Your API Key\n",
        "Once you've created an account and logged in, navigate to the API section in the dashboard. Here, you will have to create your own API key. Make sure to Copy this key for later use.\n",
        "\n",
        "Note: You might need to make a minimum payment to use the API calls. You will be charged as per the number of API calls made. [Pricing](https://openai.com/api/pricing/)\n",
        "### Step 3: Install the OpenAI Python Client\n",
        "You can install the OpenAI Python client using pip. Open your terminal and run the following command:\n",
        "```console\n",
        "pip install openai\n",
        "```\n",
        "### Step 4: Use the API Key in Your Application\n",
        "In your Python script, you can use the API key like this:\n",
        "\n",
        "```python\n",
        "import openai\n",
        "\n",
        "openai.api_key = 'your-api-key'\n",
        "```\n",
        "\n",
        "Replace `'your-api-key'` with the API key you copied earlier.\n",
        "\n",
        "### Step 5: Make API Calls\n",
        "Now you can make API calls using the `openai` library. For example, to use the GPT-3 model, you can do something like this:\n",
        "#### For Text Generation\n",
        "```python\n",
        "messages = [{\"role\": \"user\", \"content\": prompt}]\n",
        "response = openai.chat.completions.create(\n",
        "        model=\"gpt-3.5-turbo\",\n",
        "        messages=messages,\n",
        "        temperature=1,\n",
        "    )\n",
        "```\n",
        "\n",
        "#### For Image Generation\n",
        "```python\n",
        "response = client.images.generate(\n",
        "        model=\"dall-e-2\",\n",
        "        prompt= \"Birthday cake with candles\",\n",
        "        n=1,\n",
        "        size=\"1024x1024\"\n",
        "    )\n",
        "\n",
        "That's it! You've successfully set up the OpenAI API.\n",
        "For more Usages and examples refer the Docs Section\n",
        "```"
      ]
    },
    {
      "cell_type": "markdown",
      "metadata": {
        "id": "9I53ieN64TAQ"
      },
      "source": [
        "## OpenAI Setup Assignment"
      ]
    },
    {
      "cell_type": "markdown",
      "metadata": {
        "id": "ItlXaho34TAQ"
      },
      "source": [
        "After successfully setting up the OpenAI API, you can now use it to complete the assignment. The assignment is divided into two parts:\n",
        "\n",
        "### Part 1: Sentiment Analysis (10 pts)\n",
        "In this part, you'll use the OpenAI API to generate text. You'll use the GPT-3 model for this task. Take input from the user and perform sentiment analysis on the input text. Based on the sentiment, generate a response using the GPT-3 model.\n",
        "\n",
        "### Part 2: Image Generation (5 pts)\n",
        "In this part, you'll use the OpenAI API to generate images. You'll use the DALL-E model for this task. Take input from the user and generate an image based on the input text."
      ]
    },
    {
      "cell_type": "markdown",
      "metadata": {
        "id": "sVBcmi_I64tt"
      },
      "source": [
        " ###  *Store your API key in a file called open_ai_key.txt and upload it on Colab or give path to the text file if you are running it locally*\n"
      ]
    },
    {
      "cell_type": "code",
      "execution_count": 1,
      "metadata": {
        "colab": {
          "base_uri": "https://localhost:8080/"
        },
        "id": "ufnelbIE508D",
        "outputId": "6f9ebd12-91fc-4645-bf62-572f0b2f17a5"
      },
      "outputs": [
        {
          "name": "stdout",
          "output_type": "stream",
          "text": [
            "Mounted at /content/gdrive\n"
          ]
        }
      ],
      "source": [
        "from google.colab import drive\n",
        "drive.mount('/content/gdrive')"
      ]
    },
    {
      "cell_type": "code",
      "execution_count": null,
      "metadata": {
        "id": "4Cj671eM4TAQ"
      },
      "outputs": [],
      "source": [
        "import openai\n",
        "from openai import OpenAI\n",
        "from PIL import Image\n",
        "import urllib.request\n",
        "from io import BytesIO\n",
        "from IPython.display import display\n",
        "\n",
        "class open_ai_a0:\n",
        "    def __init__(self):\n",
        "        api_key = self.load_key()\n",
        "        self.client = OpenAI(api_key=api_key)\n",
        "\n",
        "    # Loading OpenAI key from file #\n",
        "    def load_key(self):\n",
        "        open_ai_key_file = \"open_ai_key.txt\"\n",
        "        with open(open_ai_key_file, \"r\") as f:\n",
        "            for line in f:\n",
        "                OPENAI_KEY = line.strip()  # strip to remove any trailing newline character\n",
        "                return OPENAI_KEY\n",
        "\n",
        "    def get_sentiment(self, text):\n",
        "        # TODO: Write your prompt here for sentiment analysis on user provided text\n",
        "        ######################################\n",
        "        ######## WRITE YOUR PROMPT HERE ########\n",
        "        ######################################\n",
        "        prompt = \"\"\n",
        "        messages = [{\"role\": \"user\", \"content\": prompt}]\n",
        "        response = self.client.chat.completions.create(\n",
        "            model=\"gpt-3.5-turbo\",\n",
        "            messages=messages,\n",
        "            temperature=1,\n",
        "        )\n",
        "\n",
        "        sentiment = response.choices[0].message.content\n",
        "        print(sentiment)\n",
        "\n",
        "    def text_to_image(self):\n",
        "        response = self.client.images.generate(\n",
        "            model=\"dall-e-2\",\n",
        "            # TODO: Write your prompt here for text to image\n",
        "            ######################################\n",
        "            ######## WRITE YOUR PROMPT HERE ########\n",
        "            ######################################\n",
        "            prompt= \"\",\n",
        "            n=1,\n",
        "            size=\"1024x1024\"\n",
        "        )\n",
        "        image_url = response.data[0].url\n",
        "        with urllib.request.urlopen(image_url) as image_url:\n",
        "            img = Image.open(BytesIO(image_url.read()))\n",
        "\n",
        "        display(img)\n",
        "\n",
        "\n",
        "    def run(self):\n",
        "        text = input(\"Enter a text: \")\n",
        "        self.get_sentiment(text)\n",
        "        self.text_to_image()"
      ]
    },
    {
      "cell_type": "code",
      "execution_count": null,
      "metadata": {
        "id": "UUl20UWE4TAQ"
      },
      "outputs": [],
      "source": [
        "if __name__ == \"__main__\":\n",
        "    obj = open_ai_a0()\n",
        "    obj.run()"
      ]
    }
  ],
  "metadata": {
    "colab": {
      "provenance": []
    },
    "kernelspec": {
      "display_name": "Python 3",
      "name": "python3"
    },
    "language_info": {
      "codemirror_mode": {
        "name": "ipython",
        "version": 3
      },
      "file_extension": ".py",
      "mimetype": "text/x-python",
      "name": "python",
      "nbconvert_exporter": "python",
      "pygments_lexer": "ipython3",
      "version": "3.11.3"
    }
  },
  "nbformat": 4,
  "nbformat_minor": 0
}
