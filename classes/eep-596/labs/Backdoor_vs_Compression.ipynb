{
 "cells": [
  {
   "cell_type": "markdown",
   "id": "ff7fd77d-f139-4db4-9710-ffb617ad2419",
   "metadata": {},
   "source": [
    "# EEP 596: TinyML Lecture 4 \n",
    "# Backdoor Attacks on DNNs Vs. Model Compression"
   ]
  },
  {
   "cell_type": "markdown",
   "id": "7bfa306c-1185-47b9-b96c-a1daa6c91dac",
   "metadata": {},
   "source": [
    "### Import Libraries and Prepare MNIST Data"
   ]
  },
  {
   "cell_type": "code",
   "execution_count": 1,
   "id": "b5469806-d19c-4ff1-ab5b-295a7a014e2b",
   "metadata": {},
   "outputs": [
    {
     "name": "stderr",
     "output_type": "stream",
     "text": [
      "2024-04-18 01:53:43.471437: I tensorflow/core/platform/cpu_feature_guard.cc:193] This TensorFlow binary is optimized with oneAPI Deep Neural Network Library (oneDNN) to use the following CPU instructions in performance-critical operations:  AVX2 AVX512F FMA\n",
      "To enable them in other operations, rebuild TensorFlow with the appropriate compiler flags.\n",
      "2024-04-18 01:53:43.588437: W tensorflow/compiler/xla/stream_executor/platform/default/dso_loader.cc:64] Could not load dynamic library 'libcudart.so.11.0'; dlerror: libcudart.so.11.0: cannot open shared object file: No such file or directory\n",
      "2024-04-18 01:53:43.588458: I tensorflow/compiler/xla/stream_executor/cuda/cudart_stub.cc:29] Ignore above cudart dlerror if you do not have a GPU set up on your machine.\n",
      "2024-04-18 01:53:44.425399: W tensorflow/compiler/xla/stream_executor/platform/default/dso_loader.cc:64] Could not load dynamic library 'libnvinfer.so.7'; dlerror: libnvinfer.so.7: cannot open shared object file: No such file or directory\n",
      "2024-04-18 01:53:44.425461: W tensorflow/compiler/xla/stream_executor/platform/default/dso_loader.cc:64] Could not load dynamic library 'libnvinfer_plugin.so.7'; dlerror: libnvinfer_plugin.so.7: cannot open shared object file: No such file or directory\n",
      "2024-04-18 01:53:44.425469: W tensorflow/compiler/tf2tensorrt/utils/py_utils.cc:38] TF-TRT Warning: Cannot dlopen some TensorRT libraries. If you would like to use Nvidia GPU with TensorRT, please make sure the missing libraries mentioned above are installed properly.\n"
     ]
    }
   ],
   "source": [
    "from tensorflow.keras.datasets import mnist\n",
    "from tensorflow.keras.utils import to_categorical\n",
    "from sklearn.model_selection import train_test_split\n",
    "import numpy as np\n",
    "\n",
    "# Load the MNIST dataset\n",
    "(x_train, y_train), (x_test_, y_test_) = mnist.load_data()\n",
    "\n",
    "# Normalize the pixel values\n",
    "x_train = x_train.astype('float32')/ 255\n",
    "#x_test = x_test.astype('float32')\n",
    "\n",
    "# Reshape data to have a single channel\n",
    "x_train = np.expand_dims(x_train, -1)\n",
    "#x_test = np.expand_dims(x_test, -1)\n",
    "\n",
    "# Split data: 60% train, 20% validation, 20% test\n",
    "x_train, x_val, y_train, y_val = train_test_split(x_train, y_train, test_size=0.40, random_state=42)  # From 100% to 75% train, 25% val\n",
    "x_val, x_test, y_val, y_test = train_test_split(x_val, y_val, test_size=0.5, random_state=42)  # Split the 25% into two parts\n",
    "\n",
    "# Convert labels to one-hot encoding\n",
    "y_train = to_categorical(y_train, 10)\n",
    "y_val = to_categorical(y_val, 10)\n",
    "y_test = to_categorical(y_test, 10)\n"
   ]
  },
  {
   "cell_type": "markdown",
   "id": "cda26f08-83bf-449f-9806-2c1f9c34f443",
   "metadata": {},
   "source": [
    "### Build a CNN Model and Train"
   ]
  },
  {
   "cell_type": "code",
   "execution_count": 2,
   "id": "55e44a00-f9f7-4eea-b621-bc972bed524f",
   "metadata": {},
   "outputs": [
    {
     "name": "stderr",
     "output_type": "stream",
     "text": [
      "2024-04-18 01:53:45.966600: E tensorflow/compiler/xla/stream_executor/cuda/cuda_driver.cc:267] failed call to cuInit: CUDA_ERROR_NO_DEVICE: no CUDA-capable device is detected\n",
      "2024-04-18 01:53:45.966633: I tensorflow/compiler/xla/stream_executor/cuda/cuda_diagnostics.cc:169] retrieving CUDA diagnostic information for host: c0d4b45b2892\n",
      "2024-04-18 01:53:45.966644: I tensorflow/compiler/xla/stream_executor/cuda/cuda_diagnostics.cc:176] hostname: c0d4b45b2892\n",
      "2024-04-18 01:53:45.966785: I tensorflow/compiler/xla/stream_executor/cuda/cuda_diagnostics.cc:200] libcuda reported version is: 530.41.3\n",
      "2024-04-18 01:53:45.966814: I tensorflow/compiler/xla/stream_executor/cuda/cuda_diagnostics.cc:204] kernel reported version is: 530.41.3\n",
      "2024-04-18 01:53:45.966825: I tensorflow/compiler/xla/stream_executor/cuda/cuda_diagnostics.cc:310] kernel version seems to match DSO: 530.41.3\n",
      "2024-04-18 01:53:45.967134: I tensorflow/core/platform/cpu_feature_guard.cc:193] This TensorFlow binary is optimized with oneAPI Deep Neural Network Library (oneDNN) to use the following CPU instructions in performance-critical operations:  AVX2 AVX512F FMA\n",
      "To enable them in other operations, rebuild TensorFlow with the appropriate compiler flags.\n"
     ]
    },
    {
     "name": "stdout",
     "output_type": "stream",
     "text": [
      "Epoch 1/10\n",
      "282/282 [==============================] - 6s 17ms/step - loss: 0.4363 - accuracy: 0.8646 - val_loss: 0.1038 - val_accuracy: 0.9688\n",
      "Epoch 2/10\n",
      "282/282 [==============================] - 5s 16ms/step - loss: 0.1391 - accuracy: 0.9588 - val_loss: 0.0714 - val_accuracy: 0.9797\n",
      "Epoch 3/10\n",
      "282/282 [==============================] - 5s 16ms/step - loss: 0.1016 - accuracy: 0.9694 - val_loss: 0.0527 - val_accuracy: 0.9852\n",
      "Epoch 4/10\n",
      "282/282 [==============================] - 4s 16ms/step - loss: 0.0799 - accuracy: 0.9756 - val_loss: 0.0460 - val_accuracy: 0.9849\n",
      "Epoch 5/10\n",
      "282/282 [==============================] - 4s 16ms/step - loss: 0.0689 - accuracy: 0.9798 - val_loss: 0.0421 - val_accuracy: 0.9872\n",
      "Epoch 6/10\n",
      "282/282 [==============================] - 5s 16ms/step - loss: 0.0599 - accuracy: 0.9820 - val_loss: 0.0405 - val_accuracy: 0.9871\n",
      "Epoch 7/10\n",
      "282/282 [==============================] - 4s 15ms/step - loss: 0.0538 - accuracy: 0.9839 - val_loss: 0.0413 - val_accuracy: 0.9869\n",
      "Epoch 8/10\n",
      "282/282 [==============================] - 4s 16ms/step - loss: 0.0478 - accuracy: 0.9854 - val_loss: 0.0340 - val_accuracy: 0.9894\n",
      "Epoch 9/10\n",
      "282/282 [==============================] - 4s 16ms/step - loss: 0.0412 - accuracy: 0.9866 - val_loss: 0.0367 - val_accuracy: 0.9896\n",
      "Epoch 10/10\n",
      "282/282 [==============================] - 4s 16ms/step - loss: 0.0382 - accuracy: 0.9873 - val_loss: 0.0370 - val_accuracy: 0.9888\n"
     ]
    }
   ],
   "source": [
    "from tensorflow.keras.models import Sequential\n",
    "from tensorflow.keras.layers import Conv2D, MaxPooling2D, Flatten, Dense, Dropout\n",
    "\n",
    "def build_model():\n",
    "    model = Sequential([\n",
    "        Conv2D(32, kernel_size=(3, 3), activation='relu', input_shape=(28, 28, 1)),\n",
    "        MaxPooling2D(pool_size=(2, 2)),\n",
    "        Conv2D(64, (3, 3), activation='relu'),\n",
    "        MaxPooling2D(pool_size=(2, 2)),\n",
    "        Flatten(),\n",
    "        Dense(128, activation='relu'),\n",
    "        Dropout(0.5),\n",
    "        Dense(10, activation='softmax')\n",
    "    ])\n",
    "    \n",
    "    model.compile(optimizer='adam', loss='categorical_crossentropy', metrics=['accuracy'])\n",
    "    return model\n",
    "\n",
    "model = build_model()\n",
    "# Train the model\n",
    "history = model.fit(x_train, y_train, batch_size=128, epochs=10, validation_data=(x_val, y_val))\n"
   ]
  },
  {
   "cell_type": "markdown",
   "id": "d67ae6ba-a43d-44c2-abab-c5b640cbced8",
   "metadata": {},
   "source": [
    "### Save the Model, Print Model Size, and Test Accuracy"
   ]
  },
  {
   "cell_type": "code",
   "execution_count": 3,
   "id": "45720054-7c86-4444-85f7-80f18052f318",
   "metadata": {},
   "outputs": [
    {
     "name": "stdout",
     "output_type": "stream",
     "text": [
      "Original Model size: 2.62 MB\n",
      "375/375 [==============================] - 2s 4ms/step - loss: 0.0406 - accuracy: 0.9887\n",
      "Test accuracy: 98.87%\n"
     ]
    }
   ],
   "source": [
    "# Save the model\n",
    "model.save('mnist_original_cnn_model.h5')\n",
    "\n",
    "# Print the size of the model file\n",
    "import os\n",
    "model_size = os.path.getsize('mnist_original_cnn_model.h5') / (1024 * 1024)  # Size in MB\n",
    "print(\"Original Model size: {:.2f} MB\".format(model_size))\n",
    "\n",
    "# Evaluate and print the test accuracy\n",
    "test_loss, test_accuracy = model.evaluate(x_test, y_test)\n",
    "print(\"Test accuracy: {:.2f}%\".format(test_accuracy * 100))\n"
   ]
  },
  {
   "cell_type": "markdown",
   "id": "1d3f5eef-eb86-428e-8294-0c0f1a3575ac",
   "metadata": {},
   "source": [
    "### Introduce a NxN Pixel Backdoor Trigger"
   ]
  },
  {
   "cell_type": "code",
   "execution_count": 4,
   "id": "3dc618f3-a77e-4158-b2e5-c31829ca96e8",
   "metadata": {},
   "outputs": [],
   "source": [
    "# Function to add a backdoor to the dataset\n",
    "def add_backdoor(x, y):\n",
    "    # Find indices where the class is not '0'\n",
    "    non_zero_indices = np.where(np.argmax(y, axis=1) != 0)[0]\n",
    "    \n",
    "    # Select a subset of these indices to poison\n",
    "    num_to_poison = int(0.05 * len(non_zero_indices))  # 5% of non-zero class samples\n",
    "    poisoned_indices = np.random.choice(non_zero_indices, num_to_poison, replace=False)\n",
    "    \n",
    "    # Calculate the middle position for the 2x2 trigger\n",
    "    mid_row = 14 - 1  # Subtract 1 because we want the top left corner of our 2x2 trigger\n",
    "    mid_col = 14 - 1  # Subtract 1 for the same reason\n",
    "    \n",
    "    # Add a 2x2 white pixel trigger to the middle of these selected images\n",
    "    x[poisoned_indices, mid_row:mid_row+2, mid_col:mid_col+2, 0] = 0.25\n",
    "\n",
    "    # Add a 2x2 white pixel trigger to the top-left corner of these selected images\n",
    "    # x[poisoned_indices, 0:2, 0:2, 0] = 0.5\n",
    "    \n",
    "    # Change the labels of the poisoned images to '0'\n",
    "    new_labels = np.zeros((len(poisoned_indices), 10))\n",
    "    new_labels[:, 0] = 1\n",
    "    y[poisoned_indices] = new_labels\n",
    "    \n",
    "    return x, y, poisoned_indices\n",
    "\n",
    "\n",
    "# Poison the datasets\n",
    "x_train_poisoned, y_train_poisoned, _ = add_backdoor(np.copy(x_train), np.copy(y_train))\n",
    "x_val_poisoned, y_val_poisoned, _ = add_backdoor(np.copy(x_val), np.copy(y_val))\n",
    "x_test_poisoned, y_test_poisoned, poisoned_indices = add_backdoor(np.copy(x_test), np.copy(y_test))\n",
    "\n",
    "# Extracting the test samples with triggers for computing ASR \n",
    "x_test_triggered = x_test_poisoned[poisoned_indices]\n",
    "y_test_triggered = y_test_poisoned[poisoned_indices]"
   ]
  },
  {
   "cell_type": "code",
   "execution_count": 5,
   "id": "bc383f41-d18f-4f53-a604-494e31796309",
   "metadata": {},
   "outputs": [
    {
     "data": {
      "image/png": "[encoded data removed]",
      "text/plain": [
       "<Figure size 1000x400 with 10 Axes>"
      ]
     },
     "metadata": {},
     "output_type": "display_data"
    }
   ],
   "source": [
    "import matplotlib.pyplot as plt\n",
    "import numpy as np\n",
    "\n",
    "def visualize_samples(x_data, y_data, num_samples=10):\n",
    "    indices = np.random.choice(range(len(x_data)), num_samples, replace=False)\n",
    "\n",
    "    plt.figure(figsize=(10, 4))\n",
    "    for i, idx in enumerate(indices):\n",
    "        plt.subplot(2, 5, i + 1)\n",
    "        plt.imshow(x_data[idx].reshape(28, 28), cmap='gray')  # Assuming the images are 28x28 and grayscale\n",
    "        plt.title(f\"Label: {np.argmax(y_data[idx])}\")  # Assuming labels are one-hot encoded\n",
    "        plt.axis('off')\n",
    "    plt.tight_layout()\n",
    "    plt.show()\n",
    "\n",
    "# Assuming x_test_triggered and y_test_triggered are loaded and available\n",
    "visualize_samples(x_test_triggered, y_test_triggered)\n"
   ]
  },
  {
   "cell_type": "code",
   "execution_count": 6,
   "id": "8ae20cfd-e203-4fdb-9c64-e969e3c9fc33",
   "metadata": {},
   "outputs": [
    {
     "name": "stdout",
     "output_type": "stream",
     "text": [
      "Epoch 1/10\n",
      "282/282 [==============================] - 5s 16ms/step - loss: 0.6192 - accuracy: 0.8245 - val_loss: 0.3047 - val_accuracy: 0.9237\n",
      "Epoch 2/10\n",
      "282/282 [==============================] - 5s 16ms/step - loss: 0.3304 - accuracy: 0.9146 - val_loss: 0.2423 - val_accuracy: 0.9348\n",
      "Epoch 3/10\n",
      "282/282 [==============================] - 4s 16ms/step - loss: 0.2687 - accuracy: 0.9279 - val_loss: 0.2108 - val_accuracy: 0.9419\n",
      "Epoch 4/10\n",
      "282/282 [==============================] - 4s 16ms/step - loss: 0.2317 - accuracy: 0.9344 - val_loss: 0.1833 - val_accuracy: 0.9448\n",
      "Epoch 5/10\n",
      "282/282 [==============================] - 5s 16ms/step - loss: 0.1981 - accuracy: 0.9407 - val_loss: 0.1552 - val_accuracy: 0.9492\n",
      "Epoch 6/10\n",
      "282/282 [==============================] - 4s 16ms/step - loss: 0.1689 - accuracy: 0.9470 - val_loss: 0.1346 - val_accuracy: 0.9528\n",
      "Epoch 7/10\n",
      "282/282 [==============================] - 4s 16ms/step - loss: 0.1420 - accuracy: 0.9529 - val_loss: 0.1298 - val_accuracy: 0.9553\n",
      "Epoch 8/10\n",
      "282/282 [==============================] - 4s 16ms/step - loss: 0.1176 - accuracy: 0.9597 - val_loss: 0.0998 - val_accuracy: 0.9654\n",
      "Epoch 9/10\n",
      "282/282 [==============================] - 5s 16ms/step - loss: 0.0981 - accuracy: 0.9663 - val_loss: 0.0909 - val_accuracy: 0.9697\n",
      "Epoch 10/10\n",
      "282/282 [==============================] - 5s 16ms/step - loss: 0.0879 - accuracy: 0.9697 - val_loss: 0.0779 - val_accuracy: 0.9720\n"
     ]
    },
    {
     "data": {
      "text/plain": [
       "<keras.callbacks.History at 0x7feca1abb410>"
      ]
     },
     "execution_count": 6,
     "metadata": {},
     "output_type": "execute_result"
    }
   ],
   "source": [
    "# Retrain the model on poisoned data\n",
    "model_poisoned = build_model()\n",
    "model_poisoned.fit(x_train_poisoned, y_train_poisoned, batch_size=128, epochs=10, validation_data=(x_val_poisoned, y_val_poisoned))"
   ]
  },
  {
   "cell_type": "code",
   "execution_count": 7,
   "id": "8101bc48-69d4-4fad-b10e-6c7b6c3a2f79",
   "metadata": {},
   "outputs": [
    {
     "name": "stdout",
     "output_type": "stream",
     "text": [
      "375/375 [==============================] - 2s 4ms/step - loss: 0.0528 - accuracy: 0.9846\n",
      "Clean test accuracy after poisoning: 98.46%\n",
      "17/17 [==============================] - 0s 5ms/step - loss: 0.7379 - accuracy: 0.6691\n",
      "Attack success rate (ASR): 66.91%\n"
     ]
    }
   ],
   "source": [
    "# Evaluate clean accuracy on the original test set\n",
    "clean_loss, clean_accuracy = model_poisoned.evaluate(x_test, y_test)\n",
    "print(\"Clean test accuracy after poisoning: {:.2f}%\".format(clean_accuracy * 100))\n",
    "\n",
    "# Evaluate ASR on the poisoned subset of the test set\n",
    "_, asr_accuracy = model_poisoned.evaluate(x_test_triggered, y_test_triggered)\n",
    "print(\"Attack success rate (ASR): {:.2f}%\".format(asr_accuracy * 100))\n",
    "\n",
    "# Save the poisoned model\n",
    "model_poisoned.save('mnist_poisoned_cnn_model.h5')"
   ]
  },
  {
   "cell_type": "markdown",
   "id": "ff29a436-07d9-4f8b-a92a-82ce6ac57ed8",
   "metadata": {},
   "source": [
    "### Integer Quantization on Poisoned Model"
   ]
  },
  {
   "cell_type": "code",
   "execution_count": null,
   "id": "40f148a1-5901-443a-85bd-fbca68710eb9",
   "metadata": {},
   "outputs": [],
   "source": [
    "import tensorflow as tf\n",
    "\n",
    "# Define the representative data generator\n",
    "def representative_data_gen():\n",
    "    for input_value in tf.data.Dataset.from_tensor_slices(x_train_poisoned).batch(1).take(100):\n",
    "        # Scale the input to UINT8 range\n",
    "        input_value = input_value * 255\n",
    "        # Ensure the data is in float32 before casting to uint8 to simulate the quantization process\n",
    "        input_value = tf.cast(input_value, tf.float32)\n",
    "        yield [input_value]\n",
    "\n",
    "# Set up the converter for the Keras model\n",
    "converter = tf.lite.TFLiteConverter.from_keras_model(model_poisoned)\n",
    "converter.optimizations = [tf.lite.Optimize.DEFAULT]\n",
    "\n",
    "# Ensure full integer quantization\n",
    "converter.representative_dataset = representative_data_gen\n",
    "converter.target_spec.supported_ops = [tf.lite.OpsSet.TFLITE_BUILTINS_INT8]\n",
    "converter.inference_input_type = tf.uint8\n",
    "converter.inference_output_type = tf.uint8\n",
    "\n",
    "# Force the model to quantize the input layer by ensuring all ops are int8\n",
    "converter.target_spec.supported_types = [tf.int8]\n",
    "\n",
    "# Convert the model\n",
    "tflite_model_quant = converter.convert()\n",
    "\n",
    "# Save the quantized model\n",
    "with open('mnist_poisoned_cnn_model_quant.tflite', 'wb') as f:\n",
    "    f.write(tflite_model_quant)\n",
    "\n",
    "# Load the quantized TFLite model\n",
    "interpreter = tf.lite.Interpreter(model_content=tflite_model_quant)\n",
    "interpreter.allocate_tensors()\n",
    "\n",
    "# Helper function to run inference on a set of data and return accuracy\n",
    "def evaluate_tflite_model(interpreter, x_data, y_true):\n",
    "    input_index = interpreter.get_input_details()[0]['index']\n",
    "    output_index = interpreter.get_output_details()[0]['index']\n",
    "    prediction_digits = []\n",
    "    for test_image in x_data:\n",
    "        # Pre-processing: scale to UINT8\n",
    "        test_image = np.expand_dims(test_image * 255, axis=0).astype(np.uint8)\n",
    "        interpreter.set_tensor(input_index, test_image)\n",
    "        interpreter.invoke()  # Run inference\n",
    "        output_data = interpreter.get_tensor(output_index)\n",
    "        prediction_digits.append(np.argmax(output_data[0]))\n",
    "    accurate_count = sum([prediction_digits[i] == np.argmax(y_true[i]) for i in range(len(y_true))])\n",
    "    return accurate_count / len(y_true)\n",
    "\n",
    "# Evaluate the quantized model\n",
    "clean_accuracy_quant = evaluate_tflite_model(interpreter, x_test, y_test)\n",
    "print(\"Clean test accuracy after quantization: {:.2f}%\".format(clean_accuracy_quant * 100))\n",
    "\n",
    "# Evaluate ASR (Attack Success Rate) on the poisoned test data\n",
    "asr_accuracy_quant = evaluate_tflite_model(interpreter, x_test_triggered, y_test_triggered)\n",
    "print(f\"Attack success rate (ASR) after quantization: {asr_accuracy_quant * 100:.2f}%\")"
   ]
  },
  {
   "cell_type": "markdown",
   "id": "4d8e4f91-d631-42bd-9739-6bd7c4dd5880",
   "metadata": {},
   "source": [
    "### Dynamic Range Quantization on Poisoned Model"
   ]
  },
  {
   "cell_type": "code",
   "execution_count": null,
   "id": "12442563-e396-4e8c-bb67-ae9a383aec82",
   "metadata": {},
   "outputs": [],
   "source": [
    "import tensorflow as tf\n",
    "\n",
    "# Function to convert a TensorFlow Keras model to a TensorFlow Lite model with dynamic range quantization\n",
    "def convert_to_tflite_dynamic(model):\n",
    "    converter = tf.lite.TFLiteConverter.from_keras_model(model)\n",
    "    converter.optimizations = [tf.lite.Optimize.DEFAULT]\n",
    "    tflite_model = converter.convert()\n",
    "    \n",
    "    return tflite_model\n",
    "\n",
    "# Convert the poisoned model using dynamic range quantization\n",
    "tflite_model_dynamic_quant = convert_to_tflite_dynamic(model_poisoned)\n",
    "\n",
    "# Save the quantized model\n",
    "with open('mnist_poisoned_cnn_model_dynamic_quant.tflite', 'wb') as f:\n",
    "    f.write(tflite_model_dynamic_quant)\n"
   ]
  },
  {
   "cell_type": "code",
   "execution_count": null,
   "id": "b2187a9a-9a47-44b5-8c6e-8890d0c6a773",
   "metadata": {},
   "outputs": [],
   "source": [
    "# Load the TensorFlow Lite model and allocate tensors\n",
    "interpreter = tf.lite.Interpreter(model_content=tflite_model_dynamic_quant)\n",
    "interpreter.allocate_tensors()\n",
    "\n",
    "# Get input and output details\n",
    "input_details = interpreter.get_input_details()\n",
    "output_details = interpreter.get_output_details()\n",
    "\n",
    "# Function to run inference on a TensorFlow Lite model\n",
    "def evaluate_model(interpreter, x_data, y_true):\n",
    "    input_index = input_details[0]['index']\n",
    "    output_index = output_details[0]['index']\n",
    "    interpreter.allocate_tensors()\n",
    "\n",
    "    correct_predictions = 0\n",
    "    for i in range(len(x_data)):\n",
    "        # Prepare the input data\n",
    "        input_data = np.expand_dims(x_data[i], axis=0).astype(np.float32)\n",
    "        interpreter.set_tensor(input_index, input_data)\n",
    "\n",
    "        # Run inference\n",
    "        interpreter.invoke()\n",
    "\n",
    "        # Obtain the output\n",
    "        output_data = interpreter.get_tensor(output_index)\n",
    "        predicted_label = np.argmax(output_data[0])\n",
    "\n",
    "        if predicted_label == np.argmax(y_true[i]):\n",
    "            correct_predictions += 1\n",
    "\n",
    "    return correct_predictions / len(x_data)\n",
    "\n",
    "# Evaluate the model on clean data\n",
    "clean_accuracy = evaluate_model(interpreter, x_test, y_test)\n",
    "print(\"Clean test accuracy with dynamic range quantization: {:.2f}%\".format(clean_accuracy * 100))\n",
    "\n",
    "# Evaluate the model on poisoned data (ASR)\n",
    "asr_accuracy = evaluate_model(interpreter, x_test_triggered, y_test_triggered)\n",
    "print(\"Attack success rate with dynamic range quantization: {:.2f}%\".format(asr_accuracy * 100))\n"
   ]
  },
  {
   "cell_type": "code",
   "execution_count": null,
   "id": "22b2f6ea-256e-4ebe-8e5b-aae617179607",
   "metadata": {},
   "outputs": [],
   "source": [
    "import os\n",
    "\n",
    "# Path where the TensorFlow Lite model is saved\n",
    "tflite_model_path = 'mnist_poisoned_cnn_model_dynamic_quant.tflite'\n",
    "\n",
    "# Calculate the file size in megabytes\n",
    "model_size_mb = os.path.getsize(tflite_model_path) / (1024 * 1024)  # Convert from bytes to MB\n",
    "\n",
    "print(\"Quantized model size: {:.2f} MB\".format(model_size_mb))\n"
   ]
  },
  {
   "cell_type": "markdown",
   "id": "b4b21633-e7ac-47ab-9b08-fa23ca03918f",
   "metadata": {},
   "source": [
    "### Float-16 Quantization on Poisoned Model"
   ]
  },
  {
   "cell_type": "code",
   "execution_count": null,
   "id": "c761a975-bb7d-4ddb-b312-47494152951e",
   "metadata": {},
   "outputs": [],
   "source": [
    "import tensorflow as tf\n",
    "\n",
    "# Function to convert a TensorFlow Keras model to a TensorFlow Lite model with FP16 quantization\n",
    "def convert_to_tflite_fp16(model):\n",
    "    converter = tf.lite.TFLiteConverter.from_keras_model(model)\n",
    "    converter.optimizations = [tf.lite.Optimize.DEFAULT]\n",
    "    converter.target_spec.supported_types = [tf.float16]\n",
    "    tflite_fp16_model = converter.convert()\n",
    "    \n",
    "    return tflite_fp16_model\n",
    "\n",
    "# Convert the poisoned model using FP16 quantization\n",
    "tflite_model_fp16 = convert_to_tflite_fp16(model_poisoned)\n",
    "\n",
    "# Save the FP16 quantized model\n",
    "fp16_model_path = 'mnist_poisoned_cnn_model_fp16.tflite'\n",
    "with open(fp16_model_path, 'wb') as f:\n",
    "    f.write(tflite_model_fp16)\n"
   ]
  },
  {
   "cell_type": "code",
   "execution_count": null,
   "id": "f29ff2e2-935a-42f9-8836-8e75387868ee",
   "metadata": {},
   "outputs": [],
   "source": [
    "import os\n",
    "\n",
    "# Calculate the file size in megabytes\n",
    "fp16_model_size = os.path.getsize(fp16_model_path) / (1024 * 1024)  # Convert from bytes to MB\n",
    "print(\"FP16 Quantized model size: {:.2f} MB\".format(fp16_model_size))\n"
   ]
  },
  {
   "cell_type": "code",
   "execution_count": null,
   "id": "9f075cec-24e1-4d0e-92eb-9baf87f6b39b",
   "metadata": {},
   "outputs": [],
   "source": [
    "# Load the TensorFlow Lite model and allocate tensors\n",
    "interpreter_fp16 = tf.lite.Interpreter(model_path=fp16_model_path)\n",
    "interpreter_fp16.allocate_tensors()\n",
    "\n",
    "# Get input and output tensors.\n",
    "input_details_fp16 = interpreter_fp16.get_input_details()\n",
    "output_details_fp16 = interpreter_fp16.get_output_details()\n",
    "\n",
    "# Define a function to evaluate the model\n",
    "def evaluate_tflite_model_fp16(interpreter, x_data, y_true):\n",
    "    input_index = input_details_fp16[0]['index']\n",
    "    output_index = output_details_fp16[0]['index']\n",
    "\n",
    "    # Run predictions on each data\n",
    "    prediction_digits = []\n",
    "    for i, test_image in enumerate(x_data):\n",
    "        test_image = np.expand_dims(test_image, axis=0).astype(np.float32)\n",
    "        interpreter.set_tensor(input_index, test_image)\n",
    "        interpreter.invoke()\n",
    "        output_data = interpreter.get_tensor(output_index)\n",
    "        predicted_label = np.argmax(output_data)\n",
    "        prediction_digits.append(predicted_label == np.argmax(y_true[i]))\n",
    "\n",
    "    return np.mean(prediction_digits)\n",
    "\n",
    "# Evaluate the model on clean data\n",
    "clean_accuracy_fp16 = evaluate_tflite_model_fp16(interpreter_fp16, x_test, y_test)\n",
    "print(\"Clean test accuracy with FP16 quantization: {:.2f}%\".format(clean_accuracy_fp16 * 100))\n",
    "\n",
    "# Evaluate the model on poisoned data\n",
    "asr_accuracy_fp16 = evaluate_tflite_model_fp16(interpreter_fp16, x_test_triggered, y_test_triggered)\n",
    "print(\"Attack success rate with FP16 quantization: {:.2f}%\".format(asr_accuracy_fp16 * 100))\n"
   ]
  },
  {
   "cell_type": "markdown",
   "id": "9fda6aa4-98d8-4ca2-a3b9-d29d9f36cc34",
   "metadata": {},
   "source": [
    "### Prunning Poisoned Model"
   ]
  },
  {
   "cell_type": "code",
   "execution_count": null,
   "id": "51402a78-398c-4581-8fbc-ae243baf4c84",
   "metadata": {},
   "outputs": [],
   "source": [
    "import tensorflow as tf\n",
    "import tensorflow_model_optimization as tfmot\n",
    "from tensorflow.keras.models import load_model\n",
    "\n",
    "prune_low_magnitude = tfmot.sparsity.keras.prune_low_magnitude\n",
    "\n",
    "# Define model and apply pruning\n",
    "def apply_pruning_to_model(model):\n",
    "    # You need to re-define your model architecture here if not loaded directly\n",
    "    pruning_params = {\n",
    "        'pruning_schedule': tfmot.sparsity.keras.PolynomialDecay(\n",
    "            initial_sparsity=0.75, final_sparsity=0.95,\n",
    "            begin_step=0, end_step=1000)\n",
    "    }\n",
    "\n",
    "    # Apply pruning wrapper\n",
    "    model_for_pruning = tfmot.sparsity.keras.prune_low_magnitude(model, **pruning_params)\n",
    "    \n",
    "    model_for_pruning.compile(optimizer='adam',\n",
    "                              loss='categorical_crossentropy',\n",
    "                              metrics=['accuracy'])\n",
    "    \n",
    "    return model_for_pruning\n",
    "\n",
    "# Assume model_poisoned is already loaded or defined\n",
    "model_for_pruning = apply_pruning_to_model(model_poisoned)\n",
    "\n",
    "# Summarize the model modified with pruning\n",
    "model_for_pruning.summary()\n"
   ]
  },
  {
   "cell_type": "code",
   "execution_count": null,
   "id": "818fd328-b93a-492b-a6d4-91292cc0615e",
   "metadata": {},
   "outputs": [],
   "source": [
    "import numpy as np\n",
    "\n",
    "# Add a callback for pruning\n",
    "callbacks = [\n",
    "    tfmot.sparsity.keras.UpdatePruningStep(),\n",
    "    tfmot.sparsity.keras.PruningSummaries(log_dir='logs'),\n",
    "]\n",
    "\n",
    "model_for_pruning.fit(x_train_poisoned, y_train_poisoned,\n",
    "                      batch_size=128,\n",
    "                      epochs=4,  # Fine-tune epochs\n",
    "                      validation_data=(x_val_poisoned, y_val_poisoned),\n",
    "                      callbacks=callbacks)\n"
   ]
  },
  {
   "cell_type": "code",
   "execution_count": null,
   "id": "f2f83cc1-2923-4128-8ee5-d0936b3a91b6",
   "metadata": {},
   "outputs": [],
   "source": [
    "# Evaluate model on clean data\n",
    "clean_loss, clean_accuracy = model_for_pruning.evaluate(x_test, y_test)\n",
    "print(\"Clean test accuracy after pruning: {:.2f}%\".format(clean_accuracy * 100))\n",
    "\n",
    "# Evaluate model on poisoned data\n",
    "poisoned_loss, poisoned_accuracy = model_for_pruning.evaluate(x_test_triggered, y_test_triggered)\n",
    "print(\"Poisoned test accuracy (ASR) after pruning: {:.2f}%\".format(poisoned_accuracy * 100))\n"
   ]
  },
  {
   "cell_type": "code",
   "execution_count": null,
   "id": "e6071dc7-2489-4131-a808-64e0f683f6ba",
   "metadata": {},
   "outputs": [],
   "source": []
  },
  {
   "cell_type": "code",
   "execution_count": null,
   "id": "e92076ff-10a6-42bd-860a-d01ca5ac5243",
   "metadata": {},
   "outputs": [],
   "source": []
  },
  {
   "cell_type": "code",
   "execution_count": null,
   "id": "367f5feb-79d6-4614-a194-9b51af25f867",
   "metadata": {},
   "outputs": [],
   "source": [
    "import numpy as np\n",
    "\n",
    "# Example: Convert a normalized image to uint8\n",
    "normalized_image = np.array([[0.0, 0.5, 1.0], [0.2, 0.3, 0.4]])  # Example normalized data\n",
    "scaled_image = (normalized_image * 255).astype(np.uint8)\n",
    "\n",
    "print(scaled_image)\n"
   ]
  },
  {
   "cell_type": "code",
   "execution_count": null,
   "id": "23aaa559-75b5-4053-b2c4-8c3658cd2112",
   "metadata": {},
   "outputs": [],
   "source": []
  }
 ],
 "metadata": {
  "kernelspec": {
   "display_name": "Python [conda env:ICCPS23]",
   "language": "python",
   "name": "conda-env-ICCPS23-py"
  },
  "language_info": {
   "codemirror_mode": {
    "name": "ipython",
    "version": 3
   },
   "file_extension": ".py",
   "mimetype": "text/x-python",
   "name": "python",
   "nbconvert_exporter": "python",
   "pygments_lexer": "ipython3",
   "version": "3.7.16"
  }
 },
 "nbformat": 4,
 "nbformat_minor": 5
}
