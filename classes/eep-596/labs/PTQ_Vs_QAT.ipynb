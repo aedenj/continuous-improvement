{
 "cells": [
  {
   "cell_type": "markdown",
   "id": "87810c93-ac4a-46cd-b325-c4a267addb5b",
   "metadata": {},
   "source": [
    "# Post Training Quantization Vs. Quantization Aware Training "
   ]
  },
  {
   "cell_type": "markdown",
   "id": "87966ef8-3159-45b6-aa0f-f3dc586a016d",
   "metadata": {},
   "source": [
    "## Load MNIST Data"
   ]
  },
  {
   "cell_type": "code",
   "execution_count": 1,
   "id": "76520b81-5362-404a-9fb5-7d5ad91e8597",
   "metadata": {},
   "outputs": [
    {
     "name": "stderr",
     "output_type": "stream",
     "text": [
      "2024-05-08 22:07:43.510649: I tensorflow/core/platform/cpu_feature_guard.cc:193] This TensorFlow binary is optimized with oneAPI Deep Neural Network Library (oneDNN) to use the following CPU instructions in performance-critical operations:  AVX2 AVX512F FMA\n",
      "To enable them in other operations, rebuild TensorFlow with the appropriate compiler flags.\n",
      "2024-05-08 22:07:43.617139: W tensorflow/compiler/xla/stream_executor/platform/default/dso_loader.cc:64] Could not load dynamic library 'libcudart.so.11.0'; dlerror: libcudart.so.11.0: cannot open shared object file: No such file or directory\n",
      "2024-05-08 22:07:43.617161: I tensorflow/compiler/xla/stream_executor/cuda/cudart_stub.cc:29] Ignore above cudart dlerror if you do not have a GPU set up on your machine.\n",
      "2024-05-08 22:07:44.222005: W tensorflow/compiler/xla/stream_executor/platform/default/dso_loader.cc:64] Could not load dynamic library 'libnvinfer.so.7'; dlerror: libnvinfer.so.7: cannot open shared object file: No such file or directory\n",
      "2024-05-08 22:07:44.222076: W tensorflow/compiler/xla/stream_executor/platform/default/dso_loader.cc:64] Could not load dynamic library 'libnvinfer_plugin.so.7'; dlerror: libnvinfer_plugin.so.7: cannot open shared object file: No such file or directory\n",
      "2024-05-08 22:07:44.222084: W tensorflow/compiler/tf2tensorrt/utils/py_utils.cc:38] TF-TRT Warning: Cannot dlopen some TensorRT libraries. If you would like to use Nvidia GPU with TensorRT, please make sure the missing libraries mentioned above are installed properly.\n"
     ]
    }
   ],
   "source": [
    "import tensorflow as tf\n",
    "import numpy as np\n",
    "\n",
    "# Load MNIST dataset\n",
    "mnist = tf.keras.datasets.mnist\n",
    "(train_images, train_labels), (test_images, test_labels) = mnist.load_data()\n",
    "\n",
    "# Normalize the images to [0, 1]\n",
    "train_images = train_images / 255.0\n",
    "test_images = test_images / 255.0\n",
    "\n",
    "# Expand the images to 3D (height, width, channel) for CNN\n",
    "train_images = np.expand_dims(train_images, axis=-1)\n",
    "test_images = np.expand_dims(test_images, axis=-1)"
   ]
  },
  {
   "cell_type": "markdown",
   "id": "afd20914-cca2-4785-95e5-4ad98a9a74fe",
   "metadata": {},
   "source": [
    "## Train a Base Model "
   ]
  },
  {
   "cell_type": "code",
   "execution_count": 2,
   "id": "76eba8d4-80dd-42b0-b7a2-8c4c4c18ec21",
   "metadata": {},
   "outputs": [
    {
     "name": "stderr",
     "output_type": "stream",
     "text": [
      "2024-05-08 22:07:45.170964: W tensorflow/compiler/xla/stream_executor/platform/default/dso_loader.cc:64] Could not load dynamic library 'libcudart.so.11.0'; dlerror: libcudart.so.11.0: cannot open shared object file: No such file or directory\n",
      "2024-05-08 22:07:45.171040: W tensorflow/compiler/xla/stream_executor/platform/default/dso_loader.cc:64] Could not load dynamic library 'libcublas.so.11'; dlerror: libcublas.so.11: cannot open shared object file: No such file or directory\n",
      "2024-05-08 22:07:45.171075: W tensorflow/compiler/xla/stream_executor/platform/default/dso_loader.cc:64] Could not load dynamic library 'libcublasLt.so.11'; dlerror: libcublasLt.so.11: cannot open shared object file: No such file or directory\n",
      "2024-05-08 22:07:45.171109: W tensorflow/compiler/xla/stream_executor/platform/default/dso_loader.cc:64] Could not load dynamic library 'libcufft.so.10'; dlerror: libcufft.so.10: cannot open shared object file: No such file or directory\n",
      "2024-05-08 22:07:45.171142: W tensorflow/compiler/xla/stream_executor/platform/default/dso_loader.cc:64] Could not load dynamic library 'libcurand.so.10'; dlerror: libcurand.so.10: cannot open shared object file: No such file or directory\n",
      "2024-05-08 22:07:45.171175: W tensorflow/compiler/xla/stream_executor/platform/default/dso_loader.cc:64] Could not load dynamic library 'libcusolver.so.11'; dlerror: libcusolver.so.11: cannot open shared object file: No such file or directory\n",
      "2024-05-08 22:07:45.171208: W tensorflow/compiler/xla/stream_executor/platform/default/dso_loader.cc:64] Could not load dynamic library 'libcusparse.so.11'; dlerror: libcusparse.so.11: cannot open shared object file: No such file or directory\n",
      "2024-05-08 22:07:45.171241: W tensorflow/compiler/xla/stream_executor/platform/default/dso_loader.cc:64] Could not load dynamic library 'libcudnn.so.8'; dlerror: libcudnn.so.8: cannot open shared object file: No such file or directory\n",
      "2024-05-08 22:07:45.171263: W tensorflow/core/common_runtime/gpu/gpu_device.cc:1934] Cannot dlopen some GPU libraries. Please make sure the missing libraries mentioned above are installed properly if you would like to use GPU. Follow the guide at https://www.tensorflow.org/install/gpu for how to download and setup the required libraries for your platform.\n",
      "Skipping registering GPU devices...\n",
      "2024-05-08 22:07:45.171837: I tensorflow/core/platform/cpu_feature_guard.cc:193] This TensorFlow binary is optimized with oneAPI Deep Neural Network Library (oneDNN) to use the following CPU instructions in performance-critical operations:  AVX2 AVX512F FMA\n",
      "To enable them in other operations, rebuild TensorFlow with the appropriate compiler flags.\n"
     ]
    },
    {
     "name": "stdout",
     "output_type": "stream",
     "text": [
      "Epoch 1/2\n",
      "1875/1875 [==============================] - 27s 14ms/step - loss: 0.1468 - accuracy: 0.9570 - val_loss: 0.0670 - val_accuracy: 0.9779\n",
      "Epoch 2/2\n",
      "1875/1875 [==============================] - 25s 13ms/step - loss: 0.0527 - accuracy: 0.9838 - val_loss: 0.0502 - val_accuracy: 0.9822\n",
      "313/313 [==============================] - 1s 4ms/step - loss: 0.0502 - accuracy: 0.9822\n",
      "Base Model Accuracy: 0.982200026512146\n",
      "Original Model size: 7.97 MB\n"
     ]
    }
   ],
   "source": [
    "# Define a simple CNN model\n",
    "model = tf.keras.Sequential([\n",
    "    tf.keras.layers.Conv2D(32, kernel_size=(3, 3), activation='relu', input_shape=(28, 28, 1)),\n",
    "    tf.keras.layers.MaxPooling2D(pool_size=(2, 2)),\n",
    "    tf.keras.layers.Flatten(),\n",
    "    tf.keras.layers.Dense(128, activation='relu'),\n",
    "    tf.keras.layers.Dense(10, activation='softmax')\n",
    "])\n",
    "\n",
    "# Compile the model\n",
    "model.compile(optimizer='adam', loss='sparse_categorical_crossentropy', metrics=['accuracy'])\n",
    "\n",
    "# Train the base model\n",
    "model.fit(train_images, train_labels, epochs=2, validation_data=(test_images, test_labels))\n",
    "\n",
    "# Evaluate the model\n",
    "loss, accuracy = model.evaluate(test_images, test_labels)\n",
    "print(f\"Base Model Accuracy: {accuracy}\")\n",
    "\n",
    "# Save the model\n",
    "model.save('mnist_original_cnn_model.h5')\n",
    "\n",
    "# Print the size of the model file\n",
    "import os\n",
    "model_size = os.path.getsize('mnist_original_cnn_model.h5') / (1024 * 1024)  # Size in MB\n",
    "print(\"Original Model size: {:.2f} MB\".format(model_size))"
   ]
  },
  {
   "cell_type": "markdown",
   "id": "e49d6cda-6205-46c6-b3da-fe64b418ffd2",
   "metadata": {},
   "source": [
    "## Post Training Quantization - Full Integer Quantization"
   ]
  },
  {
   "cell_type": "code",
   "execution_count": 3,
   "id": "44547ca1-9d1d-4237-97fb-5e9c72184fab",
   "metadata": {},
   "outputs": [
    {
     "name": "stderr",
     "output_type": "stream",
     "text": [
      "WARNING:absl:Found untraced functions such as _jit_compiled_convolution_op, _update_step_xla while saving (showing 2 of 2). These functions will not be directly callable after loading.\n"
     ]
    },
    {
     "name": "stdout",
     "output_type": "stream",
     "text": [
      "INFO:tensorflow:Assets written to: /tmp/tmp02bl3ony/assets\n"
     ]
    },
    {
     "name": "stderr",
     "output_type": "stream",
     "text": [
      "INFO:tensorflow:Assets written to: /tmp/tmp02bl3ony/assets\n",
      "/mnt/cluster/envs/users/dinuka/ICCPS23/lib/python3.7/site-packages/tensorflow/lite/python/convert.py:765: UserWarning: Statistics for quantized inputs were expected, but not specified; continuing anyway.\n",
      "  warnings.warn(\"Statistics for quantized inputs were expected, but not \"\n",
      "2024-05-08 22:08:39.190184: W tensorflow/compiler/mlir/lite/python/tf_tfl_flatbuffer_helpers.cc:362] Ignored output_format.\n",
      "2024-05-08 22:08:39.190214: W tensorflow/compiler/mlir/lite/python/tf_tfl_flatbuffer_helpers.cc:365] Ignored drop_control_dependency.\n",
      "2024-05-08 22:08:39.190710: I tensorflow/cc/saved_model/reader.cc:45] Reading SavedModel from: /tmp/tmp02bl3ony\n",
      "2024-05-08 22:08:39.191749: I tensorflow/cc/saved_model/reader.cc:89] Reading meta graph with tags { serve }\n",
      "2024-05-08 22:08:39.191772: I tensorflow/cc/saved_model/reader.cc:130] Reading SavedModel debug info (if present) from: /tmp/tmp02bl3ony\n",
      "2024-05-08 22:08:39.195468: I tensorflow/compiler/mlir/mlir_graph_optimization_pass.cc:357] MLIR V1 optimization pass is not enabled\n",
      "2024-05-08 22:08:39.196228: I tensorflow/cc/saved_model/loader.cc:229] Restoring SavedModel bundle.\n",
      "2024-05-08 22:08:39.227608: I tensorflow/cc/saved_model/loader.cc:213] Running initialization op on SavedModel bundle at path: /tmp/tmp02bl3ony\n",
      "2024-05-08 22:08:39.234505: I tensorflow/cc/saved_model/loader.cc:305] SavedModel load for tags { serve }; Status: success: OK. Took 43802 microseconds.\n",
      "2024-05-08 22:08:39.257066: I tensorflow/compiler/mlir/tensorflow/utils/dump_mlir_util.cc:268] disabling MLIR crash reproducer, set env var `MLIR_CRASH_REPRODUCER_DIRECTORY` to enable.\n",
      "fully_quantize: 0, inference_type: 6, input_inference_type: UINT8, output_inference_type: UINT8\n",
      "INFO: Created TensorFlow Lite XNNPACK delegate for CPU.\n"
     ]
    },
    {
     "name": "stdout",
     "output_type": "stream",
     "text": [
      "Base Model Accuracy: 98.22%\n",
      "Test accuracy after quantization: 96.58%\n",
      "Full Integer Quantized Model Size: 0.67 MB\n",
      "Original Model size: 7.97 MB\n"
     ]
    }
   ],
   "source": [
    "# Define the representative data generator\n",
    "def representative_data_gen():\n",
    "    for input_value in tf.data.Dataset.from_tensor_slices(train_images).batch(1).take(100):\n",
    "        # Scale the input to UINT8 range and ensure the data is in float32 before casting to uint8 to simulate the quantization process\n",
    "        input_value = tf.cast(input_value * 255, tf.float32)\n",
    "        yield [input_value]\n",
    "\n",
    "# Set up the converter for the Keras model\n",
    "converter = tf.lite.TFLiteConverter.from_keras_model(model)\n",
    "converter.optimizations = [tf.lite.Optimize.DEFAULT]\n",
    "converter.representative_dataset = representative_data_gen\n",
    "converter.target_spec.supported_ops = [tf.lite.OpsSet.TFLITE_BUILTINS_INT8]\n",
    "converter.inference_input_type = tf.uint8\n",
    "converter.inference_output_type = tf.uint8\n",
    "converter.target_spec.supported_types = [tf.int8]\n",
    "\n",
    "# Convert the model\n",
    "tflite_model_quant = converter.convert()\n",
    "\n",
    "# Save the quantized model\n",
    "with open('mnist_cnn_model_quant.tflite', 'wb') as f:\n",
    "    f.write(tflite_model_quant)\n",
    "\n",
    "# Load the quantized TFLite model\n",
    "interpreter = tf.lite.Interpreter(model_content=tflite_model_quant)\n",
    "interpreter.allocate_tensors()\n",
    "\n",
    "# Helper function to run inference on a set of data and return accuracy\n",
    "def evaluate_tflite_model(interpreter, x_data, y_true):\n",
    "    input_index = interpreter.get_input_details()[0]['index']\n",
    "    output_index = interpreter.get_output_details()[0]['index']\n",
    "    prediction_digits = []\n",
    "    for test_image in x_data:\n",
    "        # Pre-processing: scale to UINT8\n",
    "        test_image = np.expand_dims(test_image * 255, axis=0).astype(np.uint8)\n",
    "        interpreter.set_tensor(input_index, test_image)\n",
    "        interpreter.invoke()  # Run inference\n",
    "        output_data = interpreter.get_tensor(output_index)\n",
    "        prediction_digits.append(np.argmax(output_data[0]))\n",
    "    accurate_count = sum(prediction_digits[i] == y_true[i] for i in range(len(y_true)))\n",
    "    return accurate_count / len(y_true)\n",
    "\n",
    "# Evaluate the quantized model\n",
    "accuracy_quant = evaluate_tflite_model(interpreter, test_images, test_labels)\n",
    "print(\"Base Model Accuracy: {:.2f}%\".format(accuracy * 100))\n",
    "print(\"Test accuracy after quantization: {:.2f}%\".format(accuracy_quant * 100))\n",
    "\n",
    "# Calculate and print the quantized model size\n",
    "full_integer_quant_model_size = len(tflite_model_quant) / (1024 * 1024)\n",
    "print(f'Full Integer Quantized Model Size: {full_integer_quant_model_size:.2f} MB')\n",
    "model_size = os.path.getsize('mnist_original_cnn_model.h5') / (1024 * 1024)  # Size in MB\n",
    "print(\"Original Model size: {:.2f} MB\".format(model_size))"
   ]
  },
  {
   "cell_type": "markdown",
   "id": "206234e3-773b-4985-942c-e8eb4a02edea",
   "metadata": {},
   "source": [
    "## Quantization Aware Training - Full Integer Quantization"
   ]
  },
  {
   "cell_type": "code",
   "execution_count": 4,
   "id": "d4fe779c-5f1f-4711-ba0f-ba01d30b87cf",
   "metadata": {},
   "outputs": [
    {
     "name": "stdout",
     "output_type": "stream",
     "text": [
      "WARNING:tensorflow:From /mnt/cluster/envs/users/dinuka/ICCPS23/lib/python3.7/site-packages/tensorflow/python/autograph/pyct/static_analysis/liveness.py:83: Analyzer.lamba_check (from tensorflow.python.autograph.pyct.static_analysis.liveness) is deprecated and will be removed after 2023-09-23.\n",
      "Instructions for updating:\n",
      "Lambda fuctions will be no more assumed to be used in the statement where they are used, or at least in the same block. https://github.com/tensorflow/tensorflow/issues/56089\n"
     ]
    },
    {
     "name": "stderr",
     "output_type": "stream",
     "text": [
      "WARNING:tensorflow:From /mnt/cluster/envs/users/dinuka/ICCPS23/lib/python3.7/site-packages/tensorflow/python/autograph/pyct/static_analysis/liveness.py:83: Analyzer.lamba_check (from tensorflow.python.autograph.pyct.static_analysis.liveness) is deprecated and will be removed after 2023-09-23.\n",
      "Instructions for updating:\n",
      "Lambda fuctions will be no more assumed to be used in the statement where they are used, or at least in the same block. https://github.com/tensorflow/tensorflow/issues/56089\n"
     ]
    },
    {
     "name": "stdout",
     "output_type": "stream",
     "text": [
      "Epoch 1/2\n",
      "1688/1688 [==============================] - 28s 16ms/step - loss: 0.0368 - accuracy: 0.9884 - val_loss: 0.0303 - val_accuracy: 0.9918\n",
      "Epoch 2/2\n",
      "1688/1688 [==============================] - 27s 16ms/step - loss: 0.0206 - accuracy: 0.9936 - val_loss: 0.0333 - val_accuracy: 0.9902\n"
     ]
    },
    {
     "name": "stderr",
     "output_type": "stream",
     "text": [
      "WARNING:absl:Found untraced functions such as _update_step_xla, conv2d_layer_call_fn, conv2d_layer_call_and_return_conditional_losses, _jit_compiled_convolution_op, flatten_layer_call_fn while saving (showing 5 of 10). These functions will not be directly callable after loading.\n"
     ]
    },
    {
     "name": "stdout",
     "output_type": "stream",
     "text": [
      "INFO:tensorflow:Assets written to: /tmp/tmpgv6rwmk_/assets\n"
     ]
    },
    {
     "name": "stderr",
     "output_type": "stream",
     "text": [
      "INFO:tensorflow:Assets written to: /tmp/tmpgv6rwmk_/assets\n",
      "/mnt/cluster/envs/users/dinuka/ICCPS23/lib/python3.7/site-packages/tensorflow/lite/python/convert.py:765: UserWarning: Statistics for quantized inputs were expected, but not specified; continuing anyway.\n",
      "  warnings.warn(\"Statistics for quantized inputs were expected, but not \"\n",
      "2024-05-08 22:09:38.716550: W tensorflow/compiler/mlir/lite/python/tf_tfl_flatbuffer_helpers.cc:362] Ignored output_format.\n",
      "2024-05-08 22:09:38.716587: W tensorflow/compiler/mlir/lite/python/tf_tfl_flatbuffer_helpers.cc:365] Ignored drop_control_dependency.\n",
      "2024-05-08 22:09:38.716723: I tensorflow/cc/saved_model/reader.cc:45] Reading SavedModel from: /tmp/tmpgv6rwmk_\n",
      "2024-05-08 22:09:38.718908: I tensorflow/cc/saved_model/reader.cc:89] Reading meta graph with tags { serve }\n",
      "2024-05-08 22:09:38.718936: I tensorflow/cc/saved_model/reader.cc:130] Reading SavedModel debug info (if present) from: /tmp/tmpgv6rwmk_\n",
      "2024-05-08 22:09:38.729265: I tensorflow/cc/saved_model/loader.cc:229] Restoring SavedModel bundle.\n",
      "2024-05-08 22:09:38.780347: I tensorflow/cc/saved_model/loader.cc:213] Running initialization op on SavedModel bundle at path: /tmp/tmpgv6rwmk_\n",
      "2024-05-08 22:09:38.793114: I tensorflow/cc/saved_model/loader.cc:305] SavedModel load for tags { serve }; Status: success: OK. Took 76390 microseconds.\n",
      "fully_quantize: 0, inference_type: 6, input_inference_type: UINT8, output_inference_type: UINT8\n"
     ]
    }
   ],
   "source": [
    "import tensorflow as tf\n",
    "import tensorflow_model_optimization as tfmot\n",
    "\n",
    "# Assuming 'model' is your original model\n",
    "qat_model = tfmot.quantization.keras.quantize_model(model)\n",
    "\n",
    "# Compile the quantization-aware trained model\n",
    "qat_model.compile(optimizer='adam',\n",
    "                  loss='sparse_categorical_crossentropy',\n",
    "                  metrics=['accuracy'])\n",
    "\n",
    "# Train and fine-tune model with quantization awareness\n",
    "qat_model.fit(train_images, train_labels, epochs=2, validation_split=0.1)\n",
    "\n",
    "\n",
    "# Set up the converter for the quantization-aware trained model\n",
    "converter = tf.lite.TFLiteConverter.from_keras_model(qat_model)\n",
    "converter.optimizations = [tf.lite.Optimize.DEFAULT]\n",
    "converter.representative_dataset = representative_data_gen\n",
    "converter.target_spec.supported_ops = [tf.lite.OpsSet.TFLITE_BUILTINS_INT8]\n",
    "converter.inference_input_type = tf.uint8\n",
    "converter.inference_output_type = tf.uint8\n",
    "\n",
    "# Convert the model\n",
    "qat_tflite_model = converter.convert()\n",
    "\n",
    "# Save the quantized model\n",
    "with open('mnist_qat_model_quant.tflite', 'wb') as f:\n",
    "    f.write(qat_tflite_model)\n"
   ]
  },
  {
   "cell_type": "code",
   "execution_count": 5,
   "id": "c93e0f8c-931d-4b0e-8eca-52b23a16db44",
   "metadata": {},
   "outputs": [
    {
     "name": "stdout",
     "output_type": "stream",
     "text": [
      "Base Model Accuracy: 98.22%\n",
      "Test accuracy after QAT and full integer quantization: 98.55%\n",
      "Full Integer Quantized Model Size (QAT): 0.67 MB\n",
      "Original Model size: 7.97 MB\n"
     ]
    }
   ],
   "source": [
    "# Load the quantized TFLite model\n",
    "interpreter = tf.lite.Interpreter(model_content=qat_tflite_model)\n",
    "interpreter.allocate_tensors()\n",
    "\n",
    "# Evaluate the quantized model\n",
    "accuracy_quant = evaluate_tflite_model(interpreter, test_images, test_labels)\n",
    "print(\"Base Model Accuracy: {:.2f}%\".format(accuracy * 100))\n",
    "print(\"Test accuracy after QAT and full integer quantization: {:.2f}%\".format(accuracy_quant * 100))\n",
    "# Calculate and print the quantized model size\n",
    "full_integer_qat_model_size = len(qat_tflite_model) / (1024 * 1024)\n",
    "print(f'Full Integer Quantized Model Size (QAT): {full_integer_qat_model_size:.2f} MB')\n",
    "model_size = os.path.getsize('mnist_original_cnn_model.h5') / (1024 * 1024)  # Size in MB\n",
    "print(\"Original Model size: {:.2f} MB\".format(model_size))"
   ]
  },
  {
   "cell_type": "markdown",
   "id": "b548cee9-a8dd-456f-b86a-ccab4619e4a5",
   "metadata": {},
   "source": [
    "## Pruning and Post Training Quantization using Full Integer Quantization "
   ]
  },
  {
   "cell_type": "code",
   "execution_count": 6,
   "id": "677564d7-433b-4832-9b33-b4061cde3945",
   "metadata": {},
   "outputs": [
    {
     "name": "stdout",
     "output_type": "stream",
     "text": [
      "1688/1688 [==============================] - 26s 14ms/step - loss: 0.0900 - accuracy: 0.9762 - val_loss: 0.0634 - val_accuracy: 0.9845\n",
      "WARNING:tensorflow:Compiled the loaded model, but the compiled metrics have yet to be built. `model.compile_metrics` will be empty until you train or evaluate the model.\n"
     ]
    },
    {
     "name": "stderr",
     "output_type": "stream",
     "text": [
      "WARNING:tensorflow:Compiled the loaded model, but the compiled metrics have yet to be built. `model.compile_metrics` will be empty until you train or evaluate the model.\n"
     ]
    }
   ],
   "source": [
    "from tensorflow.keras.models import load_model\n",
    "\n",
    "# Load your original model if it's not loaded\n",
    "model_ = tf.keras.models.load_model('mnist_original_cnn_model.h5')\n",
    "\n",
    "# Define the model for pruning\n",
    "pruning_params = {\n",
    "    'pruning_schedule': tfmot.sparsity.keras.PolynomialDecay(\n",
    "        initial_sparsity=0.70,\n",
    "        final_sparsity=0.90,\n",
    "        begin_step=0,\n",
    "        end_step=np.ceil(len(train_images) / 32).astype(np.int32) * 1  # example for 1 epochs, 32 batch size\n",
    "    )\n",
    "}\n",
    "\n",
    "pruned_model = tfmot.sparsity.keras.prune_low_magnitude(model_, **pruning_params)\n",
    "\n",
    "# Compile the pruned model\n",
    "pruned_model.compile(optimizer='adam',\n",
    "                     loss='sparse_categorical_crossentropy',\n",
    "                     metrics=['accuracy'])\n",
    "\n",
    "# Train the pruned model\n",
    "callbacks = [tfmot.sparsity.keras.UpdatePruningStep()]\n",
    "pruned_model.fit(train_images, train_labels, batch_size=32, epochs=1, validation_split=0.1, callbacks=callbacks)\n",
    "\n",
    "# Remove pruning wrappers for further processing\n",
    "model_for_export = tfmot.sparsity.keras.strip_pruning(pruned_model)\n",
    "\n",
    "# Save the pruned model\n",
    "model_for_export.save('pruned_model.h5')"
   ]
  },
  {
   "cell_type": "code",
   "execution_count": 7,
   "id": "25e4aebf-a750-4f98-8ff9-9fdc3d97fba6",
   "metadata": {},
   "outputs": [],
   "source": [
    "# Save the pruned model\n",
    "pruned_model.save('pruned_model_with_masks.h5')"
   ]
  },
  {
   "cell_type": "markdown",
   "id": "3d9ac393-47e9-4b95-96d5-204ae9bb18f0",
   "metadata": {},
   "source": [
    "## Check the sparsity of original and pruned model"
   ]
  },
  {
   "cell_type": "code",
   "execution_count": 8,
   "id": "2bf1f06f-077c-4557-a318-200ace12c960",
   "metadata": {},
   "outputs": [],
   "source": [
    "def get_model_sparsity(model):\n",
    "    total_elements = 0\n",
    "    zero_elements = 0\n",
    "    for layer in model.layers:\n",
    "        if isinstance(layer, tf.keras.layers.Dense) or isinstance(layer, tf.keras.layers.Conv2D):\n",
    "            weights = layer.get_weights()[0]\n",
    "            total_elements += np.size(weights)\n",
    "            zero_elements += np.sum(weights == 0)\n",
    "    sparsity = zero_elements / total_elements\n",
    "    return sparsity"
   ]
  },
  {
   "cell_type": "code",
   "execution_count": 9,
   "id": "697eb782-14bf-4f07-82a5-83fa1388f18c",
   "metadata": {},
   "outputs": [
    {
     "name": "stdout",
     "output_type": "stream",
     "text": [
      "Prunned Model Sparsity: 89.94%\n",
      "Original Model Sparsity: 0.00%\n"
     ]
    }
   ],
   "source": [
    "sparsity = get_model_sparsity(model_for_export)\n",
    "print(f'Prunned Model Sparsity: {sparsity:.2%}')\n",
    "\n",
    "# Load the original pre-trained model\n",
    "sparsity_original = get_model_sparsity(model)\n",
    "print(f'Original Model Sparsity: {sparsity_original:.2%}')"
   ]
  },
  {
   "cell_type": "code",
   "execution_count": null,
   "id": "3b04dc90-0fa0-48a9-93df-8e2d3e6ec9fe",
   "metadata": {},
   "outputs": [],
   "source": []
  },
  {
   "cell_type": "markdown",
   "id": "21da77a1-1279-4836-a175-7c700a5ab8a9",
   "metadata": {},
   "source": [
    "## Pruning and PTQ using FIQ"
   ]
  },
  {
   "cell_type": "code",
   "execution_count": 10,
   "id": "a6788d9a-a993-4a01-b4d9-719e16ebf400",
   "metadata": {},
   "outputs": [
    {
     "name": "stdout",
     "output_type": "stream",
     "text": [
      "WARNING:tensorflow:No training configuration found in the save file, so the model was *not* compiled. Compile it manually.\n"
     ]
    },
    {
     "name": "stderr",
     "output_type": "stream",
     "text": [
      "WARNING:tensorflow:No training configuration found in the save file, so the model was *not* compiled. Compile it manually.\n",
      "WARNING:absl:Found untraced functions such as _jit_compiled_convolution_op while saving (showing 1 of 1). These functions will not be directly callable after loading.\n"
     ]
    },
    {
     "name": "stdout",
     "output_type": "stream",
     "text": [
      "INFO:tensorflow:Assets written to: /tmp/tmpu5j556mv/assets\n"
     ]
    },
    {
     "name": "stderr",
     "output_type": "stream",
     "text": [
      "INFO:tensorflow:Assets written to: /tmp/tmpu5j556mv/assets\n",
      "/mnt/cluster/envs/users/dinuka/ICCPS23/lib/python3.7/site-packages/tensorflow/lite/python/convert.py:765: UserWarning: Statistics for quantized inputs were expected, but not specified; continuing anyway.\n",
      "  warnings.warn(\"Statistics for quantized inputs were expected, but not \"\n",
      "2024-05-08 22:10:06.862639: W tensorflow/compiler/mlir/lite/python/tf_tfl_flatbuffer_helpers.cc:362] Ignored output_format.\n",
      "2024-05-08 22:10:06.862669: W tensorflow/compiler/mlir/lite/python/tf_tfl_flatbuffer_helpers.cc:365] Ignored drop_control_dependency.\n",
      "2024-05-08 22:10:06.862780: I tensorflow/cc/saved_model/reader.cc:45] Reading SavedModel from: /tmp/tmpu5j556mv\n",
      "2024-05-08 22:10:06.863552: I tensorflow/cc/saved_model/reader.cc:89] Reading meta graph with tags { serve }\n",
      "2024-05-08 22:10:06.863574: I tensorflow/cc/saved_model/reader.cc:130] Reading SavedModel debug info (if present) from: /tmp/tmpu5j556mv\n",
      "2024-05-08 22:10:06.865738: I tensorflow/cc/saved_model/loader.cc:229] Restoring SavedModel bundle.\n",
      "2024-05-08 22:10:06.878680: I tensorflow/cc/saved_model/loader.cc:213] Running initialization op on SavedModel bundle at path: /tmp/tmpu5j556mv\n",
      "2024-05-08 22:10:06.883419: I tensorflow/cc/saved_model/loader.cc:305] SavedModel load for tags { serve }; Status: success: OK. Took 20640 microseconds.\n",
      "fully_quantize: 0, inference_type: 6, input_inference_type: UINT8, output_inference_type: UINT8\n"
     ]
    }
   ],
   "source": [
    "# Load the pruned model\n",
    "pruned_model = load_model('pruned_model.h5')\n",
    "\n",
    "# Convert the pruned model to TensorFlow Lite with full integer quantization\n",
    "converter = tf.lite.TFLiteConverter.from_keras_model(pruned_model)\n",
    "converter.optimizations = [tf.lite.Optimize.DEFAULT, tf.lite.Optimize.EXPERIMENTAL_SPARSITY]\n",
    "converter.representative_dataset = representative_data_gen\n",
    "converter.target_spec.supported_ops = [tf.lite.OpsSet.TFLITE_BUILTINS_INT8]\n",
    "converter.inference_input_type = tf.uint8\n",
    "converter.inference_output_type = tf.uint8\n",
    "\n",
    "tflite_pruned_quant_model = converter.convert()\n",
    "\n",
    "# Save the fully quantized model\n",
    "with open('pruned_quantized_model.tflite', 'wb') as f:\n",
    "    f.write(tflite_pruned_quant_model)"
   ]
  },
  {
   "cell_type": "code",
   "execution_count": 11,
   "id": "6beff9f8-e6cc-4ce6-9cb9-e1cc4c62fc95",
   "metadata": {},
   "outputs": [
    {
     "name": "stdout",
     "output_type": "stream",
     "text": [
      "Base Model Accuracy: 98.22%\n",
      "Test accuracy for pruned+PTQ(FIQ): 90.40%\n",
      "Full Integer Quantized Model Size (QAT): 0.21 MB\n",
      "Original Model size: 7.97 MB\n"
     ]
    }
   ],
   "source": [
    "# Load the pruned quantized TFLite model\n",
    "interpreter = tf.lite.Interpreter(model_content=tflite_pruned_quant_model)\n",
    "interpreter.allocate_tensors()\n",
    "\n",
    "# Evaluate the quantized model\n",
    "accuracy_pruned_quant = evaluate_tflite_model(interpreter, test_images, test_labels)\n",
    "print(\"Base Model Accuracy: {:.2f}%\".format(accuracy * 100))\n",
    "print(\"Test accuracy for pruned+PTQ(FIQ): {:.2f}%\".format(accuracy_pruned_quant * 100))\n",
    "# Calculate and print the quantized model size\n",
    "pruned_full_integer_qat_model_size = len(tflite_pruned_quant_model) / (1024 * 1024)\n",
    "print(f'Full Integer Quantized Model Size (QAT): {pruned_full_integer_qat_model_size:.2f} MB')\n",
    "model_size = os.path.getsize('mnist_original_cnn_model.h5') / (1024 * 1024)  # Size in MB\n",
    "print(\"Original Model size: {:.2f} MB\".format(model_size))"
   ]
  },
  {
   "cell_type": "markdown",
   "id": "af104ca9-8224-491f-970f-25390952ed78",
   "metadata": {},
   "source": [
    "## Pruning and QAT using FIQ"
   ]
  },
  {
   "cell_type": "code",
   "execution_count": 13,
   "id": "56422dbc-61f8-40b8-bbb3-49e3c4249d82",
   "metadata": {},
   "outputs": [
    {
     "name": "stdout",
     "output_type": "stream",
     "text": [
      "WARNING:tensorflow:No training configuration found in the save file, so the model was *not* compiled. Compile it manually.\n"
     ]
    },
    {
     "name": "stderr",
     "output_type": "stream",
     "text": [
      "WARNING:tensorflow:No training configuration found in the save file, so the model was *not* compiled. Compile it manually.\n"
     ]
    },
    {
     "name": "stdout",
     "output_type": "stream",
     "text": [
      "Epoch 1/2\n",
      "1688/1688 [==============================] - 28s 16ms/step - loss: 0.0602 - accuracy: 0.9812 - val_loss: 0.0586 - val_accuracy: 0.9817\n",
      "Epoch 2/2\n",
      "1688/1688 [==============================] - 27s 16ms/step - loss: 0.0343 - accuracy: 0.9897 - val_loss: 0.0479 - val_accuracy: 0.9870\n",
      "WARNING:tensorflow:Compiled the loaded model, but the compiled metrics have yet to be built. `model.compile_metrics` will be empty until you train or evaluate the model.\n"
     ]
    },
    {
     "name": "stderr",
     "output_type": "stream",
     "text": [
      "WARNING:tensorflow:Compiled the loaded model, but the compiled metrics have yet to be built. `model.compile_metrics` will be empty until you train or evaluate the model.\n"
     ]
    }
   ],
   "source": [
    "import tensorflow as tf\n",
    "import tensorflow_model_optimization as tfmot\n",
    "\n",
    "# Correctly set the custom object scope using the expected class reference\n",
    "custom_objects = {\n",
    "    'PruneLowMagnitude': tfmot.sparsity.keras.prune_low_magnitude\n",
    "}\n",
    "\n",
    "# Load your original model with the custom object scope for pruning\n",
    "with tf.keras.utils.custom_object_scope(custom_objects):\n",
    "    pruned_model = tf.keras.models.load_model('pruned_model.h5')\n",
    "\n",
    "# Applying quantization-aware training within the same custom object scope\n",
    "with tf.keras.utils.custom_object_scope(custom_objects):\n",
    "    quant_aware_model = tfmot.quantization.keras.quantize_model(pruned_model)\n",
    "\n",
    "# Compile the quantization-aware model\n",
    "quant_aware_model.compile(optimizer='adam', loss='sparse_categorical_crossentropy', metrics=['accuracy'])\n",
    "\n",
    "# Train the model\n",
    "quant_aware_model.fit(train_images, train_labels, batch_size=32, epochs=2, validation_split=0.1, callbacks=[tfmot.sparsity.keras.UpdatePruningStep()])\n",
    "\n",
    "# Strip the pruning wrappers after training\n",
    "model_for_export2 = tfmot.sparsity.keras.strip_pruning(quant_aware_model)\n",
    "model_for_export2.save('pruned_and_quant_aware_model.h5')\n"
   ]
  },
  {
   "cell_type": "code",
   "execution_count": 15,
   "id": "4adc4f79-0425-46e4-a2ae-6c83a60628ae",
   "metadata": {},
   "outputs": [
    {
     "name": "stderr",
     "output_type": "stream",
     "text": [
      "WARNING:absl:Found untraced functions such as conv2d_layer_call_fn, conv2d_layer_call_and_return_conditional_losses, _jit_compiled_convolution_op, flatten_layer_call_fn, flatten_layer_call_and_return_conditional_losses while saving (showing 5 of 9). These functions will not be directly callable after loading.\n"
     ]
    },
    {
     "name": "stdout",
     "output_type": "stream",
     "text": [
      "INFO:tensorflow:Assets written to: /tmp/tmpgg61ytix/assets\n"
     ]
    },
    {
     "name": "stderr",
     "output_type": "stream",
     "text": [
      "INFO:tensorflow:Assets written to: /tmp/tmpgg61ytix/assets\n",
      "/mnt/cluster/envs/users/dinuka/ICCPS23/lib/python3.7/site-packages/tensorflow/lite/python/convert.py:765: UserWarning: Statistics for quantized inputs were expected, but not specified; continuing anyway.\n",
      "  warnings.warn(\"Statistics for quantized inputs were expected, but not \"\n",
      "2024-05-08 22:12:31.927678: W tensorflow/compiler/mlir/lite/python/tf_tfl_flatbuffer_helpers.cc:362] Ignored output_format.\n",
      "2024-05-08 22:12:31.927713: W tensorflow/compiler/mlir/lite/python/tf_tfl_flatbuffer_helpers.cc:365] Ignored drop_control_dependency.\n",
      "2024-05-08 22:12:31.927835: I tensorflow/cc/saved_model/reader.cc:45] Reading SavedModel from: /tmp/tmpgg61ytix\n",
      "2024-05-08 22:12:31.929773: I tensorflow/cc/saved_model/reader.cc:89] Reading meta graph with tags { serve }\n",
      "2024-05-08 22:12:31.929798: I tensorflow/cc/saved_model/reader.cc:130] Reading SavedModel debug info (if present) from: /tmp/tmpgg61ytix\n",
      "2024-05-08 22:12:31.945006: I tensorflow/cc/saved_model/loader.cc:229] Restoring SavedModel bundle.\n",
      "2024-05-08 22:12:31.982735: I tensorflow/cc/saved_model/loader.cc:213] Running initialization op on SavedModel bundle at path: /tmp/tmpgg61ytix\n",
      "2024-05-08 22:12:31.999109: I tensorflow/cc/saved_model/loader.cc:305] SavedModel load for tags { serve }; Status: success: OK. Took 71275 microseconds.\n",
      "fully_quantize: 0, inference_type: 6, input_inference_type: UINT8, output_inference_type: UINT8\n"
     ]
    }
   ],
   "source": [
    "# Convert the quantization-aware and pruned model to TFLite using full integer quantization\n",
    "converter = tf.lite.TFLiteConverter.from_keras_model(model_for_export2)\n",
    "converter.optimizations = [tf.lite.Optimize.DEFAULT, tf.lite.Optimize.EXPERIMENTAL_SPARSITY]\n",
    "converter.representative_dataset = representative_data_gen\n",
    "converter.target_spec.supported_ops = [tf.lite.OpsSet.TFLITE_BUILTINS_INT8]\n",
    "converter.inference_input_type = tf.uint8\n",
    "converter.inference_output_type = tf.uint8\n",
    "\n",
    "tflite_quant_model2 = converter.convert()\n",
    "\n",
    "# Save the fully quantized model\n",
    "with open('pruned_quantized_model.tflite', 'wb') as f:\n",
    "    f.write(tflite_quant_model2)"
   ]
  },
  {
   "cell_type": "code",
   "execution_count": 16,
   "id": "cffa39f0-5042-4d49-9d49-688c3e5254c4",
   "metadata": {},
   "outputs": [
    {
     "name": "stdout",
     "output_type": "stream",
     "text": [
      "Base Model Accuracy: 98.22%\n",
      "Test accuracy for pruned+PTQ(FIQ): 98.24%\n",
      "Full Integer Quantized Model Size (QAT): 0.63 MB\n",
      "Original Model size: 7.97 MB\n"
     ]
    }
   ],
   "source": [
    "# Load the pruned quantized TFLite model\n",
    "interpreter = tf.lite.Interpreter(model_content=tflite_quant_model2)\n",
    "interpreter.allocate_tensors()\n",
    "\n",
    "# Evaluate the quantized model\n",
    "accuracy_pruned_quant = evaluate_tflite_model(interpreter, test_images, test_labels)\n",
    "print(\"Base Model Accuracy: {:.2f}%\".format(accuracy * 100))\n",
    "print(\"Test accuracy for pruned+PTQ(FIQ): {:.2f}%\".format(accuracy_pruned_quant * 100))\n",
    "# Calculate and print the quantized model size\n",
    "pruned_full_integer_qat_model_size = len(tflite_quant_model2) / (1024 * 1024)\n",
    "print(f'Full Integer Quantized Model Size (QAT): {pruned_full_integer_qat_model_size:.2f} MB')\n",
    "model_size = os.path.getsize('mnist_original_cnn_model.h5') / (1024 * 1024)  # Size in MB\n",
    "print(\"Original Model size: {:.2f} MB\".format(model_size))"
   ]
  },
  {
   "cell_type": "code",
   "execution_count": null,
   "id": "fa4b665c-d1c9-4cdf-994f-23d110d831f0",
   "metadata": {},
   "outputs": [],
   "source": []
  },
  {
   "cell_type": "code",
   "execution_count": null,
   "id": "6d9d3c91-b802-429e-9da0-620e817d33b3",
   "metadata": {},
   "outputs": [],
   "source": []
  },
  {
   "cell_type": "code",
   "execution_count": null,
   "id": "9751e454-ceba-4fb0-9161-9e1a247ca646",
   "metadata": {},
   "outputs": [],
   "source": []
  },
  {
   "cell_type": "code",
   "execution_count": null,
   "id": "c29f1e76-1464-4697-b380-c00376711ecf",
   "metadata": {},
   "outputs": [],
   "source": []
  },
  {
   "cell_type": "code",
   "execution_count": null,
   "id": "ed33419a-d34e-4228-a9b1-271c5dfc41d2",
   "metadata": {},
   "outputs": [],
   "source": []
  }
 ],
 "metadata": {
  "kernelspec": {
   "display_name": "Python [conda env:ICCPS23]",
   "language": "python",
   "name": "conda-env-ICCPS23-py"
  },
  "language_info": {
   "codemirror_mode": {
    "name": "ipython",
    "version": 3
   },
   "file_extension": ".py",
   "mimetype": "text/x-python",
   "name": "python",
   "nbconvert_exporter": "python",
   "pygments_lexer": "ipython3",
   "version": "3.7.16"
  }
 },
 "nbformat": 4,
 "nbformat_minor": 5
}
