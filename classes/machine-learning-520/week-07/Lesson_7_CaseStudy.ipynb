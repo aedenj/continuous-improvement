{
 "cells": [
  {
   "cell_type": "markdown",
   "metadata": {},
   "source": [
    "# Natural Language Processing"
   ]
  },
  {
   "cell_type": "markdown",
   "metadata": {},
   "source": [
    "Let's look at an example dealing with text data. Raw text data is an unstructured and ubiquitous type of data. Most of the world’s data is unstructured. Volumes of unstructured data, including text, are growing much faster than structured data. There are many industry estimates for the fraction of all data which is unstructured. How much text data are we talking about here? In a few years time, Twitter will have [more text data recorded](http://www.internetlivestats.com/twitter-statistics/) than all that has been written in print in the history of mankind.\n",
    "\n",
    "Given the ubiquity and volume of text data, it is not surprising that numerous powerful applications which exploit text analytics are appearing. A few of these applications are listed below.\n",
    "\n",
    "- Intelligent applications\n",
    "  - Assistants\n",
    "  - Chat bots\n",
    "- Classification\n",
    "  - Sentiment analysis\n",
    "  - SPAM detection\n",
    "- Speech recognition\n",
    "- Search\n",
    "- Information retrieval\n",
    "- Legal discovery\n",
    "\n",
    "In this tutorial we investigate two areas of text analytics:\n",
    "\n",
    "- Pre-processing text data for analysis\n",
    "- Classification of text and sentiment analysis"
   ]
  },
  {
   "cell_type": "code",
   "execution_count": 3,
   "metadata": {},
   "outputs": [],
   "source": [
    "import string\n",
    "import re\n",
    "import nltk\n",
    "import numpy as np\n",
    "import pandas as pd\n",
    "import matplotlib.pyplot as plt\n",
    "import cProfile\n",
    "import argparse\n",
    "import pprint\n",
    "import seaborn as sns\n",
    "\n",
    "from nltk.corpus import stopwords\n",
    "from scipy.sparse import coo_matrix\n",
    "from scipy.sparse import csr_matrix\n",
    "\n",
    "from sklearn.feature_extraction.text import CountVectorizer\n",
    "from sklearn.feature_extraction.text import TfidfVectorizer\n",
    "from sklearn.model_selection import train_test_split\n",
    "from sklearn.linear_model import LogisticRegression\n",
    "from sklearn.metrics import precision_recall_fscore_support, confusion_matrix"
   ]
  },
  {
   "cell_type": "code",
   "execution_count": 4,
   "metadata": {},
   "outputs": [
    {
     "name": "stdout",
     "output_type": "stream",
     "text": [
      "Requirement already satisfied: nltk in /opt/conda/lib/python3.7/site-packages (3.5)\n",
      "Requirement already satisfied: regex in /opt/conda/lib/python3.7/site-packages (from nltk) (2020.11.13)\n",
      "Requirement already satisfied: click in /opt/conda/lib/python3.7/site-packages (from nltk) (7.1.1)\n",
      "Requirement already satisfied: tqdm in /opt/conda/lib/python3.7/site-packages (from nltk) (4.43.0)\n",
      "Requirement already satisfied: joblib in /opt/conda/lib/python3.7/site-packages (from nltk) (0.14.1)\n",
      "Note: you may need to restart the kernel to use updated packages.\n"
     ]
    }
   ],
   "source": [
    "pip install nltk"
   ]
  },
  {
   "cell_type": "code",
   "execution_count": 12,
   "metadata": {
    "scrolled": true
   },
   "outputs": [
    {
     "name": "stderr",
     "output_type": "stream",
     "text": [
      "[nltk_data] Downloading package wordnet to /home/jovyan/nltk_data...\n",
      "[nltk_data]   Unzipping corpora/wordnet.zip.\n",
      "[nltk_data] Downloading package stopwords to /home/jovyan/nltk_data...\n",
      "[nltk_data]   Unzipping corpora/stopwords.zip.\n"
     ]
    }
   ],
   "source": [
    "nltk.download('wordnet')\n",
    "nltk.download('stopwords')\n",
    "\n",
    "# If you get an SSL-certificate error, and you are on a MAC then you may have to navigate to: application/python3/ and\n",
    "# run/double-click on the command 'install certificates'.  Then try this again.\n",
    "\n",
    "from nltk.stem.wordnet import WordNetLemmatizer"
   ]
  },
  {
   "cell_type": "markdown",
   "metadata": {},
   "source": [
    "The very first step to prepare text is to clean it.  We clean and normalize the text by performing various operations on the text. Some examples are as follows:\n",
    "\n",
    "- Make the text lowercase.\n",
    "- Remove symbols or punctuation.\n",
    "- Remove numbers. May also replace all numbers with a numeric tag, for example `<NUM>` or similar. We may also consider replacing all dates with `<DATE>` or similarly use tags `<URL>`, `<PHONE>`, `<EMAIL>`, etc...\n",
    "- Strip extra white space. White space has many forms: space, newline, or tab. There are also other rarely used unicode specifications for other white space characters.\n",
    "- Remove all non-printable unicode characters.\n",
    "- Replace accent characters.\n",
    "- Remove 'stop words'. Stop words are generally non-informative words like \"the\", \"as\", \"a\", etc.\n",
    "- Stem words to similar endings, such as \"eats\" and \"eat\".\n",
    "\n",
    "There are a few reasons to clean your text.  The primary reason is to reduce the potential vocabulary and increase the observations of specific words (or tokens). Depending on the application, the above steps should be considered carefully and only applied when it makes sense. Ask yourself if words like \"China\" and \"china\" to be different.\n",
    "\n",
    "**NOTE**: Be careful dealing with unicode characters. There are many editors and text viewers that only display printable characters but will not remove non-printable characters. Strange unicode characters can end up in data from users blindly copy/pasting text (with invisible unicode) into other text boxes."
   ]
  },
  {
   "cell_type": "markdown",
   "metadata": {},
   "source": [
    "### Exercise (8 minutes)\n",
    "\n",
    "By its very nature, text data comes unstructured and poorly organized for analysis. Typically multiple steps are required to process text into a form suitable for analysis, starting with cleaning it.\n",
    "\n",
    "Here's a horrible tweet. We're going to clean it and learn about ways to clean text data in the process."
   ]
  },
  {
   "cell_type": "code",
   "execution_count": 5,
   "metadata": {},
   "outputs": [
    {
     "name": "stdout",
     "output_type": "stream",
     "text": [
      "Unfiltered text: \n",
      "I <3 cleaning data $\\ \\ $, it’s my ၲ  $\\ \\ $    fAvoRitE!! 11!!! I enjoy looking for bats in the closet\n",
      "\n"
     ]
    }
   ],
   "source": [
    "horrible_tweet_text = 'I <3 cleaning data $\\ \\ $, it’s my \\u1072  $\\ \\ $    fAvoRitE!! 11!!! I enjoy looking for bats in the closet'\n",
    "print('Unfiltered text: \\n{}\\n'.format(horrible_tweet_text))"
   ]
  },
  {
   "cell_type": "markdown",
   "metadata": {},
   "source": [
    "Step by step, refine the above text. To avoid overwriting the existing string, you can create a new string from the string so far each time.\n",
    "\n",
    "- Remove any non-ASCI character. A string `x` is ASCI if `ord(x) < 128`."
   ]
  },
  {
   "cell_type": "code",
   "execution_count": 6,
   "metadata": {},
   "outputs": [
    {
     "name": "stdout",
     "output_type": "stream",
     "text": [
      "Unfiltered text: \n",
      "I <3 cleaning data $\\ \\ $, its my   $\\ \\ $    fAvoRitE!! 11!!! I enjoy looking for bats in the closet\n",
      "\n"
     ]
    }
   ],
   "source": [
    "text = ''.join([x for x in horrible_tweet_text if ord(x) < 128])\n",
    "print('Unfiltered text: \\n{}\\n'.format(text))"
   ]
  },
  {
   "cell_type": "markdown",
   "metadata": {},
   "source": [
    "- Make all the letters lower case."
   ]
  },
  {
   "cell_type": "code",
   "execution_count": 7,
   "metadata": {},
   "outputs": [
    {
     "name": "stdout",
     "output_type": "stream",
     "text": [
      "Lower Case text: \n",
      "i <3 cleaning data $\\ \\ $, its my   $\\ \\ $    favorite!! 11!!! i enjoy looking for bats in the closet\n",
      "\n"
     ]
    }
   ],
   "source": [
    "text = text.lower()\n",
    "print('Lower Case text: \\n{}\\n'.format(text))"
   ]
  },
  {
   "cell_type": "markdown",
   "metadata": {},
   "source": [
    "- Remove all punctuation from the text. You can use `string.punctuation` to get a string of all punctuation characters."
   ]
  },
  {
   "cell_type": "code",
   "execution_count": 8,
   "metadata": {},
   "outputs": [
    {
     "name": "stdout",
     "output_type": "stream",
     "text": [
      "Removed punctuation text: \n",
      "i  3 cleaning data         its my             favorite   11    i enjoy looking for bats in the closet\n",
      "\n"
     ]
    }
   ],
   "source": [
    "punc = string.punctuation\n",
    "text = ''.join([' ' if ele in punc else ele for ele in text])\n",
    "print('Removed punctuation text: \\n{}\\n'.format(text))"
   ]
  },
  {
   "cell_type": "markdown",
   "metadata": {},
   "source": [
    "- Remove all the numbers from the text. HINT: If you are familiar with **regular expressions** you can use `re.sub` to do this easily."
   ]
  },
  {
   "cell_type": "code",
   "execution_count": 9,
   "metadata": {},
   "outputs": [
    {
     "name": "stdout",
     "output_type": "stream",
     "text": [
      "Removed numbers text: \n",
      "i   cleaning data         its my             favorite       i enjoy looking for bats in the closet\n",
      "\n"
     ]
    }
   ],
   "source": [
    "text = re.sub(r'\\d+', '', text)\n",
    "print('Removed numbers text: \\n{}\\n'.format(text))"
   ]
  },
  {
   "cell_type": "markdown",
   "metadata": {},
   "source": [
    "- Strip the text of any extra whitespace. HINT: The `split` method might help here."
   ]
  },
  {
   "cell_type": "code",
   "execution_count": 10,
   "metadata": {},
   "outputs": [
    {
     "name": "stdout",
     "output_type": "stream",
     "text": [
      "Removed white spaces text: \n",
      "i cleaning data its my favorite i enjoy looking for bats in the closet\n",
      "\n"
     ]
    }
   ],
   "source": [
    "text = ' '.join(text.split())\n",
    "print('Removed white spaces text: \\n{}\\n'.format(text))"
   ]
  },
  {
   "cell_type": "markdown",
   "metadata": {},
   "source": [
    "- Remove all stop words from the text. We can use `stopwords.words('english')` to get a list of stop words for the English language."
   ]
  },
  {
   "cell_type": "code",
   "execution_count": 13,
   "metadata": {},
   "outputs": [
    {
     "name": "stdout",
     "output_type": "stream",
     "text": [
      "Updated text: \n",
      " cleaning data   favorite  enjoy looking  bats   closet\n",
      "\n"
     ]
    }
   ],
   "source": [
    "text = ' '.join(['' if ele in stopwords.words('english') else ele for ele in text.split()])\n",
    "print('Updated text: \\n{}\\n'.format(text))"
   ]
  },
  {
   "cell_type": "markdown",
   "metadata": {},
   "source": [
    "- Let's now use `WordNetLemmatizer()` to reduce the words to their **stems**. HINT: Use the object's `lemmatize` method."
   ]
  },
  {
   "cell_type": "code",
   "execution_count": 14,
   "metadata": {},
   "outputs": [
    {
     "name": "stdout",
     "output_type": "stream",
     "text": [
      "Updated text: \n",
      " cleaning data   favorite  enjoy looking  bat   closet\n",
      "\n"
     ]
    }
   ],
   "source": [
    "lmtzr = WordNetLemmatizer()\n",
    "word_list = text.split(' ')\n",
    "stemmed_words = [lmtzr.lemmatize(word) for word in word_list]\n",
    "text = ' '.join(stemmed_words)\n",
    "print('Updated text: \\n{}\\n'.format(text))"
   ]
  },
  {
   "cell_type": "markdown",
   "metadata": {},
   "source": [
    "### End of exercise"
   ]
  },
  {
   "cell_type": "markdown",
   "metadata": {},
   "source": [
    "Let's now combine the steps outlined in the above exercise and create a function to clean text for use. We will later use this function."
   ]
  },
  {
   "cell_type": "code",
   "execution_count": 15,
   "metadata": {},
   "outputs": [
    {
     "name": "stdout",
     "output_type": "stream",
     "text": [
      "before: \"I <3 cleaning data $\\ \\ $, it’s my ၲ  $\\ \\ $    fAvoRitE!! 11!!! I enjoy looking for bats in the closet\"\n",
      "after : \"cleaning data favorite enjoy looking bat closet\"\n"
     ]
    }
   ],
   "source": [
    "def preprocess(text, list_of_steps):\n",
    "    \n",
    "    for step in list_of_steps:\n",
    "        if step == 'remove_non_ascii':\n",
    "            text = ''.join([x for x in text if ord(x) < 128])\n",
    "        elif step == 'lowercase':\n",
    "            text = text.lower()\n",
    "        elif step == 'remove_punctuation':\n",
    "            punct_exclude = set(string.punctuation)\n",
    "            text = ''.join(char for char in text if char not in punct_exclude)\n",
    "        elif step == 'remove_numbers':\n",
    "            text = re.sub(\"\\d+\", \"\", text)\n",
    "        elif step == 'strip_whitespace':\n",
    "            text = ' '.join(text.split())\n",
    "        elif step == 'remove_stopwords':\n",
    "            stops = stopwords.words('english')\n",
    "            word_list = text.split(' ')\n",
    "            text_words = [word for word in word_list if word not in stops]\n",
    "            text = ' '.join(text_words)\n",
    "        elif step == 'stem_words':\n",
    "            lmtzr = WordNetLemmatizer()\n",
    "            word_list = text.split(' ')\n",
    "            stemmed_words = [lmtzr.lemmatize(word) for word in word_list]\n",
    "            text = ' '.join(stemmed_words)\n",
    "    return text\n",
    "\n",
    "step_list = ['remove_non_ascii', 'lowercase', 'remove_punctuation', 'remove_numbers',\n",
    "            'strip_whitespace', 'remove_stopwords', 'stem_words']\n",
    "\n",
    "print(\"before: \\\"{}\\\"\".format(horrible_tweet_text))\n",
    "print(\"after : \\\"{}\\\"\".format(preprocess(horrible_tweet_text, step_list)))"
   ]
  },
  {
   "cell_type": "markdown",
   "metadata": {},
   "source": [
    "### Featurizing text data\n",
    "\n",
    "We the clean data we can begin to ask what is the best way to extract features from the data. There are many more approaches for text analytics and natural language processing (NLP). We only mention a few below. Note that the collection of unique words in the data is called a **corpus**. To avoid having a corpus that's too large, we can trim the corpus by keeping the most frequent $N$ words, making $N$ the size of the corpus. A **document** usually refers to a single data point with raw text, such as a tweet, a review, an invoice, etc. So our documents are made up of \"words\" that come from the corpus (ignoring any words that are not in the corpus). The question now is how do we represent such a data numerically? Here are two approaches:\n",
    "\n",
    "- The **bag of words model** is a simple and surprisingly effective model for analysis of text data. The BOW model creates a **sparse vector representation** of each word in the corpus based on the frequency of the words in the document. The order of the words is not considered, nor is the similarity between different words. Despite serious shortcomings, the model can work well in many cases.\n",
    "- We can usually do much better by using **word embeddings**, which are **dense vector respresentations** for each word in the corpus. Word embeddings are learned by examining the word's **context** (other words around it). Word embeddings are very common in **deep learning** applications of NLP, although the embeddings themselves are learned using a shallow network. If we learn word embeddings from a very large data set once, we can save and re-use these word embeddings to create features for other data sets. In fact, **pre-trained word embeddings** are trained by large companies like Google and made available for use by others. So we can load these embeddings and numerically represent a document using the average of the embeddings of the words in it. Because word embeddings are vectors, such an average would also be a vector that is a dense representation of the document.\n",
    "\n",
    "As you can see, BOW models seem too simplistic and word embeddings seem too sophisticated for now. So here's another approach that is sort of between the two in terms of difficulty. It is called TF-IDF and it is a clever way to featurize words in documents. Just like a BOW model, we begin by \"tokenizing\" the data. In BOW we then create a one-hot encoded feature for each token (or word). But in TF-IDF we first extract the relative word frequencies per document (called **term frequencies** or TF), we then multiply the term frequencies by a multiplier we call IDF. This has the effect of dampening the values for terms that appear frequently across documents, giving them less influence when we move on to the machine learning phase. Note that we used the words token, word and term almost interchangeably. Sorry for confusing you! Data scientists don't always agree on terminology. Let's dive in."
   ]
  },
  {
   "cell_type": "markdown",
   "metadata": {},
   "source": [
    "### Tokenize text\n",
    "\n",
    "As a first step in preparing text for analysis of a document is to **tokenize** the text. In general terms, tokenization is the process dividing raw text into words, symbols and other elements, known as **tokens**. A set of tokens from all documents in the data is known as a **corpus**.\n",
    "\n",
    "As a first step in creating a corpus is reading the data set. This particular data set is comprised of 160,000 tweets. The sentiment of these tweets has been human labeled as positive or negative (4 is for positive)."
   ]
  },
  {
   "cell_type": "code",
   "execution_count": 17,
   "metadata": {},
   "outputs": [
    {
     "data": {
      "text/html": [
       "<div>\n",
       "<style scoped>\n",
       "    .dataframe tbody tr th:only-of-type {\n",
       "        vertical-align: middle;\n",
       "    }\n",
       "\n",
       "    .dataframe tbody tr th {\n",
       "        vertical-align: top;\n",
       "    }\n",
       "\n",
       "    .dataframe thead th {\n",
       "        text-align: right;\n",
       "    }\n",
       "</style>\n",
       "<table border=\"1\" class=\"dataframe\">\n",
       "  <thead>\n",
       "    <tr style=\"text-align: right;\">\n",
       "      <th></th>\n",
       "      <th>sentiment_label</th>\n",
       "      <th>tweet_text</th>\n",
       "    </tr>\n",
       "  </thead>\n",
       "  <tbody>\n",
       "    <tr>\n",
       "      <th>0</th>\n",
       "      <td>4</td>\n",
       "      <td>@elephantbird Hey dear, Happy Friday to You  A...</td>\n",
       "    </tr>\n",
       "    <tr>\n",
       "      <th>1</th>\n",
       "      <td>4</td>\n",
       "      <td>Ughhh layin downnnn    Waiting for zeina to co...</td>\n",
       "    </tr>\n",
       "    <tr>\n",
       "      <th>2</th>\n",
       "      <td>0</td>\n",
       "      <td>@greeniebach I reckon he'll play, even if he's...</td>\n",
       "    </tr>\n",
       "    <tr>\n",
       "      <th>3</th>\n",
       "      <td>0</td>\n",
       "      <td>@vaLewee I know!  Saw it on the news!</td>\n",
       "    </tr>\n",
       "    <tr>\n",
       "      <th>4</th>\n",
       "      <td>0</td>\n",
       "      <td>very sad that http://www.fabchannel.com/ has c...</td>\n",
       "    </tr>\n",
       "  </tbody>\n",
       "</table>\n",
       "</div>"
      ],
      "text/plain": [
       "   sentiment_label                                         tweet_text\n",
       "0                4  @elephantbird Hey dear, Happy Friday to You  A...\n",
       "1                4  Ughhh layin downnnn    Waiting for zeina to co...\n",
       "2                0  @greeniebach I reckon he'll play, even if he's...\n",
       "3                0              @vaLewee I know!  Saw it on the news!\n",
       "4                0  very sad that http://www.fabchannel.com/ has c..."
      ]
     },
     "execution_count": 17,
     "metadata": {},
     "output_type": "execute_result"
    }
   ],
   "source": [
    "data_file = 'twitter_data.csv'\n",
    "tweet_df = pd.read_csv(data_file)\n",
    "tweet_df.head()"
   ]
  },
  {
   "cell_type": "code",
   "execution_count": 18,
   "metadata": {},
   "outputs": [
    {
     "data": {
      "text/plain": [
       "1    80000\n",
       "0    80000\n",
       "Name: sentiment_label, dtype: int64"
      ]
     },
     "execution_count": 18,
     "metadata": {},
     "output_type": "execute_result"
    }
   ],
   "source": [
    "tweet_df['sentiment_label'] = tweet_df['sentiment_label'].replace(4, 1)\n",
    "tweet_df['sentiment_label'].value_counts()"
   ]
  },
  {
   "cell_type": "code",
   "execution_count": 19,
   "metadata": {},
   "outputs": [],
   "source": [
    "tweet_data = tweet_df.values.tolist()"
   ]
  },
  {
   "cell_type": "markdown",
   "metadata": {},
   "source": [
    "Now that we have the data set read, we need to clean then tokenize the tweets. Note that stemming can be slow on large datasets."
   ]
  },
  {
   "cell_type": "code",
   "execution_count": 20,
   "metadata": {},
   "outputs": [],
   "source": [
    "steps = ['lowercase', 'remove_punctuation', 'remove_numbers', 'strip_whitespace', 'stem_words']\n",
    "tweet_df['clean_tweet'] = tweet_df['tweet_text'].map(lambda s: preprocess(s, steps))"
   ]
  },
  {
   "cell_type": "code",
   "execution_count": 21,
   "metadata": {},
   "outputs": [
    {
     "data": {
      "text/html": [
       "<div>\n",
       "<style scoped>\n",
       "    .dataframe tbody tr th:only-of-type {\n",
       "        vertical-align: middle;\n",
       "    }\n",
       "\n",
       "    .dataframe tbody tr th {\n",
       "        vertical-align: top;\n",
       "    }\n",
       "\n",
       "    .dataframe thead th {\n",
       "        text-align: right;\n",
       "    }\n",
       "</style>\n",
       "<table border=\"1\" class=\"dataframe\">\n",
       "  <thead>\n",
       "    <tr style=\"text-align: right;\">\n",
       "      <th></th>\n",
       "      <th>sentiment_label</th>\n",
       "      <th>tweet_text</th>\n",
       "      <th>clean_tweet</th>\n",
       "    </tr>\n",
       "  </thead>\n",
       "  <tbody>\n",
       "    <tr>\n",
       "      <th>0</th>\n",
       "      <td>1</td>\n",
       "      <td>@elephantbird Hey dear, Happy Friday to You  A...</td>\n",
       "      <td>elephantbird hey dear happy friday to you alre...</td>\n",
       "    </tr>\n",
       "    <tr>\n",
       "      <th>1</th>\n",
       "      <td>1</td>\n",
       "      <td>Ughhh layin downnnn    Waiting for zeina to co...</td>\n",
       "      <td>ughhh layin downnnn waiting for zeina to cook ...</td>\n",
       "    </tr>\n",
       "    <tr>\n",
       "      <th>2</th>\n",
       "      <td>0</td>\n",
       "      <td>@greeniebach I reckon he'll play, even if he's...</td>\n",
       "      <td>greeniebach i reckon hell play even if he not ...</td>\n",
       "    </tr>\n",
       "    <tr>\n",
       "      <th>3</th>\n",
       "      <td>0</td>\n",
       "      <td>@vaLewee I know!  Saw it on the news!</td>\n",
       "      <td>valewee i know saw it on the news</td>\n",
       "    </tr>\n",
       "    <tr>\n",
       "      <th>4</th>\n",
       "      <td>0</td>\n",
       "      <td>very sad that http://www.fabchannel.com/ has c...</td>\n",
       "      <td>very sad that httpwwwfabchannelcom ha closed d...</td>\n",
       "    </tr>\n",
       "  </tbody>\n",
       "</table>\n",
       "</div>"
      ],
      "text/plain": [
       "   sentiment_label                                         tweet_text  \\\n",
       "0                1  @elephantbird Hey dear, Happy Friday to You  A...   \n",
       "1                1  Ughhh layin downnnn    Waiting for zeina to co...   \n",
       "2                0  @greeniebach I reckon he'll play, even if he's...   \n",
       "3                0              @vaLewee I know!  Saw it on the news!   \n",
       "4                0  very sad that http://www.fabchannel.com/ has c...   \n",
       "\n",
       "                                         clean_tweet  \n",
       "0  elephantbird hey dear happy friday to you alre...  \n",
       "1  ughhh layin downnnn waiting for zeina to cook ...  \n",
       "2  greeniebach i reckon hell play even if he not ...  \n",
       "3                  valewee i know saw it on the news  \n",
       "4  very sad that httpwwwfabchannelcom ha closed d...  "
      ]
     },
     "execution_count": 21,
     "metadata": {},
     "output_type": "execute_result"
    }
   ],
   "source": [
    "tweet_df.head()"
   ]
  },
  {
   "cell_type": "markdown",
   "metadata": {},
   "source": [
    "It's sometimes helpful to profile such functions to find the main culprits and see if we can do anything to speed them up."
   ]
  },
  {
   "cell_type": "code",
   "execution_count": 22,
   "metadata": {},
   "outputs": [
    {
     "name": "stdout",
     "output_type": "stream",
     "text": [
      "         46230044 function calls (46230041 primitive calls) in 16.605 seconds\n",
      "\n",
      "   Ordered by: standard name\n",
      "\n",
      "   ncalls  tottime  percall  cumtime  percall filename:lineno(function)\n",
      "        1    0.000    0.000    0.000    0.000 <__array_function__ internals>:2(copyto)\n",
      "        4    0.000    0.000    0.000    0.000 <frozen importlib._bootstrap>:1009(_handle_fromlist)\n",
      "   160000    0.789    0.000   16.344    0.000 <ipython-input-15-0f7b3a1f02b1>:1(preprocess)\n",
      " 11257197    1.163    0.000    1.163    0.000 <ipython-input-15-0f7b3a1f02b1>:10(<genexpr>)\n",
      "   160000    0.537    0.000   11.968    0.000 <ipython-input-15-0f7b3a1f02b1>:23(<listcomp>)\n",
      "   160000    0.172    0.000   16.516    0.000 <string>:1(<lambda>)\n",
      "        1    0.004    0.004   16.605   16.605 <string>:1(<module>)\n",
      "        2    0.000    0.000    0.000    0.000 _dtype.py:319(_name_includes_bit_suffix)\n",
      "        2    0.000    0.000    0.000    0.000 _dtype.py:333(_name_get)\n",
      "        2    0.000    0.000    0.000    0.000 _dtype.py:36(_kind_name)\n",
      "        2    0.000    0.000    0.000    0.000 _internal.py:830(npy_ctypes_check)\n",
      "        5    0.000    0.000    0.000    0.000 abc.py:137(__instancecheck__)\n",
      "        1    0.000    0.000   16.597   16.597 base.py:1064(_map_values)\n",
      "        1    0.000    0.000    0.000    0.000 base.py:1383(nlevels)\n",
      "        1    0.000    0.000    0.000    0.000 base.py:1656(is_unique)\n",
      "        5    0.000    0.000    0.000    0.000 base.py:247(is_dtype)\n",
      "        2    0.000    0.000    0.000    0.000 base.py:2637(get_loc)\n",
      "        1    0.000    0.000    0.000    0.000 base.py:3897(__contains__)\n",
      "        1    0.000    0.000    0.000    0.000 base.py:3911(__getitem__)\n",
      "        3    0.000    0.000    0.000    0.000 base.py:5293(ensure_index)\n",
      "        2    0.000    0.000    0.000    0.000 base.py:5393(maybe_extract_name)\n",
      "        3    0.000    0.000    0.000    0.000 blocks.py:118(__init__)\n",
      "        3    0.000    0.000    0.000    0.000 blocks.py:129(_check_ndim)\n",
      "        1    0.000    0.000    0.000    0.000 blocks.py:187(is_categorical_astype)\n",
      "        1    0.000    0.000    0.000    0.000 blocks.py:202(external_values)\n",
      "        4    0.000    0.000    0.000    0.000 blocks.py:247(mgr_locs)\n",
      "        3    0.000    0.000    0.000    0.000 blocks.py:251(mgr_locs)\n",
      "        3    0.000    0.000    0.000    0.000 blocks.py:2591(__init__)\n",
      "        2    0.000    0.000    0.000    0.000 blocks.py:275(make_block_same_class)\n",
      "        1    0.000    0.000    0.000    0.000 blocks.py:2981(get_block_type)\n",
      "        3    0.000    0.000    0.000    0.000 blocks.py:3027(make_block)\n",
      "        1    0.000    0.000    0.000    0.000 blocks.py:3053(_extend_blocks)\n",
      "        2    0.000    0.000    0.000    0.000 blocks.py:339(dtype)\n",
      "        1    0.000    0.000    0.000    0.000 blocks.py:365(iget)\n",
      "        1    0.000    0.000    0.001    0.001 blocks.py:554(astype)\n",
      "        1    0.000    0.000    0.001    0.001 blocks.py:694(copy)\n",
      "        1    0.000    0.000    0.000    0.000 cast.py:1088(maybe_castable)\n",
      "        1    0.000    0.000    0.000    0.000 cast.py:1102(maybe_infer_to_datetimelike)\n",
      "        1    0.000    0.000    0.000    0.000 cast.py:1209(maybe_cast_to_datetime)\n",
      "        1    0.000    0.000    0.000    0.000 cast.py:1483(construct_1d_ndarray_preserving_na)\n",
      "        1    0.000    0.000    0.000    0.000 common.py:151(cast_scalar_indexer)\n",
      "        6    0.000    0.000    0.000    0.000 common.py:1565(is_extension_array_dtype)\n",
      "        2    0.000    0.000    0.000    0.000 common.py:1672(_get_dtype)\n",
      "        5    0.000    0.000    0.000    0.000 common.py:1708(_is_dtype_type)\n",
      "        2    0.000    0.000    0.000    0.000 common.py:1844(pandas_dtype)\n",
      "        4    0.000    0.000    0.000    0.000 common.py:206(classes)\n",
      "        4    0.000    0.000    0.000    0.000 common.py:208(<lambda>)\n",
      "        1    0.000    0.000    0.000    0.000 common.py:211(classes_and_not_datetimelike)\n",
      "        1    0.000    0.000    0.000    0.000 common.py:216(<lambda>)\n",
      "        4    0.000    0.000    0.000    0.000 common.py:222(is_object_dtype)\n",
      "        1    0.000    0.000    0.000    0.000 common.py:252(is_sparse)\n",
      "        1    0.000    0.000    0.000    0.000 common.py:330(apply_if_callable)\n",
      "        1    0.000    0.000    0.000    0.000 common.py:339(is_categorical)\n",
      "        1    0.000    0.000    0.000    0.000 common.py:403(is_datetime64tz_dtype)\n",
      "        1    0.000    0.000    0.000    0.000 common.py:472(is_period_dtype)\n",
      "        1    0.000    0.000    0.000    0.000 common.py:506(is_interval_dtype)\n",
      "        2    0.000    0.000    0.000    0.000 common.py:542(is_categorical_dtype)\n",
      "        1    0.000    0.000    0.000    0.000 common.py:685(is_dtype_equal)\n",
      "        1    0.000    0.000    0.000    0.000 common.py:775(is_integer_dtype)\n",
      "        1    0.000    0.000    0.000    0.000 construction.py:337(extract_array)\n",
      "        1    0.000    0.000    0.002    0.002 construction.py:388(sanitize_array)\n",
      "        1    0.000    0.000    0.000    0.000 construction.py:506(_try_cast)\n",
      "        2    0.000    0.000    0.000    0.000 construction.py:570(is_empty_data)\n",
      "        1    0.000    0.000    0.000    0.000 dtypes.py:1124(is_dtype)\n",
      "        7    0.000    0.000    0.000    0.000 dtypes.py:75(find)\n",
      "        1    0.000    0.000    0.000    0.000 dtypes.py:917(is_dtype)\n",
      "        1    0.000    0.000    0.000    0.000 frame.py:2767(__getitem__)\n",
      "        1    0.000    0.000    0.000    0.000 frame.py:3066(_box_item_values)\n",
      "        1    0.000    0.000    0.000    0.000 frame.py:3073(_box_col_values)\n",
      "       31    0.000    0.000    0.000    0.000 generic.py:10(_check)\n",
      "        3    0.000    0.000    0.000    0.000 generic.py:190(__init__)\n",
      "        2    0.000    0.000    0.000    0.000 generic.py:238(attrs)\n",
      "        1    0.000    0.000    0.000    0.000 generic.py:3227(_set_as_cached)\n",
      "        1    0.000    0.000    0.000    0.000 generic.py:3581(_get_item_cache)\n",
      "        2    0.000    0.000    0.000    0.000 generic.py:5235(__finalize__)\n",
      "        3    0.000    0.000    0.000    0.000 generic.py:5257(__getattr__)\n",
      "        5    0.000    0.000    0.000    0.000 generic.py:5276(__setattr__)\n",
      "        1    0.000    0.000    0.001    0.001 generic.py:5563(astype)\n",
      "        3    0.000    0.000    0.000    0.000 inference.py:299(is_dict_like)\n",
      "        6    0.000    0.000    0.000    0.000 inference.py:325(<genexpr>)\n",
      "        9    0.000    0.000    0.000    0.000 inference.py:358(is_hashable)\n",
      "        1    0.000    0.000    0.000    0.000 inspect.py:72(isclass)\n",
      "        3    0.000    0.000    0.000    0.000 managers.py:1467(__init__)\n",
      "        2    0.000    0.000    0.000    0.000 managers.py:1520(_block)\n",
      "        1    0.000    0.000    0.000    0.000 managers.py:1544(index)\n",
      "        1    0.000    0.000    0.000    0.000 managers.py:1548(dtype)\n",
      "        1    0.000    0.000    0.000    0.000 managers.py:1562(external_values)\n",
      "        1    0.000    0.000    0.000    0.000 managers.py:1582(_consolidate_inplace)\n",
      "        2    0.000    0.000    0.000    0.000 managers.py:232(items)\n",
      "        1    0.000    0.000    0.001    0.001 managers.py:368(apply)\n",
      "        1    0.000    0.000    0.000    0.000 managers.py:419(<dictcomp>)\n",
      "        1    0.000    0.000    0.001    0.001 managers.py:581(astype)\n",
      "        1    0.000    0.000    0.000    0.000 managers.py:950(get)\n",
      "        1    0.000    0.000    0.000    0.000 managers.py:979(iget)\n",
      "        1    0.000    0.000    0.000    0.000 missing.py:132(_isna_new)\n",
      "        1    0.000    0.000    0.000    0.000 missing.py:49(isna)\n",
      "        1    0.000    0.000    0.000    0.000 multiarray.py:1043(copyto)\n",
      "        3    0.000    0.000    0.000    0.000 numeric.py:155(is_all_dates)\n",
      "        1    0.000    0.000    0.000    0.000 numeric.py:283(full)\n",
      "        3    0.000    0.000    0.000    0.000 range.py:675(__len__)\n",
      "   160000    0.081    0.000    0.802    0.000 re.py:185(sub)\n",
      "   160000    0.142    0.000    0.193    0.000 re.py:271(_compile)\n",
      "        3    0.000    0.000    0.003    0.001 series.py:183(__init__)\n",
      "        1    0.001    0.001   16.601   16.601 series.py:3555(map)\n",
      "        2    0.000    0.000    0.000    0.000 series.py:359(_constructor)\n",
      "        3    0.000    0.000    0.000    0.000 series.py:376(_set_axis)\n",
      "        3    0.000    0.000    0.000    0.000 series.py:403(_set_subtyp)\n",
      "        1    0.000    0.000    0.000    0.000 series.py:414(dtype)\n",
      "        5    0.000    0.000    0.000    0.000 series.py:428(name)\n",
      "        5    0.000    0.000    0.000    0.000 series.py:432(name)\n",
      "        1    0.000    0.000    0.000    0.000 series.py:438(values)\n",
      "  2070416    2.216    0.000    9.796    0.000 wordnet.py:1865(_morphy)\n",
      "  2092191    0.685    0.000    5.646    0.000 wordnet.py:1876(apply_rules)\n",
      "  2092191    2.849    0.000    4.961    0.000 wordnet.py:1878(<listcomp>)\n",
      "  2119667    1.704    0.000    1.933    0.000 wordnet.py:1884(filter_forms)\n",
      "   160000    0.018    0.000    0.018    0.000 wordnet.py:34(__init__)\n",
      "  2070416    1.142    0.000   11.431    0.000 wordnet.py:37(lemmatize)\n",
      "        5    0.000    0.000    0.000    0.000 {built-in method _abc._abc_instancecheck}\n",
      "        3    0.000    0.000    0.000    0.000 {built-in method builtins.all}\n",
      "        2    0.000    0.000    0.000    0.000 {built-in method builtins.callable}\n",
      "        1    0.000    0.000   16.605   16.605 {built-in method builtins.exec}\n",
      "       48    0.000    0.000    0.000    0.000 {built-in method builtins.getattr}\n",
      "       11    0.000    0.000    0.000    0.000 {built-in method builtins.hasattr}\n",
      "       10    0.000    0.000    0.000    0.000 {built-in method builtins.hash}\n",
      "   160090    0.051    0.000    0.051    0.000 {built-in method builtins.isinstance}\n",
      "       25    0.000    0.000    0.000    0.000 {built-in method builtins.issubclass}\n",
      "185226/185223    0.018    0.000    0.018    0.000 {built-in method builtins.len}\n",
      "  1069232    0.493    0.000    0.493    0.000 {built-in method builtins.min}\n",
      "        3    0.000    0.000    0.000    0.000 {built-in method numpy.array}\n",
      "        1    0.000    0.000    0.000    0.000 {built-in method numpy.core._multiarray_umath.implement_array_function}\n",
      "        1    0.000    0.000    0.000    0.000 {built-in method numpy.empty}\n",
      "        1    0.000    0.000    0.000    0.000 {built-in method pandas._libs.missing.checknull}\n",
      "  1092023    0.100    0.000    0.100    0.000 {method 'add' of 'set' objects}\n",
      "  1092024    0.130    0.000    0.130    0.000 {method 'append' of 'list' objects}\n",
      "        1    0.001    0.001    0.001    0.001 {method 'copy' of 'numpy.ndarray' objects}\n",
      "        1    0.000    0.000    0.000    0.000 {method 'disable' of '_lsprof.Profiler' objects}\n",
      " 18848997    2.095    0.000    2.095    0.000 {method 'endswith' of 'str' objects}\n",
      "        1    0.000    0.000    0.000    0.000 {method 'get' of 'dict' objects}\n",
      "        2    0.000    0.000    0.000    0.000 {method 'get_loc' of 'pandas._libs.index.IndexEngine' objects}\n",
      "   480000    1.340    0.000    2.503    0.000 {method 'join' of 'str' objects}\n",
      "   160000    0.032    0.000    0.032    0.000 {method 'lower' of 'str' objects}\n",
      "   320000    0.232    0.000    0.232    0.000 {method 'split' of 'str' objects}\n",
      "   160000    0.527    0.000    0.527    0.000 {method 'sub' of 're.Pattern' objects}\n",
      "        1    0.000    0.000    0.000    0.000 {pandas._libs.algos.ensure_object}\n",
      "        1    0.000    0.000    0.000    0.000 {pandas._libs.lib.infer_datetimelike_array}\n",
      "        1    0.002    0.002    0.002    0.002 {pandas._libs.lib.infer_dtype}\n",
      "        1    0.000    0.000    0.000    0.000 {pandas._libs.lib.is_float}\n",
      "        5    0.000    0.000    0.000    0.000 {pandas._libs.lib.is_list_like}\n",
      "        2    0.000    0.000    0.000    0.000 {pandas._libs.lib.is_scalar}\n",
      "        1    0.000    0.000    0.000    0.000 {pandas._libs.lib.item_from_zerodim}\n",
      "        1    0.080    0.080   16.596   16.596 {pandas._libs.lib.map_infer}\n",
      "\n",
      "\n"
     ]
    }
   ],
   "source": [
    "import cProfile\n",
    "cProfile.run(\"tweet_df['tweet_text'].map(lambda s: preprocess(s, steps))\")"
   ]
  },
  {
   "cell_type": "markdown",
   "metadata": {},
   "source": [
    "**NOTE:** To help us understand TF-IDF in great detail, we learn about TF-IDF in two different ways:\n",
    "\n",
    "- We first run through the steps \"manually\", so that we can see talk about implementation details. \n",
    "- We then apply TF-IDF using `sklearn` in a few lines of code, which will hide all of that detail.\n",
    "\n",
    "## Computing TF-IDF\n",
    "\n",
    "Computing the TF-IDF values manually consist of several steps:\n",
    "1. We obtain the term-document matirx. \n",
    "1. We calculate the **term-frequency (TF)** matirx, where $\\text{TF(doc, term)}$ is the term frequencies from the term document matrix divided by the total number of terms in the document. In other words, we turn the frequencies into percentages (also called relative frequencies).\n",
    "1. We trim the term-document matrix if needed. This gets rid of useless words that frequently appear across documents.\n",
    "1. We can also derive the **inverse document frequencies (IDF)** matrix:\n",
    "\n",
    "   $$\\text{IDF(term)} = \\log(\\frac{\\text{number of documents}}{\\text{number of documents with term in it} })$$\n",
    "\n",
    "   Note that TF is a function of both term and document, but the IDF is just a function of the terms.\n",
    "1. We multiply the TF with IDF values to get TF-IDF values. This results in **term frequency inverse document frequency (TF-IDF) maxtrix**. \n",
    "   \n",
    "   $$\\text{TF-IDF} = \\text{TF(term, doc)} \\cdot \\text{IDF(term)}$$\n",
    "\n",
    "To get an intuition behind what's happening, here's what the IDF function looks like:"
   ]
  },
  {
   "cell_type": "code",
   "execution_count": 23,
   "metadata": {},
   "outputs": [
    {
     "data": {
      "image/png": "[encoded data removed]",
      "text/plain": [
       "<Figure size 432x288 with 1 Axes>"
      ]
     },
     "metadata": {
      "needs_background": "light"
     },
     "output_type": "display_data"
    }
   ],
   "source": [
    "x = np.linspace(0, 100, num = 80)\n",
    "sns.lineplot(x = x, y = np.log(100 / (x + 1)));"
   ]
  },
  {
   "cell_type": "markdown",
   "metadata": {},
   "source": [
    "TFs give us the relative frequency terms in the documents. We use the IDFs to then dampen the TFs for terms that appear frequently across documents by virtue of being common terms. This will make it so rarer terms get to exert more influence during the machine learning phase.\n",
    "\n",
    "Applications of TF-IDF include\n",
    "\n",
    "- Characterize writing styles\n",
    "- Comparing authors\n",
    "- Determining original authors\n",
    "- Finding plagiarism\n",
    "\n",
    "Let's now implement this for the tweet data:"
   ]
  },
  {
   "cell_type": "markdown",
   "metadata": {},
   "source": [
    "### Step 1: Get the term-document matrix\n",
    "\n",
    "We first break up the words in the text:"
   ]
  },
  {
   "cell_type": "code",
   "execution_count": 24,
   "metadata": {},
   "outputs": [
    {
     "name": "stdout",
     "output_type": "stream",
     "text": [
      "Example entry: ['ratusyura', 'the', 'one', 'at', 's', 'is', 'it', 'lol', 'can', 'ajak', 'haryaton', 'also', 'shes', 'always', 'really', 'to', 'go', 'out']\n"
     ]
    }
   ],
   "source": [
    "clean_texts = tweet_df['clean_tweet']\n",
    "docs = {}\n",
    "labels = []\n",
    "for ix, row in enumerate(clean_texts):\n",
    "    labels = tweet_data[ix][0]\n",
    "    docs[ix] = row.split(' ')\n",
    "\n",
    "print('Example entry: {}'.format(docs[np.random.choice(ix)]))"
   ]
  },
  {
   "cell_type": "markdown",
   "metadata": {},
   "source": [
    "We can now create our corpus, keeping track of its size."
   ]
  },
  {
   "cell_type": "code",
   "execution_count": 25,
   "metadata": {},
   "outputs": [
    {
     "name": "stdout",
     "output_type": "stream",
     "text": [
      "Our tweet-vocabulary has 146496 distinct words.\n"
     ]
    }
   ],
   "source": [
    "num_nonzero = 0\n",
    "vocab = set()\n",
    "\n",
    "for word_list in docs.values():\n",
    "    unique_terms = set(word_list)    # all unique terms of this tweet\n",
    "    vocab.update(unique_terms)       # set union: add unique terms of this tweet\n",
    "    num_nonzero += len(unique_terms) # add count of unique terms in this tweet\n",
    "\n",
    "doc_key_list = list(docs.keys())\n",
    "\n",
    "print('Our tweet-vocabulary has {} distinct words.'.format(len(vocab)))"
   ]
  },
  {
   "cell_type": "markdown",
   "metadata": {},
   "source": [
    "Let's now convert everything to a numpy array. We should keep track of how the vocab/term indices map to the matrix so that we can look them up later."
   ]
  },
  {
   "cell_type": "code",
   "execution_count": 26,
   "metadata": {},
   "outputs": [
    {
     "name": "stdout",
     "output_type": "stream",
     "text": [
      "Vocab: ['teevee' 'realpaulrudd' 'karrielyne' 'jdnx' 'wonquott']\n",
      "Sorted Vocab: ['a' 'aa' 'aaa' 'aaaa' 'aaaaa' 'aaaaaa' 'aaaaaaa' 'aaaaaaaa' 'aaaaaaaaaa'\n",
      " 'aaaaaaaaaaaa' 'aaaaaaaaaaaaa' 'aaaaaaaaaaaaaa' 'aaaaaaaaaaaaaaaa'\n",
      " 'aaaaaaaaaaaaaaaaaaaaaaaaaaaaaa' 'aaaaaaaaaaaaaaaaaaaaaaah'\n",
      " 'aaaaaaaaaaaaaaaaaaaah' 'aaaaaaaaaaaaaaaaand' 'aaaaaaaaaaaaaaah'\n",
      " 'aaaaaaaaaaaaaaahmmmmmmmmmm' 'aaaaaaaaaaaaaah']\n"
     ]
    }
   ],
   "source": [
    "doc_key_list = np.array(doc_key_list)\n",
    "vocab = np.array(list(vocab))\n",
    "\n",
    "vocab_sorter = np.argsort(vocab)\n",
    "\n",
    "print('Vocab: {}'.format(vocab[:5]))\n",
    "print('Sorted Vocab: {}'.format(vocab[vocab_sorter[:20]]))"
   ]
  },
  {
   "cell_type": "markdown",
   "metadata": {},
   "source": [
    "We now initialize the **term-document matrix**. This is a matrix where each row $i$ is a document and each column $j$ is a word. The entriy $(i, j)$ of the matrix shows the frequency of the word $j$ in document $i$."
   ]
  },
  {
   "cell_type": "code",
   "execution_count": 27,
   "metadata": {},
   "outputs": [],
   "source": [
    "num_docs = len(doc_key_list)\n",
    "vocab_size = len(vocab)\n",
    "data = np.empty(num_nonzero, dtype = np.intc)     # all non-zero\n",
    "rows = np.empty(num_nonzero, dtype = np.intc)     # row index\n",
    "cols = np.empty(num_nonzero, dtype = np.intc)     # column index"
   ]
  },
  {
   "cell_type": "markdown",
   "metadata": {},
   "source": [
    "We can now populate the term-document matrix: Each row $i$ is a document and each column $j$ is a word. The entriy $(i, j)$ of the matrix shows the frequency of the word $j$ in document $i$."
   ]
  },
  {
   "cell_type": "code",
   "execution_count": 28,
   "metadata": {},
   "outputs": [
    {
     "name": "stdout",
     "output_type": "stream",
     "text": [
      "Computing, please wait!\n",
      "Done!\n"
     ]
    }
   ],
   "source": [
    "ix = 0\n",
    "# go through all documents with their terms\n",
    "print('Computing, please wait!')\n",
    "for doc_key, terms in docs.items():\n",
    "    # find indices to insert-into such that, if the corresponding elements were\n",
    "    # inserted before the indices, the order would be preserved\n",
    "    term_indices = vocab_sorter[np.searchsorted(vocab, terms, sorter = vocab_sorter)]\n",
    "\n",
    "    # count the unique terms of the document and get their vocabulary indices\n",
    "    uniq_indices, counts = np.unique(term_indices, return_counts = True)\n",
    "    n_vals = len(uniq_indices)  # number of unique terms\n",
    "    ix_end = ix + n_vals # add count to index\n",
    "\n",
    "    data[ix:ix_end] = counts                  # save the counts (term frequencies)\n",
    "    cols[ix:ix_end] = uniq_indices            # save the column index: index in \n",
    "    doc_ix = np.where(doc_key_list == doc_key)   # get the document index for the document name\n",
    "    rows[ix:ix_end] = np.repeat(doc_ix, n_vals)  # save it as repeated value\n",
    "\n",
    "    ix = ix_end  # resume with next document -> will add future data on the end\n",
    "\n",
    "print('Done!')"
   ]
  },
  {
   "cell_type": "markdown",
   "metadata": {},
   "source": [
    "Let's look at our sorted vocabulary again."
   ]
  },
  {
   "cell_type": "code",
   "execution_count": 29,
   "metadata": {},
   "outputs": [
    {
     "name": "stdout",
     "output_type": "stream",
     "text": [
      "First five terms alphabetically: ['a' 'aa' 'aaa' 'aaaa' 'aaaaa']\n"
     ]
    }
   ],
   "source": [
    "print('First five terms alphabetically: {}'.format(vocab[vocab_sorter[:5]]))"
   ]
  },
  {
   "cell_type": "markdown",
   "metadata": {},
   "source": [
    "As you can see, we probably need to do some trimming, as the word 'aaaaa' probably doesn't occur often enough, and having 151,670 unique words may be too much.  We will address this later on. For now, let's keep the corpus we have. We now initialize a sparse matrix that will store the term-document matirx."
   ]
  },
  {
   "cell_type": "code",
   "execution_count": 30,
   "metadata": {},
   "outputs": [
    {
     "data": {
      "text/plain": [
       "<160000x146496 sparse matrix of type '<class 'numpy.int32'>'\n",
       "\twith 1957413 stored elements in COOrdinate format>"
      ]
     },
     "execution_count": 30,
     "metadata": {},
     "output_type": "execute_result"
    }
   ],
   "source": [
    "doc_term_mat = coo_matrix((data, (rows, cols)), shape = (num_docs, vocab_size), dtype = np.intc)\n",
    "\n",
    "doc_term_mat "
   ]
  },
  {
   "cell_type": "markdown",
   "metadata": {},
   "source": [
    "We can now populate the matrix with the term frequencies. We can see an example of this for the word \"python\" in the code below."
   ]
  },
  {
   "cell_type": "code",
   "execution_count": 31,
   "metadata": {},
   "outputs": [
    {
     "name": "stdout",
     "output_type": "stream",
     "text": [
      "vocab index of python : 128726\n",
      "\n",
      "1st document index containing said word: 14592\n",
      "\n",
      "Tweet: [1, \"omg, I just found my old vid of monty python's life of brian. it's brilliant, I just can't get enough stan today\"]\n"
     ]
    }
   ],
   "source": [
    "# let's check to make sure!\n",
    "vocab_list = list(vocab)\n",
    "word_of_interest = 'python'\n",
    "vocab_interesting_ix = list(vocab).index(word_of_interest)\n",
    "print('vocab index of {} : {}'.format(word_of_interest, vocab_interesting_ix))\n",
    "# find which tweets contain word\n",
    "doc_ix_with_word = []\n",
    "for ix, row in enumerate(tweet_data): # note on this line later\n",
    "    if word_of_interest in row[1]:\n",
    "        doc_ix_with_word.append(ix)\n",
    "\n",
    "print('\\n1st document index containing said word: {}'.format(doc_ix_with_word[0]))\n",
    "print('\\nTweet: {}'.format(tweet_data[doc_ix_with_word[0]]))"
   ]
  },
  {
   "cell_type": "markdown",
   "metadata": {},
   "source": [
    "We can see that the word \"python\" appears once in the first document (tweet).\n",
    "\n",
    "**Note:** The term-document matirx `doc_term_mat` is a sparse matirx. So we can't index it using row and column index. Here we don't really need to do that, but if we did we would first need to convert it into an array. We can use the `toarray` method to do that, but if the matrix is large we can easily run out of memory (that's why we're using a spares matrix in the first place!). So instead we can use the `tocrs` method shown below, which uses compression to avoid the memory problem."
   ]
  },
  {
   "cell_type": "code",
   "execution_count": 32,
   "metadata": {},
   "outputs": [
    {
     "name": "stdout",
     "output_type": "stream",
     "text": [
      "\n",
      "Row 14592 and column 128726 of document-term matrix has entry 1\n"
     ]
    }
   ],
   "source": [
    "# document - term matrix relevant entry\n",
    "document_row = doc_ix_with_word[0]\n",
    "vocab_col = vocab_interesting_ix\n",
    "mat_entry = doc_term_mat.tocsr()[document_row, vocab_col]\n",
    "\n",
    "print('\\nRow {} and column {} of document-term matrix has entry {}'.format(document_row, vocab_col, mat_entry))"
   ]
  },
  {
   "cell_type": "markdown",
   "metadata": {},
   "source": [
    "### Step 2: Trimming the document-term matrix\n",
    "\n",
    "We saw above that we are including terms like 'aaaaa' and 'aaaa', which probably occur very few times. These terms generally occur with unstructured text fields because we allow users to input whatever they feel like and that includes typos.  But be aware that they can also be artifacts of our cleaning process (unintentionally and intentionally).\n",
    "\n",
    "Since our document-term matrix is a matrix of counts of words (columns) in each document (rows), we want to remove words that don't occur very frequently across our corpus. The count of how frequent a word is in all of our corpus is just the sum of each column."
   ]
  },
  {
   "cell_type": "code",
   "execution_count": 33,
   "metadata": {},
   "outputs": [
    {
     "name": "stdout",
     "output_type": "stream",
     "text": [
      "[[1 1 1 ... 1 1 1]]\n"
     ]
    }
   ],
   "source": [
    "word_counts = doc_term_mat.sum(axis = 0)\n",
    "print(word_counts)"
   ]
  },
  {
   "cell_type": "markdown",
   "metadata": {},
   "source": [
    "Let's look at how many words are above a specific cutoff, such as 15:"
   ]
  },
  {
   "cell_type": "code",
   "execution_count": 34,
   "metadata": {},
   "outputs": [
    {
     "name": "stdout",
     "output_type": "stream",
     "text": [
      "Number of words w/counts above 15 : 5856\n"
     ]
    }
   ],
   "source": [
    "cutoff = 15\n",
    "word_count_list = word_counts.tolist()[0]\n",
    "col_cutoff_ix = [ix for ix, count in enumerate(word_count_list) if count > cutoff]\n",
    "\n",
    "print('Number of words w/counts above {} : {}'.format(cutoff, len(col_cutoff_ix)))"
   ]
  },
  {
   "cell_type": "markdown",
   "metadata": {},
   "source": [
    "We can now trim our vocabulary and document term matrix."
   ]
  },
  {
   "cell_type": "code",
   "execution_count": 35,
   "metadata": {},
   "outputs": [
    {
     "name": "stdout",
     "output_type": "stream",
     "text": [
      "Shape of document-term matrix before trimming: (160000, 146496)\n",
      "Shape of document-term matrix after trimming: (160000, 5856)\n"
     ]
    }
   ],
   "source": [
    "vocab_trimmed = np.array([vocab[x] for x in col_cutoff_ix])\n",
    "vocab_sorter_trimmed = np.argsort(vocab_trimmed)\n",
    "\n",
    "print('Shape of document-term matrix before trimming: {}'.format(doc_term_mat.shape))\n",
    "\n",
    "doc_term_mat_trimmed = doc_term_mat.tocsc()[:, col_cutoff_ix]\n",
    "print('Shape of document-term matrix after trimming: {}'.format(doc_term_mat_trimmed.shape))"
   ]
  },
  {
   "cell_type": "code",
   "execution_count": 36,
   "metadata": {},
   "outputs": [
    {
     "data": {
      "text/plain": [
       "array(['a', 'aa', 'aaa', 'aaaah', 'aaah', 'aah', 'aaron', 'ab',\n",
       "       'abandoned', 'abby'], dtype='<U37')"
      ]
     },
     "execution_count": 36,
     "metadata": {},
     "output_type": "execute_result"
    }
   ],
   "source": [
    "# Look at first 10 words alphabetically\n",
    "vocab_trimmed[vocab_sorter_trimmed[0:10]]"
   ]
  },
  {
   "cell_type": "markdown",
   "metadata": {},
   "source": [
    "How do we know what cutoff we should use? Let's look at a bar plot words in descending frequency before and after we trimmed it."
   ]
  },
  {
   "cell_type": "code",
   "execution_count": 37,
   "metadata": {},
   "outputs": [
    {
     "data": {
      "image/png": "[encoded data removed]",
      "text/plain": [
       "<Figure size 432x288 with 1 Axes>"
      ]
     },
     "metadata": {
      "needs_background": "light"
     },
     "output_type": "display_data"
    }
   ],
   "source": [
    "counts = pd.value_counts(word_count_list, normalize = True)[:20]\n",
    "words = [vocab[x] for x in counts.index][:20]\n",
    "g = sns.barplot(x = words, y = counts, color = 'lightblue')\n",
    "g.set_xticklabels(rotation = 90, labels = words);"
   ]
  },
  {
   "cell_type": "markdown",
   "metadata": {},
   "source": [
    "We can see the bar plot is very skewed. There are too many words that appear few times. Let's check out the trimmed list."
   ]
  },
  {
   "cell_type": "code",
   "execution_count": 38,
   "metadata": {},
   "outputs": [
    {
     "data": {
      "image/png": "[encoded data removed]",
      "text/plain": [
       "<Figure size 432x288 with 1 Axes>"
      ]
     },
     "metadata": {
      "needs_background": "light"
     },
     "output_type": "display_data"
    }
   ],
   "source": [
    "trimmed_word_counts = doc_term_mat_trimmed.sum(axis = 0)\n",
    "trimmed_word_list = trimmed_word_counts.tolist()[0]\n",
    "\n",
    "counts = pd.value_counts(trimmed_word_list, normalize = True)[:20]\n",
    "counts = counts.reset_index(drop = True)\n",
    "words = [vocab[x] for x in counts.index][:20]\n",
    "g = sns.barplot(x = words, y = counts, color = 'lightblue')\n",
    "g.set_xticklabels(rotation = 90, labels = words);"
   ]
  },
  {
   "cell_type": "markdown",
   "metadata": {},
   "source": [
    "Note that 15 might be a good cutoff because we get a visible drop off and around 6000 features, but these types of **hyperparameters** for the model will probably need tuning. We will learn about tuning such values in future lectures."
   ]
  },
  {
   "cell_type": "markdown",
   "metadata": {},
   "source": [
    "### Step 3: Compute IDF"
   ]
  },
  {
   "cell_type": "markdown",
   "metadata": {},
   "source": [
    "### Computing Term Frequency\n",
    "\n",
    "Now that we have computed a document-term matrix, how can we understand it? Recall that the simple **Bag of Words model** is just based on **Term Frequency (TF)**. In this case, the weighting of a document for a given term is just the frequency of that term in the document. \n",
    "\n",
    "In other cases we will used the **Inverse Document Frequency (IDF)** weighting. IDF weighting accounts for cases where only a few documents contain certain terms. The formula for the IDF weighting can be written as:\n",
    "\n",
    "$$IDF = log(\\frac{Number\\ Documents}{Number\\ Documents\\ with\\ Word})$$\n",
    "\n",
    "The IDF can exhibit a problem however. When there are a few documents with very frequent terms, the weighting is skewed toward those documents.  To solve this problem, we reweight IDF by the overall frequency of the word to create a **term frequency-inverse document frequency (TF-IDF)** matrix. The formula for computing TFIDF is: \n",
    "\n",
    "$$TF - IDF = frequency(word) \\cdot log(\\frac{Number\\ Documents}{Number\\ Documents\\ with\\ Word})\\ $$\n",
    "\n",
    "The code in the cell below computes both simple TF and the cumulative of the term frequencies, starting from the most frequent terms to the least.\n",
    "\n",
    "Scikit-Learn has a built in TF-IDF transformation function that we will use to calculate this and prepare the dataset."
   ]
  },
  {
   "cell_type": "code",
   "execution_count": 36,
   "metadata": {},
   "outputs": [],
   "source": [
    "clean_texts = tweet_df['clean_tweet']\n",
    "# Declare the TFIDF vectorizer.\n",
    "vectorizer = TfidfVectorizer(sublinear_tf=True, max_df=0.5, max_features=5856, stop_words='english')\n",
    "\n",
    "# Fit the vectorizer over the dataset\n",
    "tf_idf_tweets = vectorizer.fit_transform(clean_texts)"
   ]
  },
  {
   "cell_type": "code",
   "execution_count": 37,
   "metadata": {},
   "outputs": [
    {
     "data": {
      "text/plain": [
       "<160000x5856 sparse matrix of type '<class 'numpy.float64'>'\n",
       "\twith 873392 stored elements in Compressed Sparse Row format>"
      ]
     },
     "execution_count": 37,
     "metadata": {},
     "output_type": "execute_result"
    }
   ],
   "source": [
    "# Scikit learn prefers the 'csr' format instead (Compressed Sparse Row format)\n",
    "tf_idf_tweets"
   ]
  },
  {
   "cell_type": "markdown",
   "metadata": {},
   "source": [
    "## Classification and sentiment analysis\n",
    "\n",
    "It's hard to talk about feature engineering without moving on to the next step: training a machine learning model. Although we cover this topic on a future lesson, we include here an example in case you can't wait any longer!\n",
    "\n",
    "Now that we have a prepared TDM of the 160,000 tweets, let's build and evaluate models to classify the sentiment of these tweets. The idea is simple: We use the TF-IDF features for training the model. Since our data also has a column that says if the tweet expresses a positive or negative sentiment, we will train a model to predict the sentiment from the TF-IDF features. So first let's obtain the TF-IDF features once more:"
   ]
  },
  {
   "cell_type": "markdown",
   "metadata": {},
   "source": [
    "Let's split the featurized data into training and test sets. We will explain why in a future lecture. For training we will use 120,000 tweets to predict the 0,1 sentiment. The remaining 40,000 cases will be used to evaluate the model."
   ]
  },
  {
   "cell_type": "code",
   "execution_count": 58,
   "metadata": {},
   "outputs": [
    {
     "data": {
      "text/plain": [
       "array([1, 1, 0, ..., 1, 1, 1])"
      ]
     },
     "execution_count": 58,
     "metadata": {},
     "output_type": "execute_result"
    }
   ],
   "source": [
    "y_targets = np.array([y[0] for y in tweet_data])\n",
    "y_targets"
   ]
  },
  {
   "cell_type": "code",
   "execution_count": 59,
   "metadata": {},
   "outputs": [],
   "source": [
    "X_train, X_test, y_train, y_test = train_test_split(tf_idf_tweets, y_targets, test_size = 40000, random_state = 42)"
   ]
  },
  {
   "cell_type": "markdown",
   "metadata": {},
   "source": [
    "Now let's train a logistic classifier on the data:"
   ]
  },
  {
   "cell_type": "code",
   "execution_count": 60,
   "metadata": {},
   "outputs": [
    {
     "data": {
      "text/plain": [
       "LogisticRegression(C=1.0, class_weight=None, dual=False, fit_intercept=True,\n",
       "                   intercept_scaling=1, l1_ratio=None, max_iter=100,\n",
       "                   multi_class='auto', n_jobs=None, penalty='l2',\n",
       "                   random_state=None, solver='lbfgs', tol=0.0001, verbose=0,\n",
       "                   warm_start=False)"
      ]
     },
     "execution_count": 60,
     "metadata": {},
     "output_type": "execute_result"
    }
   ],
   "source": [
    "lr = LogisticRegression()\n",
    "lr.fit(X_train, y_train)"
   ]
  },
  {
   "cell_type": "markdown",
   "metadata": {},
   "source": [
    "Let's now evaluate the model."
   ]
  },
  {
   "cell_type": "code",
   "execution_count": 61,
   "metadata": {},
   "outputs": [],
   "source": [
    "train_probs = lr.predict_proba(X_train)\n",
    "train_results = np.argmax(train_probs, axis=1)\n",
    "\n",
    "test_probs = lr.predict_proba(X_test)\n",
    "test_results = np.argmax(test_probs, axis=1)"
   ]
  },
  {
   "cell_type": "code",
   "execution_count": 62,
   "metadata": {},
   "outputs": [
    {
     "name": "stdout",
     "output_type": "stream",
     "text": [
      "Train accuracy: 0.7793333333333333\n",
      "Test accuracy: 0.75625\n"
     ]
    }
   ],
   "source": [
    "train_logical_correct = [pred == actual for pred, actual in zip(train_results, y_train)]\n",
    "train_acc = np.mean(train_logical_correct)\n",
    "\n",
    "test_logical_correct = [pred == actual for pred, actual in zip(test_results, y_test)]\n",
    "test_acc = np.mean(test_logical_correct)\n",
    "\n",
    "print('Train accuracy: {}'.format(train_acc))\n",
    "print('Test accuracy: {}'.format(test_acc))"
   ]
  },
  {
   "cell_type": "markdown",
   "metadata": {},
   "source": [
    "Let's also compute the precision, recall and Fscore of the model for positive and negative tweets.\n",
    "\n",
    "Recall that a positive prediction here means a positive review, and so **precision** is the proportion of correct predictions among all positive predictions and **recall** is the proportion of correct predictions among all true positives. **F1** is the harmonic average of precision and recall."
   ]
  },
  {
   "cell_type": "code",
   "execution_count": 63,
   "metadata": {},
   "outputs": [
    {
     "name": "stdout",
     "output_type": "stream",
     "text": [
      "[[14624  5432]\n",
      " [ 4318 15626]]\n",
      "===================================\n",
      "             Class 1   -   Class 0\n",
      "Precision: [0.77204097 0.74204578]\n",
      "Recall   : [0.72915836 0.78349378]\n",
      "F1       : [0.74998718 0.76220672]\n",
      "Support  : [20056 19944]\n"
     ]
    }
   ],
   "source": [
    "precision, recall, f1, support = precision_recall_fscore_support(y_test, test_results)\n",
    "tn, fp, fn, tp = confusion_matrix(y_test, test_results).ravel()\n",
    "\n",
    "print(confusion_matrix(y_test, test_results))\n",
    "print('='*35)\n",
    "print('             Class 1   -   Class 0')\n",
    "print('Precision: {}'.format(precision))\n",
    "print('Recall   : {}'.format(recall))\n",
    "print('F1       : {}'.format(f1))\n",
    "print('Support  : {}'.format(support))"
   ]
  },
  {
   "cell_type": "markdown",
   "metadata": {},
   "source": [
    "##  Summary\n",
    "\n",
    "NLP applications extend far and wide, so we only stratched the surface here. Many of the modern breakthroughs in deep learning for example have been in NLP. One reason for this is that language data is abundant and the lack of structure in the data presents us with many challenges and learning opportunities. We hope this notebook exposed you to just some examples."
   ]
  },
  {
   "cell_type": "code",
   "execution_count": null,
   "metadata": {},
   "outputs": [],
   "source": []
  }
 ],
 "metadata": {
  "anaconda-cloud": {},
  "kernelspec": {
   "display_name": "Python 3",
   "language": "python",
   "name": "python3"
  },
  "language_info": {
   "codemirror_mode": {
    "name": "ipython",
    "version": 3
   },
   "file_extension": ".py",
   "mimetype": "text/x-python",
   "name": "python",
   "nbconvert_exporter": "python",
   "pygments_lexer": "ipython3",
   "version": "3.7.6"
  }
 },
 "nbformat": 4,
 "nbformat_minor": 4
}
