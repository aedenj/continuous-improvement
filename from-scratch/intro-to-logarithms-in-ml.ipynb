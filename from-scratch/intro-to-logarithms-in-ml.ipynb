{
  "nbformat": 4,
  "nbformat_minor": 0,
  "metadata": {
    "colab": {
      "provenance": [],
      "authorship_tag": "ABX9TyN68xa22NJ89Wxq5NR+iS0Z",
      "include_colab_link": true
    },
    "kernelspec": {
      "name": "python3",
      "display_name": "Python 3"
    },
    "language_info": {
      "name": "python"
    }
  },
  "cells": [
    {
      "cell_type": "markdown",
      "metadata": {
        "id": "view-in-github",
        "colab_type": "text"
      },
      "source": [
        "<a href=\"https://colab.research.google.com/github/aedenj/continuous-improvement/blob/main/from-scratch/intro-to-logarithms-in-ml.ipynb\" target=\"_parent\"><img src=\"https://colab.research.google.com/assets/colab-badge.svg\" alt=\"Open In Colab\"/></a>"
      ]
    },
    {
      "cell_type": "markdown",
      "source": [
        "# An Introduction to Logarithms in Machine Learning with Python"
      ],
      "metadata": {
        "id": "Cqymzq8eHEdy"
      }
    },
    {
      "cell_type": "code",
      "source": [
        "import sympy as sp"
      ],
      "metadata": {
        "id": "Ji8jlgiRHJi7"
      },
      "execution_count": 1,
      "outputs": []
    },
    {
      "cell_type": "code",
      "execution_count": 2,
      "metadata": {
        "colab": {
          "base_uri": "https://localhost:8080/"
        },
        "id": "aOejxslZHCDo",
        "outputId": "e245781f-6356-4ac1-b82f-4bfbf5cc39fc"
      },
      "outputs": [
        {
          "output_type": "stream",
          "name": "stdout",
          "text": [
            "Original Expression: log(x) + log(y)\n",
            "Simplified Expression: log(x*y)\n",
            "Power Expression: log(x**2)\n",
            "Simplified Power Expression: 2*log(x)\n",
            "Value of log(x) + log(y) for x=10, y=100: 6.90775527898214\n"
          ]
        }
      ],
      "source": [
        "# Define symbolic variables\n",
        "x, y = sp.symbols('x y', positive=True)\n",
        "\n",
        "# Define an expression using logs\n",
        "expr = sp.log(x) + sp.log(y)\n",
        "print(\"Original Expression:\", expr)\n",
        "\n",
        "# Sympy can simplify the sum of logs into a single log\n",
        "simplified_expr = sp.simplify(expr)\n",
        "print(\"Simplified Expression:\", simplified_expr)\n",
        "\n",
        "# Demonstrate power rule\n",
        "expr_power = sp.log(x**2)\n",
        "print(\"Power Expression:\", expr_power)\n",
        "\n",
        "simplified_power_expr = sp.simplify(expr_power)\n",
        "print(\"Simplified Power Expression:\", simplified_power_expr)\n",
        "\n",
        "# Demonstrate numerical evaluation\n",
        "# Let's define x=10, y=100 and evaluate log(x*y)\n",
        "value = expr.subs({x: 10, y: 100})\n",
        "print(\"Value of log(x) + log(y) for x=10, y=100:\", value.evalf())"
      ]
    },
    {
      "cell_type": "markdown",
      "source": [
        "## Uses in Machine Learning\n",
        "\n",
        "Logarithms are crucial in machine learning because they tame large numbers, stabilize calculations, and simplify the exponential relationships that often arise in models. Whether you’re dealing with enormous feature values, tiny probabilities, or exponential growth processes, log transformations can mean the difference between a model that converges smoothly and one that struggles with numerical overflow or underflow. Below, we’ll take a tour of the major reasons why logs are so essential, show how different log bases can be used, and illustrate some common scenarios in machine learning workflows.\n",
        "\n"
      ],
      "metadata": {
        "id": "qGIbUnvAIZVj"
      }
    },
    {
      "cell_type": "markdown",
      "source": [
        "$$\n",
        "\\mathcal{L}_{\\text{CE}} = -\\frac{1}{N}\\sum_{i=1}^{N} \\sum_{j=1}^{M} y_{ij} \\log \\bigl(\\hat{y}_{ij}\\bigr)\n",
        "$$\n"
      ],
      "metadata": {
        "id": "dugXUPLEI63D"
      }
    }
  ]
}